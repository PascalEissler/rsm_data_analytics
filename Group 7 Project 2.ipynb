{
 "cells": [
  {
   "cell_type": "code",
   "execution_count": 14,
   "id": "7fcd6041",
   "metadata": {},
   "outputs": [
    {
     "name": "stderr",
     "output_type": "stream",
     "text": [
      "also installing the dependencies 'beeswarm', 'vipor'\n",
      "\n",
      "\n"
     ]
    },
    {
     "name": "stdout",
     "output_type": "stream",
     "text": [
      "package 'beeswarm' successfully unpacked and MD5 sums checked\n",
      "package 'vipor' successfully unpacked and MD5 sums checked\n",
      "package 'ggbeeswarm' successfully unpacked and MD5 sums checked\n",
      "\n",
      "The downloaded binary packages are in\n",
      "\tC:\\Users\\user\\AppData\\Local\\Temp\\RtmpgfvLBs\\downloaded_packages\n"
     ]
    }
   ],
   "source": [
    "install.packages(\"ggbeeswarm\")"
   ]
  },
  {
   "cell_type": "code",
   "execution_count": 15,
   "id": "75b1a8c6",
   "metadata": {},
   "outputs": [],
   "source": [
    "# Import packages\n",
    "\n",
    "# Visualization packages:\n",
    "library(ggplot2)\n",
    "library(ggbeeswarm)"
   ]
  },
  {
   "cell_type": "code",
   "execution_count": 1,
   "id": "ccf21f52",
   "metadata": {},
   "outputs": [],
   "source": [
    "# Set data path\n",
    "setwd(\"C:/Users/user/OneDrive - Erasmus University Rotterdam/Documents/01 Postgrad/02 Spring semester/06 Business Analytics for International Managers/rsm_data_analytics\")"
   ]
  },
  {
   "cell_type": "code",
   "execution_count": 8,
   "id": "0708eb84",
   "metadata": {},
   "outputs": [],
   "source": [
    "# Import the CSV file \n",
    "df1 <- read.csv(\"ebi_customers.csv\")\n",
    "df2 <- read.csv(\"ebi_exp_customers.csv\")\n",
    "df <- rbind(df1, df2)"
   ]
  },
  {
   "cell_type": "code",
   "execution_count": 16,
   "id": "3acfa510",
   "metadata": {},
   "outputs": [
    {
     "data": {
      "text/html": [
       "<table>\n",
       "<thead><tr><th scope=col>customer_id</th><th scope=col>credit_score</th><th scope=col>country</th><th scope=col>gender</th><th scope=col>age</th><th scope=col>tenure</th><th scope=col>balance</th><th scope=col>products_number</th><th scope=col>credit_card</th><th scope=col>active_member</th><th scope=col>estimated_salary</th><th scope=col>churn</th></tr></thead>\n",
       "<tbody>\n",
       "\t<tr><td>15634602 </td><td>619      </td><td>France   </td><td>Female   </td><td>42       </td><td>2        </td><td>     0.00</td><td>1        </td><td>1        </td><td>1        </td><td>101348.88</td><td>1        </td></tr>\n",
       "\t<tr><td>15647311 </td><td>608      </td><td>Spain    </td><td>Female   </td><td>41       </td><td>1        </td><td> 83807.86</td><td>1        </td><td>0        </td><td>1        </td><td>112542.58</td><td>0        </td></tr>\n",
       "\t<tr><td>15701354 </td><td>699      </td><td>France   </td><td>Female   </td><td>39       </td><td>1        </td><td>     0.00</td><td>2        </td><td>0        </td><td>0        </td><td> 93826.63</td><td>0        </td></tr>\n",
       "\t<tr><td>15737888 </td><td>850      </td><td>Spain    </td><td>Female   </td><td>43       </td><td>2        </td><td>125510.82</td><td>1        </td><td>1        </td><td>1        </td><td> 79084.10</td><td>0        </td></tr>\n",
       "\t<tr><td>15574012 </td><td>645      </td><td>Spain    </td><td>Male     </td><td>44       </td><td>8        </td><td>113755.78</td><td>2        </td><td>1        </td><td>0        </td><td>149756.71</td><td>1        </td></tr>\n",
       "\t<tr><td>15592531 </td><td>822      </td><td>France   </td><td>Male     </td><td>50       </td><td>7        </td><td>     0.00</td><td>2        </td><td>1        </td><td>1        </td><td> 10062.80</td><td>0        </td></tr>\n",
       "</tbody>\n",
       "</table>\n"
      ],
      "text/latex": [
       "\\begin{tabular}{r|llllllllllll}\n",
       " customer\\_id & credit\\_score & country & gender & age & tenure & balance & products\\_number & credit\\_card & active\\_member & estimated\\_salary & churn\\\\\n",
       "\\hline\n",
       "\t 15634602  & 619       & France    & Female    & 42        & 2         &      0.00 & 1         & 1         & 1         & 101348.88 & 1        \\\\\n",
       "\t 15647311  & 608       & Spain     & Female    & 41        & 1         &  83807.86 & 1         & 0         & 1         & 112542.58 & 0        \\\\\n",
       "\t 15701354  & 699       & France    & Female    & 39        & 1         &      0.00 & 2         & 0         & 0         &  93826.63 & 0        \\\\\n",
       "\t 15737888  & 850       & Spain     & Female    & 43        & 2         & 125510.82 & 1         & 1         & 1         &  79084.10 & 0        \\\\\n",
       "\t 15574012  & 645       & Spain     & Male      & 44        & 8         & 113755.78 & 2         & 1         & 0         & 149756.71 & 1        \\\\\n",
       "\t 15592531  & 822       & France    & Male      & 50        & 7         &      0.00 & 2         & 1         & 1         &  10062.80 & 0        \\\\\n",
       "\\end{tabular}\n"
      ],
      "text/markdown": [
       "\n",
       "| customer_id | credit_score | country | gender | age | tenure | balance | products_number | credit_card | active_member | estimated_salary | churn |\n",
       "|---|---|---|---|---|---|---|---|---|---|---|---|\n",
       "| 15634602  | 619       | France    | Female    | 42        | 2         |      0.00 | 1         | 1         | 1         | 101348.88 | 1         |\n",
       "| 15647311  | 608       | Spain     | Female    | 41        | 1         |  83807.86 | 1         | 0         | 1         | 112542.58 | 0         |\n",
       "| 15701354  | 699       | France    | Female    | 39        | 1         |      0.00 | 2         | 0         | 0         |  93826.63 | 0         |\n",
       "| 15737888  | 850       | Spain     | Female    | 43        | 2         | 125510.82 | 1         | 1         | 1         |  79084.10 | 0         |\n",
       "| 15574012  | 645       | Spain     | Male      | 44        | 8         | 113755.78 | 2         | 1         | 0         | 149756.71 | 1         |\n",
       "| 15592531  | 822       | France    | Male      | 50        | 7         |      0.00 | 2         | 1         | 1         |  10062.80 | 0         |\n",
       "\n"
      ],
      "text/plain": [
       "  customer_id credit_score country gender age tenure balance   products_number\n",
       "1 15634602    619          France  Female 42  2           0.00 1              \n",
       "2 15647311    608          Spain   Female 41  1       83807.86 1              \n",
       "3 15701354    699          France  Female 39  1           0.00 2              \n",
       "4 15737888    850          Spain   Female 43  2      125510.82 1              \n",
       "5 15574012    645          Spain   Male   44  8      113755.78 2              \n",
       "6 15592531    822          France  Male   50  7           0.00 2              \n",
       "  credit_card active_member estimated_salary churn\n",
       "1 1           1             101348.88        1    \n",
       "2 0           1             112542.58        0    \n",
       "3 0           0              93826.63        0    \n",
       "4 1           1              79084.10        0    \n",
       "5 1           0             149756.71        1    \n",
       "6 1           1              10062.80        0    "
      ]
     },
     "metadata": {},
     "output_type": "display_data"
    }
   ],
   "source": [
    "head(df)"
   ]
  },
  {
   "cell_type": "markdown",
   "id": "efa922ad",
   "metadata": {},
   "source": [
    "# 1: Exploratory Data Analysis"
   ]
  },
  {
   "cell_type": "markdown",
   "id": "43653c6b",
   "metadata": {},
   "source": [
    "__1.1: What is the overall rate of customer churn in the dataset?__"
   ]
  },
  {
   "cell_type": "code",
   "execution_count": 20,
   "id": "2cd66b3c",
   "metadata": {},
   "outputs": [
    {
     "name": "stdout",
     "output_type": "stream",
     "text": [
      "The overall rate of customer churn is: 20.37%"
     ]
    }
   ],
   "source": [
    "churn_rate <- mean(df$churn)\n",
    "churn_rate_pct <-paste0(round(churn_rate*100,2),\"%\")\n",
    "cat(\"The overall rate of customer churn is:\",churn_rate_pct)"
   ]
  },
  {
   "cell_type": "markdown",
   "id": "cc1c8ba8",
   "metadata": {},
   "source": [
    "__1.2: How does the rate of customer churn vary by demographic variables such as age, gender, etc.? How does it vary across the countries?__"
   ]
  },
  {
   "cell_type": "code",
   "execution_count": 27,
   "id": "cef994c1",
   "metadata": {},
   "outputs": [
    {
     "name": "stdout",
     "output_type": "stream",
     "text": [
      "Churn rate by gender:\n",
      "  gender churn\n",
      "1 Female 25.07\n",
      "2   Male 16.46\n",
      "\n",
      "Churn rate by country:\n",
      "  country churn\n",
      "1  France 16.15\n",
      "2 Germany 32.44\n",
      "3   Spain 16.67\n"
     ]
    }
   ],
   "source": [
    "churn_rate_by_gender <- aggregate(churn ~ gender, df, function(x) round(100 * sum(x) / length(x), 2))\n",
    "                                  \n",
    "churn_rate_by_country <- aggregate(churn ~ country, df, function(x) round(100 * sum(x) / length(x), 2))\n",
    "                                  \n",
    "cat(\"Churn rate by gender:\\n\")\n",
    "print(churn_rate_by_gender)\n",
    "cat(\"\\n\")                         \n",
    "cat(\"Churn rate by country:\\n\")\n",
    "print(churn_rate_by_country)"
   ]
  },
  {
   "cell_type": "markdown",
   "id": "daaafdd3",
   "metadata": {},
   "source": [
    "Women have, on average, a higher churn rate then men. Germans have, on average, a higher churn rate than French and Spanish."
   ]
  },
  {
   "cell_type": "code",
   "execution_count": 23,
   "id": "4cac4d14",
   "metadata": {},
   "outputs": [
    {
     "data": {
      "image/png": "[encoded data removed]",
      "text/plain": [
       "plot without title"
      ]
     },
     "metadata": {
      "image/png": {
       "height": 420,
       "width": 420
      }
     },
     "output_type": "display_data"
    }
   ],
   "source": [
    "# Plot age distribution by churn vs. no-churn\n",
    "ggplot(df, aes(x = age, fill = as.factor(churn))) +\n",
    "  geom_histogram(position = \"identity\", alpha = 0.5, bins = 25) +\n",
    "  scale_fill_manual(values = c(\"red\", \"blue\"), labels=c('No churn', 'Churn')) +\n",
    "  labs(title = \"Histogram of Age by Churn\", x = \"Age\", y = \"Frequency\", fill = \"Churn\") +\n",
    "  theme_classic()"
   ]
  },
  {
   "cell_type": "code",
   "execution_count": 40,
   "id": "eef10d7a",
   "metadata": {},
   "outputs": [
    {
     "name": "stdout",
     "output_type": "stream",
     "text": [
      "Churn rate by country:\n",
      "   age_brackets churn\n",
      "1       [15,20)  6.12\n",
      "2       [20,25)  9.07\n",
      "3       [25,30)  7.09\n",
      "4       [30,35)  8.15\n",
      "5       [35,40) 13.30\n",
      "6       [40,45) 23.67\n",
      "7       [45,50) 43.39\n",
      "8       [50,55) 56.92\n",
      "9       [55,60) 54.78\n",
      "10      [60,65) 42.62\n",
      "11      [65,70) 21.37\n",
      "12      [70,75) 14.43\n",
      "13      [75,80)  0.00\n",
      "14      [80,85)  9.09\n",
      "15      [85,90)  0.00\n",
      "16      [90,95)  0.00\n"
     ]
    }
   ],
   "source": [
    "age_brackets <- cut(df$age, breaks = seq(15, 95, by = 5), right = FALSE)\n",
    "churn_rate_by_age_bracket <- aggregate(churn ~ age_brackets, df, function(x) round(100 * sum(x) / length(x), 2))\n",
    "cat(\"Churn rate by country:\\n\")\n",
    "print(churn_rate_by_age_bracket)"
   ]
  },
  {
   "cell_type": "markdown",
   "id": "582122fa",
   "metadata": {},
   "source": [
    "Customers in the age group between 45 and 65 have the highest churn rate. "
   ]
  },
  {
   "cell_type": "markdown",
   "id": "44bce97c",
   "metadata": {},
   "source": [
    "__1.3: Report interesting patterns that you find in the dataset.__"
   ]
  },
  {
   "cell_type": "code",
   "execution_count": 27,
   "id": "4abbd816",
   "metadata": {},
   "outputs": [
    {
     "data": {
      "image/png": "[encoded data removed]",
      "text/plain": [
       "plot without title"
      ]
     },
     "metadata": {
      "image/png": {
       "height": 420,
       "width": 420
      }
     },
     "output_type": "display_data"
    }
   ],
   "source": [
    "# Plot product number distribution by churn vs. no-churn\n",
    "ggplot(df, aes(x = products_number, fill = as.factor(churn))) +\n",
    "  geom_histogram(position = \"identity\", alpha = 0.5, bins = 25) +\n",
    "  scale_fill_manual(values = c(\"red\", \"blue\"), labels=c('No churn', 'Churn')) +\n",
    "  labs(title = \"Histogram of Products Number by Churn\", x = \"Products Number\", y = \"Frequency\", fill = \"Churn\") +\n",
    "  theme_classic()"
   ]
  },
  {
   "cell_type": "code",
   "execution_count": 45,
   "id": "a20269eb",
   "metadata": {},
   "outputs": [
    {
     "name": "stdout",
     "output_type": "stream",
     "text": [
      "Mean diff in number of products: 0.0690586 \n",
      "Median diff in number of products: 1 \n",
      "P-value for number of products vs churn: 0.0002185849 \n"
     ]
    }
   ],
   "source": [
    "# Separate out ages for two groups\n",
    "products_churn <- df$products_number[df$churn == 1]\n",
    "products_no_churn <- df$products_number[df$churn == 0]\n",
    "\n",
    "# Calculate difference in mean and median\n",
    "mean_diff_products <- mean(products_no_churn) - mean(products_churn)\n",
    "median_diff_products <- median(products_no_churn) - median(products_churn)\n",
    "cat(\"Mean diff in number of products:\", mean_diff_products, \"\\n\")\n",
    "cat(\"Median diff in number of products:\", median_diff_products, \"\\n\")\n",
    "\n",
    "# Run t-test\n",
    "ttest <- t.test(products_churn, products_no_churn)\n",
    "pval <- ttest$p.value\n",
    "cat(\"P-value for number of products vs churn:\", pval, \"\\n\")"
   ]
  },
  {
   "cell_type": "markdown",
   "id": "82492113",
   "metadata": {},
   "source": [
    "There seems to be a statistically significant relationship between the number of products and churn. Customers that have a higher number of products are less likely to churn. Customers with "
   ]
  },
  {
   "cell_type": "code",
   "execution_count": 48,
   "id": "d8c78c73",
   "metadata": {},
   "outputs": [
    {
     "data": {
      "text/html": [
       "<table class=\"dataframe\">\n",
       "<caption>A data.frame: 60 × 12</caption>\n",
       "<thead>\n",
       "\t<tr><th></th><th scope=col>customer_id</th><th scope=col>credit_score</th><th scope=col>country</th><th scope=col>gender</th><th scope=col>age</th><th scope=col>tenure</th><th scope=col>balance</th><th scope=col>products_number</th><th scope=col>credit_card</th><th scope=col>active_member</th><th scope=col>estimated_salary</th><th scope=col>churn</th></tr>\n",
       "\t<tr><th></th><th scope=col>&lt;int&gt;</th><th scope=col>&lt;int&gt;</th><th scope=col>&lt;chr&gt;</th><th scope=col>&lt;chr&gt;</th><th scope=col>&lt;int&gt;</th><th scope=col>&lt;int&gt;</th><th scope=col>&lt;dbl&gt;</th><th scope=col>&lt;int&gt;</th><th scope=col>&lt;int&gt;</th><th scope=col>&lt;int&gt;</th><th scope=col>&lt;dbl&gt;</th><th scope=col>&lt;int&gt;</th></tr>\n",
       "</thead>\n",
       "<tbody>\n",
       "\t<tr><th scope=row>7</th><td>15656148</td><td>376</td><td>Germany</td><td>Female</td><td>29</td><td> 4</td><td>115046.74</td><td>4</td><td>1</td><td>0</td><td>119346.88</td><td>1</td></tr>\n",
       "\t<tr><th scope=row>65</th><td>15703793</td><td>738</td><td>Germany</td><td>Male  </td><td>58</td><td> 2</td><td>133745.44</td><td>4</td><td>1</td><td>0</td><td> 28373.86</td><td>1</td></tr>\n",
       "\t<tr><th scope=row>1115</th><td>15610383</td><td>628</td><td>France </td><td>Female</td><td>46</td><td> 1</td><td> 46870.43</td><td>4</td><td>1</td><td>0</td><td> 31272.14</td><td>1</td></tr>\n",
       "\t<tr><th scope=row>1307</th><td>15670374</td><td>819</td><td>Germany</td><td>Female</td><td>49</td><td> 1</td><td>120656.86</td><td>4</td><td>0</td><td>0</td><td>166164.30</td><td>1</td></tr>\n",
       "\t<tr><th scope=row>1324</th><td>15625824</td><td>596</td><td>Spain  </td><td>Male  </td><td>30</td><td> 6</td><td>121345.88</td><td>4</td><td>1</td><td>0</td><td> 41921.75</td><td>1</td></tr>\n",
       "\t<tr><th scope=row>1519</th><td>15605279</td><td>792</td><td>France </td><td>Male  </td><td>50</td><td> 9</td><td>     0.00</td><td>4</td><td>1</td><td>1</td><td>194700.81</td><td>1</td></tr>\n",
       "\t<tr><th scope=row>1669</th><td>15664754</td><td>640</td><td>Germany</td><td>Male  </td><td>39</td><td> 9</td><td>131607.28</td><td>4</td><td>0</td><td>1</td><td>  6981.43</td><td>1</td></tr>\n",
       "\t<tr><th scope=row>1895</th><td>15603851</td><td>704</td><td>France </td><td>Male  </td><td>32</td><td> 7</td><td>127785.17</td><td>4</td><td>0</td><td>0</td><td>184464.70</td><td>1</td></tr>\n",
       "\t<tr><th scope=row>1962</th><td>15791700</td><td>773</td><td>Germany</td><td>Male  </td><td>47</td><td> 2</td><td>118079.47</td><td>4</td><td>1</td><td>1</td><td>143007.49</td><td>1</td></tr>\n",
       "\t<tr><th scope=row>2043</th><td>15783615</td><td>630</td><td>Germany</td><td>Male  </td><td>50</td><td> 3</td><td>129370.91</td><td>4</td><td>1</td><td>1</td><td> 47775.34</td><td>1</td></tr>\n",
       "\t<tr><th scope=row>2207</th><td>15704442</td><td>672</td><td>France </td><td>Female</td><td>53</td><td> 9</td><td>169406.33</td><td>4</td><td>1</td><td>1</td><td>147311.47</td><td>1</td></tr>\n",
       "\t<tr><th scope=row>2242</th><td>15634974</td><td>614</td><td>France </td><td>Female</td><td>37</td><td> 8</td><td> 75150.34</td><td>4</td><td>0</td><td>1</td><td>131766.67</td><td>1</td></tr>\n",
       "\t<tr><th scope=row>2252</th><td>15689341</td><td>655</td><td>France </td><td>Female</td><td>50</td><td>10</td><td>     0.00</td><td>4</td><td>1</td><td>0</td><td>179267.94</td><td>1</td></tr>\n",
       "\t<tr><th scope=row>2280</th><td>15679770</td><td>611</td><td>France </td><td>Female</td><td>61</td><td> 3</td><td>131583.59</td><td>4</td><td>0</td><td>1</td><td> 66238.23</td><td>1</td></tr>\n",
       "\t<tr><th scope=row>2345</th><td>15640846</td><td>546</td><td>Germany</td><td>Female</td><td>58</td><td> 3</td><td>106458.31</td><td>4</td><td>1</td><td>0</td><td>128881.87</td><td>1</td></tr>\n",
       "\t<tr><th scope=row>2575</th><td>15671591</td><td>439</td><td>Spain  </td><td>Male  </td><td>52</td><td> 3</td><td> 96196.24</td><td>4</td><td>1</td><td>0</td><td>198874.52</td><td>1</td></tr>\n",
       "\t<tr><th scope=row>2829</th><td>15724161</td><td>644</td><td>France </td><td>Female</td><td>40</td><td> 9</td><td>137285.26</td><td>4</td><td>1</td><td>0</td><td> 77063.63</td><td>1</td></tr>\n",
       "\t<tr><th scope=row>3014</th><td>15764431</td><td>671</td><td>Spain  </td><td>Female</td><td>34</td><td> 5</td><td>130929.02</td><td>4</td><td>1</td><td>1</td><td> 28238.25</td><td>1</td></tr>\n",
       "\t<tr><th scope=row>3596</th><td>15653776</td><td>720</td><td>Germany</td><td>Female</td><td>57</td><td> 1</td><td>162082.31</td><td>4</td><td>0</td><td>0</td><td> 27145.73</td><td>1</td></tr>\n",
       "\t<tr><th scope=row>3597</th><td>15597914</td><td>641</td><td>Germany</td><td>Female</td><td>51</td><td> 2</td><td>117306.69</td><td>4</td><td>1</td><td>1</td><td> 26912.72</td><td>1</td></tr>\n",
       "\t<tr><th scope=row>3732</th><td>15654562</td><td>850</td><td>Spain  </td><td>Female</td><td>45</td><td> 5</td><td>174088.30</td><td>4</td><td>1</td><td>0</td><td>  5669.31</td><td>1</td></tr>\n",
       "\t<tr><th scope=row>3813</th><td>15664555</td><td>587</td><td>France </td><td>Male  </td><td>40</td><td> 2</td><td>     0.00</td><td>4</td><td>0</td><td>1</td><td>106174.70</td><td>1</td></tr>\n",
       "\t<tr><th scope=row>3945</th><td>15616859</td><td>602</td><td>Germany</td><td>Female</td><td>43</td><td> 2</td><td>113641.49</td><td>4</td><td>1</td><td>0</td><td>115116.35</td><td>1</td></tr>\n",
       "\t<tr><th scope=row>4042</th><td>15568006</td><td>634</td><td>France </td><td>Female</td><td>45</td><td> 2</td><td>     0.00</td><td>4</td><td>1</td><td>0</td><td>101039.53</td><td>1</td></tr>\n",
       "\t<tr><th scope=row>4046</th><td>15812210</td><td>497</td><td>Germany</td><td>Female</td><td>32</td><td> 8</td><td>111537.23</td><td>4</td><td>1</td><td>1</td><td>  9497.99</td><td>1</td></tr>\n",
       "\t<tr><th scope=row>4128</th><td>15784958</td><td>797</td><td>France </td><td>Female</td><td>55</td><td>10</td><td>     0.00</td><td>4</td><td>1</td><td>1</td><td> 49418.87</td><td>1</td></tr>\n",
       "\t<tr><th scope=row>4261</th><td>15759067</td><td>537</td><td>Germany</td><td>Female</td><td>37</td><td> 7</td><td>158411.95</td><td>4</td><td>1</td><td>1</td><td>117690.58</td><td>1</td></tr>\n",
       "\t<tr><th scope=row>4332</th><td>15805704</td><td>745</td><td>France </td><td>Female</td><td>32</td><td> 2</td><td>     0.00</td><td>4</td><td>0</td><td>1</td><td>179705.13</td><td>1</td></tr>\n",
       "\t<tr><th scope=row>4501</th><td>15719508</td><td>575</td><td>Germany</td><td>Male  </td><td>49</td><td> 7</td><td>121205.15</td><td>4</td><td>1</td><td>1</td><td>168080.53</td><td>1</td></tr>\n",
       "\t<tr><th scope=row>4707</th><td>15608528</td><td>645</td><td>France </td><td>Female</td><td>68</td><td> 9</td><td>     0.00</td><td>4</td><td>1</td><td>1</td><td>176353.87</td><td>1</td></tr>\n",
       "\t<tr><th scope=row>4836</th><td>15668283</td><td>642</td><td>France </td><td>Male  </td><td>48</td><td> 9</td><td>118317.27</td><td>4</td><td>0</td><td>0</td><td> 78702.98</td><td>1</td></tr>\n",
       "\t<tr><th scope=row>5118</th><td>15812888</td><td>447</td><td>France </td><td>Male  </td><td>41</td><td> 3</td><td>     0.00</td><td>4</td><td>1</td><td>1</td><td>197490.39</td><td>1</td></tr>\n",
       "\t<tr><th scope=row>5302</th><td>15664270</td><td>692</td><td>Germany</td><td>Male  </td><td>45</td><td> 6</td><td>142084.04</td><td>4</td><td>1</td><td>0</td><td>188305.85</td><td>1</td></tr>\n",
       "\t<tr><th scope=row>5516</th><td>15625761</td><td>632</td><td>Germany</td><td>Male  </td><td>41</td><td> 8</td><td>127205.32</td><td>4</td><td>1</td><td>0</td><td> 93874.87</td><td>1</td></tr>\n",
       "\t<tr><th scope=row>5536</th><td>15656822</td><td>568</td><td>Germany</td><td>Male  </td><td>43</td><td> 5</td><td> 87612.64</td><td>4</td><td>1</td><td>1</td><td>107155.40</td><td>1</td></tr>\n",
       "\t<tr><th scope=row>6047</th><td>15690546</td><td>618</td><td>France </td><td>Female</td><td>42</td><td> 2</td><td>     0.00</td><td>4</td><td>0</td><td>0</td><td>111097.39</td><td>1</td></tr>\n",
       "\t<tr><th scope=row>6159</th><td>15665283</td><td>610</td><td>France </td><td>Female</td><td>57</td><td> 7</td><td> 72092.95</td><td>4</td><td>0</td><td>1</td><td>113228.82</td><td>1</td></tr>\n",
       "\t<tr><th scope=row>6684</th><td>15668889</td><td>665</td><td>Germany</td><td>Female</td><td>43</td><td> 2</td><td>116322.27</td><td>4</td><td>1</td><td>0</td><td> 35640.12</td><td>1</td></tr>\n",
       "\t<tr><th scope=row>6778</th><td>15750545</td><td>629</td><td>France </td><td>Male  </td><td>44</td><td> 5</td><td>     0.00</td><td>4</td><td>0</td><td>0</td><td>117572.59</td><td>1</td></tr>\n",
       "\t<tr><th scope=row>6896</th><td>15691513</td><td>592</td><td>France </td><td>Male  </td><td>60</td><td> 9</td><td>     0.00</td><td>4</td><td>1</td><td>1</td><td> 13614.01</td><td>1</td></tr>\n",
       "\t<tr><th scope=row>6920</th><td>15673591</td><td>842</td><td>France </td><td>Male  </td><td>44</td><td> 3</td><td>141252.18</td><td>4</td><td>0</td><td>1</td><td>128521.16</td><td>1</td></tr>\n",
       "\t<tr><th scope=row>6924</th><td>15681007</td><td>850</td><td>France </td><td>Female</td><td>35</td><td> 2</td><td>128548.49</td><td>4</td><td>1</td><td>0</td><td> 75478.95</td><td>1</td></tr>\n",
       "\t<tr><th scope=row>7210</th><td>15701439</td><td>698</td><td>Spain  </td><td>Female</td><td>50</td><td> 1</td><td>     0.00</td><td>4</td><td>1</td><td>0</td><td> 88566.90</td><td>1</td></tr>\n",
       "\t<tr><th scope=row>7707</th><td>15633194</td><td>771</td><td>France </td><td>Female</td><td>41</td><td>10</td><td>108309.00</td><td>4</td><td>1</td><td>1</td><td>137510.41</td><td>1</td></tr>\n",
       "\t<tr><th scope=row>7794</th><td>15599329</td><td>697</td><td>France </td><td>Female</td><td>49</td><td> 7</td><td>195238.29</td><td>4</td><td>0</td><td>1</td><td>131083.56</td><td>1</td></tr>\n",
       "\t<tr><th scope=row>7948</th><td>15590201</td><td>500</td><td>Spain  </td><td>Female</td><td>50</td><td> 5</td><td>     0.00</td><td>4</td><td>1</td><td>1</td><td> 83866.35</td><td>1</td></tr>\n",
       "\t<tr><th scope=row>8017</th><td>15570002</td><td>625</td><td>Germany</td><td>Female</td><td>55</td><td> 8</td><td>118772.71</td><td>4</td><td>0</td><td>0</td><td>135853.62</td><td>1</td></tr>\n",
       "\t<tr><th scope=row>8287</th><td>15624180</td><td>584</td><td>Germany</td><td>Female</td><td>37</td><td>10</td><td>134171.80</td><td>4</td><td>1</td><td>1</td><td> 70927.11</td><td>1</td></tr>\n",
       "\t<tr><th scope=row>8324</th><td>15622033</td><td>847</td><td>Germany</td><td>Female</td><td>41</td><td> 3</td><td>101543.51</td><td>4</td><td>1</td><td>0</td><td> 16025.17</td><td>1</td></tr>\n",
       "\t<tr><th scope=row>8385</th><td>15815316</td><td>644</td><td>France </td><td>Male  </td><td>50</td><td> 9</td><td> 76817.00</td><td>4</td><td>1</td><td>0</td><td>196371.13</td><td>1</td></tr>\n",
       "\t<tr><th scope=row>8427</th><td>15732438</td><td>561</td><td>France </td><td>Male  </td><td>43</td><td> 4</td><td>     0.00</td><td>4</td><td>0</td><td>0</td><td> 18522.91</td><td>1</td></tr>\n",
       "\t<tr><th scope=row>8466</th><td>15796115</td><td>689</td><td>Germany</td><td>Female</td><td>40</td><td> 4</td><td> 78119.59</td><td>4</td><td>1</td><td>0</td><td>119259.34</td><td>1</td></tr>\n",
       "\t<tr><th scope=row>8586</th><td>15634551</td><td>727</td><td>Germany</td><td>Male  </td><td>46</td><td> 3</td><td>115248.11</td><td>4</td><td>1</td><td>0</td><td>130752.01</td><td>1</td></tr>\n",
       "\t<tr><th scope=row>8607</th><td>15752294</td><td>582</td><td>France </td><td>Female</td><td>38</td><td> 9</td><td>135979.01</td><td>4</td><td>1</td><td>1</td><td> 76582.95</td><td>1</td></tr>\n",
       "\t<tr><th scope=row>9067</th><td>15593976</td><td>578</td><td>Germany</td><td>Female</td><td>31</td><td> 5</td><td>102088.68</td><td>4</td><td>0</td><td>0</td><td>187866.21</td><td>1</td></tr>\n",
       "\t<tr><th scope=row>9136</th><td>15602735</td><td>692</td><td>Germany</td><td>Male  </td><td>45</td><td> 6</td><td>152296.83</td><td>4</td><td>0</td><td>1</td><td>108040.86</td><td>1</td></tr>\n",
       "\t<tr><th scope=row>9198</th><td>15750778</td><td>653</td><td>France </td><td>Female</td><td>60</td><td> 2</td><td>120731.39</td><td>4</td><td>1</td><td>1</td><td>138160.11</td><td>1</td></tr>\n",
       "\t<tr><th scope=row>9551</th><td>15648681</td><td>747</td><td>France </td><td>Female</td><td>47</td><td> 5</td><td>139914.60</td><td>4</td><td>0</td><td>1</td><td>129964.56</td><td>1</td></tr>\n",
       "\t<tr><th scope=row>9861</th><td>15601594</td><td>698</td><td>France </td><td>Female</td><td>51</td><td> 6</td><td>144237.91</td><td>4</td><td>1</td><td>0</td><td>157143.61</td><td>1</td></tr>\n",
       "\t<tr><th scope=row>9973</th><td>15608338</td><td>757</td><td>Spain  </td><td>Female</td><td>55</td><td> 9</td><td>117294.12</td><td>4</td><td>1</td><td>0</td><td> 94187.47</td><td>1</td></tr>\n",
       "</tbody>\n",
       "</table>\n"
      ],
      "text/latex": [
       "A data.frame: 60 × 12\n",
       "\\begin{tabular}{r|llllllllllll}\n",
       "  & customer\\_id & credit\\_score & country & gender & age & tenure & balance & products\\_number & credit\\_card & active\\_member & estimated\\_salary & churn\\\\\n",
       "  & <int> & <int> & <chr> & <chr> & <int> & <int> & <dbl> & <int> & <int> & <int> & <dbl> & <int>\\\\\n",
       "\\hline\n",
       "\t7 & 15656148 & 376 & Germany & Female & 29 &  4 & 115046.74 & 4 & 1 & 0 & 119346.88 & 1\\\\\n",
       "\t65 & 15703793 & 738 & Germany & Male   & 58 &  2 & 133745.44 & 4 & 1 & 0 &  28373.86 & 1\\\\\n",
       "\t1115 & 15610383 & 628 & France  & Female & 46 &  1 &  46870.43 & 4 & 1 & 0 &  31272.14 & 1\\\\\n",
       "\t1307 & 15670374 & 819 & Germany & Female & 49 &  1 & 120656.86 & 4 & 0 & 0 & 166164.30 & 1\\\\\n",
       "\t1324 & 15625824 & 596 & Spain   & Male   & 30 &  6 & 121345.88 & 4 & 1 & 0 &  41921.75 & 1\\\\\n",
       "\t1519 & 15605279 & 792 & France  & Male   & 50 &  9 &      0.00 & 4 & 1 & 1 & 194700.81 & 1\\\\\n",
       "\t1669 & 15664754 & 640 & Germany & Male   & 39 &  9 & 131607.28 & 4 & 0 & 1 &   6981.43 & 1\\\\\n",
       "\t1895 & 15603851 & 704 & France  & Male   & 32 &  7 & 127785.17 & 4 & 0 & 0 & 184464.70 & 1\\\\\n",
       "\t1962 & 15791700 & 773 & Germany & Male   & 47 &  2 & 118079.47 & 4 & 1 & 1 & 143007.49 & 1\\\\\n",
       "\t2043 & 15783615 & 630 & Germany & Male   & 50 &  3 & 129370.91 & 4 & 1 & 1 &  47775.34 & 1\\\\\n",
       "\t2207 & 15704442 & 672 & France  & Female & 53 &  9 & 169406.33 & 4 & 1 & 1 & 147311.47 & 1\\\\\n",
       "\t2242 & 15634974 & 614 & France  & Female & 37 &  8 &  75150.34 & 4 & 0 & 1 & 131766.67 & 1\\\\\n",
       "\t2252 & 15689341 & 655 & France  & Female & 50 & 10 &      0.00 & 4 & 1 & 0 & 179267.94 & 1\\\\\n",
       "\t2280 & 15679770 & 611 & France  & Female & 61 &  3 & 131583.59 & 4 & 0 & 1 &  66238.23 & 1\\\\\n",
       "\t2345 & 15640846 & 546 & Germany & Female & 58 &  3 & 106458.31 & 4 & 1 & 0 & 128881.87 & 1\\\\\n",
       "\t2575 & 15671591 & 439 & Spain   & Male   & 52 &  3 &  96196.24 & 4 & 1 & 0 & 198874.52 & 1\\\\\n",
       "\t2829 & 15724161 & 644 & France  & Female & 40 &  9 & 137285.26 & 4 & 1 & 0 &  77063.63 & 1\\\\\n",
       "\t3014 & 15764431 & 671 & Spain   & Female & 34 &  5 & 130929.02 & 4 & 1 & 1 &  28238.25 & 1\\\\\n",
       "\t3596 & 15653776 & 720 & Germany & Female & 57 &  1 & 162082.31 & 4 & 0 & 0 &  27145.73 & 1\\\\\n",
       "\t3597 & 15597914 & 641 & Germany & Female & 51 &  2 & 117306.69 & 4 & 1 & 1 &  26912.72 & 1\\\\\n",
       "\t3732 & 15654562 & 850 & Spain   & Female & 45 &  5 & 174088.30 & 4 & 1 & 0 &   5669.31 & 1\\\\\n",
       "\t3813 & 15664555 & 587 & France  & Male   & 40 &  2 &      0.00 & 4 & 0 & 1 & 106174.70 & 1\\\\\n",
       "\t3945 & 15616859 & 602 & Germany & Female & 43 &  2 & 113641.49 & 4 & 1 & 0 & 115116.35 & 1\\\\\n",
       "\t4042 & 15568006 & 634 & France  & Female & 45 &  2 &      0.00 & 4 & 1 & 0 & 101039.53 & 1\\\\\n",
       "\t4046 & 15812210 & 497 & Germany & Female & 32 &  8 & 111537.23 & 4 & 1 & 1 &   9497.99 & 1\\\\\n",
       "\t4128 & 15784958 & 797 & France  & Female & 55 & 10 &      0.00 & 4 & 1 & 1 &  49418.87 & 1\\\\\n",
       "\t4261 & 15759067 & 537 & Germany & Female & 37 &  7 & 158411.95 & 4 & 1 & 1 & 117690.58 & 1\\\\\n",
       "\t4332 & 15805704 & 745 & France  & Female & 32 &  2 &      0.00 & 4 & 0 & 1 & 179705.13 & 1\\\\\n",
       "\t4501 & 15719508 & 575 & Germany & Male   & 49 &  7 & 121205.15 & 4 & 1 & 1 & 168080.53 & 1\\\\\n",
       "\t4707 & 15608528 & 645 & France  & Female & 68 &  9 &      0.00 & 4 & 1 & 1 & 176353.87 & 1\\\\\n",
       "\t4836 & 15668283 & 642 & France  & Male   & 48 &  9 & 118317.27 & 4 & 0 & 0 &  78702.98 & 1\\\\\n",
       "\t5118 & 15812888 & 447 & France  & Male   & 41 &  3 &      0.00 & 4 & 1 & 1 & 197490.39 & 1\\\\\n",
       "\t5302 & 15664270 & 692 & Germany & Male   & 45 &  6 & 142084.04 & 4 & 1 & 0 & 188305.85 & 1\\\\\n",
       "\t5516 & 15625761 & 632 & Germany & Male   & 41 &  8 & 127205.32 & 4 & 1 & 0 &  93874.87 & 1\\\\\n",
       "\t5536 & 15656822 & 568 & Germany & Male   & 43 &  5 &  87612.64 & 4 & 1 & 1 & 107155.40 & 1\\\\\n",
       "\t6047 & 15690546 & 618 & France  & Female & 42 &  2 &      0.00 & 4 & 0 & 0 & 111097.39 & 1\\\\\n",
       "\t6159 & 15665283 & 610 & France  & Female & 57 &  7 &  72092.95 & 4 & 0 & 1 & 113228.82 & 1\\\\\n",
       "\t6684 & 15668889 & 665 & Germany & Female & 43 &  2 & 116322.27 & 4 & 1 & 0 &  35640.12 & 1\\\\\n",
       "\t6778 & 15750545 & 629 & France  & Male   & 44 &  5 &      0.00 & 4 & 0 & 0 & 117572.59 & 1\\\\\n",
       "\t6896 & 15691513 & 592 & France  & Male   & 60 &  9 &      0.00 & 4 & 1 & 1 &  13614.01 & 1\\\\\n",
       "\t6920 & 15673591 & 842 & France  & Male   & 44 &  3 & 141252.18 & 4 & 0 & 1 & 128521.16 & 1\\\\\n",
       "\t6924 & 15681007 & 850 & France  & Female & 35 &  2 & 128548.49 & 4 & 1 & 0 &  75478.95 & 1\\\\\n",
       "\t7210 & 15701439 & 698 & Spain   & Female & 50 &  1 &      0.00 & 4 & 1 & 0 &  88566.90 & 1\\\\\n",
       "\t7707 & 15633194 & 771 & France  & Female & 41 & 10 & 108309.00 & 4 & 1 & 1 & 137510.41 & 1\\\\\n",
       "\t7794 & 15599329 & 697 & France  & Female & 49 &  7 & 195238.29 & 4 & 0 & 1 & 131083.56 & 1\\\\\n",
       "\t7948 & 15590201 & 500 & Spain   & Female & 50 &  5 &      0.00 & 4 & 1 & 1 &  83866.35 & 1\\\\\n",
       "\t8017 & 15570002 & 625 & Germany & Female & 55 &  8 & 118772.71 & 4 & 0 & 0 & 135853.62 & 1\\\\\n",
       "\t8287 & 15624180 & 584 & Germany & Female & 37 & 10 & 134171.80 & 4 & 1 & 1 &  70927.11 & 1\\\\\n",
       "\t8324 & 15622033 & 847 & Germany & Female & 41 &  3 & 101543.51 & 4 & 1 & 0 &  16025.17 & 1\\\\\n",
       "\t8385 & 15815316 & 644 & France  & Male   & 50 &  9 &  76817.00 & 4 & 1 & 0 & 196371.13 & 1\\\\\n",
       "\t8427 & 15732438 & 561 & France  & Male   & 43 &  4 &      0.00 & 4 & 0 & 0 &  18522.91 & 1\\\\\n",
       "\t8466 & 15796115 & 689 & Germany & Female & 40 &  4 &  78119.59 & 4 & 1 & 0 & 119259.34 & 1\\\\\n",
       "\t8586 & 15634551 & 727 & Germany & Male   & 46 &  3 & 115248.11 & 4 & 1 & 0 & 130752.01 & 1\\\\\n",
       "\t8607 & 15752294 & 582 & France  & Female & 38 &  9 & 135979.01 & 4 & 1 & 1 &  76582.95 & 1\\\\\n",
       "\t9067 & 15593976 & 578 & Germany & Female & 31 &  5 & 102088.68 & 4 & 0 & 0 & 187866.21 & 1\\\\\n",
       "\t9136 & 15602735 & 692 & Germany & Male   & 45 &  6 & 152296.83 & 4 & 0 & 1 & 108040.86 & 1\\\\\n",
       "\t9198 & 15750778 & 653 & France  & Female & 60 &  2 & 120731.39 & 4 & 1 & 1 & 138160.11 & 1\\\\\n",
       "\t9551 & 15648681 & 747 & France  & Female & 47 &  5 & 139914.60 & 4 & 0 & 1 & 129964.56 & 1\\\\\n",
       "\t9861 & 15601594 & 698 & France  & Female & 51 &  6 & 144237.91 & 4 & 1 & 0 & 157143.61 & 1\\\\\n",
       "\t9973 & 15608338 & 757 & Spain   & Female & 55 &  9 & 117294.12 & 4 & 1 & 0 &  94187.47 & 1\\\\\n",
       "\\end{tabular}\n"
      ],
      "text/markdown": [
       "\n",
       "A data.frame: 60 × 12\n",
       "\n",
       "| <!--/--> | customer_id &lt;int&gt; | credit_score &lt;int&gt; | country &lt;chr&gt; | gender &lt;chr&gt; | age &lt;int&gt; | tenure &lt;int&gt; | balance &lt;dbl&gt; | products_number &lt;int&gt; | credit_card &lt;int&gt; | active_member &lt;int&gt; | estimated_salary &lt;dbl&gt; | churn &lt;int&gt; |\n",
       "|---|---|---|---|---|---|---|---|---|---|---|---|---|\n",
       "| 7 | 15656148 | 376 | Germany | Female | 29 |  4 | 115046.74 | 4 | 1 | 0 | 119346.88 | 1 |\n",
       "| 65 | 15703793 | 738 | Germany | Male   | 58 |  2 | 133745.44 | 4 | 1 | 0 |  28373.86 | 1 |\n",
       "| 1115 | 15610383 | 628 | France  | Female | 46 |  1 |  46870.43 | 4 | 1 | 0 |  31272.14 | 1 |\n",
       "| 1307 | 15670374 | 819 | Germany | Female | 49 |  1 | 120656.86 | 4 | 0 | 0 | 166164.30 | 1 |\n",
       "| 1324 | 15625824 | 596 | Spain   | Male   | 30 |  6 | 121345.88 | 4 | 1 | 0 |  41921.75 | 1 |\n",
       "| 1519 | 15605279 | 792 | France  | Male   | 50 |  9 |      0.00 | 4 | 1 | 1 | 194700.81 | 1 |\n",
       "| 1669 | 15664754 | 640 | Germany | Male   | 39 |  9 | 131607.28 | 4 | 0 | 1 |   6981.43 | 1 |\n",
       "| 1895 | 15603851 | 704 | France  | Male   | 32 |  7 | 127785.17 | 4 | 0 | 0 | 184464.70 | 1 |\n",
       "| 1962 | 15791700 | 773 | Germany | Male   | 47 |  2 | 118079.47 | 4 | 1 | 1 | 143007.49 | 1 |\n",
       "| 2043 | 15783615 | 630 | Germany | Male   | 50 |  3 | 129370.91 | 4 | 1 | 1 |  47775.34 | 1 |\n",
       "| 2207 | 15704442 | 672 | France  | Female | 53 |  9 | 169406.33 | 4 | 1 | 1 | 147311.47 | 1 |\n",
       "| 2242 | 15634974 | 614 | France  | Female | 37 |  8 |  75150.34 | 4 | 0 | 1 | 131766.67 | 1 |\n",
       "| 2252 | 15689341 | 655 | France  | Female | 50 | 10 |      0.00 | 4 | 1 | 0 | 179267.94 | 1 |\n",
       "| 2280 | 15679770 | 611 | France  | Female | 61 |  3 | 131583.59 | 4 | 0 | 1 |  66238.23 | 1 |\n",
       "| 2345 | 15640846 | 546 | Germany | Female | 58 |  3 | 106458.31 | 4 | 1 | 0 | 128881.87 | 1 |\n",
       "| 2575 | 15671591 | 439 | Spain   | Male   | 52 |  3 |  96196.24 | 4 | 1 | 0 | 198874.52 | 1 |\n",
       "| 2829 | 15724161 | 644 | France  | Female | 40 |  9 | 137285.26 | 4 | 1 | 0 |  77063.63 | 1 |\n",
       "| 3014 | 15764431 | 671 | Spain   | Female | 34 |  5 | 130929.02 | 4 | 1 | 1 |  28238.25 | 1 |\n",
       "| 3596 | 15653776 | 720 | Germany | Female | 57 |  1 | 162082.31 | 4 | 0 | 0 |  27145.73 | 1 |\n",
       "| 3597 | 15597914 | 641 | Germany | Female | 51 |  2 | 117306.69 | 4 | 1 | 1 |  26912.72 | 1 |\n",
       "| 3732 | 15654562 | 850 | Spain   | Female | 45 |  5 | 174088.30 | 4 | 1 | 0 |   5669.31 | 1 |\n",
       "| 3813 | 15664555 | 587 | France  | Male   | 40 |  2 |      0.00 | 4 | 0 | 1 | 106174.70 | 1 |\n",
       "| 3945 | 15616859 | 602 | Germany | Female | 43 |  2 | 113641.49 | 4 | 1 | 0 | 115116.35 | 1 |\n",
       "| 4042 | 15568006 | 634 | France  | Female | 45 |  2 |      0.00 | 4 | 1 | 0 | 101039.53 | 1 |\n",
       "| 4046 | 15812210 | 497 | Germany | Female | 32 |  8 | 111537.23 | 4 | 1 | 1 |   9497.99 | 1 |\n",
       "| 4128 | 15784958 | 797 | France  | Female | 55 | 10 |      0.00 | 4 | 1 | 1 |  49418.87 | 1 |\n",
       "| 4261 | 15759067 | 537 | Germany | Female | 37 |  7 | 158411.95 | 4 | 1 | 1 | 117690.58 | 1 |\n",
       "| 4332 | 15805704 | 745 | France  | Female | 32 |  2 |      0.00 | 4 | 0 | 1 | 179705.13 | 1 |\n",
       "| 4501 | 15719508 | 575 | Germany | Male   | 49 |  7 | 121205.15 | 4 | 1 | 1 | 168080.53 | 1 |\n",
       "| 4707 | 15608528 | 645 | France  | Female | 68 |  9 |      0.00 | 4 | 1 | 1 | 176353.87 | 1 |\n",
       "| 4836 | 15668283 | 642 | France  | Male   | 48 |  9 | 118317.27 | 4 | 0 | 0 |  78702.98 | 1 |\n",
       "| 5118 | 15812888 | 447 | France  | Male   | 41 |  3 |      0.00 | 4 | 1 | 1 | 197490.39 | 1 |\n",
       "| 5302 | 15664270 | 692 | Germany | Male   | 45 |  6 | 142084.04 | 4 | 1 | 0 | 188305.85 | 1 |\n",
       "| 5516 | 15625761 | 632 | Germany | Male   | 41 |  8 | 127205.32 | 4 | 1 | 0 |  93874.87 | 1 |\n",
       "| 5536 | 15656822 | 568 | Germany | Male   | 43 |  5 |  87612.64 | 4 | 1 | 1 | 107155.40 | 1 |\n",
       "| 6047 | 15690546 | 618 | France  | Female | 42 |  2 |      0.00 | 4 | 0 | 0 | 111097.39 | 1 |\n",
       "| 6159 | 15665283 | 610 | France  | Female | 57 |  7 |  72092.95 | 4 | 0 | 1 | 113228.82 | 1 |\n",
       "| 6684 | 15668889 | 665 | Germany | Female | 43 |  2 | 116322.27 | 4 | 1 | 0 |  35640.12 | 1 |\n",
       "| 6778 | 15750545 | 629 | France  | Male   | 44 |  5 |      0.00 | 4 | 0 | 0 | 117572.59 | 1 |\n",
       "| 6896 | 15691513 | 592 | France  | Male   | 60 |  9 |      0.00 | 4 | 1 | 1 |  13614.01 | 1 |\n",
       "| 6920 | 15673591 | 842 | France  | Male   | 44 |  3 | 141252.18 | 4 | 0 | 1 | 128521.16 | 1 |\n",
       "| 6924 | 15681007 | 850 | France  | Female | 35 |  2 | 128548.49 | 4 | 1 | 0 |  75478.95 | 1 |\n",
       "| 7210 | 15701439 | 698 | Spain   | Female | 50 |  1 |      0.00 | 4 | 1 | 0 |  88566.90 | 1 |\n",
       "| 7707 | 15633194 | 771 | France  | Female | 41 | 10 | 108309.00 | 4 | 1 | 1 | 137510.41 | 1 |\n",
       "| 7794 | 15599329 | 697 | France  | Female | 49 |  7 | 195238.29 | 4 | 0 | 1 | 131083.56 | 1 |\n",
       "| 7948 | 15590201 | 500 | Spain   | Female | 50 |  5 |      0.00 | 4 | 1 | 1 |  83866.35 | 1 |\n",
       "| 8017 | 15570002 | 625 | Germany | Female | 55 |  8 | 118772.71 | 4 | 0 | 0 | 135853.62 | 1 |\n",
       "| 8287 | 15624180 | 584 | Germany | Female | 37 | 10 | 134171.80 | 4 | 1 | 1 |  70927.11 | 1 |\n",
       "| 8324 | 15622033 | 847 | Germany | Female | 41 |  3 | 101543.51 | 4 | 1 | 0 |  16025.17 | 1 |\n",
       "| 8385 | 15815316 | 644 | France  | Male   | 50 |  9 |  76817.00 | 4 | 1 | 0 | 196371.13 | 1 |\n",
       "| 8427 | 15732438 | 561 | France  | Male   | 43 |  4 |      0.00 | 4 | 0 | 0 |  18522.91 | 1 |\n",
       "| 8466 | 15796115 | 689 | Germany | Female | 40 |  4 |  78119.59 | 4 | 1 | 0 | 119259.34 | 1 |\n",
       "| 8586 | 15634551 | 727 | Germany | Male   | 46 |  3 | 115248.11 | 4 | 1 | 0 | 130752.01 | 1 |\n",
       "| 8607 | 15752294 | 582 | France  | Female | 38 |  9 | 135979.01 | 4 | 1 | 1 |  76582.95 | 1 |\n",
       "| 9067 | 15593976 | 578 | Germany | Female | 31 |  5 | 102088.68 | 4 | 0 | 0 | 187866.21 | 1 |\n",
       "| 9136 | 15602735 | 692 | Germany | Male   | 45 |  6 | 152296.83 | 4 | 0 | 1 | 108040.86 | 1 |\n",
       "| 9198 | 15750778 | 653 | France  | Female | 60 |  2 | 120731.39 | 4 | 1 | 1 | 138160.11 | 1 |\n",
       "| 9551 | 15648681 | 747 | France  | Female | 47 |  5 | 139914.60 | 4 | 0 | 1 | 129964.56 | 1 |\n",
       "| 9861 | 15601594 | 698 | France  | Female | 51 |  6 | 144237.91 | 4 | 1 | 0 | 157143.61 | 1 |\n",
       "| 9973 | 15608338 | 757 | Spain   | Female | 55 |  9 | 117294.12 | 4 | 1 | 0 |  94187.47 | 1 |\n",
       "\n"
      ],
      "text/plain": [
       "     customer_id credit_score country gender age tenure balance  \n",
       "7    15656148    376          Germany Female 29   4     115046.74\n",
       "65   15703793    738          Germany Male   58   2     133745.44\n",
       "1115 15610383    628          France  Female 46   1      46870.43\n",
       "1307 15670374    819          Germany Female 49   1     120656.86\n",
       "1324 15625824    596          Spain   Male   30   6     121345.88\n",
       "1519 15605279    792          France  Male   50   9          0.00\n",
       "1669 15664754    640          Germany Male   39   9     131607.28\n",
       "1895 15603851    704          France  Male   32   7     127785.17\n",
       "1962 15791700    773          Germany Male   47   2     118079.47\n",
       "2043 15783615    630          Germany Male   50   3     129370.91\n",
       "2207 15704442    672          France  Female 53   9     169406.33\n",
       "2242 15634974    614          France  Female 37   8      75150.34\n",
       "2252 15689341    655          France  Female 50  10          0.00\n",
       "2280 15679770    611          France  Female 61   3     131583.59\n",
       "2345 15640846    546          Germany Female 58   3     106458.31\n",
       "2575 15671591    439          Spain   Male   52   3      96196.24\n",
       "2829 15724161    644          France  Female 40   9     137285.26\n",
       "3014 15764431    671          Spain   Female 34   5     130929.02\n",
       "3596 15653776    720          Germany Female 57   1     162082.31\n",
       "3597 15597914    641          Germany Female 51   2     117306.69\n",
       "3732 15654562    850          Spain   Female 45   5     174088.30\n",
       "3813 15664555    587          France  Male   40   2          0.00\n",
       "3945 15616859    602          Germany Female 43   2     113641.49\n",
       "4042 15568006    634          France  Female 45   2          0.00\n",
       "4046 15812210    497          Germany Female 32   8     111537.23\n",
       "4128 15784958    797          France  Female 55  10          0.00\n",
       "4261 15759067    537          Germany Female 37   7     158411.95\n",
       "4332 15805704    745          France  Female 32   2          0.00\n",
       "4501 15719508    575          Germany Male   49   7     121205.15\n",
       "4707 15608528    645          France  Female 68   9          0.00\n",
       "4836 15668283    642          France  Male   48   9     118317.27\n",
       "5118 15812888    447          France  Male   41   3          0.00\n",
       "5302 15664270    692          Germany Male   45   6     142084.04\n",
       "5516 15625761    632          Germany Male   41   8     127205.32\n",
       "5536 15656822    568          Germany Male   43   5      87612.64\n",
       "6047 15690546    618          France  Female 42   2          0.00\n",
       "6159 15665283    610          France  Female 57   7      72092.95\n",
       "6684 15668889    665          Germany Female 43   2     116322.27\n",
       "6778 15750545    629          France  Male   44   5          0.00\n",
       "6896 15691513    592          France  Male   60   9          0.00\n",
       "6920 15673591    842          France  Male   44   3     141252.18\n",
       "6924 15681007    850          France  Female 35   2     128548.49\n",
       "7210 15701439    698          Spain   Female 50   1          0.00\n",
       "7707 15633194    771          France  Female 41  10     108309.00\n",
       "7794 15599329    697          France  Female 49   7     195238.29\n",
       "7948 15590201    500          Spain   Female 50   5          0.00\n",
       "8017 15570002    625          Germany Female 55   8     118772.71\n",
       "8287 15624180    584          Germany Female 37  10     134171.80\n",
       "8324 15622033    847          Germany Female 41   3     101543.51\n",
       "8385 15815316    644          France  Male   50   9      76817.00\n",
       "8427 15732438    561          France  Male   43   4          0.00\n",
       "8466 15796115    689          Germany Female 40   4      78119.59\n",
       "8586 15634551    727          Germany Male   46   3     115248.11\n",
       "8607 15752294    582          France  Female 38   9     135979.01\n",
       "9067 15593976    578          Germany Female 31   5     102088.68\n",
       "9136 15602735    692          Germany Male   45   6     152296.83\n",
       "9198 15750778    653          France  Female 60   2     120731.39\n",
       "9551 15648681    747          France  Female 47   5     139914.60\n",
       "9861 15601594    698          France  Female 51   6     144237.91\n",
       "9973 15608338    757          Spain   Female 55   9     117294.12\n",
       "     products_number credit_card active_member estimated_salary churn\n",
       "7    4               1           0             119346.88        1    \n",
       "65   4               1           0              28373.86        1    \n",
       "1115 4               1           0              31272.14        1    \n",
       "1307 4               0           0             166164.30        1    \n",
       "1324 4               1           0              41921.75        1    \n",
       "1519 4               1           1             194700.81        1    \n",
       "1669 4               0           1               6981.43        1    \n",
       "1895 4               0           0             184464.70        1    \n",
       "1962 4               1           1             143007.49        1    \n",
       "2043 4               1           1              47775.34        1    \n",
       "2207 4               1           1             147311.47        1    \n",
       "2242 4               0           1             131766.67        1    \n",
       "2252 4               1           0             179267.94        1    \n",
       "2280 4               0           1              66238.23        1    \n",
       "2345 4               1           0             128881.87        1    \n",
       "2575 4               1           0             198874.52        1    \n",
       "2829 4               1           0              77063.63        1    \n",
       "3014 4               1           1              28238.25        1    \n",
       "3596 4               0           0              27145.73        1    \n",
       "3597 4               1           1              26912.72        1    \n",
       "3732 4               1           0               5669.31        1    \n",
       "3813 4               0           1             106174.70        1    \n",
       "3945 4               1           0             115116.35        1    \n",
       "4042 4               1           0             101039.53        1    \n",
       "4046 4               1           1               9497.99        1    \n",
       "4128 4               1           1              49418.87        1    \n",
       "4261 4               1           1             117690.58        1    \n",
       "4332 4               0           1             179705.13        1    \n",
       "4501 4               1           1             168080.53        1    \n",
       "4707 4               1           1             176353.87        1    \n",
       "4836 4               0           0              78702.98        1    \n",
       "5118 4               1           1             197490.39        1    \n",
       "5302 4               1           0             188305.85        1    \n",
       "5516 4               1           0              93874.87        1    \n",
       "5536 4               1           1             107155.40        1    \n",
       "6047 4               0           0             111097.39        1    \n",
       "6159 4               0           1             113228.82        1    \n",
       "6684 4               1           0              35640.12        1    \n",
       "6778 4               0           0             117572.59        1    \n",
       "6896 4               1           1              13614.01        1    \n",
       "6920 4               0           1             128521.16        1    \n",
       "6924 4               1           0              75478.95        1    \n",
       "7210 4               1           0              88566.90        1    \n",
       "7707 4               1           1             137510.41        1    \n",
       "7794 4               0           1             131083.56        1    \n",
       "7948 4               1           1              83866.35        1    \n",
       "8017 4               0           0             135853.62        1    \n",
       "8287 4               1           1              70927.11        1    \n",
       "8324 4               1           0              16025.17        1    \n",
       "8385 4               1           0             196371.13        1    \n",
       "8427 4               0           0              18522.91        1    \n",
       "8466 4               1           0             119259.34        1    \n",
       "8586 4               1           0             130752.01        1    \n",
       "8607 4               1           1              76582.95        1    \n",
       "9067 4               0           0             187866.21        1    \n",
       "9136 4               0           1             108040.86        1    \n",
       "9198 4               1           1             138160.11        1    \n",
       "9551 4               0           1             129964.56        1    \n",
       "9861 4               1           0             157143.61        1    \n",
       "9973 4               1           0              94187.47        1    "
      ]
     },
     "metadata": {},
     "output_type": "display_data"
    }
   ],
   "source": [
    "subset(df, products_number == 4)"
   ]
  },
  {
   "cell_type": "code",
   "execution_count": 32,
   "id": "503d8f23",
   "metadata": {},
   "outputs": [
    {
     "name": "stdout",
     "output_type": "stream",
     "text": [
      "[1] 8.785858e-55\n",
      "                   \n",
      "                    Not Churned   Churned\n",
      "  Non-Active Member    3861.259  987.7413\n",
      "  Active Member        4101.741 1049.2587\n"
     ]
    }
   ],
   "source": [
    "# create contingency table to test relationship between churn and membership status\n",
    "table_active_member <- table(df$active_member, df$churn)\n",
    "rownames(table_active_member) <- c(\"Non-Active Member\", \"Active Member\")\n",
    "colnames(table_active_member) <- c(\"Not Churned\", \"Churned\")\n",
    "\n",
    "# run chi-squared test and print p-value\n",
    "test <- chisq.test(table_active_member)\n",
    "pval <- test$p.value\n",
    "print(pval)\n",
    "\n",
    "# print expected values\n",
    "expected <- test$expected\n",
    "rownames(expected) <- rownames(table_active_member)\n",
    "colnames(expected) <- colnames(table_active_member)\n",
    "print(expected)"
   ]
  },
  {
   "cell_type": "markdown",
   "id": "d2000f05",
   "metadata": {},
   "source": [
    "There is a statistically significant relationship between membership status and churn. Non-active members are more likely to churn than active members. "
   ]
  },
  {
   "cell_type": "markdown",
   "id": "884749ed",
   "metadata": {},
   "source": [
    "__1.4: Further non-significant findings:__"
   ]
  },
  {
   "cell_type": "code",
   "execution_count": 30,
   "id": "3c402f45",
   "metadata": {},
   "outputs": [
    {
     "name": "stdout",
     "output_type": "stream",
     "text": [
      "[1] 0.4923724\n",
      "   \n",
      "           0         1\n",
      "  0 2345.104  599.8965\n",
      "  1 5617.896 1437.1035\n"
     ]
    }
   ],
   "source": [
    "# create contingency table to test relationship between churn and credit card ownership\n",
    "table_credit_card <- table(df$credit_card, df$churn)\n",
    "\n",
    "# run chi-squared test and print p-value\n",
    "test <- chisq.test(table_credit_card)\n",
    "pval <- test$p.value\n",
    "print(pval)\n",
    "\n",
    "# print expected values\n",
    "expected <- test$expected\n",
    "print(expected)"
   ]
  },
  {
   "cell_type": "markdown",
   "id": "52cbb50f",
   "metadata": {},
   "source": [
    "No statistically significant relationship between churn rate and credit card ownership as p-value is not leas than the significance level of 5%"
   ]
  },
  {
   "cell_type": "code",
   "execution_count": 26,
   "id": "8ed961ba",
   "metadata": {},
   "outputs": [
    {
     "data": {
      "image/png": "[encoded data removed]",
      "text/plain": [
       "plot without title"
      ]
     },
     "metadata": {
      "image/png": {
       "height": 420,
       "width": 420
      }
     },
     "output_type": "display_data"
    }
   ],
   "source": [
    "# Plot estimated salary distribution by churn vs. no-churn\n",
    "ggplot(df, aes(x = estimated_salary, fill = as.factor(churn))) +\n",
    "  geom_histogram(position = \"identity\", alpha = 0.5, bins = 25) +\n",
    "  scale_fill_manual(values = c(\"red\", \"blue\"), labels=c('No churn', 'Churn')) +\n",
    "  labs(title = \"Histogram of Estimated Salary by Churn\", x = \"Estimated salary\", y = \"Frequency\", fill = \"Churn\") +\n",
    "  theme_classic()"
   ]
  },
  {
   "cell_type": "code",
   "execution_count": 25,
   "id": "0bfecbc5",
   "metadata": {},
   "outputs": [
    {
     "data": {
      "image/png": "[encoded data removed]",
      "text/plain": [
       "plot without title"
      ]
     },
     "metadata": {
      "image/png": {
       "height": 420,
       "width": 420
      }
     },
     "output_type": "display_data"
    }
   ],
   "source": [
    "# Plot balance distribution by churn vs. no-churn\n",
    "ggplot(df, aes(x = balance, fill = as.factor(churn))) +\n",
    "  geom_histogram(position = \"identity\", alpha = 0.5, bins = 25) +\n",
    "  scale_fill_manual(values = c(\"red\", \"blue\"), labels=c('No churn', 'Churn')) +\n",
    "  labs(title = \"Histogram of Balance by Churn\", x = \"Balance\", y = \"Frequency\", fill = \"Churn\") +\n",
    "  theme_classic()"
   ]
  },
  {
   "cell_type": "code",
   "execution_count": 24,
   "id": "1e3bfd8c",
   "metadata": {},
   "outputs": [
    {
     "data": {
      "image/png": "[encoded data removed]",
      "text/plain": [
       "plot without title"
      ]
     },
     "metadata": {
      "image/png": {
       "height": 420,
       "width": 420
      }
     },
     "output_type": "display_data"
    }
   ],
   "source": [
    "# Plot tenure distribution by churn vs. no-churn\n",
    "ggplot(df, aes(x = tenure, fill = as.factor(churn))) +\n",
    "  geom_histogram(position = \"identity\", alpha = 0.5, bins = 25) +\n",
    "  scale_fill_manual(values = c(\"red\", \"blue\"), labels=c('No churn', 'Churn')) +\n",
    "  labs(title = \"Histogram of Tenure by Churn\", x = \"Tenure\", y = \"Frequency\", fill = \"Churn\") +\n",
    "  theme_classic()"
   ]
  },
  {
   "cell_type": "code",
   "execution_count": 22,
   "id": "b648ab9e",
   "metadata": {},
   "outputs": [
    {
     "data": {
      "image/png": "[encoded data removed]",
      "text/plain": [
       "plot without title"
      ]
     },
     "metadata": {
      "image/png": {
       "height": 420,
       "width": 420
      }
     },
     "output_type": "display_data"
    }
   ],
   "source": [
    "# Plot credit score distribution by churn vs. no-churn\n",
    "ggplot(df, aes(x = credit_score, fill = as.factor(churn))) +\n",
    "  geom_histogram(position = \"identity\", alpha = 0.5, bins = 25) +\n",
    "  scale_fill_manual(values = c(\"red\", \"blue\"), labels=c('No churn', 'Churn')) +\n",
    "  labs(title = \"Histogram of Credit Score by Churn\", x = \"Credit Score\", y = \"Frequency\", fill = \"Churn\") +\n",
    "  theme_classic()"
   ]
  },
  {
   "cell_type": "markdown",
   "id": "0250e5e3",
   "metadata": {},
   "source": [
    "# 2: Data Pre-Processing"
   ]
  },
  {
   "cell_type": "markdown",
   "id": "525050d2",
   "metadata": {},
   "source": [
    "Are there any outliers/anomaly in the data that need to be addressed? \n",
    "Are there variables in the dataset that will not be used in the analysis? Remove them. \n",
    "Are there categorical variables in the dataset? \n",
    "Should you convert those variables to numerical?"
   ]
  },
  {
   "cell_type": "code",
   "execution_count": null,
   "id": "ca1f9265",
   "metadata": {},
   "outputs": [],
   "source": []
  },
  {
   "cell_type": "markdown",
   "id": "668f7f3c",
   "metadata": {},
   "source": [
    "# 3: Model Building"
   ]
  },
  {
   "cell_type": "markdown",
   "id": "2c454735",
   "metadata": {},
   "source": [
    "Which variables are the strongest predictors of customer churn? \n",
    "How did you conclude that these are the strongest predictors? \n",
    "How do different model evaluation metrics (e.g., accuracy, precision, recall) vary for different models? \n",
    "Which model would you use for predicting customer churn?"
   ]
  },
  {
   "cell_type": "code",
   "execution_count": null,
   "id": "a038b169",
   "metadata": {},
   "outputs": [],
   "source": []
  },
  {
   "cell_type": "markdown",
   "id": "fbffcacb",
   "metadata": {},
   "source": [
    "# 4: Recommendations"
   ]
  },
  {
   "cell_type": "markdown",
   "id": "6bdb1983",
   "metadata": {},
   "source": [
    "Based on your analysis, develop 3 recommendations that will help EBI to better manage customer churn. Explain the rationale behind those 3 recommendations. • EBI has formulated a list of a subset of its current customers (see the dataset “ebi_exp_customers.csv” to answer this question) and would like to use your prediction model to take proactive measures to retain these customers. Specifically, the bank would target the customers (say, via telemarketing) who have high likelihood of churn. • Use your prediction model to predict the likelihood of churn for each customer in the dataset. • Suppose that the value of retaining a customer is €5 while the cost incurred by the bank to avoid a customer from churning is €1. How many and which customers from the dataset (“ebi_exp_customers.csv”) would you recommend the bank to target to maximize the total expected profit from this proactive targeting experiment? How would your answer change if the value of retaining a customer goes up to €10? Explain your computation"
   ]
  }
 ],
 "metadata": {
  "kernelspec": {
   "display_name": "R",
   "language": "R",
   "name": "ir"
  },
  "language_info": {
   "codemirror_mode": "r",
   "file_extension": ".r",
   "mimetype": "text/x-r-source",
   "name": "R",
   "pygments_lexer": "r",
   "version": "4.1.3"
  }
 },
 "nbformat": 4,
 "nbformat_minor": 5
}
