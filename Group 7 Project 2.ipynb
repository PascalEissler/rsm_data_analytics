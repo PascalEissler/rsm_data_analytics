{
 "cells": [
  {
   "cell_type": "markdown",
   "id": "16ac6060",
   "metadata": {},
   "source": [
    "# 1: Exploratory Data Analysis"
   ]
  },
  {
   "attachments": {},
   "cell_type": "markdown",
   "id": "ed330e70",
   "metadata": {},
   "source": [
    "What is the overall rate of customer churn in the dataset? \n",
    "How does the rate of customer churn vary by demographic variables such as age, gender, etc.?\n",
    "How does it vary across the countries? \n",
    "Report interesting patterns that you find in the dataset. "
   ]
  },
  {
   "cell_type": "code",
   "execution_count": null,
   "id": "ab4ff189",
   "metadata": {},
   "outputs": [],
   "source": []
  },
  {
   "cell_type": "markdown",
   "id": "3b28a89b",
   "metadata": {},
   "source": [
    "# 2: Data Pre-Processing"
   ]
  },
  {
   "attachments": {},
   "cell_type": "markdown",
   "id": "2fe0bdf7",
   "metadata": {},
   "source": [
    "Are there any outliers/anomaly in the data that need to be addressed? \n",
    "Are there variables in the dataset that will not be used in the analysis? Remove them. \n",
    "Are there categorical variables in the dataset? \n",
    "Should you convert those variables to numerical?"
   ]
  },
  {
   "cell_type": "code",
   "execution_count": null,
   "id": "edc88fb4",
   "metadata": {},
   "outputs": [],
   "source": []
  },
  {
   "cell_type": "markdown",
   "id": "58f81605",
   "metadata": {},
   "source": [
    "# 3: Model Building"
   ]
  },
  {
   "attachments": {},
   "cell_type": "markdown",
   "id": "c0d9fd8d",
   "metadata": {},
   "source": [
    "Which variables are the strongest predictors of customer churn? \n",
    "How did you conclude that these are the strongest predictors? \n",
    "How do different model evaluation metrics (e.g., accuracy, precision, recall) vary for different models? \n",
    "Which model would you use for predicting customer churn?"
   ]
  },
  {
   "cell_type": "code",
   "execution_count": null,
   "id": "9d3a5525",
   "metadata": {},
   "outputs": [],
   "source": []
  },
  {
   "cell_type": "markdown",
   "id": "01f1833b",
   "metadata": {},
   "source": [
    "# 4: Recommendations"
   ]
  },
  {
   "attachments": {},
   "cell_type": "markdown",
   "id": "c4b02cac",
   "metadata": {},
   "source": [
    "Based on your analysis, develop 3 recommendations that will help EBI to better manage customer churn. Explain the rationale behind those 3 recommendations. • EBI has formulated a list of a subset of its current customers (see the dataset “ebi_exp_customers.csv” to answer this question) and would like to use your prediction model to take proactive measures to retain these customers. Specifically, the bank would target the customers (say, via telemarketing) who have high likelihood of churn. • Use your prediction model to predict the likelihood of churn for each customer in the dataset. • Suppose that the value of retaining a customer is €5 while the cost incurred by the bank to avoid a customer from churning is €1. How many and which customers from the dataset (“ebi_exp_customers.csv”) would you recommend the bank to target to maximize the total expected profit from this proactive targeting experiment? How would your answer change if the value of retaining a customer goes up to €10? Explain your computation"
   ]
  }
 ],
 "metadata": {
  "kernelspec": {
   "display_name": "R",
   "language": "R",
   "name": "ir"
  },
  "language_info": {
   "codemirror_mode": "r",
   "file_extension": ".r",
   "mimetype": "text/x-r-source",
   "name": "R",
   "pygments_lexer": "r",
   "version": "3.6.1"
  }
 },
 "nbformat": 4,
 "nbformat_minor": 5
}
