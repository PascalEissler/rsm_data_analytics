{
 "cells": [
  {
   "cell_type": "markdown",
   "id": "8ac67d74",
   "metadata": {},
   "source": [
    "# 0: Import packages & data"
   ]
  },
  {
   "cell_type": "code",
   "execution_count": 1,
   "id": "75b1a8c6",
   "metadata": {},
   "outputs": [
    {
     "name": "stderr",
     "output_type": "stream",
     "text": [
      "-- \u001b[1mAttaching core tidyverse packages\u001b[22m ---------------------------------------------------------------- tidyverse 2.0.0 --\n",
      "\u001b[32mv\u001b[39m \u001b[34mdplyr    \u001b[39m 1.1.1     \u001b[32mv\u001b[39m \u001b[34mreadr    \u001b[39m 2.1.4\n",
      "\u001b[32mv\u001b[39m \u001b[34mforcats  \u001b[39m 1.0.0     \u001b[32mv\u001b[39m \u001b[34mstringr  \u001b[39m 1.5.0\n",
      "\u001b[32mv\u001b[39m \u001b[34mggplot2  \u001b[39m 3.4.1     \u001b[32mv\u001b[39m \u001b[34mtibble   \u001b[39m 3.2.1\n",
      "\u001b[32mv\u001b[39m \u001b[34mlubridate\u001b[39m 1.9.2     \u001b[32mv\u001b[39m \u001b[34mtidyr    \u001b[39m 1.3.0\n",
      "\u001b[32mv\u001b[39m \u001b[34mpurrr    \u001b[39m 1.0.1     \n",
      "-- \u001b[1mConflicts\u001b[22m ---------------------------------------------------------------------------------- tidyverse_conflicts() --\n",
      "\u001b[31mx\u001b[39m \u001b[34mdplyr\u001b[39m::\u001b[32mfilter()\u001b[39m masks \u001b[34mstats\u001b[39m::filter()\n",
      "\u001b[31mx\u001b[39m \u001b[34mdplyr\u001b[39m::\u001b[32mlag()\u001b[39m    masks \u001b[34mstats\u001b[39m::lag()\n",
      "\u001b[36mi\u001b[39m Use the conflicted package (\u001b[3m\u001b[34m<http://conflicted.r-lib.org/>\u001b[39m\u001b[23m) to force all conflicts to become errors\n",
      "\n",
      "Attaching package: 'psych'\n",
      "\n",
      "\n",
      "The following objects are masked from 'package:ggplot2':\n",
      "\n",
      "    %+%, alpha\n",
      "\n",
      "\n",
      "\n",
      "Attaching package: 'outliers'\n",
      "\n",
      "\n",
      "The following object is masked from 'package:psych':\n",
      "\n",
      "    outlier\n",
      "\n",
      "\n",
      "\n",
      "Attaching package: 'EnvStats'\n",
      "\n",
      "\n",
      "The following objects are masked from 'package:stats':\n",
      "\n",
      "    predict, predict.lm\n",
      "\n",
      "\n",
      "The following object is masked from 'package:base':\n",
      "\n",
      "    print.default\n",
      "\n",
      "\n",
      "\n",
      "Attaching package: 'reshape2'\n",
      "\n",
      "\n",
      "The following object is masked from 'package:tidyr':\n",
      "\n",
      "    smiths\n",
      "\n",
      "\n",
      "randomForest 4.7-1.1\n",
      "\n",
      "Type rfNews() to see new features/changes/bug fixes.\n",
      "\n",
      "\n",
      "Attaching package: 'randomForest'\n",
      "\n",
      "\n",
      "The following object is masked from 'package:outliers':\n",
      "\n",
      "    outlier\n",
      "\n",
      "\n",
      "The following object is masked from 'package:psych':\n",
      "\n",
      "    outlier\n",
      "\n",
      "\n",
      "The following object is masked from 'package:dplyr':\n",
      "\n",
      "    combine\n",
      "\n",
      "\n",
      "The following object is masked from 'package:ggplot2':\n",
      "\n",
      "    margin\n",
      "\n",
      "\n",
      "Loading required package: lattice\n",
      "\n",
      "\n",
      "Attaching package: 'caret'\n",
      "\n",
      "\n",
      "The following object is masked from 'package:purrr':\n",
      "\n",
      "    lift\n",
      "\n",
      "\n",
      "\n",
      "Attaching package: 'e1071'\n",
      "\n",
      "\n",
      "The following objects are masked from 'package:EnvStats':\n",
      "\n",
      "    kurtosis, skewness\n",
      "\n",
      "\n",
      "\n",
      "Attaching package: 'xgboost'\n",
      "\n",
      "\n",
      "The following object is masked from 'package:dplyr':\n",
      "\n",
      "    slice\n",
      "\n",
      "\n"
     ]
    }
   ],
   "source": [
    "# Import packages\n",
    "\n",
    "# Visualization packages:\n",
    "library(tidyverse)\n",
    "library(ggbeeswarm)\n",
    "library(psych)\n",
    "\n",
    "# Data pre-processing\n",
    "library(outliers)\n",
    "library(EnvStats) # Rosner’s test to identify outlier\n",
    "\n",
    "# Data manipulation: \n",
    "library(dplyr)\n",
    "library(reshape2)\n",
    "\n",
    "# Machine Learning\n",
    "library(randomForest)\n",
    "library(ROCR)\n",
    "library(caret)\n",
    "library(e1071) # Support vector machine\n",
    "library(xgboost)"
   ]
  },
  {
   "cell_type": "code",
   "execution_count": 2,
   "id": "ccf21f52",
   "metadata": {},
   "outputs": [],
   "source": [
    "# Set data path\n",
    "setwd(\"C:/Users/user/OneDrive - Erasmus University Rotterdam/Documents/01 Postgrad/02 Spring semester/06 Business Analytics for International Managers/rsm_data_analytics\")"
   ]
  },
  {
   "cell_type": "code",
   "execution_count": 147,
   "id": "0708eb84",
   "metadata": {},
   "outputs": [
    {
     "data": {
      "text/html": [
       "<table class=\"dataframe\">\n",
       "<caption>A data.frame: 6 × 12</caption>\n",
       "<thead>\n",
       "\t<tr><th></th><th scope=col>customer_id</th><th scope=col>credit_score</th><th scope=col>country</th><th scope=col>gender</th><th scope=col>age</th><th scope=col>tenure</th><th scope=col>balance</th><th scope=col>products_number</th><th scope=col>credit_card</th><th scope=col>active_member</th><th scope=col>estimated_salary</th><th scope=col>churn</th></tr>\n",
       "\t<tr><th></th><th scope=col>&lt;int&gt;</th><th scope=col>&lt;int&gt;</th><th scope=col>&lt;chr&gt;</th><th scope=col>&lt;chr&gt;</th><th scope=col>&lt;int&gt;</th><th scope=col>&lt;int&gt;</th><th scope=col>&lt;dbl&gt;</th><th scope=col>&lt;int&gt;</th><th scope=col>&lt;int&gt;</th><th scope=col>&lt;int&gt;</th><th scope=col>&lt;dbl&gt;</th><th scope=col>&lt;int&gt;</th></tr>\n",
       "</thead>\n",
       "<tbody>\n",
       "\t<tr><th scope=row>1</th><td>15634602</td><td>619</td><td>France</td><td>Female</td><td>42</td><td>2</td><td>     0.00</td><td>1</td><td>1</td><td>1</td><td>101348.88</td><td>1</td></tr>\n",
       "\t<tr><th scope=row>2</th><td>15647311</td><td>608</td><td>Spain </td><td>Female</td><td>41</td><td>1</td><td> 83807.86</td><td>1</td><td>0</td><td>1</td><td>112542.58</td><td>0</td></tr>\n",
       "\t<tr><th scope=row>3</th><td>15701354</td><td>699</td><td>France</td><td>Female</td><td>39</td><td>1</td><td>     0.00</td><td>2</td><td>0</td><td>0</td><td> 93826.63</td><td>0</td></tr>\n",
       "\t<tr><th scope=row>4</th><td>15737888</td><td>850</td><td>Spain </td><td>Female</td><td>43</td><td>2</td><td>125510.82</td><td>1</td><td>1</td><td>1</td><td> 79084.10</td><td>0</td></tr>\n",
       "\t<tr><th scope=row>5</th><td>15574012</td><td>645</td><td>Spain </td><td>Male  </td><td>44</td><td>8</td><td>113755.78</td><td>2</td><td>1</td><td>0</td><td>149756.71</td><td>1</td></tr>\n",
       "\t<tr><th scope=row>6</th><td>15592531</td><td>822</td><td>France</td><td>Male  </td><td>50</td><td>7</td><td>     0.00</td><td>2</td><td>1</td><td>1</td><td> 10062.80</td><td>0</td></tr>\n",
       "</tbody>\n",
       "</table>\n"
      ],
      "text/latex": [
       "A data.frame: 6 × 12\n",
       "\\begin{tabular}{r|llllllllllll}\n",
       "  & customer\\_id & credit\\_score & country & gender & age & tenure & balance & products\\_number & credit\\_card & active\\_member & estimated\\_salary & churn\\\\\n",
       "  & <int> & <int> & <chr> & <chr> & <int> & <int> & <dbl> & <int> & <int> & <int> & <dbl> & <int>\\\\\n",
       "\\hline\n",
       "\t1 & 15634602 & 619 & France & Female & 42 & 2 &      0.00 & 1 & 1 & 1 & 101348.88 & 1\\\\\n",
       "\t2 & 15647311 & 608 & Spain  & Female & 41 & 1 &  83807.86 & 1 & 0 & 1 & 112542.58 & 0\\\\\n",
       "\t3 & 15701354 & 699 & France & Female & 39 & 1 &      0.00 & 2 & 0 & 0 &  93826.63 & 0\\\\\n",
       "\t4 & 15737888 & 850 & Spain  & Female & 43 & 2 & 125510.82 & 1 & 1 & 1 &  79084.10 & 0\\\\\n",
       "\t5 & 15574012 & 645 & Spain  & Male   & 44 & 8 & 113755.78 & 2 & 1 & 0 & 149756.71 & 1\\\\\n",
       "\t6 & 15592531 & 822 & France & Male   & 50 & 7 &      0.00 & 2 & 1 & 1 &  10062.80 & 0\\\\\n",
       "\\end{tabular}\n"
      ],
      "text/markdown": [
       "\n",
       "A data.frame: 6 × 12\n",
       "\n",
       "| <!--/--> | customer_id &lt;int&gt; | credit_score &lt;int&gt; | country &lt;chr&gt; | gender &lt;chr&gt; | age &lt;int&gt; | tenure &lt;int&gt; | balance &lt;dbl&gt; | products_number &lt;int&gt; | credit_card &lt;int&gt; | active_member &lt;int&gt; | estimated_salary &lt;dbl&gt; | churn &lt;int&gt; |\n",
       "|---|---|---|---|---|---|---|---|---|---|---|---|---|\n",
       "| 1 | 15634602 | 619 | France | Female | 42 | 2 |      0.00 | 1 | 1 | 1 | 101348.88 | 1 |\n",
       "| 2 | 15647311 | 608 | Spain  | Female | 41 | 1 |  83807.86 | 1 | 0 | 1 | 112542.58 | 0 |\n",
       "| 3 | 15701354 | 699 | France | Female | 39 | 1 |      0.00 | 2 | 0 | 0 |  93826.63 | 0 |\n",
       "| 4 | 15737888 | 850 | Spain  | Female | 43 | 2 | 125510.82 | 1 | 1 | 1 |  79084.10 | 0 |\n",
       "| 5 | 15574012 | 645 | Spain  | Male   | 44 | 8 | 113755.78 | 2 | 1 | 0 | 149756.71 | 1 |\n",
       "| 6 | 15592531 | 822 | France | Male   | 50 | 7 |      0.00 | 2 | 1 | 1 |  10062.80 | 0 |\n",
       "\n"
      ],
      "text/plain": [
       "  customer_id credit_score country gender age tenure balance   products_number\n",
       "1 15634602    619          France  Female 42  2           0.00 1              \n",
       "2 15647311    608          Spain   Female 41  1       83807.86 1              \n",
       "3 15701354    699          France  Female 39  1           0.00 2              \n",
       "4 15737888    850          Spain   Female 43  2      125510.82 1              \n",
       "5 15574012    645          Spain   Male   44  8      113755.78 2              \n",
       "6 15592531    822          France  Male   50  7           0.00 2              \n",
       "  credit_card active_member estimated_salary churn\n",
       "1 1           1             101348.88        1    \n",
       "2 0           1             112542.58        0    \n",
       "3 0           0              93826.63        0    \n",
       "4 1           1              79084.10        0    \n",
       "5 1           0             149756.71        1    \n",
       "6 1           1              10062.80        0    "
      ]
     },
     "metadata": {},
     "output_type": "display_data"
    }
   ],
   "source": [
    "# Import the CSV file \n",
    "df <- read.csv(\"ebi_customers.csv\")\n",
    "head(df)"
   ]
  },
  {
   "cell_type": "markdown",
   "id": "0250e5e3",
   "metadata": {},
   "source": [
    "# 1: Data Pre-Processing"
   ]
  },
  {
   "cell_type": "markdown",
   "id": "525050d2",
   "metadata": {},
   "source": [
    "__1.1 Are there any outliers/anomaly in the data that need to be addressed?__"
   ]
  },
  {
   "cell_type": "markdown",
   "id": "73735196",
   "metadata": {},
   "source": [
    "##### 1.1.1 Missing values"
   ]
  },
  {
   "cell_type": "code",
   "execution_count": 4,
   "id": "ca1f9265",
   "metadata": {},
   "outputs": [
    {
     "data": {
      "text/html": [
       "'There are 0 missing values in the dataframe.'"
      ],
      "text/latex": [
       "'There are 0 missing values in the dataframe.'"
      ],
      "text/markdown": [
       "'There are 0 missing values in the dataframe.'"
      ],
      "text/plain": [
       "[1] \"There are 0 missing values in the dataframe.\""
      ]
     },
     "metadata": {},
     "output_type": "display_data"
    }
   ],
   "source": [
    "paste0(\"There are \",  sum(is.na(df)), \" missing values in the dataframe.\")"
   ]
  },
  {
   "cell_type": "markdown",
   "id": "3f00ffc9",
   "metadata": {},
   "source": [
    "##### 1.1.2 Descriptive statistics"
   ]
  },
  {
   "cell_type": "code",
   "execution_count": 5,
   "id": "746b6f0a",
   "metadata": {
    "scrolled": false
   },
   "outputs": [
    {
     "data": {
      "text/plain": [
       "  customer_id        credit_score     country             gender         \n",
       " Min.   :15565701   Min.   :350.0   Length:9000        Length:9000       \n",
       " 1st Qu.:15628656   1st Qu.:584.0   Class :character   Class :character  \n",
       " Median :15690509   Median :652.0   Mode  :character   Mode  :character  \n",
       " Mean   :15691006   Mean   :650.4                                        \n",
       " 3rd Qu.:15753773   3rd Qu.:717.0                                        \n",
       " Max.   :15815690   Max.   :850.0                                        \n",
       "      age            tenure          balance       products_number\n",
       " Min.   :18.00   Min.   : 0.000   Min.   :     0   Min.   :1.000  \n",
       " 1st Qu.:32.00   1st Qu.: 3.000   1st Qu.:     0   1st Qu.:1.000  \n",
       " Median :37.00   Median : 5.000   Median : 97263   Median :1.000  \n",
       " Mean   :38.94   Mean   : 5.011   Mean   : 76650   Mean   :1.529  \n",
       " 3rd Qu.:44.00   3rd Qu.: 7.000   3rd Qu.:127575   3rd Qu.:2.000  \n",
       " Max.   :92.00   Max.   :10.000   Max.   :250898   Max.   :4.000  \n",
       "  credit_card    active_member    estimated_salary        churn       \n",
       " Min.   :0.000   Min.   :0.0000   Min.   :    11.58   Min.   :0.0000  \n",
       " 1st Qu.:0.000   1st Qu.:0.0000   1st Qu.: 51446.62   1st Qu.:0.0000  \n",
       " Median :1.000   Median :1.0000   Median :100444.88   Median :0.0000  \n",
       " Mean   :0.705   Mean   :0.5147   Mean   :100507.32   Mean   :0.2036  \n",
       " 3rd Qu.:1.000   3rd Qu.:1.0000   3rd Qu.:149669.93   3rd Qu.:0.0000  \n",
       " Max.   :1.000   Max.   :1.0000   Max.   :199992.48   Max.   :1.0000  "
      ]
     },
     "metadata": {},
     "output_type": "display_data"
    }
   ],
   "source": [
    "# to first check if we have any obvious outliers, we request standard summaries\n",
    "summary(df)"
   ]
  },
  {
   "cell_type": "code",
   "execution_count": 279,
   "id": "176b4150",
   "metadata": {},
   "outputs": [
    {
     "data": {
      "text/html": [
       "<style>\n",
       ".list-inline {list-style: none; margin:0; padding: 0}\n",
       ".list-inline>li {display: inline-block}\n",
       ".list-inline>li:not(:last-child)::after {content: \"\\00b7\"; padding: 0 .5ex}\n",
       "</style>\n",
       "<ol class=list-inline><li>'customer_id is a numeric variable.'</li><li>'credit_score is a numeric variable.'</li><li>'age is a numeric variable.'</li><li>'balance is a numeric variable.'</li><li>'estimated_salary is a numeric variable.'</li></ol>\n"
      ],
      "text/latex": [
       "\\begin{enumerate*}\n",
       "\\item 'customer\\_id is a numeric variable.'\n",
       "\\item 'credit\\_score is a numeric variable.'\n",
       "\\item 'age is a numeric variable.'\n",
       "\\item 'balance is a numeric variable.'\n",
       "\\item 'estimated\\_salary is a numeric variable.'\n",
       "\\end{enumerate*}\n"
      ],
      "text/markdown": [
       "1. 'customer_id is a numeric variable.'\n",
       "2. 'credit_score is a numeric variable.'\n",
       "3. 'age is a numeric variable.'\n",
       "4. 'balance is a numeric variable.'\n",
       "5. 'estimated_salary is a numeric variable.'\n",
       "\n",
       "\n"
      ],
      "text/plain": [
       "[1] \"customer_id is a numeric variable.\"     \n",
       "[2] \"credit_score is a numeric variable.\"    \n",
       "[3] \"age is a numeric variable.\"             \n",
       "[4] \"balance is a numeric variable.\"         \n",
       "[5] \"estimated_salary is a numeric variable.\""
      ]
     },
     "metadata": {},
     "output_type": "display_data"
    }
   ],
   "source": [
    "numeric_variables <- names(df)[sapply(df, function(col) {\n",
    "  is.numeric(col) && length(unique(col)) > 11 && !grepl(\"CustomerId\", col)\n",
    "})]\n",
    "paste0(numeric_variables, \" is a numeric variable.\")"
   ]
  },
  {
   "cell_type": "code",
   "execution_count": 278,
   "id": "2416c8e2",
   "metadata": {},
   "outputs": [
    {
     "data": {
      "text/html": [
       "<style>\n",
       ".list-inline {list-style: none; margin:0; padding: 0}\n",
       ".list-inline>li {display: inline-block}\n",
       ".list-inline>li:not(:last-child)::after {content: \"\\00b7\"; padding: 0 .5ex}\n",
       "</style>\n",
       "<ol class=list-inline><li>'gender is a categorical variable.'</li><li>'age is a categorical variable.'</li><li>'credit_card is a categorical variable.'</li><li>'active_member is a categorical variable.'</li></ol>\n"
      ],
      "text/latex": [
       "\\begin{enumerate*}\n",
       "\\item 'gender is a categorical variable.'\n",
       "\\item 'age is a categorical variable.'\n",
       "\\item 'credit\\_card is a categorical variable.'\n",
       "\\item 'active\\_member is a categorical variable.'\n",
       "\\end{enumerate*}\n"
      ],
      "text/markdown": [
       "1. 'gender is a categorical variable.'\n",
       "2. 'age is a categorical variable.'\n",
       "3. 'credit_card is a categorical variable.'\n",
       "4. 'active_member is a categorical variable.'\n",
       "\n",
       "\n"
      ],
      "text/plain": [
       "[1] \"gender is a categorical variable.\"       \n",
       "[2] \"age is a categorical variable.\"          \n",
       "[3] \"credit_card is a categorical variable.\"  \n",
       "[4] \"active_member is a categorical variable.\""
      ]
     },
     "metadata": {},
     "output_type": "display_data"
    }
   ],
   "source": [
    "# ARE THERE CATEGORICAL VARIABLES?\n",
    "# ADD CODES\n",
    "categorical_variables <- c(\"gender\", \"age\", \"credit_card\", \"active_member\")\n",
    "paste0(categorical_variables, \" is a categorical variable.\")"
   ]
  },
  {
   "cell_type": "code",
   "execution_count": 8,
   "id": "359bf2f0",
   "metadata": {},
   "outputs": [
    {
     "data": {
      "image/png": "[encoded data removed]",
      "text/plain": [
       "Plot with title \"Histogram of credit score\""
      ]
     },
     "metadata": {
      "image/png": {
       "height": 420,
       "width": 420
      }
     },
     "output_type": "display_data"
    },
    {
     "data": {
      "image/png": "[encoded data removed]",
      "text/plain": [
       "plot without title"
      ]
     },
     "metadata": {
      "image/png": {
       "height": 420,
       "width": 420
      }
     },
     "output_type": "display_data"
    }
   ],
   "source": [
    "# we then plot histograms and boxplots on the basis of data for more easy visual access\n",
    "hist(df$credit_score,\n",
    "     xlab = \"creditscore\",\n",
    "     main = \"Histogram of credit score\",\n",
    "     breaks = \"FD\")\n",
    "\n",
    "boxplot(df$credit_score,\n",
    "  ylab = \"credit_score\")"
   ]
  },
  {
   "cell_type": "code",
   "execution_count": 9,
   "id": "c2717584",
   "metadata": {},
   "outputs": [
    {
     "data": {
      "text/html": [
       "'The p-value of the shapiro test is 1.38354198985975e-13. This indicates strong evidence against the null hypothesis that credit_score follows a normal distribution'"
      ],
      "text/latex": [
       "'The p-value of the shapiro test is 1.38354198985975e-13. This indicates strong evidence against the null hypothesis that credit\\_score follows a normal distribution'"
      ],
      "text/markdown": [
       "'The p-value of the shapiro test is 1.38354198985975e-13. This indicates strong evidence against the null hypothesis that credit_score follows a normal distribution'"
      ],
      "text/plain": [
       "[1] \"The p-value of the shapiro test is 1.38354198985975e-13. This indicates strong evidence against the null hypothesis that credit_score follows a normal distribution\""
      ]
     },
     "metadata": {},
     "output_type": "display_data"
    }
   ],
   "source": [
    "# Define a function to perform the Shapiro-Wilk test five times on random subsets of the input dataframe\n",
    "shapiro_random <- function(df, n = 5000, reps = 5) {\n",
    "  set.seed(123) # for reproducibility\n",
    "  res <- numeric(reps) # to store test results\n",
    "  for (i in 1:reps) {\n",
    "    idx <- sample(nrow(df), n) # randomly select n rows\n",
    "    res[i] <- shapiro.test(df$credit_score[idx])$p.value # perform Shapiro-Wilk test on selected rows\n",
    "  }\n",
    "  res # return vector of p-values\n",
    "}\n",
    "\n",
    "# Call the function on the df dataframe\n",
    "p_vals <- shapiro_random(df)\n",
    "\n",
    "paste0(\"The p-value of the shapiro test is \",  mean(p_vals), \". This indicates strong evidence against the null hypothesis that credit_score follows a normal distribution\")"
   ]
  },
  {
   "cell_type": "code",
   "execution_count": 10,
   "id": "1b66d5a3",
   "metadata": {
    "scrolled": false
   },
   "outputs": [
    {
     "data": {
      "image/png": "[encoded data removed]",
      "text/plain": [
       "Plot with title \"Histogram of Z-Score\""
      ]
     },
     "metadata": {
      "image/png": {
       "height": 420,
       "width": 420
      }
     },
     "output_type": "display_data"
    }
   ],
   "source": [
    "#boxplot.stats(df$credit_score)$out\n",
    "df$z_creditscore <- scale(df$credit_score)\n",
    "hist(df$z_creditscore, main = \"Histogram of Z-Score\")\n"
   ]
  },
  {
   "cell_type": "code",
   "execution_count": 11,
   "id": "f15bc7e0",
   "metadata": {},
   "outputs": [
    {
     "data": {
      "text/plain": [
       "       V1         \n",
       " Min.   :-3.1103  \n",
       " 1st Qu.:-0.6874  \n",
       " Median : 0.0167  \n",
       " Mean   : 0.0000  \n",
       " 3rd Qu.: 0.6897  \n",
       " Max.   : 2.0669  "
      ]
     },
     "metadata": {},
     "output_type": "display_data"
    },
    {
     "data": {
      "text/html": [
       "'8 outliers using the z-score filter'"
      ],
      "text/latex": [
       "'8 outliers using the z-score filter'"
      ],
      "text/markdown": [
       "'8 outliers using the z-score filter'"
      ],
      "text/plain": [
       "[1] \"8 outliers using the z-score filter\""
      ]
     },
     "metadata": {},
     "output_type": "display_data"
    }
   ],
   "source": [
    "z_outlier <- which(df$z_creditscore < -3)\n",
    "summary(df$z_creditscore)\n",
    "paste0(length(z_outlier), \" outliers using the z-score filter\")"
   ]
  },
  {
   "cell_type": "markdown",
   "id": "8c4553b0",
   "metadata": {},
   "source": [
    "The z-score method identified 8 values as outliers, but both the Rosner test and the Grubbs test did not, it's possible that the z-score method was overly sensitive to the distribution of the data. The Shapiro test suggests that the credit_score variable is not normally distributed, which may make the z-score method less reliable."
   ]
  },
  {
   "cell_type": "code",
   "execution_count": 12,
   "id": "9d582afc",
   "metadata": {},
   "outputs": [
    {
     "data": {
      "text/html": [
       "'183 outliers using the hample filter'"
      ],
      "text/latex": [
       "'183 outliers using the hample filter'"
      ],
      "text/markdown": [
       "'183 outliers using the hample filter'"
      ],
      "text/plain": [
       "[1] \"183 outliers using the hample filter\""
      ]
     },
     "metadata": {},
     "output_type": "display_data"
    }
   ],
   "source": [
    "# Hample filter: Consider as outliers the values outside the interval formed by the median, plus or minus 3 median absolute deviations\n",
    "lower_bound <- median(df$credit_score) - 3 * mad(df$credit_score, constant = 1)\n",
    "upper_bound <- median(df$credit_score) + 3 * mad(df$credit_score, constant = 1)\n",
    "hample_outlier <- which(df$credit_score < lower_bound | df$credit_score > upper_bound)\n",
    "paste0(length(hample_outlier), \" outliers using the hample filter\")"
   ]
  },
  {
   "cell_type": "code",
   "execution_count": 13,
   "id": "13946e0e",
   "metadata": {},
   "outputs": [],
   "source": [
    "# Function to perform Grubbs test on highest value of each numeric column\n",
    "grubbs_test_highest <- function(df, numeric_cols) {\n",
    "  out_cols <- list() # Initialize an empty list to store results\n",
    "  \n",
    "  # Loop through each numeric column\n",
    "  for (col in numeric_cols) {\n",
    "    test_res <- grubbs.test(df[[col]]) # Perform Grubbs test on column\n",
    "    if (test_res$p.value < 0.05) { # Check if p-value is less than 0.05\n",
    "      out_cols[[col]] <- test_res # Add result to output list\n",
    "    }\n",
    "  }\n",
    "  \n",
    "  return(out_cols) # Return output list\n",
    "}\n",
    "\n",
    "# Function to perform Grubbs test on lowest value of each numeric column\n",
    "grubbs_test_lowest <- function(df, numeric_cols) {\n",
    "  out_cols <- list() # Initialize an empty list to store results\n",
    "  \n",
    "  # Loop through each numeric column\n",
    "  for (col in numeric_cols) {\n",
    "    test_res <- grubbs.test(df[[col]], opposite = TRUE) # Perform Grubbs test on column with opposite direction\n",
    "    if (test_res$p.value < 0.05) { # Check if p-value is less than 0.05\n",
    "      out_cols[[col]] <- test_res # Add result to output list\n",
    "    }\n",
    "  }\n",
    "  \n",
    "  return(out_cols) # Return output list\n",
    "}"
   ]
  },
  {
   "cell_type": "code",
   "execution_count": 14,
   "id": "6b196fb6",
   "metadata": {},
   "outputs": [
    {
     "data": {
      "text/plain": [
       "$age\n",
       "\n",
       "\tGrubbs test for one outlier\n",
       "\n",
       "data:  df[[col]]\n",
       "G = 5.07579, U = 0.99714, p-value = 0.001705\n",
       "alternative hypothesis: highest value 92 is an outlier\n",
       "\n"
      ]
     },
     "metadata": {},
     "output_type": "display_data"
    }
   ],
   "source": [
    "grubbs_test_highest(df, numeric_variables)"
   ]
  },
  {
   "cell_type": "markdown",
   "id": "f237fd95",
   "metadata": {},
   "source": [
    "Since the p-value is less than the significance level of 0.05, we reject the null hypothesis and conclude that there is at least one outlier in the age variable. The test suggests that the highest age value 92 is an outlier."
   ]
  },
  {
   "cell_type": "code",
   "execution_count": 15,
   "id": "bdb097c7",
   "metadata": {},
   "outputs": [
    {
     "data": {
      "text/html": [
       "<ol>\n",
       "</ol>\n"
      ],
      "text/latex": [
       "\\begin{enumerate}\n",
       "\\end{enumerate}\n"
      ],
      "text/markdown": [
       "\n",
       "\n"
      ],
      "text/plain": [
       "list()"
      ]
     },
     "metadata": {},
     "output_type": "display_data"
    }
   ],
   "source": [
    "grubbs_test_lowest(df, numeric_variables)"
   ]
  },
  {
   "cell_type": "code",
   "execution_count": 16,
   "id": "9648baa5",
   "metadata": {},
   "outputs": [
    {
     "data": {
      "text/plain": [
       "\n",
       "\tGrubbs test for one outlier\n",
       "\n",
       "data:  df$credit_score\n",
       "G = 3.11029, U = 0.99892, p-value = 1\n",
       "alternative hypothesis: lowest value 350 is an outlier\n"
      ]
     },
     "metadata": {},
     "output_type": "display_data"
    }
   ],
   "source": [
    "test <- grubbs.test(df$credit_score)\n",
    "test"
   ]
  },
  {
   "cell_type": "markdown",
   "id": "ec62c5d6",
   "metadata": {},
   "source": [
    "The p-value is very high (1), indicating that there is no evidence of an outlier in the credit_score variable. Therefore, there is no reason to remove any credit_score data points based on the Grubbs test."
   ]
  },
  {
   "cell_type": "code",
   "execution_count": 17,
   "id": "8b59344d",
   "metadata": {},
   "outputs": [
    {
     "data": {
      "text/html": [
       "<table class=\"dataframe\">\n",
       "<caption>A data.frame: 10 × 8</caption>\n",
       "<thead>\n",
       "\t<tr><th scope=col>i</th><th scope=col>Mean.i</th><th scope=col>SD.i</th><th scope=col>Value</th><th scope=col>Obs.Num</th><th scope=col>R.i+1</th><th scope=col>lambda.i+1</th><th scope=col>Outlier</th></tr>\n",
       "\t<tr><th scope=col>&lt;dbl&gt;</th><th scope=col>&lt;dbl&gt;</th><th scope=col>&lt;dbl&gt;</th><th scope=col>&lt;dbl&gt;</th><th scope=col>&lt;dbl&gt;</th><th scope=col>&lt;dbl&gt;</th><th scope=col>&lt;dbl&gt;</th><th scope=col>&lt;lgl&gt;</th></tr>\n",
       "</thead>\n",
       "<tbody>\n",
       "\t<tr><td>0</td><td>650.3868</td><td>96.57842</td><td>350</td><td>1456</td><td>3.110289</td><td>4.540157</td><td>FALSE</td></tr>\n",
       "\t<tr><td>1</td><td>650.4202</td><td>96.53186</td><td>350</td><td>1637</td><td>3.112135</td><td>4.540134</td><td>FALSE</td></tr>\n",
       "\t<tr><td>2</td><td>650.4535</td><td>96.48524</td><td>350</td><td>7828</td><td>3.113984</td><td>4.540110</td><td>FALSE</td></tr>\n",
       "\t<tr><td>3</td><td>650.4869</td><td>96.43859</td><td>350</td><td>7865</td><td>3.115837</td><td>4.540086</td><td>FALSE</td></tr>\n",
       "\t<tr><td>4</td><td>650.5203</td><td>96.39189</td><td>350</td><td>8661</td><td>3.117693</td><td>4.540063</td><td>FALSE</td></tr>\n",
       "\t<tr><td>5</td><td>650.5538</td><td>96.34514</td><td>351</td><td>2216</td><td>3.109173</td><td>4.540039</td><td>FALSE</td></tr>\n",
       "\t<tr><td>6</td><td>650.5871</td><td>96.29870</td><td>358</td><td>1744</td><td>3.038328</td><td>4.540015</td><td>FALSE</td></tr>\n",
       "\t<tr><td>7</td><td>650.6196</td><td>96.25461</td><td>359</td><td>1248</td><td>3.029669</td><td>4.539992</td><td>FALSE</td></tr>\n",
       "\t<tr><td>8</td><td>650.6520</td><td>96.21081</td><td>363</td><td>1067</td><td>2.989810</td><td>4.539968</td><td>FALSE</td></tr>\n",
       "\t<tr><td>9</td><td>650.6840</td><td>96.16832</td><td>365</td><td>2312</td><td>2.970667</td><td>4.539944</td><td>FALSE</td></tr>\n",
       "</tbody>\n",
       "</table>\n"
      ],
      "text/latex": [
       "A data.frame: 10 × 8\n",
       "\\begin{tabular}{llllllll}\n",
       " i & Mean.i & SD.i & Value & Obs.Num & R.i+1 & lambda.i+1 & Outlier\\\\\n",
       " <dbl> & <dbl> & <dbl> & <dbl> & <dbl> & <dbl> & <dbl> & <lgl>\\\\\n",
       "\\hline\n",
       "\t 0 & 650.3868 & 96.57842 & 350 & 1456 & 3.110289 & 4.540157 & FALSE\\\\\n",
       "\t 1 & 650.4202 & 96.53186 & 350 & 1637 & 3.112135 & 4.540134 & FALSE\\\\\n",
       "\t 2 & 650.4535 & 96.48524 & 350 & 7828 & 3.113984 & 4.540110 & FALSE\\\\\n",
       "\t 3 & 650.4869 & 96.43859 & 350 & 7865 & 3.115837 & 4.540086 & FALSE\\\\\n",
       "\t 4 & 650.5203 & 96.39189 & 350 & 8661 & 3.117693 & 4.540063 & FALSE\\\\\n",
       "\t 5 & 650.5538 & 96.34514 & 351 & 2216 & 3.109173 & 4.540039 & FALSE\\\\\n",
       "\t 6 & 650.5871 & 96.29870 & 358 & 1744 & 3.038328 & 4.540015 & FALSE\\\\\n",
       "\t 7 & 650.6196 & 96.25461 & 359 & 1248 & 3.029669 & 4.539992 & FALSE\\\\\n",
       "\t 8 & 650.6520 & 96.21081 & 363 & 1067 & 2.989810 & 4.539968 & FALSE\\\\\n",
       "\t 9 & 650.6840 & 96.16832 & 365 & 2312 & 2.970667 & 4.539944 & FALSE\\\\\n",
       "\\end{tabular}\n"
      ],
      "text/markdown": [
       "\n",
       "A data.frame: 10 × 8\n",
       "\n",
       "| i &lt;dbl&gt; | Mean.i &lt;dbl&gt; | SD.i &lt;dbl&gt; | Value &lt;dbl&gt; | Obs.Num &lt;dbl&gt; | R.i+1 &lt;dbl&gt; | lambda.i+1 &lt;dbl&gt; | Outlier &lt;lgl&gt; |\n",
       "|---|---|---|---|---|---|---|---|\n",
       "| 0 | 650.3868 | 96.57842 | 350 | 1456 | 3.110289 | 4.540157 | FALSE |\n",
       "| 1 | 650.4202 | 96.53186 | 350 | 1637 | 3.112135 | 4.540134 | FALSE |\n",
       "| 2 | 650.4535 | 96.48524 | 350 | 7828 | 3.113984 | 4.540110 | FALSE |\n",
       "| 3 | 650.4869 | 96.43859 | 350 | 7865 | 3.115837 | 4.540086 | FALSE |\n",
       "| 4 | 650.5203 | 96.39189 | 350 | 8661 | 3.117693 | 4.540063 | FALSE |\n",
       "| 5 | 650.5538 | 96.34514 | 351 | 2216 | 3.109173 | 4.540039 | FALSE |\n",
       "| 6 | 650.5871 | 96.29870 | 358 | 1744 | 3.038328 | 4.540015 | FALSE |\n",
       "| 7 | 650.6196 | 96.25461 | 359 | 1248 | 3.029669 | 4.539992 | FALSE |\n",
       "| 8 | 650.6520 | 96.21081 | 363 | 1067 | 2.989810 | 4.539968 | FALSE |\n",
       "| 9 | 650.6840 | 96.16832 | 365 | 2312 | 2.970667 | 4.539944 | FALSE |\n",
       "\n"
      ],
      "text/plain": [
       "   i Mean.i   SD.i     Value Obs.Num R.i+1    lambda.i+1 Outlier\n",
       "1  0 650.3868 96.57842 350   1456    3.110289 4.540157   FALSE  \n",
       "2  1 650.4202 96.53186 350   1637    3.112135 4.540134   FALSE  \n",
       "3  2 650.4535 96.48524 350   7828    3.113984 4.540110   FALSE  \n",
       "4  3 650.4869 96.43859 350   7865    3.115837 4.540086   FALSE  \n",
       "5  4 650.5203 96.39189 350   8661    3.117693 4.540063   FALSE  \n",
       "6  5 650.5538 96.34514 351   2216    3.109173 4.540039   FALSE  \n",
       "7  6 650.5871 96.29870 358   1744    3.038328 4.540015   FALSE  \n",
       "8  7 650.6196 96.25461 359   1248    3.029669 4.539992   FALSE  \n",
       "9  8 650.6520 96.21081 363   1067    2.989810 4.539968   FALSE  \n",
       "10 9 650.6840 96.16832 365   2312    2.970667 4.539944   FALSE  "
      ]
     },
     "metadata": {},
     "output_type": "display_data"
    }
   ],
   "source": [
    "test <- rosnerTest(df$credit_score,\n",
    "  k = 10\n",
    ")\n",
    "test$all.stats"
   ]
  },
  {
   "cell_type": "markdown",
   "id": "6e7453a4",
   "metadata": {},
   "source": [
    "None of the credit_score values were flagged as outliers by the Rosner test, as all the \"Outlier\" values are FALSE."
   ]
  },
  {
   "cell_type": "code",
   "execution_count": 18,
   "id": "b3eecfc4",
   "metadata": {},
   "outputs": [],
   "source": [
    "# Define a function to calculate outlier thresholds for a variable in a dataframe\n",
    "outlier_thresholds <- function(df, variable, low_quantile=0.025, up_quantile=0.975){\n",
    "  # Calculate the first quartile (lower quantile) of the variable\n",
    "  quantile_one <- quantile(df[[variable]], low_quantile)\n",
    "  # Calculate the third quartile (upper quantile) of the variable\n",
    "  quantile_three <- quantile(df[[variable]], up_quantile)\n",
    "  # Calculate the interquartile range of the variable\n",
    "  interquantile_range <- quantile_three - quantile_one\n",
    "  # Calculate the upper limit for outliers\n",
    "  up_limit <- quantile_three + 1.5 * interquantile_range\n",
    "  # Calculate the lower limit for outliers\n",
    "  low_limit <- quantile_one - 1.5 * interquantile_range\n",
    "  # Return the lower and upper limits as a vector\n",
    "  return(c(low_limit, up_limit))\n",
    "}"
   ]
  },
  {
   "cell_type": "code",
   "execution_count": 19,
   "id": "7dc1074d",
   "metadata": {},
   "outputs": [],
   "source": [
    "# Define a function to check for outliers in numeric columns of a dataframe\n",
    "has_outliers <- function(dataframe, numeric_columns) {\n",
    "  \n",
    "  outlier_counts <- list() \n",
    "  # Loop through each numeric column in the dataframe\n",
    "  for (col in numeric_columns) {\n",
    "    # Calculate the outlier limits for the column using the outlier_thresholds function\n",
    "    limits <- outlier_thresholds(dataframe, col)\n",
    "    low_limit <- limits[1]\n",
    "    up_limit <- limits[2]\n",
    "    # Check if the column has any values outside the outlier limits\n",
    "    if (any(dataframe[[col]] < low_limit | dataframe[[col]] > up_limit)) {\n",
    "        # If there are outliers, count them and add outlier count to list\n",
    "        outlier_ind <- which(dataframe[[col]] < low_limit | dataframe[[col]] > up_limit)\n",
    "        outlier_counts[[col]] <- sum(outlier_ind) \n",
    "    }\n",
    "      \n",
    "    else {\n",
    "      outlier_counts[[col]] <- 0 \n",
    "    }\n",
    "  }\n",
    "  return(outlier_counts)\n",
    "}\n"
   ]
  },
  {
   "cell_type": "code",
   "execution_count": 20,
   "id": "dbe8d141",
   "metadata": {},
   "outputs": [
    {
     "name": "stdout",
     "output_type": "stream",
     "text": [
      "[1] \"customer_id has 0 outliers\"\n",
      "[1] \"credit_score has 0 outliers\"\n",
      "[1] \"age has 0 outliers\"\n",
      "[1] \"balance has 0 outliers\"\n",
      "[1] \"estimated_salary has 0 outliers\"\n"
     ]
    }
   ],
   "source": [
    "for (var in numeric_variables) {\n",
    "  outliers <- has_outliers(df, var)\n",
    "  print(paste(var, \"has\", outliers, \"outliers\"))\n",
    "}"
   ]
  },
  {
   "cell_type": "markdown",
   "id": "006b1d55",
   "metadata": {},
   "source": [
    "__1.2 Are there variables in the dataset that will not be used in the analysis? Remove them.__"
   ]
  },
  {
   "cell_type": "code",
   "execution_count": 149,
   "id": "25e7a21c",
   "metadata": {},
   "outputs": [
    {
     "data": {
      "text/html": [
       "-0.00979188662071955"
      ],
      "text/latex": [
       "-0.00979188662071955"
      ],
      "text/markdown": [
       "-0.00979188662071955"
      ],
      "text/plain": [
       "[1] -0.009791887"
      ]
     },
     "metadata": {},
     "output_type": "display_data"
    }
   ],
   "source": [
    "cor(df$customer_id, df$churn)"
   ]
  },
  {
   "cell_type": "markdown",
   "id": "ac69a13b",
   "metadata": {},
   "source": [
    "The correlation coefficient between the customer_id and the target variable churn is very low (-0.00979188662071955). This suggests that there is almost no linear relationship between the customer_id and the churn variable. The variable can therefore be removed."
   ]
  },
  {
   "cell_type": "code",
   "execution_count": 21,
   "id": "d55fd7e7",
   "metadata": {},
   "outputs": [],
   "source": [
    "# Drop customer_id column\n",
    "df <- select(df, -customer_id)"
   ]
  },
  {
   "cell_type": "markdown",
   "id": "5b73d426",
   "metadata": {},
   "source": [
    "__1.3 Are there categorical variables in the dataset? \n",
    "Should you convert those variables to numerical?__"
   ]
  },
  {
   "cell_type": "code",
   "execution_count": 22,
   "id": "90768b22",
   "metadata": {},
   "outputs": [
    {
     "data": {
      "text/html": [
       "<table class=\"dataframe\">\n",
       "<caption>A data.frame: 6 × 13</caption>\n",
       "<thead>\n",
       "\t<tr><th></th><th scope=col>credit_score</th><th scope=col>age</th><th scope=col>tenure</th><th scope=col>balance</th><th scope=col>products_number</th><th scope=col>credit_card</th><th scope=col>active_member</th><th scope=col>estimated_salary</th><th scope=col>churn</th><th scope=col>z_creditscore</th><th scope=col>genderFemale</th><th scope=col>countryFrance</th><th scope=col>countryGermany</th></tr>\n",
       "\t<tr><th></th><th scope=col>&lt;int&gt;</th><th scope=col>&lt;int&gt;</th><th scope=col>&lt;int&gt;</th><th scope=col>&lt;dbl&gt;</th><th scope=col>&lt;int&gt;</th><th scope=col>&lt;int&gt;</th><th scope=col>&lt;int&gt;</th><th scope=col>&lt;dbl&gt;</th><th scope=col>&lt;int&gt;</th><th scope=col>&lt;dbl[,1]&gt;</th><th scope=col>&lt;dbl&gt;</th><th scope=col>&lt;dbl&gt;</th><th scope=col>&lt;dbl&gt;</th></tr>\n",
       "</thead>\n",
       "<tbody>\n",
       "\t<tr><th scope=row>1</th><td>619</td><td>42</td><td>2</td><td>     0.00</td><td>1</td><td>1</td><td>1</td><td>101348.88</td><td>1</td><td>-0.3249875</td><td>1</td><td>1</td><td>0</td></tr>\n",
       "\t<tr><th scope=row>2</th><td>608</td><td>41</td><td>1</td><td> 83807.86</td><td>1</td><td>0</td><td>1</td><td>112542.58</td><td>0</td><td>-0.4388846</td><td>1</td><td>0</td><td>0</td></tr>\n",
       "\t<tr><th scope=row>3</th><td>699</td><td>39</td><td>1</td><td>     0.00</td><td>2</td><td>0</td><td>0</td><td> 93826.63</td><td>0</td><td> 0.5033549</td><td>1</td><td>1</td><td>0</td></tr>\n",
       "\t<tr><th scope=row>4</th><td>850</td><td>43</td><td>2</td><td>125510.82</td><td>1</td><td>1</td><td>1</td><td> 79084.10</td><td>0</td><td> 2.0668511</td><td>1</td><td>0</td><td>0</td></tr>\n",
       "\t<tr><th scope=row>5</th><td>645</td><td>44</td><td>8</td><td>113755.78</td><td>2</td><td>1</td><td>0</td><td>149756.71</td><td>1</td><td>-0.0557762</td><td>0</td><td>0</td><td>0</td></tr>\n",
       "\t<tr><th scope=row>6</th><td>822</td><td>50</td><td>7</td><td>     0.00</td><td>2</td><td>1</td><td>1</td><td> 10062.80</td><td>0</td><td> 1.7769313</td><td>0</td><td>1</td><td>0</td></tr>\n",
       "</tbody>\n",
       "</table>\n"
      ],
      "text/latex": [
       "A data.frame: 6 × 13\n",
       "\\begin{tabular}{r|lllllllllllll}\n",
       "  & credit\\_score & age & tenure & balance & products\\_number & credit\\_card & active\\_member & estimated\\_salary & churn & z\\_creditscore & genderFemale & countryFrance & countryGermany\\\\\n",
       "  & <int> & <int> & <int> & <dbl> & <int> & <int> & <int> & <dbl> & <int> & <dbl{[},1{]}> & <dbl> & <dbl> & <dbl>\\\\\n",
       "\\hline\n",
       "\t1 & 619 & 42 & 2 &      0.00 & 1 & 1 & 1 & 101348.88 & 1 & -0.3249875 & 1 & 1 & 0\\\\\n",
       "\t2 & 608 & 41 & 1 &  83807.86 & 1 & 0 & 1 & 112542.58 & 0 & -0.4388846 & 1 & 0 & 0\\\\\n",
       "\t3 & 699 & 39 & 1 &      0.00 & 2 & 0 & 0 &  93826.63 & 0 &  0.5033549 & 1 & 1 & 0\\\\\n",
       "\t4 & 850 & 43 & 2 & 125510.82 & 1 & 1 & 1 &  79084.10 & 0 &  2.0668511 & 1 & 0 & 0\\\\\n",
       "\t5 & 645 & 44 & 8 & 113755.78 & 2 & 1 & 0 & 149756.71 & 1 & -0.0557762 & 0 & 0 & 0\\\\\n",
       "\t6 & 822 & 50 & 7 &      0.00 & 2 & 1 & 1 &  10062.80 & 0 &  1.7769313 & 0 & 1 & 0\\\\\n",
       "\\end{tabular}\n"
      ],
      "text/markdown": [
       "\n",
       "A data.frame: 6 × 13\n",
       "\n",
       "| <!--/--> | credit_score &lt;int&gt; | age &lt;int&gt; | tenure &lt;int&gt; | balance &lt;dbl&gt; | products_number &lt;int&gt; | credit_card &lt;int&gt; | active_member &lt;int&gt; | estimated_salary &lt;dbl&gt; | churn &lt;int&gt; | z_creditscore &lt;dbl[,1]&gt; | genderFemale &lt;dbl&gt; | countryFrance &lt;dbl&gt; | countryGermany &lt;dbl&gt; |\n",
       "|---|---|---|---|---|---|---|---|---|---|---|---|---|---|\n",
       "| 1 | 619 | 42 | 2 |      0.00 | 1 | 1 | 1 | 101348.88 | 1 | -0.3249875 | 1 | 1 | 0 |\n",
       "| 2 | 608 | 41 | 1 |  83807.86 | 1 | 0 | 1 | 112542.58 | 0 | -0.4388846 | 1 | 0 | 0 |\n",
       "| 3 | 699 | 39 | 1 |      0.00 | 2 | 0 | 0 |  93826.63 | 0 |  0.5033549 | 1 | 1 | 0 |\n",
       "| 4 | 850 | 43 | 2 | 125510.82 | 1 | 1 | 1 |  79084.10 | 0 |  2.0668511 | 1 | 0 | 0 |\n",
       "| 5 | 645 | 44 | 8 | 113755.78 | 2 | 1 | 0 | 149756.71 | 1 | -0.0557762 | 0 | 0 | 0 |\n",
       "| 6 | 822 | 50 | 7 |      0.00 | 2 | 1 | 1 |  10062.80 | 0 |  1.7769313 | 0 | 1 | 0 |\n",
       "\n"
      ],
      "text/plain": [
       "  credit_score age tenure balance   products_number credit_card active_member\n",
       "1 619          42  2           0.00 1               1           1            \n",
       "2 608          41  1       83807.86 1               0           1            \n",
       "3 699          39  1           0.00 2               0           0            \n",
       "4 850          43  2      125510.82 1               1           1            \n",
       "5 645          44  8      113755.78 2               1           0            \n",
       "6 822          50  7           0.00 2               1           1            \n",
       "  estimated_salary churn z_creditscore genderFemale countryFrance\n",
       "1 101348.88        1     -0.3249875    1            1            \n",
       "2 112542.58        0     -0.4388846    1            0            \n",
       "3  93826.63        0      0.5033549    1            1            \n",
       "4  79084.10        0      2.0668511    1            0            \n",
       "5 149756.71        1     -0.0557762    0            0            \n",
       "6  10062.80        0      1.7769313    0            1            \n",
       "  countryGermany\n",
       "1 0             \n",
       "2 0             \n",
       "3 0             \n",
       "4 0             \n",
       "5 0             \n",
       "6 0             "
      ]
     },
     "metadata": {},
     "output_type": "display_data"
    }
   ],
   "source": [
    "#One-hot encoding of gender variable\n",
    "gender_encoded <- model.matrix(~ gender - 1, data = df)\n",
    "new_df <- cbind(df, gender_encoded)\n",
    "\n",
    "#One-hot encoding of country variable\n",
    "country_encoded <- model.matrix(~ country - 1, data = df)\n",
    "new_df <- cbind(new_df, country_encoded)\n",
    "\n",
    "#Drop redundant columns (Verify if droping genderMale and countrySpain is right?)\n",
    "new_df <- select(new_df, -gender, -genderMale, -country, -countrySpain)\n",
    "head(new_df)"
   ]
  },
  {
   "cell_type": "markdown",
   "id": "efa922ad",
   "metadata": {},
   "source": [
    "# 2: Exploratory Data Analysis"
   ]
  },
  {
   "cell_type": "markdown",
   "id": "43653c6b",
   "metadata": {},
   "source": [
    "__2.1: What is the overall rate of customer churn in the dataset?__"
   ]
  },
  {
   "cell_type": "code",
   "execution_count": 23,
   "id": "2cd66b3c",
   "metadata": {},
   "outputs": [
    {
     "name": "stdout",
     "output_type": "stream",
     "text": [
      "The overall rate of customer churn is: 20.36%"
     ]
    }
   ],
   "source": [
    "churn_rate <- mean(df$churn)\n",
    "churn_rate_pct <-paste0(round(churn_rate*100,2),\"%\")\n",
    "cat(\"The overall rate of customer churn is:\",churn_rate_pct)"
   ]
  },
  {
   "cell_type": "markdown",
   "id": "cc1c8ba8",
   "metadata": {},
   "source": [
    "__2.2: How does the rate of customer churn vary by demographic variables such as age, gender, etc.? How does it vary across the countries?__"
   ]
  },
  {
   "cell_type": "code",
   "execution_count": 24,
   "id": "cef994c1",
   "metadata": {},
   "outputs": [
    {
     "name": "stdout",
     "output_type": "stream",
     "text": [
      "Churn rate by gender:\n",
      "  gender churn\n",
      "1 Female 24.98\n",
      "2   Male 16.49\n",
      "\n",
      "Churn rate by country:\n",
      "  country churn\n",
      "1  France 16.15\n",
      "2 Germany 32.33\n",
      "3   Spain 16.70\n"
     ]
    }
   ],
   "source": [
    "churn_rate_by_gender <- aggregate(churn ~ gender, df, function(x) round(100 * sum(x) / length(x), 2))\n",
    "                                  \n",
    "churn_rate_by_country <- aggregate(churn ~ country, df, function(x) round(100 * sum(x) / length(x), 2))\n",
    "                                  \n",
    "cat(\"Churn rate by gender:\\n\")\n",
    "print(churn_rate_by_gender)\n",
    "cat(\"\\n\")                         \n",
    "cat(\"Churn rate by country:\\n\")\n",
    "print(churn_rate_by_country)"
   ]
  },
  {
   "cell_type": "markdown",
   "id": "83a9c758",
   "metadata": {},
   "source": [
    "Women have, on average, a higher churn rate then men. Germans have, on average, a higher churn rate than French and Spanish."
   ]
  },
  {
   "cell_type": "code",
   "execution_count": 25,
   "id": "18d203a6",
   "metadata": {},
   "outputs": [
    {
     "data": {
      "image/png": "[encoded data removed]",
      "text/plain": [
       "plot without title"
      ]
     },
     "metadata": {
      "image/png": {
       "height": 420,
       "width": 420
      }
     },
     "output_type": "display_data"
    }
   ],
   "source": [
    "ggplot(data = df, aes(x = churn, fill = gender)) +\n",
    "  geom_bar() +\n",
    "  labs(x = \"Churn Status\", y = \"Count\", fill = \"Gender\") +\n",
    "  ggtitle(\"Stacked Barplot of Gender by Churn Status\")"
   ]
  },
  {
   "cell_type": "code",
   "execution_count": 27,
   "id": "9f775961",
   "metadata": {},
   "outputs": [
    {
     "data": {
      "image/png": "[encoded data removed]",
      "text/plain": [
       "plot without title"
      ]
     },
     "metadata": {
      "image/png": {
       "height": 420,
       "width": 420
      }
     },
     "output_type": "display_data"
    }
   ],
   "source": [
    "# Plot age distribution by churn vs. no-churn\n",
    "ggplot(df, aes(x = age, fill = as.factor(churn))) +\n",
    "  geom_histogram(position = \"identity\", alpha = 0.5, bins = 25) +\n",
    "  scale_fill_manual(values = c(\"red\", \"blue\"), labels=c('No churn', 'Churn')) +\n",
    "  labs(title = \"Histogram of Age by Churn\", x = \"Age\", y = \"Frequency\", fill = \"Churn\") +\n",
    "  theme_classic()"
   ]
  },
  {
   "cell_type": "code",
   "execution_count": 28,
   "id": "53bffe60",
   "metadata": {},
   "outputs": [
    {
     "data": {
      "text/html": [
       "<table class=\"dataframe\">\n",
       "<caption>A data.frame: 6 × 12</caption>\n",
       "<thead>\n",
       "\t<tr><th></th><th scope=col>credit_score</th><th scope=col>country</th><th scope=col>gender</th><th scope=col>age</th><th scope=col>tenure</th><th scope=col>balance</th><th scope=col>products_number</th><th scope=col>credit_card</th><th scope=col>active_member</th><th scope=col>estimated_salary</th><th scope=col>churn</th><th scope=col>z_creditscore</th></tr>\n",
       "\t<tr><th></th><th scope=col>&lt;int&gt;</th><th scope=col>&lt;chr&gt;</th><th scope=col>&lt;chr&gt;</th><th scope=col>&lt;int&gt;</th><th scope=col>&lt;int&gt;</th><th scope=col>&lt;dbl&gt;</th><th scope=col>&lt;int&gt;</th><th scope=col>&lt;int&gt;</th><th scope=col>&lt;int&gt;</th><th scope=col>&lt;dbl&gt;</th><th scope=col>&lt;int&gt;</th><th scope=col>&lt;dbl[,1]&gt;</th></tr>\n",
       "</thead>\n",
       "<tbody>\n",
       "\t<tr><th scope=row>1</th><td>619</td><td>France</td><td>Female</td><td>42</td><td>2</td><td>     0.00</td><td>1</td><td>1</td><td>1</td><td>101348.88</td><td>1</td><td>-0.3249875</td></tr>\n",
       "\t<tr><th scope=row>2</th><td>608</td><td>Spain </td><td>Female</td><td>41</td><td>1</td><td> 83807.86</td><td>1</td><td>0</td><td>1</td><td>112542.58</td><td>0</td><td>-0.4388846</td></tr>\n",
       "\t<tr><th scope=row>3</th><td>699</td><td>France</td><td>Female</td><td>39</td><td>1</td><td>     0.00</td><td>2</td><td>0</td><td>0</td><td> 93826.63</td><td>0</td><td> 0.5033549</td></tr>\n",
       "\t<tr><th scope=row>4</th><td>850</td><td>Spain </td><td>Female</td><td>43</td><td>2</td><td>125510.82</td><td>1</td><td>1</td><td>1</td><td> 79084.10</td><td>0</td><td> 2.0668511</td></tr>\n",
       "\t<tr><th scope=row>5</th><td>645</td><td>Spain </td><td>Male  </td><td>44</td><td>8</td><td>113755.78</td><td>2</td><td>1</td><td>0</td><td>149756.71</td><td>1</td><td>-0.0557762</td></tr>\n",
       "\t<tr><th scope=row>6</th><td>822</td><td>France</td><td>Male  </td><td>50</td><td>7</td><td>     0.00</td><td>2</td><td>1</td><td>1</td><td> 10062.80</td><td>0</td><td> 1.7769313</td></tr>\n",
       "</tbody>\n",
       "</table>\n"
      ],
      "text/latex": [
       "A data.frame: 6 × 12\n",
       "\\begin{tabular}{r|llllllllllll}\n",
       "  & credit\\_score & country & gender & age & tenure & balance & products\\_number & credit\\_card & active\\_member & estimated\\_salary & churn & z\\_creditscore\\\\\n",
       "  & <int> & <chr> & <chr> & <int> & <int> & <dbl> & <int> & <int> & <int> & <dbl> & <int> & <dbl{[},1{]}>\\\\\n",
       "\\hline\n",
       "\t1 & 619 & France & Female & 42 & 2 &      0.00 & 1 & 1 & 1 & 101348.88 & 1 & -0.3249875\\\\\n",
       "\t2 & 608 & Spain  & Female & 41 & 1 &  83807.86 & 1 & 0 & 1 & 112542.58 & 0 & -0.4388846\\\\\n",
       "\t3 & 699 & France & Female & 39 & 1 &      0.00 & 2 & 0 & 0 &  93826.63 & 0 &  0.5033549\\\\\n",
       "\t4 & 850 & Spain  & Female & 43 & 2 & 125510.82 & 1 & 1 & 1 &  79084.10 & 0 &  2.0668511\\\\\n",
       "\t5 & 645 & Spain  & Male   & 44 & 8 & 113755.78 & 2 & 1 & 0 & 149756.71 & 1 & -0.0557762\\\\\n",
       "\t6 & 822 & France & Male   & 50 & 7 &      0.00 & 2 & 1 & 1 &  10062.80 & 0 &  1.7769313\\\\\n",
       "\\end{tabular}\n"
      ],
      "text/markdown": [
       "\n",
       "A data.frame: 6 × 12\n",
       "\n",
       "| <!--/--> | credit_score &lt;int&gt; | country &lt;chr&gt; | gender &lt;chr&gt; | age &lt;int&gt; | tenure &lt;int&gt; | balance &lt;dbl&gt; | products_number &lt;int&gt; | credit_card &lt;int&gt; | active_member &lt;int&gt; | estimated_salary &lt;dbl&gt; | churn &lt;int&gt; | z_creditscore &lt;dbl[,1]&gt; |\n",
       "|---|---|---|---|---|---|---|---|---|---|---|---|---|\n",
       "| 1 | 619 | France | Female | 42 | 2 |      0.00 | 1 | 1 | 1 | 101348.88 | 1 | -0.3249875 |\n",
       "| 2 | 608 | Spain  | Female | 41 | 1 |  83807.86 | 1 | 0 | 1 | 112542.58 | 0 | -0.4388846 |\n",
       "| 3 | 699 | France | Female | 39 | 1 |      0.00 | 2 | 0 | 0 |  93826.63 | 0 |  0.5033549 |\n",
       "| 4 | 850 | Spain  | Female | 43 | 2 | 125510.82 | 1 | 1 | 1 |  79084.10 | 0 |  2.0668511 |\n",
       "| 5 | 645 | Spain  | Male   | 44 | 8 | 113755.78 | 2 | 1 | 0 | 149756.71 | 1 | -0.0557762 |\n",
       "| 6 | 822 | France | Male   | 50 | 7 |      0.00 | 2 | 1 | 1 |  10062.80 | 0 |  1.7769313 |\n",
       "\n"
      ],
      "text/plain": [
       "  credit_score country gender age tenure balance   products_number credit_card\n",
       "1 619          France  Female 42  2           0.00 1               1          \n",
       "2 608          Spain   Female 41  1       83807.86 1               0          \n",
       "3 699          France  Female 39  1           0.00 2               0          \n",
       "4 850          Spain   Female 43  2      125510.82 1               1          \n",
       "5 645          Spain   Male   44  8      113755.78 2               1          \n",
       "6 822          France  Male   50  7           0.00 2               1          \n",
       "  active_member estimated_salary churn z_creditscore\n",
       "1 1             101348.88        1     -0.3249875   \n",
       "2 1             112542.58        0     -0.4388846   \n",
       "3 0              93826.63        0      0.5033549   \n",
       "4 1              79084.10        0      2.0668511   \n",
       "5 0             149756.71        1     -0.0557762   \n",
       "6 1              10062.80        0      1.7769313   "
      ]
     },
     "metadata": {},
     "output_type": "display_data"
    }
   ],
   "source": [
    "head(df)"
   ]
  },
  {
   "cell_type": "code",
   "execution_count": 29,
   "id": "b26b40f7",
   "metadata": {},
   "outputs": [
    {
     "name": "stdout",
     "output_type": "stream",
     "text": [
      "Churn rate by country:\n",
      "   age_brackets churn\n",
      "1       [15,20)  6.52\n",
      "2       [20,25)  9.24\n",
      "3       [25,30)  6.89\n",
      "4       [30,35)  8.46\n",
      "5       [35,40) 12.97\n",
      "6       [40,45) 24.17\n",
      "7       [45,50) 42.84\n",
      "8       [50,55) 56.28\n",
      "9       [55,60) 54.55\n",
      "10      [60,65) 41.44\n",
      "11      [65,70) 21.37\n",
      "12      [70,75) 15.91\n",
      "13      [75,80)  0.00\n",
      "14      [80,85) 11.11\n",
      "15      [85,90)  0.00\n",
      "16      [90,95)  0.00\n"
     ]
    }
   ],
   "source": [
    "age_brackets <- cut(df$age, breaks = seq(15, 95, by = 5), right = FALSE)\n",
    "churn_rate_by_age_bracket <- aggregate(churn ~ age_brackets, df, function(x) round(100 * sum(x) / length(x), 2))\n",
    "cat(\"Churn rate by country:\\n\")\n",
    "print(churn_rate_by_age_bracket)"
   ]
  },
  {
   "cell_type": "markdown",
   "id": "0d8a877c",
   "metadata": {},
   "source": [
    "Customers in the age group between 45 and 65 have the highest churn rate. "
   ]
  },
  {
   "cell_type": "code",
   "execution_count": 30,
   "id": "73b2c6c0",
   "metadata": {},
   "outputs": [
    {
     "data": {
      "text/html": [
       "<table class=\"dataframe\">\n",
       "<caption>A data.frame: 6 × 11</caption>\n",
       "<thead>\n",
       "\t<tr><th></th><th scope=col>credit_score</th><th scope=col>country</th><th scope=col>gender</th><th scope=col>age</th><th scope=col>tenure</th><th scope=col>balance</th><th scope=col>products_number</th><th scope=col>credit_card</th><th scope=col>active_member</th><th scope=col>estimated_salary</th><th scope=col>churn</th></tr>\n",
       "\t<tr><th></th><th scope=col>&lt;int&gt;</th><th scope=col>&lt;chr&gt;</th><th scope=col>&lt;chr&gt;</th><th scope=col>&lt;int&gt;</th><th scope=col>&lt;int&gt;</th><th scope=col>&lt;dbl&gt;</th><th scope=col>&lt;int&gt;</th><th scope=col>&lt;int&gt;</th><th scope=col>&lt;int&gt;</th><th scope=col>&lt;dbl&gt;</th><th scope=col>&lt;int&gt;</th></tr>\n",
       "</thead>\n",
       "<tbody>\n",
       "\t<tr><th scope=row>1</th><td>619</td><td>France</td><td>Female</td><td>42</td><td>2</td><td>     0.00</td><td>1</td><td>1</td><td>1</td><td>101348.88</td><td>1</td></tr>\n",
       "\t<tr><th scope=row>2</th><td>608</td><td>Spain </td><td>Female</td><td>41</td><td>1</td><td> 83807.86</td><td>1</td><td>0</td><td>1</td><td>112542.58</td><td>0</td></tr>\n",
       "\t<tr><th scope=row>3</th><td>699</td><td>France</td><td>Female</td><td>39</td><td>1</td><td>     0.00</td><td>2</td><td>0</td><td>0</td><td> 93826.63</td><td>0</td></tr>\n",
       "\t<tr><th scope=row>4</th><td>850</td><td>Spain </td><td>Female</td><td>43</td><td>2</td><td>125510.82</td><td>1</td><td>1</td><td>1</td><td> 79084.10</td><td>0</td></tr>\n",
       "\t<tr><th scope=row>5</th><td>645</td><td>Spain </td><td>Male  </td><td>44</td><td>8</td><td>113755.78</td><td>2</td><td>1</td><td>0</td><td>149756.71</td><td>1</td></tr>\n",
       "\t<tr><th scope=row>6</th><td>822</td><td>France</td><td>Male  </td><td>50</td><td>7</td><td>     0.00</td><td>2</td><td>1</td><td>1</td><td> 10062.80</td><td>0</td></tr>\n",
       "</tbody>\n",
       "</table>\n"
      ],
      "text/latex": [
       "A data.frame: 6 × 11\n",
       "\\begin{tabular}{r|lllllllllll}\n",
       "  & credit\\_score & country & gender & age & tenure & balance & products\\_number & credit\\_card & active\\_member & estimated\\_salary & churn\\\\\n",
       "  & <int> & <chr> & <chr> & <int> & <int> & <dbl> & <int> & <int> & <int> & <dbl> & <int>\\\\\n",
       "\\hline\n",
       "\t1 & 619 & France & Female & 42 & 2 &      0.00 & 1 & 1 & 1 & 101348.88 & 1\\\\\n",
       "\t2 & 608 & Spain  & Female & 41 & 1 &  83807.86 & 1 & 0 & 1 & 112542.58 & 0\\\\\n",
       "\t3 & 699 & France & Female & 39 & 1 &      0.00 & 2 & 0 & 0 &  93826.63 & 0\\\\\n",
       "\t4 & 850 & Spain  & Female & 43 & 2 & 125510.82 & 1 & 1 & 1 &  79084.10 & 0\\\\\n",
       "\t5 & 645 & Spain  & Male   & 44 & 8 & 113755.78 & 2 & 1 & 0 & 149756.71 & 1\\\\\n",
       "\t6 & 822 & France & Male   & 50 & 7 &      0.00 & 2 & 1 & 1 &  10062.80 & 0\\\\\n",
       "\\end{tabular}\n"
      ],
      "text/markdown": [
       "\n",
       "A data.frame: 6 × 11\n",
       "\n",
       "| <!--/--> | credit_score &lt;int&gt; | country &lt;chr&gt; | gender &lt;chr&gt; | age &lt;int&gt; | tenure &lt;int&gt; | balance &lt;dbl&gt; | products_number &lt;int&gt; | credit_card &lt;int&gt; | active_member &lt;int&gt; | estimated_salary &lt;dbl&gt; | churn &lt;int&gt; |\n",
       "|---|---|---|---|---|---|---|---|---|---|---|---|\n",
       "| 1 | 619 | France | Female | 42 | 2 |      0.00 | 1 | 1 | 1 | 101348.88 | 1 |\n",
       "| 2 | 608 | Spain  | Female | 41 | 1 |  83807.86 | 1 | 0 | 1 | 112542.58 | 0 |\n",
       "| 3 | 699 | France | Female | 39 | 1 |      0.00 | 2 | 0 | 0 |  93826.63 | 0 |\n",
       "| 4 | 850 | Spain  | Female | 43 | 2 | 125510.82 | 1 | 1 | 1 |  79084.10 | 0 |\n",
       "| 5 | 645 | Spain  | Male   | 44 | 8 | 113755.78 | 2 | 1 | 0 | 149756.71 | 1 |\n",
       "| 6 | 822 | France | Male   | 50 | 7 |      0.00 | 2 | 1 | 1 |  10062.80 | 0 |\n",
       "\n"
      ],
      "text/plain": [
       "  credit_score country gender age tenure balance   products_number credit_card\n",
       "1 619          France  Female 42  2           0.00 1               1          \n",
       "2 608          Spain   Female 41  1       83807.86 1               0          \n",
       "3 699          France  Female 39  1           0.00 2               0          \n",
       "4 850          Spain   Female 43  2      125510.82 1               1          \n",
       "5 645          Spain   Male   44  8      113755.78 2               1          \n",
       "6 822          France  Male   50  7           0.00 2               1          \n",
       "  active_member estimated_salary churn\n",
       "1 1             101348.88        1    \n",
       "2 1             112542.58        0    \n",
       "3 0              93826.63        0    \n",
       "4 1              79084.10        0    \n",
       "5 0             149756.71        1    \n",
       "6 1              10062.80        0    "
      ]
     },
     "metadata": {},
     "output_type": "display_data"
    }
   ],
   "source": [
    "head(df[,-12])"
   ]
  },
  {
   "cell_type": "markdown",
   "id": "44bce97c",
   "metadata": {},
   "source": [
    "__2.3: Report interesting patterns that you find in the dataset.__"
   ]
  },
  {
   "cell_type": "code",
   "execution_count": 293,
   "id": "65edd5e0",
   "metadata": {},
   "outputs": [],
   "source": [
    "test_variables <- function(df, numeric_vars, categorical_vars, churn_var) {\n",
    "  \n",
    "  # create empty lists to store results\n",
    "  sig_numeric_vars <- list()\n",
    "  sig_categorical_vars <- list()\n",
    "  \n",
    "  # two-sample t-tests for numeric variables\n",
    "  for (var in numeric_vars) {\n",
    "    t_test <- t.test(df[[var]][df[[churn_var]] == 1], df[[var]][df[[churn_var]] == 0])\n",
    "    if (t_test$p.value < 0.05) {\n",
    "      sig_numeric_vars[[var]] <- t_test$p.value\n",
    "      print(paste0(var, \" has a statistically significant relationship with \", churn_var, \": p = \", t_test$p.value))\n",
    "    }\n",
    "  }\n",
    "  \n",
    "  # chi-squared tests for categorical variables\n",
    "  for (var in categorical_vars) {\n",
    "    chisq_test <- chisq.test(table(df[[var]], df[[churn_var]]))\n",
    "    if (chisq_test$p.value < 0.05) {\n",
    "      sig_categorical_vars[[var]] <- chisq_test$p.value\n",
    "      print(paste0(var, \" has a statistically significant relationship with \", churn_var, \": p = \", chisq_test$p.value))\n",
    "    }\n",
    "  }\n",
    "  \n",
    "  # return lists of significant variables\n",
    "  return(list(significant_numeric_vars = sig_numeric_vars, \n",
    "              significant_categorical_vars = sig_categorical_vars))\n",
    "}"
   ]
  },
  {
   "cell_type": "code",
   "execution_count": 295,
   "id": "4c419825",
   "metadata": {},
   "outputs": [
    {
     "name": "stdout",
     "output_type": "stream",
     "text": [
      "[1] \"credit_score has a statistically significant relationship with churn: p = 0.00545232087507174\"\n",
      "[1] \"age has a statistically significant relationship with churn: p = 5.25075930536332e-159\"\n",
      "[1] \"balance has a statistically significant relationship with churn: p = 5.91301820481709e-32\"\n",
      "[1] \"gender has a statistically significant relationship with churn: p = 3.05030632524073e-23\"\n",
      "[1] \"active_member has a statistically significant relationship with churn: p = 1.65435283703616e-46\"\n",
      "[1] \"products_number has a statistically significant relationship with churn: p = 5.32112719758864e-292\"\n"
     ]
    }
   ],
   "source": [
    "numeric_vars <- c(\"credit_score\", \"age\", \"tenure\", \"balance\", \"estimated_salary\")\n",
    "categorical_vars <- c(\"gender\", \"credit_card\", \"active_member\", \"products_number\")\n",
    "statistical_test_results <- test_variables(df, numeric_vars = numeric_vars, categorical_vars = categorical_vars, \"churn\")"
   ]
  },
  {
   "cell_type": "markdown",
   "id": "16e5ae3c",
   "metadata": {},
   "source": [
    "For the quantitative variables, credit_score, age, and balance all have statistically significant relationships with churn. This suggests that these variables are important factors in predicting customer churn.\n",
    "\n",
    "For the categorical variables, gender, active_member, and products_number all have statistically significant relationships with churn. This suggests that these variables are also important factors in predicting customer churn."
   ]
  },
  {
   "cell_type": "code",
   "execution_count": 31,
   "id": "a0da6c8f",
   "metadata": {},
   "outputs": [
    {
     "data": {
      "image/png": "[encoded data removed]",
      "text/plain": [
       "plot without title"
      ]
     },
     "metadata": {
      "image/png": {
       "height": 420,
       "width": 420
      }
     },
     "output_type": "display_data"
    }
   ],
   "source": [
    "# Plot product number distribution by churn vs. no-churn\n",
    "ggplot(df, aes(x = products_number, fill = as.factor(churn))) +\n",
    "  geom_histogram(position = \"identity\", alpha = 0.5, bins = 25) +\n",
    "  scale_fill_manual(values = c(\"red\", \"blue\"), labels=c('No churn', 'Churn')) +\n",
    "  labs(title = \"Histogram of Products Number by Churn\", x = \"Products Number\", y = \"Frequency\", fill = \"Churn\") +\n",
    "  theme_classic()"
   ]
  },
  {
   "cell_type": "code",
   "execution_count": 289,
   "id": "f68c3293",
   "metadata": {},
   "outputs": [
    {
     "name": "stdout",
     "output_type": "stream",
     "text": [
      "Mean diff in number of products: 0.0712257 \n",
      "Median diff in number of products: 1 \n",
      "P-value for number of products vs churn: 0.0002905912 \n"
     ]
    }
   ],
   "source": [
    "# Separate out ages for two groups\n",
    "products_churn <- df$products_number[df$churn == 1]\n",
    "products_no_churn <- df$products_number[df$churn == 0]\n",
    "\n",
    "# Calculate difference in mean and median\n",
    "mean_diff_products <- mean(products_no_churn) - mean(products_churn)\n",
    "median_diff_products <- median(products_no_churn) - median(products_churn)\n",
    "cat(\"Mean diff in number of products:\", mean_diff_products, \"\\n\")\n",
    "cat(\"Median diff in number of products:\", median_diff_products, \"\\n\")\n",
    "\n",
    "# Run t-test\n",
    "ttest <- t.test(products_churn, products_no_churn)\n",
    "pval <- ttest$p.value\n",
    "cat(\"P-value for number of products vs churn:\", pval, \"\\n\")"
   ]
  },
  {
   "cell_type": "markdown",
   "id": "f2f970b0",
   "metadata": {},
   "source": [
    "There seems to be a statistically significant relationship between the number of products and churn. Customers that have a higher number of products are less likely to churn. The fact, however, that customers with four products have all churned goes against this observation. "
   ]
  },
  {
   "cell_type": "code",
   "execution_count": 33,
   "id": "e0e6ec0b",
   "metadata": {
    "scrolled": false
   },
   "outputs": [
    {
     "data": {
      "text/html": [
       "<table class=\"dataframe\">\n",
       "<caption>A data.frame: 6 × 12</caption>\n",
       "<thead>\n",
       "\t<tr><th></th><th scope=col>credit_score</th><th scope=col>country</th><th scope=col>gender</th><th scope=col>age</th><th scope=col>tenure</th><th scope=col>balance</th><th scope=col>products_number</th><th scope=col>credit_card</th><th scope=col>active_member</th><th scope=col>estimated_salary</th><th scope=col>churn</th><th scope=col>z_creditscore</th></tr>\n",
       "\t<tr><th></th><th scope=col>&lt;int&gt;</th><th scope=col>&lt;chr&gt;</th><th scope=col>&lt;chr&gt;</th><th scope=col>&lt;int&gt;</th><th scope=col>&lt;int&gt;</th><th scope=col>&lt;dbl&gt;</th><th scope=col>&lt;int&gt;</th><th scope=col>&lt;int&gt;</th><th scope=col>&lt;int&gt;</th><th scope=col>&lt;dbl&gt;</th><th scope=col>&lt;int&gt;</th><th scope=col>&lt;dbl[,1]&gt;</th></tr>\n",
       "</thead>\n",
       "<tbody>\n",
       "\t<tr><th scope=row>7</th><td>376</td><td>Germany</td><td>Female</td><td>29</td><td>4</td><td>115046.74</td><td>4</td><td>1</td><td>0</td><td>119346.88</td><td>1</td><td>-2.8410774</td></tr>\n",
       "\t<tr><th scope=row>65</th><td>738</td><td>Germany</td><td>Male  </td><td>58</td><td>2</td><td>133745.44</td><td>4</td><td>1</td><td>0</td><td> 28373.86</td><td>1</td><td> 0.9071718</td></tr>\n",
       "\t<tr><th scope=row>1115</th><td>628</td><td>France </td><td>Female</td><td>46</td><td>1</td><td> 46870.43</td><td>4</td><td>1</td><td>0</td><td> 31272.14</td><td>1</td><td>-0.2317990</td></tr>\n",
       "\t<tr><th scope=row>1307</th><td>819</td><td>Germany</td><td>Female</td><td>49</td><td>1</td><td>120656.86</td><td>4</td><td>0</td><td>0</td><td>166164.30</td><td>1</td><td> 1.7458685</td></tr>\n",
       "\t<tr><th scope=row>1324</th><td>596</td><td>Spain  </td><td>Male  </td><td>30</td><td>6</td><td>121345.88</td><td>4</td><td>1</td><td>0</td><td> 41921.75</td><td>1</td><td>-0.5631359</td></tr>\n",
       "\t<tr><th scope=row>1519</th><td>792</td><td>France </td><td>Male  </td><td>50</td><td>9</td><td>     0.00</td><td>4</td><td>1</td><td>1</td><td>194700.81</td><td>1</td><td> 1.4663029</td></tr>\n",
       "</tbody>\n",
       "</table>\n"
      ],
      "text/latex": [
       "A data.frame: 6 × 12\n",
       "\\begin{tabular}{r|llllllllllll}\n",
       "  & credit\\_score & country & gender & age & tenure & balance & products\\_number & credit\\_card & active\\_member & estimated\\_salary & churn & z\\_creditscore\\\\\n",
       "  & <int> & <chr> & <chr> & <int> & <int> & <dbl> & <int> & <int> & <int> & <dbl> & <int> & <dbl{[},1{]}>\\\\\n",
       "\\hline\n",
       "\t7 & 376 & Germany & Female & 29 & 4 & 115046.74 & 4 & 1 & 0 & 119346.88 & 1 & -2.8410774\\\\\n",
       "\t65 & 738 & Germany & Male   & 58 & 2 & 133745.44 & 4 & 1 & 0 &  28373.86 & 1 &  0.9071718\\\\\n",
       "\t1115 & 628 & France  & Female & 46 & 1 &  46870.43 & 4 & 1 & 0 &  31272.14 & 1 & -0.2317990\\\\\n",
       "\t1307 & 819 & Germany & Female & 49 & 1 & 120656.86 & 4 & 0 & 0 & 166164.30 & 1 &  1.7458685\\\\\n",
       "\t1324 & 596 & Spain   & Male   & 30 & 6 & 121345.88 & 4 & 1 & 0 &  41921.75 & 1 & -0.5631359\\\\\n",
       "\t1519 & 792 & France  & Male   & 50 & 9 &      0.00 & 4 & 1 & 1 & 194700.81 & 1 &  1.4663029\\\\\n",
       "\\end{tabular}\n"
      ],
      "text/markdown": [
       "\n",
       "A data.frame: 6 × 12\n",
       "\n",
       "| <!--/--> | credit_score &lt;int&gt; | country &lt;chr&gt; | gender &lt;chr&gt; | age &lt;int&gt; | tenure &lt;int&gt; | balance &lt;dbl&gt; | products_number &lt;int&gt; | credit_card &lt;int&gt; | active_member &lt;int&gt; | estimated_salary &lt;dbl&gt; | churn &lt;int&gt; | z_creditscore &lt;dbl[,1]&gt; |\n",
       "|---|---|---|---|---|---|---|---|---|---|---|---|---|\n",
       "| 7 | 376 | Germany | Female | 29 | 4 | 115046.74 | 4 | 1 | 0 | 119346.88 | 1 | -2.8410774 |\n",
       "| 65 | 738 | Germany | Male   | 58 | 2 | 133745.44 | 4 | 1 | 0 |  28373.86 | 1 |  0.9071718 |\n",
       "| 1115 | 628 | France  | Female | 46 | 1 |  46870.43 | 4 | 1 | 0 |  31272.14 | 1 | -0.2317990 |\n",
       "| 1307 | 819 | Germany | Female | 49 | 1 | 120656.86 | 4 | 0 | 0 | 166164.30 | 1 |  1.7458685 |\n",
       "| 1324 | 596 | Spain   | Male   | 30 | 6 | 121345.88 | 4 | 1 | 0 |  41921.75 | 1 | -0.5631359 |\n",
       "| 1519 | 792 | France  | Male   | 50 | 9 |      0.00 | 4 | 1 | 1 | 194700.81 | 1 |  1.4663029 |\n",
       "\n"
      ],
      "text/plain": [
       "     credit_score country gender age tenure balance   products_number\n",
       "7    376          Germany Female 29  4      115046.74 4              \n",
       "65   738          Germany Male   58  2      133745.44 4              \n",
       "1115 628          France  Female 46  1       46870.43 4              \n",
       "1307 819          Germany Female 49  1      120656.86 4              \n",
       "1324 596          Spain   Male   30  6      121345.88 4              \n",
       "1519 792          France  Male   50  9           0.00 4              \n",
       "     credit_card active_member estimated_salary churn z_creditscore\n",
       "7    1           0             119346.88        1     -2.8410774   \n",
       "65   1           0              28373.86        1      0.9071718   \n",
       "1115 1           0              31272.14        1     -0.2317990   \n",
       "1307 0           0             166164.30        1      1.7458685   \n",
       "1324 1           0              41921.75        1     -0.5631359   \n",
       "1519 1           1             194700.81        1      1.4663029   "
      ]
     },
     "metadata": {},
     "output_type": "display_data"
    }
   ],
   "source": [
    "head(subset(df, products_number == 4))"
   ]
  },
  {
   "cell_type": "code",
   "execution_count": 34,
   "id": "92d56b09",
   "metadata": {},
   "outputs": [
    {
     "name": "stdout",
     "output_type": "stream",
     "text": [
      "[1] 1.654353e-46\n",
      "                   \n",
      "                    Not Churned  Churned\n",
      "  Non-Active Member    3478.869 889.1307\n",
      "  Active Member        3689.131 942.8693\n"
     ]
    }
   ],
   "source": [
    "# create contingency table to test relationship between churn and membership status\n",
    "table_active_member <- table(df$active_member, df$churn)\n",
    "rownames(table_active_member) <- c(\"Non-Active Member\", \"Active Member\")\n",
    "colnames(table_active_member) <- c(\"Not Churned\", \"Churned\")\n",
    "\n",
    "# run chi-squared test and print p-value\n",
    "test <- chisq.test(table_active_member)\n",
    "pval <- test$p.value\n",
    "print(pval)\n",
    "\n",
    "# print expected values\n",
    "expected <- test$expected\n",
    "rownames(expected) <- rownames(table_active_member)\n",
    "colnames(expected) <- colnames(table_active_member)\n",
    "print(expected)"
   ]
  },
  {
   "cell_type": "markdown",
   "id": "aaf4fbd8",
   "metadata": {},
   "source": [
    "There is a statistically significant relationship between membership status and churn. Non-active members are more likely to churn than active members. "
   ]
  },
  {
   "cell_type": "markdown",
   "id": "2a887568",
   "metadata": {},
   "source": [
    "__2.4: Further non-significant findings:__"
   ]
  },
  {
   "cell_type": "code",
   "execution_count": 35,
   "id": "226a428c",
   "metadata": {},
   "outputs": [
    {
     "name": "stderr",
     "output_type": "stream",
     "text": [
      "Warning message:\n",
      "\"\u001b[1m\u001b[22mThe following aesthetics were dropped during statistical transformation: \u001b[32mfill\u001b[39m\n",
      "\u001b[36mi\u001b[39m This can happen when ggplot fails to infer the correct grouping structure in the data.\n",
      "\u001b[36mi\u001b[39m Did you forget to specify a `group` aesthetic or to convert a numerical variable into a factor?\"\n"
     ]
    },
    {
     "data": {
      "image/png": "[encoded data removed]",
      "text/plain": [
       "plot without title"
      ]
     },
     "metadata": {
      "image/png": {
       "height": 420,
       "width": 420
      }
     },
     "output_type": "display_data"
    }
   ],
   "source": [
    "ggplot(data = df, aes(x = gender, y = tenure, fill = churn)) +\n",
    "  geom_boxplot() +\n",
    "  labs(title = \"Tenure by gender and churn status\", x = \"Gender\", y = \"Tenure\") +\n",
    "  scale_fill_manual(values = c(\"#00BFC4\", \"#F8766D\")) # optional: custom color palette"
   ]
  },
  {
   "cell_type": "code",
   "execution_count": 36,
   "id": "e70b2400",
   "metadata": {},
   "outputs": [
    {
     "name": "stderr",
     "output_type": "stream",
     "text": [
      "ERROR while rich displaying an object: Error: Continuous value supplied to discrete scale\n",
      "\n",
      "Traceback:\n",
      "1. tryCatch(withCallingHandlers({\n",
      " .     if (!mime %in% names(repr::mime2repr)) \n",
      " .         stop(\"No repr_* for mimetype \", mime, \" in repr::mime2repr\")\n",
      " .     rpr <- repr::mime2repr[[mime]](obj)\n",
      " .     if (is.null(rpr)) \n",
      " .         return(NULL)\n",
      " .     prepare_content(is.raw(rpr), rpr)\n",
      " . }, error = error_handler), error = outer_handler)\n",
      "2. tryCatchList(expr, classes, parentenv, handlers)\n",
      "3. tryCatchOne(expr, names, parentenv, handlers[[1L]])\n",
      "4. doTryCatch(return(expr), name, parentenv, handler)\n",
      "5. withCallingHandlers({\n",
      " .     if (!mime %in% names(repr::mime2repr)) \n",
      " .         stop(\"No repr_* for mimetype \", mime, \" in repr::mime2repr\")\n",
      " .     rpr <- repr::mime2repr[[mime]](obj)\n",
      " .     if (is.null(rpr)) \n",
      " .         return(NULL)\n",
      " .     prepare_content(is.raw(rpr), rpr)\n",
      " . }, error = error_handler)\n",
      "6. repr::mime2repr[[mime]](obj)\n",
      "7. repr_text.default(obj)\n",
      "8. paste(capture.output(print(obj)), collapse = \"\\n\")\n",
      "9. capture.output(print(obj))\n",
      "10. withVisible(...elt(i))\n",
      "11. print(obj)\n",
      "12. print.ggplot(obj)\n",
      "13. ggplot_build(x)\n",
      "14. ggplot_build.ggplot(x)\n",
      "15. lapply(data, scales_train_df, scales = npscales)\n",
      "16. FUN(X[[i]], ...)\n",
      "17. lapply(scales$scales, function(scale) scale$train_df(df = df))\n",
      "18. FUN(X[[i]], ...)\n",
      "19. scale$train_df(df = df)\n",
      "20. train_df(..., self = self)\n",
      "21. self$train(df[[aesthetic]])\n",
      "22. train(..., self = self)\n",
      "23. self$range$train(x, drop = self$drop, na.rm = !self$na.translate)\n",
      "24. train(..., self = self)\n",
      "25. scales::train_discrete(x, self$range, drop = drop, na.rm = na.rm)\n",
      "26. stop(\"Continuous value supplied to discrete scale\", call. = FALSE)\n"
     ]
    }
   ],
   "source": [
    "ggplot(data = df, aes(x = age, y = estimated_salary, color = churn)) +\n",
    "  geom_point() +\n",
    "  labs(title = \"Age vs. estimated salary by churn status\", x = \"Age\", y = \"Estimated salary\") +\n",
    "  scale_color_manual(values = c(\"#00BFC4\", \"#F8766D\")) # optional: custom color palette"
   ]
  },
  {
   "cell_type": "code",
   "execution_count": 37,
   "id": "9fb19537",
   "metadata": {},
   "outputs": [
    {
     "name": "stdout",
     "output_type": "stream",
     "text": [
      "[1] 0.5254901\n",
      "   \n",
      "          0       1\n",
      "  0 2114.56  540.44\n",
      "  1 5053.44 1291.56\n"
     ]
    }
   ],
   "source": [
    "# create contingency table to test relationship between churn and credit card ownership\n",
    "table_credit_card <- table(df$credit_card, df$churn)\n",
    "\n",
    "# run chi-squared test and print p-value\n",
    "test <- chisq.test(table_credit_card)\n",
    "pval <- test$p.value\n",
    "print(pval)\n",
    "\n",
    "# print expected values\n",
    "expected <- test$expected\n",
    "print(expected)"
   ]
  },
  {
   "cell_type": "markdown",
   "id": "320892d5",
   "metadata": {},
   "source": [
    "No statistically significant relationship between churn rate and credit card ownership as p-value is not leas than the significance level of 5%"
   ]
  },
  {
   "cell_type": "code",
   "execution_count": 38,
   "id": "b8523353",
   "metadata": {},
   "outputs": [
    {
     "data": {
      "image/png": "[encoded data removed]",
      "text/plain": [
       "plot without title"
      ]
     },
     "metadata": {
      "image/png": {
       "height": 420,
       "width": 420
      }
     },
     "output_type": "display_data"
    }
   ],
   "source": [
    "# Plot estimated salary distribution by churn vs. no-churn\n",
    "ggplot(df, aes(x = estimated_salary, fill = as.factor(churn))) +\n",
    "  geom_histogram(position = \"identity\", alpha = 0.5, bins = 25) +\n",
    "  scale_fill_manual(values = c(\"red\", \"blue\"), labels=c('No churn', 'Churn')) +\n",
    "  labs(title = \"Histogram of Estimated Salary by Churn\", x = \"Estimated salary\", y = \"Frequency\", fill = \"Churn\") +\n",
    "  theme_classic()"
   ]
  },
  {
   "cell_type": "code",
   "execution_count": 39,
   "id": "5ad752f4",
   "metadata": {},
   "outputs": [
    {
     "data": {
      "image/png": "[encoded data removed]",
      "text/plain": [
       "plot without title"
      ]
     },
     "metadata": {
      "image/png": {
       "height": 420,
       "width": 420
      }
     },
     "output_type": "display_data"
    }
   ],
   "source": [
    "# Plot balance distribution by churn vs. no-churn\n",
    "ggplot(df, aes(x = balance, fill = as.factor(churn))) +\n",
    "  geom_histogram(position = \"identity\", alpha = 0.5, bins = 25) +\n",
    "  scale_fill_manual(values = c(\"red\", \"blue\"), labels=c('No churn', 'Churn')) +\n",
    "  labs(title = \"Histogram of Balance by Churn\", x = \"Balance\", y = \"Frequency\", fill = \"Churn\") +\n",
    "  theme_classic()"
   ]
  },
  {
   "cell_type": "code",
   "execution_count": 40,
   "id": "0c9af7b9",
   "metadata": {},
   "outputs": [
    {
     "name": "stderr",
     "output_type": "stream",
     "text": [
      "Warning message:\n",
      "\"\u001b[1m\u001b[22mContinuous \u001b[32mx\u001b[39m aesthetic\n",
      "\u001b[36mi\u001b[39m did you forget `aes(group = ...)`?\"\n"
     ]
    },
    {
     "data": {
      "image/png": "[encoded data removed]",
      "text/plain": [
       "plot without title"
      ]
     },
     "metadata": {
      "image/png": {
       "height": 420,
       "width": 420
      }
     },
     "output_type": "display_data"
    }
   ],
   "source": [
    "ggplot(data = df, aes(x = churn, y = balance)) +\n",
    "  geom_boxplot(fill = \"lightblue\") +\n",
    "  labs(x = \"Churn Status\", y = \"Balance\") +\n",
    "  ggtitle(\"Boxplot of Balance by Churn Status\")"
   ]
  },
  {
   "cell_type": "code",
   "execution_count": 41,
   "id": "9b2c7592",
   "metadata": {},
   "outputs": [
    {
     "data": {
      "image/png": "[encoded data removed]",
      "text/plain": [
       "plot without title"
      ]
     },
     "metadata": {
      "image/png": {
       "height": 420,
       "width": 420
      }
     },
     "output_type": "display_data"
    }
   ],
   "source": [
    "# Plot tenure distribution by churn vs. no-churn\n",
    "ggplot(df, aes(x = tenure, fill = as.factor(churn))) +\n",
    "  geom_histogram(position = \"identity\", alpha = 0.5, bins = 25) +\n",
    "  scale_fill_manual(values = c(\"red\", \"blue\"), labels=c('No churn', 'Churn')) +\n",
    "  labs(title = \"Histogram of Tenure by Churn\", x = \"Tenure\", y = \"Frequency\", fill = \"Churn\") +\n",
    "  theme_classic()"
   ]
  },
  {
   "cell_type": "code",
   "execution_count": 42,
   "id": "cd8f08fb",
   "metadata": {},
   "outputs": [
    {
     "data": {
      "image/png": "[encoded data removed]",
      "text/plain": [
       "plot without title"
      ]
     },
     "metadata": {
      "image/png": {
       "height": 420,
       "width": 420
      }
     },
     "output_type": "display_data"
    }
   ],
   "source": [
    "# Plot credit score distribution by churn vs. no-churn\n",
    "ggplot(df, aes(x = credit_score, fill = as.factor(churn))) +\n",
    "  geom_histogram(position = \"identity\", alpha = 0.5, bins = 25) +\n",
    "  scale_fill_manual(values = c(\"red\", \"blue\"), labels=c('No churn', 'Churn')) +\n",
    "  labs(title = \"Histogram of Credit Score by Churn\", x = \"Credit Score\", y = \"Frequency\", fill = \"Churn\") +\n",
    "  theme_classic()"
   ]
  },
  {
   "cell_type": "markdown",
   "id": "668f7f3c",
   "metadata": {},
   "source": [
    "# 3: Model Building"
   ]
  },
  {
   "cell_type": "markdown",
   "id": "2c454735",
   "metadata": {},
   "source": [
    "Which variables are the strongest predictors of customer churn? \n",
    "How did you conclude that these are the strongest predictors? \n",
    "How do different model evaluation metrics (e.g., accuracy, precision, recall) vary for different models? \n",
    "Which model would you use for predicting customer churn?"
   ]
  },
  {
   "cell_type": "markdown",
   "id": "e3daef24",
   "metadata": {},
   "source": [
    "#### 3.1 Logistic regression"
   ]
  },
  {
   "cell_type": "code",
   "execution_count": 44,
   "id": "1dc134d0",
   "metadata": {},
   "outputs": [
    {
     "data": {
      "text/html": [
       "<table class=\"dataframe\">\n",
       "<caption>A data.frame: 6 × 13</caption>\n",
       "<thead>\n",
       "\t<tr><th></th><th scope=col>credit_score</th><th scope=col>age</th><th scope=col>tenure</th><th scope=col>balance</th><th scope=col>products_number</th><th scope=col>credit_card</th><th scope=col>active_member</th><th scope=col>estimated_salary</th><th scope=col>churn</th><th scope=col>z_creditscore</th><th scope=col>genderFemale</th><th scope=col>countryFrance</th><th scope=col>countryGermany</th></tr>\n",
       "\t<tr><th></th><th scope=col>&lt;int&gt;</th><th scope=col>&lt;int&gt;</th><th scope=col>&lt;int&gt;</th><th scope=col>&lt;dbl&gt;</th><th scope=col>&lt;int&gt;</th><th scope=col>&lt;int&gt;</th><th scope=col>&lt;int&gt;</th><th scope=col>&lt;dbl&gt;</th><th scope=col>&lt;fct&gt;</th><th scope=col>&lt;dbl[,1]&gt;</th><th scope=col>&lt;dbl&gt;</th><th scope=col>&lt;dbl&gt;</th><th scope=col>&lt;dbl&gt;</th></tr>\n",
       "</thead>\n",
       "<tbody>\n",
       "\t<tr><th scope=row>1</th><td>619</td><td>42</td><td>2</td><td>     0.00</td><td>1</td><td>1</td><td>1</td><td>101348.88</td><td>1</td><td>-0.3249875</td><td>1</td><td>1</td><td>0</td></tr>\n",
       "\t<tr><th scope=row>2</th><td>608</td><td>41</td><td>1</td><td> 83807.86</td><td>1</td><td>0</td><td>1</td><td>112542.58</td><td>0</td><td>-0.4388846</td><td>1</td><td>0</td><td>0</td></tr>\n",
       "\t<tr><th scope=row>3</th><td>699</td><td>39</td><td>1</td><td>     0.00</td><td>2</td><td>0</td><td>0</td><td> 93826.63</td><td>0</td><td> 0.5033549</td><td>1</td><td>1</td><td>0</td></tr>\n",
       "\t<tr><th scope=row>4</th><td>850</td><td>43</td><td>2</td><td>125510.82</td><td>1</td><td>1</td><td>1</td><td> 79084.10</td><td>0</td><td> 2.0668511</td><td>1</td><td>0</td><td>0</td></tr>\n",
       "\t<tr><th scope=row>5</th><td>645</td><td>44</td><td>8</td><td>113755.78</td><td>2</td><td>1</td><td>0</td><td>149756.71</td><td>1</td><td>-0.0557762</td><td>0</td><td>0</td><td>0</td></tr>\n",
       "\t<tr><th scope=row>6</th><td>822</td><td>50</td><td>7</td><td>     0.00</td><td>2</td><td>1</td><td>1</td><td> 10062.80</td><td>0</td><td> 1.7769313</td><td>0</td><td>1</td><td>0</td></tr>\n",
       "</tbody>\n",
       "</table>\n"
      ],
      "text/latex": [
       "A data.frame: 6 × 13\n",
       "\\begin{tabular}{r|lllllllllllll}\n",
       "  & credit\\_score & age & tenure & balance & products\\_number & credit\\_card & active\\_member & estimated\\_salary & churn & z\\_creditscore & genderFemale & countryFrance & countryGermany\\\\\n",
       "  & <int> & <int> & <int> & <dbl> & <int> & <int> & <int> & <dbl> & <fct> & <dbl{[},1{]}> & <dbl> & <dbl> & <dbl>\\\\\n",
       "\\hline\n",
       "\t1 & 619 & 42 & 2 &      0.00 & 1 & 1 & 1 & 101348.88 & 1 & -0.3249875 & 1 & 1 & 0\\\\\n",
       "\t2 & 608 & 41 & 1 &  83807.86 & 1 & 0 & 1 & 112542.58 & 0 & -0.4388846 & 1 & 0 & 0\\\\\n",
       "\t3 & 699 & 39 & 1 &      0.00 & 2 & 0 & 0 &  93826.63 & 0 &  0.5033549 & 1 & 1 & 0\\\\\n",
       "\t4 & 850 & 43 & 2 & 125510.82 & 1 & 1 & 1 &  79084.10 & 0 &  2.0668511 & 1 & 0 & 0\\\\\n",
       "\t5 & 645 & 44 & 8 & 113755.78 & 2 & 1 & 0 & 149756.71 & 1 & -0.0557762 & 0 & 0 & 0\\\\\n",
       "\t6 & 822 & 50 & 7 &      0.00 & 2 & 1 & 1 &  10062.80 & 0 &  1.7769313 & 0 & 1 & 0\\\\\n",
       "\\end{tabular}\n"
      ],
      "text/markdown": [
       "\n",
       "A data.frame: 6 × 13\n",
       "\n",
       "| <!--/--> | credit_score &lt;int&gt; | age &lt;int&gt; | tenure &lt;int&gt; | balance &lt;dbl&gt; | products_number &lt;int&gt; | credit_card &lt;int&gt; | active_member &lt;int&gt; | estimated_salary &lt;dbl&gt; | churn &lt;fct&gt; | z_creditscore &lt;dbl[,1]&gt; | genderFemale &lt;dbl&gt; | countryFrance &lt;dbl&gt; | countryGermany &lt;dbl&gt; |\n",
       "|---|---|---|---|---|---|---|---|---|---|---|---|---|---|\n",
       "| 1 | 619 | 42 | 2 |      0.00 | 1 | 1 | 1 | 101348.88 | 1 | -0.3249875 | 1 | 1 | 0 |\n",
       "| 2 | 608 | 41 | 1 |  83807.86 | 1 | 0 | 1 | 112542.58 | 0 | -0.4388846 | 1 | 0 | 0 |\n",
       "| 3 | 699 | 39 | 1 |      0.00 | 2 | 0 | 0 |  93826.63 | 0 |  0.5033549 | 1 | 1 | 0 |\n",
       "| 4 | 850 | 43 | 2 | 125510.82 | 1 | 1 | 1 |  79084.10 | 0 |  2.0668511 | 1 | 0 | 0 |\n",
       "| 5 | 645 | 44 | 8 | 113755.78 | 2 | 1 | 0 | 149756.71 | 1 | -0.0557762 | 0 | 0 | 0 |\n",
       "| 6 | 822 | 50 | 7 |      0.00 | 2 | 1 | 1 |  10062.80 | 0 |  1.7769313 | 0 | 1 | 0 |\n",
       "\n"
      ],
      "text/plain": [
       "  credit_score age tenure balance   products_number credit_card active_member\n",
       "1 619          42  2           0.00 1               1           1            \n",
       "2 608          41  1       83807.86 1               0           1            \n",
       "3 699          39  1           0.00 2               0           0            \n",
       "4 850          43  2      125510.82 1               1           1            \n",
       "5 645          44  8      113755.78 2               1           0            \n",
       "6 822          50  7           0.00 2               1           1            \n",
       "  estimated_salary churn z_creditscore genderFemale countryFrance\n",
       "1 101348.88        1     -0.3249875    1            1            \n",
       "2 112542.58        0     -0.4388846    1            0            \n",
       "3  93826.63        0      0.5033549    1            1            \n",
       "4  79084.10        0      2.0668511    1            0            \n",
       "5 149756.71        1     -0.0557762    0            0            \n",
       "6  10062.80        0      1.7769313    0            1            \n",
       "  countryGermany\n",
       "1 0             \n",
       "2 0             \n",
       "3 0             \n",
       "4 0             \n",
       "5 0             \n",
       "6 0             "
      ]
     },
     "metadata": {},
     "output_type": "display_data"
    }
   ],
   "source": [
    "# Load and preprocess data\n",
    "churn_data <- data.frame(new_df)\n",
    "churn_data$churn <- as.factor(churn_data$churn)\n",
    "head(churn_data)"
   ]
  },
  {
   "cell_type": "code",
   "execution_count": 60,
   "id": "122bd734",
   "metadata": {},
   "outputs": [],
   "source": [
    "# Create function to normalize numeric features\n",
    "normalize_data <- function(train, test){\n",
    "  # Subset the data to only include age, credit_score and estimated_salary\n",
    "  subset_train <- dplyr::select(train, age, credit_score, estimated_salary)\n",
    "  subset_test <- dplyr::select(test, age, credit_score, estimated_salary)\n",
    "  \n",
    "  # Apply Z-score normalization to both features\n",
    "  train_norm <- scale(subset_train)\n",
    "  test_norm <- scale(subset_test)\n",
    "  \n",
    "  # Add the normalized features back to the original data frame\n",
    "  train <- dplyr::mutate(train, \n",
    "                          age_norm = train_norm[, \"age\"], \n",
    "                          credit_score_norm = train_norm[, \"credit_score\"], \n",
    "                          estimated_salary_norm = train_norm[, \"estimated_salary\"], \n",
    "                          balance_norm = log(balance + 1))\n",
    "  test <- dplyr::mutate(test, \n",
    "                         age_norm = test_norm[, \"age\"], \n",
    "                         credit_score_norm = test_norm[, \"credit_score\"], \n",
    "                         estimated_salary_norm = test_norm[, \"estimated_salary\"], \n",
    "                         balance_norm = log(balance + 1))\n",
    "  \n",
    "  # Return both the normalized train and test data frames\n",
    "  return(list(train_norm = train, test_norm = test))\n",
    "}"
   ]
  },
  {
   "cell_type": "code",
   "execution_count": 104,
   "id": "042cc7a1",
   "metadata": {},
   "outputs": [],
   "source": [
    "# Split data into training and testing sets\n",
    "set.seed(123)\n",
    "trainIndex <- createDataPartition(churn_data$churn, p = .7, list = FALSE)\n",
    "train <- churn_data[trainIndex,]\n",
    "test <- churn_data[-trainIndex,]\n",
    "\n",
    "# Run normalization function\n",
    "normalized_data <- normalize_data(train, test)\n",
    "\n",
    "# view the normalized data\n",
    "train <- normalized_data$train_norm\n",
    "test <- normalized_data$test_norm\n",
    "\n",
    "# Delete non-normlized features\n",
    "train <- dplyr::select(train, -age, -credit_score, -estimated_salary, -balance, -z_creditscore)\n",
    "test <- dplyr::select(test, -age, -credit_score, -estimated_salary, -balance, -z_creditscore)"
   ]
  },
  {
   "cell_type": "code",
   "execution_count": 105,
   "id": "6179a541",
   "metadata": {},
   "outputs": [
    {
     "data": {
      "text/plain": [
       "\n",
       "Call:\n",
       "glm(formula = churn ~ ., family = binomial(link = \"logit\"), data = train)\n",
       "\n",
       "Deviance Residuals: \n",
       "    Min       1Q   Median       3Q      Max  \n",
       "-2.2608  -0.6600  -0.4567  -0.2698   2.9981  \n",
       "\n",
       "Coefficients:\n",
       "                       Estimate Std. Error z value Pr(>|z|)    \n",
       "(Intercept)           -1.482058   0.163249  -9.079  < 2e-16 ***\n",
       "tenure                -0.003667   0.011707  -0.313 0.754112    \n",
       "products_number       -0.091712   0.060448  -1.517 0.129211    \n",
       "credit_card           -0.076718   0.074253  -1.033 0.301513    \n",
       "active_member         -1.056656   0.072479 -14.579  < 2e-16 ***\n",
       "genderFemale           0.546480   0.068595   7.967 1.63e-15 ***\n",
       "countryFrance         -0.077864   0.088109  -0.884 0.376843    \n",
       "countryGermany         0.696547   0.100280   6.946 3.76e-12 ***\n",
       "age_norm               0.757504   0.033918  22.333  < 2e-16 ***\n",
       "credit_score_norm     -0.098563   0.034127  -2.888 0.003876 ** \n",
       "estimated_salary_norm  0.043934   0.034313   1.280 0.200409    \n",
       "balance_norm           0.027457   0.007634   3.597 0.000322 ***\n",
       "---\n",
       "Signif. codes:  0 '***' 0.001 '**' 0.01 '*' 0.05 '.' 0.1 ' ' 1\n",
       "\n",
       "(Dispersion parameter for binomial family taken to be 1)\n",
       "\n",
       "    Null deviance: 6368.8  on 6300  degrees of freedom\n",
       "Residual deviance: 5419.6  on 6289  degrees of freedom\n",
       "AIC: 5443.6\n",
       "\n",
       "Number of Fisher Scoring iterations: 5\n"
      ]
     },
     "metadata": {},
     "output_type": "display_data"
    }
   ],
   "source": [
    "# Fit logistic regression model\n",
    "logistic_model <- glm(churn ~ ., data = train, family = binomial(link = 'logit'))\n",
    "\n",
    "# Get summary of model coefficients\n",
    "summary(logistic_model)"
   ]
  },
  {
   "cell_type": "markdown",
   "id": "7a4fe215",
   "metadata": {},
   "source": [
    "The strongest predictors of churn are likely to be credit score, country (Germany), gender (male), age, balance, and active member status, as these have the largest absolute coefficient values and are statistically significant"
   ]
  },
  {
   "cell_type": "code",
   "execution_count": 106,
   "id": "7de25d45",
   "metadata": {},
   "outputs": [
    {
     "data": {
      "text/html": [
       "<table class=\"dataframe\">\n",
       "<caption>A data.frame: 11 × 1</caption>\n",
       "<thead>\n",
       "\t<tr><th></th><th scope=col>Overall</th></tr>\n",
       "\t<tr><th></th><th scope=col>&lt;dbl&gt;</th></tr>\n",
       "</thead>\n",
       "<tbody>\n",
       "\t<tr><th scope=row>tenure</th><td> 0.3132223</td></tr>\n",
       "\t<tr><th scope=row>products_number</th><td> 1.5172209</td></tr>\n",
       "\t<tr><th scope=row>credit_card</th><td> 1.0331938</td></tr>\n",
       "\t<tr><th scope=row>active_member</th><td>14.5787456</td></tr>\n",
       "\t<tr><th scope=row>genderFemale</th><td> 7.9667370</td></tr>\n",
       "\t<tr><th scope=row>countryFrance</th><td> 0.8837278</td></tr>\n",
       "\t<tr><th scope=row>countryGermany</th><td> 6.9460431</td></tr>\n",
       "\t<tr><th scope=row>age_norm</th><td>22.3332888</td></tr>\n",
       "\t<tr><th scope=row>credit_score_norm</th><td> 2.8880953</td></tr>\n",
       "\t<tr><th scope=row>estimated_salary_norm</th><td> 1.2803871</td></tr>\n",
       "\t<tr><th scope=row>balance_norm</th><td> 3.5968009</td></tr>\n",
       "</tbody>\n",
       "</table>\n"
      ],
      "text/latex": [
       "A data.frame: 11 × 1\n",
       "\\begin{tabular}{r|l}\n",
       "  & Overall\\\\\n",
       "  & <dbl>\\\\\n",
       "\\hline\n",
       "\ttenure &  0.3132223\\\\\n",
       "\tproducts\\_number &  1.5172209\\\\\n",
       "\tcredit\\_card &  1.0331938\\\\\n",
       "\tactive\\_member & 14.5787456\\\\\n",
       "\tgenderFemale &  7.9667370\\\\\n",
       "\tcountryFrance &  0.8837278\\\\\n",
       "\tcountryGermany &  6.9460431\\\\\n",
       "\tage\\_norm & 22.3332888\\\\\n",
       "\tcredit\\_score\\_norm &  2.8880953\\\\\n",
       "\testimated\\_salary\\_norm &  1.2803871\\\\\n",
       "\tbalance\\_norm &  3.5968009\\\\\n",
       "\\end{tabular}\n"
      ],
      "text/markdown": [
       "\n",
       "A data.frame: 11 × 1\n",
       "\n",
       "| <!--/--> | Overall &lt;dbl&gt; |\n",
       "|---|---|\n",
       "| tenure |  0.3132223 |\n",
       "| products_number |  1.5172209 |\n",
       "| credit_card |  1.0331938 |\n",
       "| active_member | 14.5787456 |\n",
       "| genderFemale |  7.9667370 |\n",
       "| countryFrance |  0.8837278 |\n",
       "| countryGermany |  6.9460431 |\n",
       "| age_norm | 22.3332888 |\n",
       "| credit_score_norm |  2.8880953 |\n",
       "| estimated_salary_norm |  1.2803871 |\n",
       "| balance_norm |  3.5968009 |\n",
       "\n"
      ],
      "text/plain": [
       "                      Overall   \n",
       "tenure                 0.3132223\n",
       "products_number        1.5172209\n",
       "credit_card            1.0331938\n",
       "active_member         14.5787456\n",
       "genderFemale           7.9667370\n",
       "countryFrance          0.8837278\n",
       "countryGermany         6.9460431\n",
       "age_norm              22.3332888\n",
       "credit_score_norm      2.8880953\n",
       "estimated_salary_norm  1.2803871\n",
       "balance_norm           3.5968009"
      ]
     },
     "metadata": {},
     "output_type": "display_data"
    }
   ],
   "source": [
    "# Calculate variable importance\n",
    "var_imp <- varImp(logistic_model)\n",
    "var_imp"
   ]
  },
  {
   "cell_type": "markdown",
   "id": "f89e902a",
   "metadata": {},
   "source": [
    "Results without normalization:\n",
    "+ The most important predictor variable is 'age' with a score of 22.33, indicating that it has the largest impact on predicting the customer churn.\n",
    "+ The second most important predictor variable is 'active_member' with a score of 14.58, which suggests that the customers who are active members have a higher likelihood of not churning.\n",
    "+ 'countryGermany' and 'genderFemale' are also strong predictors. This means that customers from Germany are less likely to churn than customers from other countries, and male customers are more likely to churn compared to female customers.\n",
    "+ 'credit_score', 'balance', 'credit_card', 'products_number', and 'estimated_salary' have smaller importance scores, but they still contribute to the model's predictive power."
   ]
  },
  {
   "cell_type": "code",
   "execution_count": 107,
   "id": "e48cc02b",
   "metadata": {},
   "outputs": [
    {
     "name": "stdout",
     "output_type": "stream",
     "text": [
      "Accuracy: 0.8073361 \n",
      "Precision: 0.6666667 \n",
      "Recall: 0.1056466 \n"
     ]
    }
   ],
   "source": [
    "# Evaluate model performance on test set\n",
    "predicted_values <- predict(logistic_model, newdata = test, type = \"response\")\n",
    "predicted_classes <- ifelse(predicted_values > 0.5, \"Yes\", \"No\")\n",
    "actual_classes <- test$churn\n",
    "\n",
    "# Calculate evaluation metrics\n",
    "confusion_matrix <- table(actual_classes, predicted_classes)\n",
    "accuracy <- sum(diag(confusion_matrix))/sum(confusion_matrix)\n",
    "precision <- confusion_matrix[2, 2]/sum(confusion_matrix[, 2])\n",
    "recall <- confusion_matrix[2, 2]/sum(confusion_matrix[2, ])\n",
    "\n",
    "# Print evaluation metrics\n",
    "cat(\"Accuracy:\", accuracy, \"\\n\")\n",
    "cat(\"Precision:\", precision, \"\\n\")\n",
    "cat(\"Recall:\", recall, \"\\n\")"
   ]
  },
  {
   "cell_type": "markdown",
   "id": "5adf9220",
   "metadata": {},
   "source": [
    "Results without normalization:\n",
    "+ The model correctly predicted the outcome for 81.4% of the observations in the test set.\n",
    "+ Out of all the predicted positive outcomes, only 61.8% of them were actually positive.\n",
    "+ Out of all the actual positive outcomes, only 22.4% of them were correctly predicted as positive by the model."
   ]
  },
  {
   "cell_type": "markdown",
   "id": "ec3e89ea",
   "metadata": {},
   "source": [
    "#### 3.2 Random forest"
   ]
  },
  {
   "cell_type": "code",
   "execution_count": 94,
   "id": "166f4087",
   "metadata": {},
   "outputs": [
    {
     "data": {
      "text/html": [
       "<table class=\"dataframe\">\n",
       "<caption>A matrix: 12 × 4 of type dbl</caption>\n",
       "<thead>\n",
       "\t<tr><th></th><th scope=col>0</th><th scope=col>1</th><th scope=col>MeanDecreaseAccuracy</th><th scope=col>MeanDecreaseGini</th></tr>\n",
       "</thead>\n",
       "<tbody>\n",
       "\t<tr><th scope=row>credit_score</th><td>48.21520244</td><td>-9.6796177</td><td> 46.3501530</td><td>235.26477</td></tr>\n",
       "\t<tr><th scope=row>age</th><td>73.06585642</td><td>94.8617851</td><td>107.2012888</td><td>492.03236</td></tr>\n",
       "\t<tr><th scope=row>tenure</th><td>-0.21189214</td><td> 3.5158441</td><td>  1.7928960</td><td>149.78246</td></tr>\n",
       "\t<tr><th scope=row>balance</th><td>29.69885092</td><td>29.2455507</td><td> 45.6016421</td><td>276.13735</td></tr>\n",
       "\t<tr><th scope=row>products_number</th><td>81.04610630</td><td>78.8024076</td><td> 96.4680646</td><td>279.79482</td></tr>\n",
       "\t<tr><th scope=row>credit_card</th><td> 0.01408703</td><td>-1.4167334</td><td> -0.7324281</td><td> 37.11585</td></tr>\n",
       "\t<tr><th scope=row>active_member</th><td>40.92815087</td><td>23.7327091</td><td> 46.2166264</td><td> 78.77620</td></tr>\n",
       "\t<tr><th scope=row>estimated_salary</th><td> 1.83723787</td><td>-0.9862448</td><td>  0.9920065</td><td>268.36424</td></tr>\n",
       "\t<tr><th scope=row>z_creditscore</th><td>47.58298381</td><td>-9.3393387</td><td> 46.1015117</td><td>236.17108</td></tr>\n",
       "\t<tr><th scope=row>genderFemale</th><td> 6.38042115</td><td> 5.8092943</td><td>  8.4560182</td><td> 40.75217</td></tr>\n",
       "\t<tr><th scope=row>countryFrance</th><td>-5.62056003</td><td>13.2116007</td><td>  4.7484835</td><td> 28.92462</td></tr>\n",
       "\t<tr><th scope=row>countryGermany</th><td> 1.79658727</td><td>38.9616717</td><td> 28.1986089</td><td> 56.63293</td></tr>\n",
       "</tbody>\n",
       "</table>\n"
      ],
      "text/latex": [
       "A matrix: 12 × 4 of type dbl\n",
       "\\begin{tabular}{r|llll}\n",
       "  & 0 & 1 & MeanDecreaseAccuracy & MeanDecreaseGini\\\\\n",
       "\\hline\n",
       "\tcredit\\_score & 48.21520244 & -9.6796177 &  46.3501530 & 235.26477\\\\\n",
       "\tage & 73.06585642 & 94.8617851 & 107.2012888 & 492.03236\\\\\n",
       "\ttenure & -0.21189214 &  3.5158441 &   1.7928960 & 149.78246\\\\\n",
       "\tbalance & 29.69885092 & 29.2455507 &  45.6016421 & 276.13735\\\\\n",
       "\tproducts\\_number & 81.04610630 & 78.8024076 &  96.4680646 & 279.79482\\\\\n",
       "\tcredit\\_card &  0.01408703 & -1.4167334 &  -0.7324281 &  37.11585\\\\\n",
       "\tactive\\_member & 40.92815087 & 23.7327091 &  46.2166264 &  78.77620\\\\\n",
       "\testimated\\_salary &  1.83723787 & -0.9862448 &   0.9920065 & 268.36424\\\\\n",
       "\tz\\_creditscore & 47.58298381 & -9.3393387 &  46.1015117 & 236.17108\\\\\n",
       "\tgenderFemale &  6.38042115 &  5.8092943 &   8.4560182 &  40.75217\\\\\n",
       "\tcountryFrance & -5.62056003 & 13.2116007 &   4.7484835 &  28.92462\\\\\n",
       "\tcountryGermany &  1.79658727 & 38.9616717 &  28.1986089 &  56.63293\\\\\n",
       "\\end{tabular}\n"
      ],
      "text/markdown": [
       "\n",
       "A matrix: 12 × 4 of type dbl\n",
       "\n",
       "| <!--/--> | 0 | 1 | MeanDecreaseAccuracy | MeanDecreaseGini |\n",
       "|---|---|---|---|---|\n",
       "| credit_score | 48.21520244 | -9.6796177 |  46.3501530 | 235.26477 |\n",
       "| age | 73.06585642 | 94.8617851 | 107.2012888 | 492.03236 |\n",
       "| tenure | -0.21189214 |  3.5158441 |   1.7928960 | 149.78246 |\n",
       "| balance | 29.69885092 | 29.2455507 |  45.6016421 | 276.13735 |\n",
       "| products_number | 81.04610630 | 78.8024076 |  96.4680646 | 279.79482 |\n",
       "| credit_card |  0.01408703 | -1.4167334 |  -0.7324281 |  37.11585 |\n",
       "| active_member | 40.92815087 | 23.7327091 |  46.2166264 |  78.77620 |\n",
       "| estimated_salary |  1.83723787 | -0.9862448 |   0.9920065 | 268.36424 |\n",
       "| z_creditscore | 47.58298381 | -9.3393387 |  46.1015117 | 236.17108 |\n",
       "| genderFemale |  6.38042115 |  5.8092943 |   8.4560182 |  40.75217 |\n",
       "| countryFrance | -5.62056003 | 13.2116007 |   4.7484835 |  28.92462 |\n",
       "| countryGermany |  1.79658727 | 38.9616717 |  28.1986089 |  56.63293 |\n",
       "\n"
      ],
      "text/plain": [
       "                 0           1          MeanDecreaseAccuracy MeanDecreaseGini\n",
       "credit_score     48.21520244 -9.6796177  46.3501530          235.26477       \n",
       "age              73.06585642 94.8617851 107.2012888          492.03236       \n",
       "tenure           -0.21189214  3.5158441   1.7928960          149.78246       \n",
       "balance          29.69885092 29.2455507  45.6016421          276.13735       \n",
       "products_number  81.04610630 78.8024076  96.4680646          279.79482       \n",
       "credit_card       0.01408703 -1.4167334  -0.7324281           37.11585       \n",
       "active_member    40.92815087 23.7327091  46.2166264           78.77620       \n",
       "estimated_salary  1.83723787 -0.9862448   0.9920065          268.36424       \n",
       "z_creditscore    47.58298381 -9.3393387  46.1015117          236.17108       \n",
       "genderFemale      6.38042115  5.8092943   8.4560182           40.75217       \n",
       "countryFrance    -5.62056003 13.2116007   4.7484835           28.92462       \n",
       "countryGermany    1.79658727 38.9616717  28.1986089           56.63293       "
      ]
     },
     "metadata": {},
     "output_type": "display_data"
    },
    {
     "data": {
      "image/png": "[encoded data removed]",
      "text/plain": [
       "plot without title"
      ]
     },
     "metadata": {
      "image/png": {
       "height": 420,
       "width": 420
      }
     },
     "output_type": "display_data"
    }
   ],
   "source": [
    "# Load data\n",
    "churn_data <- data.frame(new_df)\n",
    "churn_data$churn <- as.factor(churn_data$churn)\n",
    "\n",
    "# Split data into training and testing sets\n",
    "set.seed(123)\n",
    "trainIndex <- createDataPartition(churn_data$churn, p = .8, list = FALSE)\n",
    "train <- churn_data[trainIndex,]\n",
    "test <- churn_data[-trainIndex,]\n",
    "\n",
    "# Fit the random forest model\n",
    "churn_rf <- randomForest(churn ~ ., data = train, importance = TRUE)\n",
    "\n",
    "# Identify the strongest predictors of churn\n",
    "varImpPlot(churn_rf)  # plot variable importance\n",
    "importance(churn_rf) # return variable importance"
   ]
  },
  {
   "cell_type": "code",
   "execution_count": 95,
   "id": "2cfc1468",
   "metadata": {},
   "outputs": [
    {
     "name": "stdout",
     "output_type": "stream",
     "text": [
      "Accuracy: 0.8754864 \n",
      "Precision: 0.8872518 \n",
      "Recall: 0.9665038 \n"
     ]
    }
   ],
   "source": [
    "# Evaluate the model performance\n",
    "predicted_churn <- predict(churn_rf, newdata = test)\n",
    "cm <- confusionMatrix(predicted_churn, test$churn)  # calculate confusion matrix\n",
    "# Print evaluation metrics\n",
    "cat(\"Accuracy:\", cm$overall['Accuracy'], \"\\n\")\n",
    "cat(\"Precision:\", cm$byClass['Precision'], \"\\n\")\n",
    "cat(\"Recall:\", cm$byClass['Recall'], \"\\n\")"
   ]
  },
  {
   "cell_type": "markdown",
   "id": "957ff95d",
   "metadata": {},
   "source": [
    "+ 88% of the predictions by the model are correct.\n",
    "+ 89% of the predicted positive cases are actually positive.\n",
    "+ 97% of the actual positive cases are correctly predicted as positive."
   ]
  },
  {
   "cell_type": "code",
   "execution_count": 67,
   "id": "2f8bc473",
   "metadata": {},
   "outputs": [
    {
     "ename": "ERROR",
     "evalue": "Error in prediction(pred1[, 2], churn_data$churn): Number of predictions in each run must be equal to the number of labels for each run.\n",
     "output_type": "error",
     "traceback": [
      "Error in prediction(pred1[, 2], churn_data$churn): Number of predictions in each run must be equal to the number of labels for each run.\nTraceback:\n",
      "1. prediction(pred1[, 2], churn_data$churn)",
      "2. stop(paste(\"Number of predictions in each run must be equal\", \n .     \"to the number of labels for each run.\"))"
     ]
    }
   ],
   "source": [
    "# Higher the value of mean decrease accuracy or mean decrease gini score , higher the importance of the variable in the model.\n",
    "# Prediction and calculating performance metrics\n",
    "pred1=predict(churn_rf, type=\"prob\")\n",
    "perf = prediction(pred1[,2], churn_data$churn)\n",
    "\n",
    "#area under curve\n",
    "auc = performance(perf,\"auc\")\n",
    "pred3 = performance(perf,\"tpr\",\"fpr\")\n",
    "plot(pred3, main=\"ROC Curve for Random Forest\",col=2,lwd=2)\n",
    "abline(a=0,b=1,lwd=2,lty=2,col=\"gray\")"
   ]
  },
  {
   "cell_type": "markdown",
   "id": "b3af7d4b",
   "metadata": {},
   "source": [
    "#### 3.3 Support vector machines"
   ]
  },
  {
   "cell_type": "code",
   "execution_count": 96,
   "id": "710ffc14",
   "metadata": {},
   "outputs": [],
   "source": [
    "# Load the data\n",
    "churn_data <- data.frame(new_df)\n",
    "churn_data$churn <- as.factor(churn_data$churn)\n",
    "\n",
    "# Split data into training and testing sets\n",
    "set.seed(123)\n",
    "trainIndex <- createDataPartition(churn_data$churn, p = .8, list = FALSE)\n",
    "train <- churn_data[trainIndex,]\n",
    "test <- churn_data[-trainIndex,]\n",
    "\n",
    "# Run normalization function\n",
    "normalized_data <- normalize_data(train, test)\n",
    "\n",
    "# view the normalized data\n",
    "train <- normalized_data$train_norm\n",
    "test <- normalized_data$test_norm\n",
    "\n",
    "# Delete non-normlized features\n",
    "train <- dplyr::select(train, -age, -credit_score, -estimated_salary, -balance, -z_creditscore)\n",
    "test <- dplyr::select(test, -age, -credit_score, -estimated_salary, -balance, -z_creditscore)"
   ]
  },
  {
   "cell_type": "code",
   "execution_count": 97,
   "id": "4a4a1379",
   "metadata": {},
   "outputs": [
    {
     "data": {
      "text/plain": [
       "\n",
       "Call:\n",
       "svm(formula = churn ~ ., data = train)\n",
       "\n",
       "\n",
       "Parameters:\n",
       "   SVM-Type:  C-classification \n",
       " SVM-Kernel:  radial \n",
       "       cost:  1 \n",
       "\n",
       "Number of Support Vectors:  2699\n",
       "\n",
       " ( 1456 1243 )\n",
       "\n",
       "\n",
       "Number of Classes:  2 \n",
       "\n",
       "Levels: \n",
       " 0 1\n",
       "\n",
       "\n"
      ]
     },
     "metadata": {},
     "output_type": "display_data"
    }
   ],
   "source": [
    "# Fit the SVM model\n",
    "svm_model <- svm(churn ~ ., data = train)\n",
    "\n",
    "# Print the model summary\n",
    "summary(svm_model)\n",
    "\n",
    "# Evaluate model performance on test set\n",
    "predicted_classes <- predict(svm_model, newdata = test)\n",
    "actual_classes <- test$churn\n",
    "\n",
    "# Calculate evaluation metrics\n",
    "confusion_matrix <- confusionMatrix(predicted_classes, actual_classes)\n",
    "accuracy <- confusion_matrix$overall['Accuracy']\n",
    "precision <- confusion_matrix$byClass['Pos Pred Value']\n",
    "recall <- confusion_matrix$byClass['Sensitivity']"
   ]
  },
  {
   "cell_type": "code",
   "execution_count": 98,
   "id": "a44df8bf",
   "metadata": {},
   "outputs": [
    {
     "data": {
      "text/html": [
       "<table class=\"dataframe\">\n",
       "<caption>A matrix: 11 × 1 of type dbl</caption>\n",
       "<tbody>\n",
       "\t<tr><th scope=row>tenure</th><td>  4.2904145</td></tr>\n",
       "\t<tr><th scope=row>products_number</th><td>-19.7361683</td></tr>\n",
       "\t<tr><th scope=row>credit_card</th><td> -0.2831897</td></tr>\n",
       "\t<tr><th scope=row>active_member</th><td> 39.5406366</td></tr>\n",
       "\t<tr><th scope=row>genderFemale</th><td> -5.4672937</td></tr>\n",
       "\t<tr><th scope=row>countryFrance</th><td>  5.2897318</td></tr>\n",
       "\t<tr><th scope=row>countryGermany</th><td>-12.1018213</td></tr>\n",
       "\t<tr><th scope=row>age_norm</th><td> -8.6675563</td></tr>\n",
       "\t<tr><th scope=row>credit_score_norm</th><td> 11.7699379</td></tr>\n",
       "\t<tr><th scope=row>estimated_salary_norm</th><td> -6.7649170</td></tr>\n",
       "\t<tr><th scope=row>balance_norm</th><td> -5.8941019</td></tr>\n",
       "</tbody>\n",
       "</table>\n"
      ],
      "text/latex": [
       "A matrix: 11 × 1 of type dbl\n",
       "\\begin{tabular}{r|l}\n",
       "\ttenure &   4.2904145\\\\\n",
       "\tproducts\\_number & -19.7361683\\\\\n",
       "\tcredit\\_card &  -0.2831897\\\\\n",
       "\tactive\\_member &  39.5406366\\\\\n",
       "\tgenderFemale &  -5.4672937\\\\\n",
       "\tcountryFrance &   5.2897318\\\\\n",
       "\tcountryGermany & -12.1018213\\\\\n",
       "\tage\\_norm &  -8.6675563\\\\\n",
       "\tcredit\\_score\\_norm &  11.7699379\\\\\n",
       "\testimated\\_salary\\_norm &  -6.7649170\\\\\n",
       "\tbalance\\_norm &  -5.8941019\\\\\n",
       "\\end{tabular}\n"
      ],
      "text/markdown": [
       "\n",
       "A matrix: 11 × 1 of type dbl\n",
       "\n",
       "| tenure |   4.2904145 |\n",
       "| products_number | -19.7361683 |\n",
       "| credit_card |  -0.2831897 |\n",
       "| active_member |  39.5406366 |\n",
       "| genderFemale |  -5.4672937 |\n",
       "| countryFrance |   5.2897318 |\n",
       "| countryGermany | -12.1018213 |\n",
       "| age_norm |  -8.6675563 |\n",
       "| credit_score_norm |  11.7699379 |\n",
       "| estimated_salary_norm |  -6.7649170 |\n",
       "| balance_norm |  -5.8941019 |\n",
       "\n"
      ],
      "text/plain": [
       "                      [,1]       \n",
       "tenure                  4.2904145\n",
       "products_number       -19.7361683\n",
       "credit_card            -0.2831897\n",
       "active_member          39.5406366\n",
       "genderFemale           -5.4672937\n",
       "countryFrance           5.2897318\n",
       "countryGermany        -12.1018213\n",
       "age_norm               -8.6675563\n",
       "credit_score_norm      11.7699379\n",
       "estimated_salary_norm  -6.7649170\n",
       "balance_norm           -5.8941019"
      ]
     },
     "metadata": {},
     "output_type": "display_data"
    }
   ],
   "source": [
    "# Calculate variable importance\n",
    "var_imp <- t(svm_model$coefs) %*% svm_model$SV\n",
    "#var_imp <- data.frame(variable = colnames(train)[-ncol(train)], importance = var_imp)\n",
    "var <- data.frame(var_imp[1,])\n",
    "var_imp_t <- t(var_imp)\n",
    "var_imp_t"
   ]
  },
  {
   "cell_type": "markdown",
   "id": "413eadea",
   "metadata": {},
   "source": [
    "+ The most important predictors of customer churn are age, balance, and products_number.\n",
    "+ Active_member is the variable with the most negative impact on churn prediction, which means that active members are less likely to churn.\n",
    "+ Credit_score and tenure have a relatively low impact on churn prediction compared to other variables.\n",
    "+ Among the categorical variables, countryGermany has the highest positive impact on churn prediction, followed by genderFemale, and countryFrance has a negative impact on churn prediction."
   ]
  },
  {
   "cell_type": "code",
   "execution_count": 99,
   "id": "8b0f5861",
   "metadata": {},
   "outputs": [
    {
     "name": "stdout",
     "output_type": "stream",
     "text": [
      "Accuracy: 0.868816 \n",
      "Precision: 0.8728972 \n",
      "Recall: 0.9776692 \n"
     ]
    }
   ],
   "source": [
    "# Print evaluation metrics\n",
    "cat(\"Accuracy:\", accuracy, \"\\n\")\n",
    "cat(\"Precision:\", precision, \"\\n\")\n",
    "cat(\"Recall:\", recall, \"\\n\")"
   ]
  },
  {
   "cell_type": "markdown",
   "id": "b920d0f9",
   "metadata": {},
   "source": [
    "Results without normalization:\n",
    "+ 85% of the predictions by the model are correct.\n",
    "+ 85.7% of the predicted positive cases are actually positive.\n",
    "+ 96.95% of the actual positive cases are correctly predicted as positive."
   ]
  },
  {
   "cell_type": "markdown",
   "id": "8556ae76",
   "metadata": {},
   "source": [
    "#### 3.4 Gradient boosting"
   ]
  },
  {
   "cell_type": "code",
   "execution_count": 119,
   "id": "a0accc09",
   "metadata": {},
   "outputs": [],
   "source": [
    "# Load and prepare the data\n",
    "churn_data <- data.frame(new_df)\n",
    "churn_data <- dplyr::select(churn_data, select = -z_creditscore)\n",
    "\n",
    "# Split data into training and testing sets\n",
    "set.seed(123)\n",
    "trainIndex <- createDataPartition(churn_data$churn, p = 0.8, list = FALSE)\n",
    "train <- churn_data[trainIndex, ]\n",
    "test <- churn_data[-trainIndex, ]\n",
    "\n",
    "# Train XGBoost model\n",
    "xgb_model <- xgboost(data = data.matrix(subset(train, select = -churn)),\n",
    "                     label = train$churn,\n",
    "                     nrounds = 100,\n",
    "                     objective = \"binary:logistic\",\n",
    "                     verbose = 0)"
   ]
  },
  {
   "cell_type": "code",
   "execution_count": 120,
   "id": "75cb95fb",
   "metadata": {},
   "outputs": [
    {
     "data": {
      "image/png": "[encoded data removed]",
      "text/plain": [
       "plot without title"
      ]
     },
     "metadata": {
      "image/png": {
       "height": 420,
       "width": 420
      }
     },
     "output_type": "display_data"
    }
   ],
   "source": [
    "# Variable importance plot\n",
    "importance_matrix <- xgb.importance(colnames(subset(train, select = -churn)), model = xgb_model)\n",
    "xgb.plot.importance(importance_matrix, xlab = \"Relative Importance\")"
   ]
  },
  {
   "cell_type": "markdown",
   "id": "b741630b",
   "metadata": {},
   "source": [
    "+ Age, balance and products_number are the three most important predictors"
   ]
  },
  {
   "cell_type": "code",
   "execution_count": 123,
   "id": "2619ddcd",
   "metadata": {},
   "outputs": [
    {
     "name": "stdout",
     "output_type": "stream",
     "text": [
      "Accuracy: 0.84 \n",
      "Precision: 0.8692557 \n",
      "Recall: 0.9398181 \n"
     ]
    }
   ],
   "source": [
    "# you've to do your prediction here\n",
    "pred <- predict(xgb_model, as.matrix(as.matrix(test[,c(-9)])))\n",
    "\n",
    "# and transform them in a 0 1 variable, you can choose the value to get 1\n",
    "pred <-  as.numeric(pred > 0.5)\n",
    "\n",
    "# Save confusion matrix\n",
    "cm <- confusionMatrix(factor(pred),factor(churn_data[-trainIndex, ]$churn))\n",
    "\n",
    "# Print evaluation metrics\n",
    "cat(\"Accuracy:\", cm$overall['Accuracy'], \"\\n\")\n",
    "cat(\"Precision:\", cm$byClass['Precision'], \"\\n\")\n",
    "cat(\"Recall:\", cm$byClass['Recall'], \"\\n\")"
   ]
  },
  {
   "cell_type": "markdown",
   "id": "25a06a14",
   "metadata": {},
   "source": [
    "+ The model has correctly predicted 84% of the outcomes.\n",
    "+ Out of all the positive predictions made by the model, around 87% of them were correct.\n",
    "+ Out of all the actual positive cases, the model was able to correctly identify around 94% of them."
   ]
  },
  {
   "cell_type": "code",
   "execution_count": 139,
   "id": "158b2cdc",
   "metadata": {},
   "outputs": [],
   "source": [
    "grid_search <- function(params, random=FALSE) {\n",
    "\n",
    "  set.seed(2)\n",
    "    \n",
    "  xgb <- xgboost(data = data.matrix(subset(train, select = -churn)), label = train$churn, booster = \"gbtree\", objective = \"binary:logistic\", nrounds = 100)\n",
    "  \n",
    "  kfold <- caret::createFolds(train$churn, k = 5, list = TRUE, returnTrain = TRUE)\n",
    "  \n",
    "  if (random) {\n",
    "    grid <- caret::train(xgb, method = \"xgbTree\", tuneGrid = params, trControl = trainControl(method = \"cv\", number = 5, classProbs = TRUE, summaryFunction = twoClassSummary), nIter = 20, verboseIter = TRUE, seed = 2)\n",
    "  } else {\n",
    "    grid <- caret::train(xgb, method = \"xgbTree\", tuneGrid = params, trControl = trainControl(method = \"cv\", number = 5, classProbs = TRUE, summaryFunction = twoClassSummary))\n",
    "  }\n",
    "  \n",
    "  # Extract best params\n",
    "  best_params <- grid$bestTune\n",
    "  \n",
    "  # Print best params\n",
    "  print(paste0(\"Best params: \", best_params))\n",
    "  \n",
    "  # Compute best score\n",
    "  best_score <- max(grid$results$Accuracy)\n",
    "  \n",
    "  # Print best score\n",
    "  print(paste0(\"Best score: \", round(best_score, 5)))\n",
    "  \n",
    "}"
   ]
  },
  {
   "cell_type": "code",
   "execution_count": 140,
   "id": "3ad93643",
   "metadata": {},
   "outputs": [
    {
     "name": "stdout",
     "output_type": "stream",
     "text": [
      "[1]\ttrain-logloss:0.541226 \n",
      "[2]\ttrain-logloss:0.457338 \n",
      "[3]\ttrain-logloss:0.406217 \n",
      "[4]\ttrain-logloss:0.373498 \n",
      "[5]\ttrain-logloss:0.348700 \n",
      "[6]\ttrain-logloss:0.330891 \n",
      "[7]\ttrain-logloss:0.318331 \n",
      "[8]\ttrain-logloss:0.308562 \n",
      "[9]\ttrain-logloss:0.300556 \n",
      "[10]\ttrain-logloss:0.294299 \n",
      "[11]\ttrain-logloss:0.288000 \n",
      "[12]\ttrain-logloss:0.282575 \n",
      "[13]\ttrain-logloss:0.279158 \n",
      "[14]\ttrain-logloss:0.275101 \n",
      "[15]\ttrain-logloss:0.272470 \n",
      "[16]\ttrain-logloss:0.270007 \n",
      "[17]\ttrain-logloss:0.267113 \n",
      "[18]\ttrain-logloss:0.263944 \n",
      "[19]\ttrain-logloss:0.259991 \n",
      "[20]\ttrain-logloss:0.256610 \n",
      "[21]\ttrain-logloss:0.254848 \n",
      "[22]\ttrain-logloss:0.251944 \n",
      "[23]\ttrain-logloss:0.248309 \n",
      "[24]\ttrain-logloss:0.247471 \n",
      "[25]\ttrain-logloss:0.246422 \n",
      "[26]\ttrain-logloss:0.244825 \n",
      "[27]\ttrain-logloss:0.239628 \n",
      "[28]\ttrain-logloss:0.236136 \n",
      "[29]\ttrain-logloss:0.233688 \n",
      "[30]\ttrain-logloss:0.231379 \n",
      "[31]\ttrain-logloss:0.228942 \n",
      "[32]\ttrain-logloss:0.228194 \n",
      "[33]\ttrain-logloss:0.225981 \n",
      "[34]\ttrain-logloss:0.221916 \n",
      "[35]\ttrain-logloss:0.219318 \n",
      "[36]\ttrain-logloss:0.216906 \n",
      "[37]\ttrain-logloss:0.214661 \n",
      "[38]\ttrain-logloss:0.210072 \n",
      "[39]\ttrain-logloss:0.207156 \n",
      "[40]\ttrain-logloss:0.206659 \n",
      "[41]\ttrain-logloss:0.205015 \n",
      "[42]\ttrain-logloss:0.203501 \n",
      "[43]\ttrain-logloss:0.200191 \n",
      "[44]\ttrain-logloss:0.199183 \n",
      "[45]\ttrain-logloss:0.197806 \n",
      "[46]\ttrain-logloss:0.197542 \n",
      "[47]\ttrain-logloss:0.195233 \n",
      "[48]\ttrain-logloss:0.194895 \n",
      "[49]\ttrain-logloss:0.193619 \n",
      "[50]\ttrain-logloss:0.190577 \n",
      "[51]\ttrain-logloss:0.189733 \n",
      "[52]\ttrain-logloss:0.189425 \n",
      "[53]\ttrain-logloss:0.187505 \n",
      "[54]\ttrain-logloss:0.184714 \n",
      "[55]\ttrain-logloss:0.184220 \n",
      "[56]\ttrain-logloss:0.183904 \n",
      "[57]\ttrain-logloss:0.183190 \n",
      "[58]\ttrain-logloss:0.182939 \n",
      "[59]\ttrain-logloss:0.182289 \n",
      "[60]\ttrain-logloss:0.181040 \n",
      "[61]\ttrain-logloss:0.180068 \n",
      "[62]\ttrain-logloss:0.179098 \n",
      "[63]\ttrain-logloss:0.177595 \n",
      "[64]\ttrain-logloss:0.175845 \n",
      "[65]\ttrain-logloss:0.174687 \n",
      "[66]\ttrain-logloss:0.173307 \n",
      "[67]\ttrain-logloss:0.172959 \n",
      "[68]\ttrain-logloss:0.171604 \n",
      "[69]\ttrain-logloss:0.169243 \n",
      "[70]\ttrain-logloss:0.166530 \n",
      "[71]\ttrain-logloss:0.165835 \n",
      "[72]\ttrain-logloss:0.165535 \n",
      "[73]\ttrain-logloss:0.163422 \n",
      "[74]\ttrain-logloss:0.160863 \n",
      "[75]\ttrain-logloss:0.159661 \n",
      "[76]\ttrain-logloss:0.157930 \n",
      "[77]\ttrain-logloss:0.157264 \n",
      "[78]\ttrain-logloss:0.156709 \n",
      "[79]\ttrain-logloss:0.154937 \n",
      "[80]\ttrain-logloss:0.153417 \n",
      "[81]\ttrain-logloss:0.151838 \n",
      "[82]\ttrain-logloss:0.150564 \n",
      "[83]\ttrain-logloss:0.147787 \n",
      "[84]\ttrain-logloss:0.146512 \n",
      "[85]\ttrain-logloss:0.145232 \n",
      "[86]\ttrain-logloss:0.143828 \n",
      "[87]\ttrain-logloss:0.143698 \n",
      "[88]\ttrain-logloss:0.143115 \n",
      "[89]\ttrain-logloss:0.142935 \n",
      "[90]\ttrain-logloss:0.142432 \n",
      "[91]\ttrain-logloss:0.141324 \n",
      "[92]\ttrain-logloss:0.141001 \n",
      "[93]\ttrain-logloss:0.139216 \n",
      "[94]\ttrain-logloss:0.138853 \n",
      "[95]\ttrain-logloss:0.137749 \n",
      "[96]\ttrain-logloss:0.137199 \n",
      "[97]\ttrain-logloss:0.136673 \n",
      "[98]\ttrain-logloss:0.135043 \n",
      "[99]\ttrain-logloss:0.134455 \n",
      "[100]\ttrain-logloss:0.132620 \n"
     ]
    },
    {
     "ename": "ERROR",
     "evalue": "Error in x[0, , drop = FALSE]: incorrect number of dimensions\n",
     "output_type": "error",
     "traceback": [
      "Error in x[0, , drop = FALSE]: incorrect number of dimensions\nTraceback:\n",
      "1. grid_search(params = list(nrounds = c(100, 200, 400, 800)))",
      "2. caret::train(xgb, method = \"xgbTree\", tuneGrid = params, trControl = trainControl(method = \"cv\", \n .     number = 5, classProbs = TRUE, summaryFunction = twoClassSummary))   # at line 12 of file <text>",
      "3. train.default(xgb, method = \"xgbTree\", tuneGrid = params, trControl = trainControl(method = \"cv\", \n .     number = 5, classProbs = TRUE, summaryFunction = twoClassSummary))"
     ]
    }
   ],
   "source": [
    "grid_search(params = list(nrounds = c(100, 200, 400, 800)))"
   ]
  },
  {
   "cell_type": "code",
   "execution_count": 129,
   "id": "248882d1",
   "metadata": {},
   "outputs": [
    {
     "name": "stderr",
     "output_type": "stream",
     "text": [
      "Warning message in train.default(x, y, weights = w, ...):\n",
      "\"You are trying to do regression and your outcome only has two possible values Are you trying to do classification? If so, use a 2 level factor as your outcome column.\"\n",
      "Warning message in train.default(x, y, weights = w, ...):\n",
      "\"cannnot compute class probabilities for regression\"\n"
     ]
    },
    {
     "ename": "ERROR",
     "evalue": "Error: The tuning parameter grid should have columns nrounds, max_depth, eta, gamma, colsample_bytree, min_child_weight, subsample\n",
     "output_type": "error",
     "traceback": [
      "Error: The tuning parameter grid should have columns nrounds, max_depth, eta, gamma, colsample_bytree, min_child_weight, subsample\nTraceback:\n",
      "1. train(churn ~ ., data = train, method = \"xgbTree\", trControl = trainControl(method = \"cv\", \n .     number = 5, verboseIter = TRUE, classProbs = TRUE, summaryFunction = twoClassSummary), \n .     tuneGrid = grid, objective = \"binary:logistic\")",
      "2. train.formula(churn ~ ., data = train, method = \"xgbTree\", trControl = trainControl(method = \"cv\", \n .     number = 5, verboseIter = TRUE, classProbs = TRUE, summaryFunction = twoClassSummary), \n .     tuneGrid = grid, objective = \"binary:logistic\")",
      "3. train(x, y, weights = w, ...)",
      "4. train.default(x, y, weights = w, ...)",
      "5. stop(paste(\"The tuning parameter grid should have columns\", paste(tuneNames, \n .     collapse = \", \", sep = \"\")), call. = FALSE)"
     ]
    }
   ],
   "source": [
    "# Define the search grid\n",
    "grid <- expand.grid(nrounds = c(50, 100, 150, 250),\n",
    "                    max_depth = c(3, 6, 9),\n",
    "                    eta = c(0.01, 0.05, 0.1),\n",
    "                    gamma = c(0, 0.1, 0.5),\n",
    "                    colsample_bytree = c(0.5, 0.75, 1),\n",
    "                    min_child_weight = c(1, 5, 10),\n",
    "                    subsample = c(0.5, 0.75, 1),\n",
    "                    lambda = c(0.1, 1, 10))\n",
    "\n",
    "# Train and tune the XGBoost model\n",
    "set.seed(123)\n",
    "xgb_model <- train(churn ~ ., data = train, method = \"xgbTree\",\n",
    "                   trControl = trainControl(method = \"cv\", number = 5, verboseIter = TRUE,\n",
    "                                            classProbs = TRUE, summaryFunction = twoClassSummary),\n",
    "                   tuneGrid = grid,\n",
    "                   objective = \"binary:logistic\")\n",
    "\n",
    "# Print the results\n",
    "print(xgb_model)"
   ]
  },
  {
   "cell_type": "code",
   "execution_count": null,
   "id": "3abbbc05",
   "metadata": {},
   "outputs": [],
   "source": [
    "\n",
    "# Make predictions on the testing set\n",
    "test$predicted_churn <- predict(xgb_model, newdata = test)\n",
    "\n",
    "# Evaluate the performance of the model\n",
    "confusionMatrix(table(test$predicted_churn > 0.5, test$churn))"
   ]
  },
  {
   "cell_type": "markdown",
   "id": "fbffcacb",
   "metadata": {},
   "source": [
    "# 4: Recommendations"
   ]
  },
  {
   "cell_type": "markdown",
   "id": "6bdb1983",
   "metadata": {},
   "source": [
    "Based on your analysis, develop 3 recommendations that will help EBI to better manage customer churn. Explain the rationale behind those 3 recommendations. "
   ]
  },
  {
   "cell_type": "markdown",
   "id": "7d0c70fd",
   "metadata": {},
   "source": [
    "EBI has formulated a list of a subset of its current customers (see the dataset “ebi_exp_customers.csv” to answer this question) and would like to use your prediction model to take proactive measures to retain these customers. Specifically, the bank would target the customers (say, via telemarketing) who have high likelihood of churn."
   ]
  },
  {
   "cell_type": "markdown",
   "id": "e4ab95a3",
   "metadata": {},
   "source": [
    "Use your prediction model to predict the likelihood of churn for each customer in the dataset."
   ]
  },
  {
   "cell_type": "markdown",
   "id": "d0d30179",
   "metadata": {},
   "source": [
    "Suppose that the value of retaining a customer is €5 while the cost incurred by the bank to avoid a customer from churning is €1. How many and which customers from the dataset (“ebi_exp_customers.csv”) would you recommend the bank to target to maximize the total expected profit from this proactive targeting experiment? How would your answer change if the value of retaining a customer goes up to €10? Explain your computation"
   ]
  },
  {
   "cell_type": "code",
   "execution_count": 152,
   "id": "24c022b6",
   "metadata": {},
   "outputs": [],
   "source": [
    "pre_processing <- function(df) {\n",
    "  # Drop customer_id column\n",
    "  df <- select(df, -customer_id)\n",
    "  \n",
    "  # One-hot encoding of gender variable\n",
    "  gender_encoded <- model.matrix(~ gender - 1, data = df)\n",
    "  new_df <- cbind(df, gender_encoded)\n",
    "  \n",
    "  # One-hot encoding of country variable\n",
    "  country_encoded <- model.matrix(~ country - 1, data = df)\n",
    "  new_df <- cbind(new_df, country_encoded)\n",
    "  \n",
    "  # Drop redundant columns\n",
    "  new_df <- select(new_df, -gender, -genderMale, -country, -countrySpain)\n",
    "  \n",
    "  return(new_df)\n",
    "}"
   ]
  },
  {
   "cell_type": "code",
   "execution_count": 206,
   "id": "b00dae1a",
   "metadata": {},
   "outputs": [
    {
     "data": {
      "text/html": [
       "<table class=\"dataframe\">\n",
       "<caption>A data.frame: 6 × 12</caption>\n",
       "<thead>\n",
       "\t<tr><th></th><th scope=col>credit_score</th><th scope=col>age</th><th scope=col>tenure</th><th scope=col>balance</th><th scope=col>products_number</th><th scope=col>credit_card</th><th scope=col>active_member</th><th scope=col>estimated_salary</th><th scope=col>churn</th><th scope=col>genderFemale</th><th scope=col>countryFrance</th><th scope=col>countryGermany</th></tr>\n",
       "\t<tr><th></th><th scope=col>&lt;int&gt;</th><th scope=col>&lt;int&gt;</th><th scope=col>&lt;int&gt;</th><th scope=col>&lt;dbl&gt;</th><th scope=col>&lt;int&gt;</th><th scope=col>&lt;int&gt;</th><th scope=col>&lt;int&gt;</th><th scope=col>&lt;dbl&gt;</th><th scope=col>&lt;int&gt;</th><th scope=col>&lt;dbl&gt;</th><th scope=col>&lt;dbl&gt;</th><th scope=col>&lt;dbl&gt;</th></tr>\n",
       "</thead>\n",
       "<tbody>\n",
       "\t<tr><th scope=row>1</th><td>579</td><td>33</td><td>1</td><td>118392.8</td><td>1</td><td>1</td><td>1</td><td>157564.75</td><td>0</td><td>1</td><td>1</td><td>0</td></tr>\n",
       "\t<tr><th scope=row>2</th><td>728</td><td>59</td><td>4</td><td>     0.0</td><td>1</td><td>1</td><td>1</td><td>163365.85</td><td>1</td><td>1</td><td>1</td><td>0</td></tr>\n",
       "\t<tr><th scope=row>3</th><td>660</td><td>40</td><td>5</td><td>131754.1</td><td>2</td><td>1</td><td>1</td><td> 38761.61</td><td>0</td><td>0</td><td>1</td><td>0</td></tr>\n",
       "\t<tr><th scope=row>4</th><td>543</td><td>37</td><td>3</td><td>122304.6</td><td>2</td><td>0</td><td>0</td><td> 33998.70</td><td>0</td><td>1</td><td>0</td><td>1</td></tr>\n",
       "\t<tr><th scope=row>5</th><td>572</td><td>43</td><td>2</td><td>140432.0</td><td>1</td><td>1</td><td>0</td><td> 26450.57</td><td>1</td><td>0</td><td>1</td><td>0</td></tr>\n",
       "\t<tr><th scope=row>6</th><td>694</td><td>31</td><td>6</td><td>109052.6</td><td>2</td><td>1</td><td>1</td><td> 19448.93</td><td>1</td><td>0</td><td>0</td><td>1</td></tr>\n",
       "</tbody>\n",
       "</table>\n"
      ],
      "text/latex": [
       "A data.frame: 6 × 12\n",
       "\\begin{tabular}{r|llllllllllll}\n",
       "  & credit\\_score & age & tenure & balance & products\\_number & credit\\_card & active\\_member & estimated\\_salary & churn & genderFemale & countryFrance & countryGermany\\\\\n",
       "  & <int> & <int> & <int> & <dbl> & <int> & <int> & <int> & <dbl> & <int> & <dbl> & <dbl> & <dbl>\\\\\n",
       "\\hline\n",
       "\t1 & 579 & 33 & 1 & 118392.8 & 1 & 1 & 1 & 157564.75 & 0 & 1 & 1 & 0\\\\\n",
       "\t2 & 728 & 59 & 4 &      0.0 & 1 & 1 & 1 & 163365.85 & 1 & 1 & 1 & 0\\\\\n",
       "\t3 & 660 & 40 & 5 & 131754.1 & 2 & 1 & 1 &  38761.61 & 0 & 0 & 1 & 0\\\\\n",
       "\t4 & 543 & 37 & 3 & 122304.6 & 2 & 0 & 0 &  33998.70 & 0 & 1 & 0 & 1\\\\\n",
       "\t5 & 572 & 43 & 2 & 140432.0 & 1 & 1 & 0 &  26450.57 & 1 & 0 & 1 & 0\\\\\n",
       "\t6 & 694 & 31 & 6 & 109052.6 & 2 & 1 & 1 &  19448.93 & 1 & 0 & 0 & 1\\\\\n",
       "\\end{tabular}\n"
      ],
      "text/markdown": [
       "\n",
       "A data.frame: 6 × 12\n",
       "\n",
       "| <!--/--> | credit_score &lt;int&gt; | age &lt;int&gt; | tenure &lt;int&gt; | balance &lt;dbl&gt; | products_number &lt;int&gt; | credit_card &lt;int&gt; | active_member &lt;int&gt; | estimated_salary &lt;dbl&gt; | churn &lt;int&gt; | genderFemale &lt;dbl&gt; | countryFrance &lt;dbl&gt; | countryGermany &lt;dbl&gt; |\n",
       "|---|---|---|---|---|---|---|---|---|---|---|---|---|\n",
       "| 1 | 579 | 33 | 1 | 118392.8 | 1 | 1 | 1 | 157564.75 | 0 | 1 | 1 | 0 |\n",
       "| 2 | 728 | 59 | 4 |      0.0 | 1 | 1 | 1 | 163365.85 | 1 | 1 | 1 | 0 |\n",
       "| 3 | 660 | 40 | 5 | 131754.1 | 2 | 1 | 1 |  38761.61 | 0 | 0 | 1 | 0 |\n",
       "| 4 | 543 | 37 | 3 | 122304.6 | 2 | 0 | 0 |  33998.70 | 0 | 1 | 0 | 1 |\n",
       "| 5 | 572 | 43 | 2 | 140432.0 | 1 | 1 | 0 |  26450.57 | 1 | 0 | 1 | 0 |\n",
       "| 6 | 694 | 31 | 6 | 109052.6 | 2 | 1 | 1 |  19448.93 | 1 | 0 | 0 | 1 |\n",
       "\n"
      ],
      "text/plain": [
       "  credit_score age tenure balance  products_number credit_card active_member\n",
       "1 579          33  1      118392.8 1               1           1            \n",
       "2 728          59  4           0.0 1               1           1            \n",
       "3 660          40  5      131754.1 2               1           1            \n",
       "4 543          37  3      122304.6 2               0           0            \n",
       "5 572          43  2      140432.0 1               1           0            \n",
       "6 694          31  6      109052.6 2               1           1            \n",
       "  estimated_salary churn genderFemale countryFrance countryGermany\n",
       "1 157564.75        0     1            1             0             \n",
       "2 163365.85        1     1            1             0             \n",
       "3  38761.61        0     0            1             0             \n",
       "4  33998.70        0     1            0             1             \n",
       "5  26450.57        1     0            1             0             \n",
       "6  19448.93        1     0            0             1             "
      ]
     },
     "metadata": {},
     "output_type": "display_data"
    }
   ],
   "source": [
    "df_2 <- read.csv(\"ebi_exp_customers.csv\")\n",
    "df_2 <- pre_processing(df_2)\n",
    "head(df_2)"
   ]
  },
  {
   "cell_type": "code",
   "execution_count": 214,
   "id": "e0b30f58",
   "metadata": {},
   "outputs": [],
   "source": [
    "# Load data\n",
    "churn_data <- data.frame(new_df)\n",
    "churn_data$churn <- as.factor(churn_data$churn)\n",
    "churn_data <- dplyr::select(churn_data, select = -z_creditscore)\n",
    "df_2$churn <- as.factor(df_2$churn)\n",
    "\n",
    "# Fit the random forest model\n",
    "churn_rf <- randomForest(churn ~ ., data = churn_data, importance = TRUE, ntree = 500)"
   ]
  },
  {
   "cell_type": "code",
   "execution_count": 228,
   "id": "b9638c4b",
   "metadata": {},
   "outputs": [],
   "source": [
    "# Define function to answer question of how many and which customers to target in EUR 5 and EUR 10 scenario\n",
    "customer_retention <- function(df) {\n",
    "    \n",
    "    # Set the cost and value of retention\n",
    "    retention_cost <- 1\n",
    "    retention_value_5 <- 5\n",
    "    retention_value_10 <- 10\n",
    "    \n",
    "    # Calculate churn probability for every customer in data set\n",
    "    df$churn_probs <- predict(churn_rf, newdata = df, type = \"prob\")[,2]\n",
    "    \n",
    "    # Sort data set based on churn probability per customer\n",
    "    df <- df %>% arrange(desc(churn_probs))\n",
    "    \n",
    "    # Caculate expected profit per customer\n",
    "    df$cost <- 1\n",
    "    df$expected_profit_5 <- retention_value_5 * df$churn_probs - df$cost\n",
    "    df$expected_profit_10 <- retention_value_10 * df$churn_probs - df$cost\n",
    "    \n",
    "    # Calculate the number of customers to be targeted in EUR 5 and EUR 10 scenario and print them\n",
    "    num_cust_5 <- sum(df$expected_profit_5 > 0)\n",
    "    num_cust_10 <- sum(df$expected_profit_10 > 0)\n",
    "    print(paste0(\"Out of a total of 1,000 customers, \",  num_cust_5, \" are to be targeted in the EUR 5 value scenario value and \", num_cust_10, \" in the EUR 10 value scenario.\"))    \n",
    "    \n",
    "    # Calculate total expected profit per scenario\n",
    "    tot_profit_5 <- sum(df$expected_profit_5[df$expected_profit_5 > 0])\n",
    "    tot_profit_10 <- sum(df$expected_profit_10[df$expected_profit_10 > 0])\n",
    "    print(paste0(\"The total expected profit in the EUR 5 scenario would be \",  tot_profit_5, \" and \", tot_profit_10, \" in the EUR 10 scenario.\"))    \n",
    "    \n",
    "    # Save two separate data sets with the customers to be targeted in the two scenarios\n",
    "    df_5_scenario <- df %>% filter(expected_profit_5 > 0)\n",
    "    df_10_scenario <- df %>% filter(expected_profit_10 > 0)\n",
    "    \n",
    "    return(list(df_5_scenario, df_10_scenario, num_cust_5, num_cust_10, tot_profit_5, tot_profit_10))\n",
    "}"
   ]
  },
  {
   "cell_type": "code",
   "execution_count": 229,
   "id": "c6cd056f",
   "metadata": {},
   "outputs": [
    {
     "name": "stdout",
     "output_type": "stream",
     "text": [
      "[1] \"Out of a total of 1,000 customers, 312 are to be targeted in the EUR 5 value scenario value and 503 in the EUR 10 value scenario.\"\n",
      "[1] \"The total expected profit in the EUR 5 scenario would be 447.61 and 1295.62 in the EUR 10 scenario.\"\n"
     ]
    }
   ],
   "source": [
    "results <- customer_retention(df_2)\n",
    "\n",
    "# Save output of customer retention function\n",
    "df_5_scenario <- results[[1]]\n",
    "df_10_scenario <- results[[2]]\n",
    "num_cust_5 <- results[[3]]\n",
    "num_cust_10 <- results[[4]]\n",
    "tot_profit_5 <- results[[5]]\n",
    "tot_profit_10 <- results[[6]]"
   ]
  },
  {
   "cell_type": "code",
   "execution_count": 240,
   "id": "5f7da163",
   "metadata": {},
   "outputs": [],
   "source": [
    "# Create column to identify scenarios\n",
    "df_5_scenario$scenario <- 0\n",
    "df_10_scenario$scenario <- 1\n",
    "\n",
    "# combine both data frames into one\n",
    "df_vis <- rbind(df_5_scenario, df_10_scenario)"
   ]
  },
  {
   "cell_type": "code",
   "execution_count": 267,
   "id": "be1c9088",
   "metadata": {},
   "outputs": [],
   "source": [
    "# Define a function that takes a dataframe and a list of numeric variables as input to create historgrams and return mean values\n",
    "plot_var_by_scenario <- function(df, vars) {\n",
    "  \n",
    "  for(var in vars) {\n",
    "    \n",
    "    # create plot of variable distribution\n",
    "    p <- ggplot(df, aes(x = !!sym(var), fill = as.factor(scenario))) +\n",
    "      geom_histogram(position = \"identity\", alpha = 0.5, bins = 25) +\n",
    "      scale_fill_manual(values = c(\"red\", \"blue\"), labels=c('EUR 5 scenario', 'EUR 10 scenario')) +\n",
    "      labs(title = paste0(\"Histogram of \", var, \" in EUR 5 vs EUR 10 scenario\"), \n",
    "           x = var, y = \"Frequency\", fill = \"Scenario\") +\n",
    "      theme_classic()\n",
    "    \n",
    "    # print plot\n",
    "    print(p)\n",
    "    \n",
    "    # calculate and print mean and median values by scenario\n",
    "    mean_5 <- mean(df[[var]][df$scenario == 0], na.rm = TRUE)\n",
    "    mean_10 <- mean(df[[var]][df$scenario == 1], na.rm = TRUE)\n",
    "    cat(paste0(\"Mean \", var, \" in EUR 5 scenario: \", round(mean_5, 2), \"; Median: \", median(df[[var]][df$scenario == 0]),\"\\n\"))\n",
    "    cat(paste0(\"Mean \", var, \" in EUR 10 scenario: \", round(mean_10, 2), \"; Median: \", median(df[[var]][df$scenario == 1]),\"\\n\\n\"))\n",
    "  }\n",
    "}"
   ]
  },
  {
   "cell_type": "code",
   "execution_count": 302,
   "id": "36454221",
   "metadata": {},
   "outputs": [
    {
     "name": "stdout",
     "output_type": "stream",
     "text": [
      "[1] \"age has a statistically significant relationship with scenario: p = 6.93390935114435e-05\"\n",
      "[1] \"churn_probs has a statistically significant relationship with scenario: p = 7.81869440851485e-13\"\n"
     ]
    }
   ],
   "source": [
    "# Test whether there are statistical differences between customers to be targeted in EUR 5 and EUR 10 scenario\n",
    "numeric_vars <- c(\"credit_score\", \"age\", \"tenure\", \"balance\", \"estimated_salary\", \"churn_probs\", \"products_number\")\n",
    "categorical_vars <- c(\"credit_card\", \"active_member\",\"genderFemale\",\"countryFrance\", \"countryGermany\")\n",
    "statistical_test_results <- test_variables(df_vis, numeric_vars = numeric_vars, categorical_vars = categorical_vars, \"scenario\")"
   ]
  },
  {
   "cell_type": "code",
   "execution_count": 268,
   "id": "616a473a",
   "metadata": {
    "scrolled": false
   },
   "outputs": [
    {
     "name": "stdout",
     "output_type": "stream",
     "text": [
      "Mean credit_score in EUR 5 scenario: 646.16; Median: 649.5\n",
      "Mean credit_score in EUR 10 scenario: 652.09; Median: 658\n",
      "\n"
     ]
    },
    {
     "data": {
      "image/png": "[encoded data removed]",
      "text/plain": [
       "plot without title"
      ]
     },
     "metadata": {
      "image/png": {
       "height": 420,
       "width": 420
      }
     },
     "output_type": "display_data"
    },
    {
     "name": "stdout",
     "output_type": "stream",
     "text": [
      "Mean age in EUR 5 scenario: 45.99; Median: 45\n",
      "Mean age in EUR 10 scenario: 43.09; Median: 42\n",
      "\n"
     ]
    },
    {
     "data": {
      "image/png": "[encoded data removed]",
      "text/plain": [
       "plot without title"
      ]
     },
     "metadata": {
      "image/png": {
       "height": 420,
       "width": 420
      }
     },
     "output_type": "display_data"
    },
    {
     "name": "stdout",
     "output_type": "stream",
     "text": [
      "Mean balance in EUR 5 scenario: 92337; Median: 107838.19\n",
      "Mean balance in EUR 10 scenario: 92549.68; Median: 106804.26\n",
      "\n"
     ]
    },
    {
     "data": {
      "image/png": "[encoded data removed]",
      "text/plain": [
       "plot without title"
      ]
     },
     "metadata": {
      "image/png": {
       "height": 420,
       "width": 420
      }
     },
     "output_type": "display_data"
    },
    {
     "name": "stdout",
     "output_type": "stream",
     "text": [
      "Mean products_number in EUR 5 scenario: 1.43; Median: 1\n",
      "Mean products_number in EUR 10 scenario: 1.38; Median: 1\n",
      "\n"
     ]
    },
    {
     "data": {
      "image/png": "[encoded data removed]",
      "text/plain": [
       "plot without title"
      ]
     },
     "metadata": {
      "image/png": {
       "height": 420,
       "width": 420
      }
     },
     "output_type": "display_data"
    },
    {
     "name": "stdout",
     "output_type": "stream",
     "text": [
      "Mean estimated_salary in EUR 5 scenario: 99645.8; Median: 100897.48\n",
      "Mean estimated_salary in EUR 10 scenario: 98994.2; Median: 102628.56\n",
      "\n"
     ]
    },
    {
     "data": {
      "image/png": "[encoded data removed]",
      "text/plain": [
       "plot without title"
      ]
     },
     "metadata": {
      "image/png": {
       "height": 420,
       "width": 420
      }
     },
     "output_type": "display_data"
    },
    {
     "name": "stdout",
     "output_type": "stream",
     "text": [
      "Mean churn_probs in EUR 5 scenario: 0.49; Median: 0.399\n",
      "Mean churn_probs in EUR 10 scenario: 0.36; Median: 0.254\n",
      "\n"
     ]
    },
    {
     "data": {
      "image/png": "[encoded data removed]",
      "text/plain": [
       "plot without title"
      ]
     },
     "metadata": {
      "image/png": {
       "height": 420,
       "width": 420
      }
     },
     "output_type": "display_data"
    }
   ],
   "source": [
    "# Define list of variables to plot histograms for\n",
    "vars <- c(\"credit_score\", \"age\", \"balance\",\"products_number\",\"estimated_salary\", \"churn_probs\")\n",
    "plot_var_by_scenario(df_vis,vars)"
   ]
  }
 ],
 "metadata": {
  "kernelspec": {
   "display_name": "R",
   "language": "R",
   "name": "ir"
  },
  "language_info": {
   "codemirror_mode": "r",
   "file_extension": ".r",
   "mimetype": "text/x-r-source",
   "name": "R",
   "pygments_lexer": "r",
   "version": "4.1.3"
  }
 },
 "nbformat": 4,
 "nbformat_minor": 5
}
