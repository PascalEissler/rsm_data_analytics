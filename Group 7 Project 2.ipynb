{
 "cells": [
  {
   "cell_type": "markdown",
   "id": "e95dd269",
   "metadata": {},
   "source": [
    "# 0: Import packages & data"
   ]
  },
  {
   "cell_type": "code",
   "execution_count": 429,
   "id": "75b1a8c6",
   "metadata": {},
   "outputs": [
    {
     "name": "stderr",
     "output_type": "stream",
     "text": [
      "\n",
      "Attaching package: 'EnvStats'\n",
      "\n",
      "\n",
      "The following objects are masked from 'package:e1071':\n",
      "\n",
      "    kurtosis, skewness\n",
      "\n",
      "\n",
      "The following objects are masked from 'package:stats':\n",
      "\n",
      "    predict, predict.lm\n",
      "\n",
      "\n",
      "The following object is masked from 'package:base':\n",
      "\n",
      "    print.default\n",
      "\n",
      "\n"
     ]
    }
   ],
   "source": [
    "# Import packages\n",
    "\n",
    "# Visualization packages:\n",
    "library(tidyverse)\n",
    "library(ggbeeswarm)\n",
    "library(psych)\n",
    "\n",
    "# Data pre-processing\n",
    "library(outliers)\n",
    "library(EnvStats) # Rosner’s test to identify outlier\n",
    "\n",
    "# Data manipulation: \n",
    "library(dplyr)\n",
    "library(reshape2)\n",
    "\n",
    "# Machine Learning\n",
    "library(randomForest)\n",
    "library(ROCR)\n",
    "library(caret)\n",
    "library(e1071) # Support vector machine\n",
    "library(xgboost)"
   ]
  },
  {
   "cell_type": "code",
   "execution_count": 1,
   "id": "ccf21f52",
   "metadata": {},
   "outputs": [],
   "source": [
    "# Set data path\n",
    "setwd(\"C:/Users/user/OneDrive - Erasmus University Rotterdam/Documents/01 Postgrad/02 Spring semester/06 Business Analytics for International Managers/rsm_data_analytics\")"
   ]
  },
  {
   "cell_type": "code",
   "execution_count": 158,
   "id": "0708eb84",
   "metadata": {},
   "outputs": [
    {
     "data": {
      "text/html": [
       "<table class=\"dataframe\">\n",
       "<caption>A data.frame: 6 × 12</caption>\n",
       "<thead>\n",
       "\t<tr><th></th><th scope=col>customer_id</th><th scope=col>credit_score</th><th scope=col>country</th><th scope=col>gender</th><th scope=col>age</th><th scope=col>tenure</th><th scope=col>balance</th><th scope=col>products_number</th><th scope=col>credit_card</th><th scope=col>active_member</th><th scope=col>estimated_salary</th><th scope=col>churn</th></tr>\n",
       "\t<tr><th></th><th scope=col>&lt;int&gt;</th><th scope=col>&lt;int&gt;</th><th scope=col>&lt;chr&gt;</th><th scope=col>&lt;chr&gt;</th><th scope=col>&lt;int&gt;</th><th scope=col>&lt;int&gt;</th><th scope=col>&lt;dbl&gt;</th><th scope=col>&lt;int&gt;</th><th scope=col>&lt;int&gt;</th><th scope=col>&lt;int&gt;</th><th scope=col>&lt;dbl&gt;</th><th scope=col>&lt;int&gt;</th></tr>\n",
       "</thead>\n",
       "<tbody>\n",
       "\t<tr><th scope=row>1</th><td>15634602</td><td>619</td><td>France</td><td>Female</td><td>42</td><td>2</td><td>     0.00</td><td>1</td><td>1</td><td>1</td><td>101348.88</td><td>1</td></tr>\n",
       "\t<tr><th scope=row>2</th><td>15647311</td><td>608</td><td>Spain </td><td>Female</td><td>41</td><td>1</td><td> 83807.86</td><td>1</td><td>0</td><td>1</td><td>112542.58</td><td>0</td></tr>\n",
       "\t<tr><th scope=row>3</th><td>15701354</td><td>699</td><td>France</td><td>Female</td><td>39</td><td>1</td><td>     0.00</td><td>2</td><td>0</td><td>0</td><td> 93826.63</td><td>0</td></tr>\n",
       "\t<tr><th scope=row>4</th><td>15737888</td><td>850</td><td>Spain </td><td>Female</td><td>43</td><td>2</td><td>125510.82</td><td>1</td><td>1</td><td>1</td><td> 79084.10</td><td>0</td></tr>\n",
       "\t<tr><th scope=row>5</th><td>15574012</td><td>645</td><td>Spain </td><td>Male  </td><td>44</td><td>8</td><td>113755.78</td><td>2</td><td>1</td><td>0</td><td>149756.71</td><td>1</td></tr>\n",
       "\t<tr><th scope=row>6</th><td>15592531</td><td>822</td><td>France</td><td>Male  </td><td>50</td><td>7</td><td>     0.00</td><td>2</td><td>1</td><td>1</td><td> 10062.80</td><td>0</td></tr>\n",
       "</tbody>\n",
       "</table>\n"
      ],
      "text/latex": [
       "A data.frame: 6 × 12\n",
       "\\begin{tabular}{r|llllllllllll}\n",
       "  & customer\\_id & credit\\_score & country & gender & age & tenure & balance & products\\_number & credit\\_card & active\\_member & estimated\\_salary & churn\\\\\n",
       "  & <int> & <int> & <chr> & <chr> & <int> & <int> & <dbl> & <int> & <int> & <int> & <dbl> & <int>\\\\\n",
       "\\hline\n",
       "\t1 & 15634602 & 619 & France & Female & 42 & 2 &      0.00 & 1 & 1 & 1 & 101348.88 & 1\\\\\n",
       "\t2 & 15647311 & 608 & Spain  & Female & 41 & 1 &  83807.86 & 1 & 0 & 1 & 112542.58 & 0\\\\\n",
       "\t3 & 15701354 & 699 & France & Female & 39 & 1 &      0.00 & 2 & 0 & 0 &  93826.63 & 0\\\\\n",
       "\t4 & 15737888 & 850 & Spain  & Female & 43 & 2 & 125510.82 & 1 & 1 & 1 &  79084.10 & 0\\\\\n",
       "\t5 & 15574012 & 645 & Spain  & Male   & 44 & 8 & 113755.78 & 2 & 1 & 0 & 149756.71 & 1\\\\\n",
       "\t6 & 15592531 & 822 & France & Male   & 50 & 7 &      0.00 & 2 & 1 & 1 &  10062.80 & 0\\\\\n",
       "\\end{tabular}\n"
      ],
      "text/markdown": [
       "\n",
       "A data.frame: 6 × 12\n",
       "\n",
       "| <!--/--> | customer_id &lt;int&gt; | credit_score &lt;int&gt; | country &lt;chr&gt; | gender &lt;chr&gt; | age &lt;int&gt; | tenure &lt;int&gt; | balance &lt;dbl&gt; | products_number &lt;int&gt; | credit_card &lt;int&gt; | active_member &lt;int&gt; | estimated_salary &lt;dbl&gt; | churn &lt;int&gt; |\n",
       "|---|---|---|---|---|---|---|---|---|---|---|---|---|\n",
       "| 1 | 15634602 | 619 | France | Female | 42 | 2 |      0.00 | 1 | 1 | 1 | 101348.88 | 1 |\n",
       "| 2 | 15647311 | 608 | Spain  | Female | 41 | 1 |  83807.86 | 1 | 0 | 1 | 112542.58 | 0 |\n",
       "| 3 | 15701354 | 699 | France | Female | 39 | 1 |      0.00 | 2 | 0 | 0 |  93826.63 | 0 |\n",
       "| 4 | 15737888 | 850 | Spain  | Female | 43 | 2 | 125510.82 | 1 | 1 | 1 |  79084.10 | 0 |\n",
       "| 5 | 15574012 | 645 | Spain  | Male   | 44 | 8 | 113755.78 | 2 | 1 | 0 | 149756.71 | 1 |\n",
       "| 6 | 15592531 | 822 | France | Male   | 50 | 7 |      0.00 | 2 | 1 | 1 |  10062.80 | 0 |\n",
       "\n"
      ],
      "text/plain": [
       "  customer_id credit_score country gender age tenure balance   products_number\n",
       "1 15634602    619          France  Female 42  2           0.00 1              \n",
       "2 15647311    608          Spain   Female 41  1       83807.86 1              \n",
       "3 15701354    699          France  Female 39  1           0.00 2              \n",
       "4 15737888    850          Spain   Female 43  2      125510.82 1              \n",
       "5 15574012    645          Spain   Male   44  8      113755.78 2              \n",
       "6 15592531    822          France  Male   50  7           0.00 2              \n",
       "  credit_card active_member estimated_salary churn\n",
       "1 1           1             101348.88        1    \n",
       "2 0           1             112542.58        0    \n",
       "3 0           0              93826.63        0    \n",
       "4 1           1              79084.10        0    \n",
       "5 1           0             149756.71        1    \n",
       "6 1           1              10062.80        0    "
      ]
     },
     "metadata": {},
     "output_type": "display_data"
    }
   ],
   "source": [
    "# Import the CSV file \n",
    "df <- read.csv(\"ebi_customers.csv\")\n",
    "head(df)"
   ]
  },
  {
   "cell_type": "markdown",
   "id": "0250e5e3",
   "metadata": {},
   "source": [
    "# 1: Data Pre-Processing"
   ]
  },
  {
   "cell_type": "markdown",
   "id": "525050d2",
   "metadata": {},
   "source": [
    "__1.1 Are there any outliers/anomaly in the data that need to be addressed?__"
   ]
  },
  {
   "cell_type": "markdown",
   "id": "f7db835c",
   "metadata": {},
   "source": [
    "##### 1.1.1 Missing values"
   ]
  },
  {
   "cell_type": "code",
   "execution_count": 159,
   "id": "ca1f9265",
   "metadata": {},
   "outputs": [
    {
     "data": {
      "text/html": [
       "'There are 0 missing values in the dataframe.'"
      ],
      "text/latex": [
       "'There are 0 missing values in the dataframe.'"
      ],
      "text/markdown": [
       "'There are 0 missing values in the dataframe.'"
      ],
      "text/plain": [
       "[1] \"There are 0 missing values in the dataframe.\""
      ]
     },
     "metadata": {},
     "output_type": "display_data"
    }
   ],
   "source": [
    "missing_values <- sum(is.na(df))\n",
    "paste0(\"There are \",  missing_values, \" missing values in the dataframe.\")"
   ]
  },
  {
   "cell_type": "markdown",
   "id": "b1f2dc79",
   "metadata": {},
   "source": [
    "##### 1.1.2 Descriptive statistics"
   ]
  },
  {
   "cell_type": "code",
   "execution_count": 182,
   "id": "eac92508",
   "metadata": {
    "scrolled": false
   },
   "outputs": [
    {
     "data": {
      "text/plain": [
       "  credit_score     country             gender               age       \n",
       " Min.   :350.0   Length:9000        Length:9000        Min.   :18.00  \n",
       " 1st Qu.:584.0   Class :character   Class :character   1st Qu.:32.00  \n",
       " Median :652.0   Mode  :character   Mode  :character   Median :37.00  \n",
       " Mean   :650.4                                         Mean   :38.94  \n",
       " 3rd Qu.:717.0                                         3rd Qu.:44.00  \n",
       " Max.   :850.0                                         Max.   :92.00  \n",
       "     tenure          balance       products_number  credit_card   \n",
       " Min.   : 0.000   Min.   :     0   Min.   :1.000   Min.   :0.000  \n",
       " 1st Qu.: 3.000   1st Qu.:     0   1st Qu.:1.000   1st Qu.:0.000  \n",
       " Median : 5.000   Median : 97263   Median :1.000   Median :1.000  \n",
       " Mean   : 5.011   Mean   : 76650   Mean   :1.529   Mean   :0.705  \n",
       " 3rd Qu.: 7.000   3rd Qu.:127575   3rd Qu.:2.000   3rd Qu.:1.000  \n",
       " Max.   :10.000   Max.   :250898   Max.   :4.000   Max.   :1.000  \n",
       " active_member    estimated_salary        churn       \n",
       " Min.   :0.0000   Min.   :    11.58   Min.   :0.0000  \n",
       " 1st Qu.:0.0000   1st Qu.: 51446.62   1st Qu.:0.0000  \n",
       " Median :1.0000   Median :100444.88   Median :0.0000  \n",
       " Mean   :0.5147   Mean   :100507.32   Mean   :0.2036  \n",
       " 3rd Qu.:1.0000   3rd Qu.:149669.93   3rd Qu.:0.0000  \n",
       " Max.   :1.0000   Max.   :199992.48   Max.   :1.0000  "
      ]
     },
     "metadata": {},
     "output_type": "display_data"
    }
   ],
   "source": [
    "# to first check if we have any obvious outliers, we request standard summaries\n",
    "summary(df)"
   ]
  },
  {
   "cell_type": "code",
   "execution_count": 192,
   "id": "d81d823d",
   "metadata": {},
   "outputs": [
    {
     "data": {
      "image/png": "[encoded data removed]",
      "text/plain": [
       "Plot with title \"Histogram of credit score\""
      ]
     },
     "metadata": {
      "image/png": {
       "height": 420,
       "width": 420
      }
     },
     "output_type": "display_data"
    },
    {
     "data": {
      "image/png": "[encoded data removed]",
      "text/plain": [
       "plot without title"
      ]
     },
     "metadata": {
      "image/png": {
       "height": 420,
       "width": 420
      }
     },
     "output_type": "display_data"
    }
   ],
   "source": [
    "# we then plot histograms and boxplots on the basis of data for more easy visual access\n",
    "hist(df$credit_score,\n",
    "     xlab = \"creditscore\",\n",
    "     main = \"Histogram of credit score\",\n",
    "     breaks = \"FD\")\n",
    "\n",
    "boxplot(df$credit_score,\n",
    "  ylab = \"credit_score\")"
   ]
  },
  {
   "cell_type": "code",
   "execution_count": 437,
   "id": "2d89d7f5",
   "metadata": {},
   "outputs": [
    {
     "data": {
      "text/html": [
       "'The p-value of the shapiro test is 1.38354198985975e-13. This indicates strong evidence against the null hypothesis that credit_score follows a normal distribution'"
      ],
      "text/latex": [
       "'The p-value of the shapiro test is 1.38354198985975e-13. This indicates strong evidence against the null hypothesis that credit\\_score follows a normal distribution'"
      ],
      "text/markdown": [
       "'The p-value of the shapiro test is 1.38354198985975e-13. This indicates strong evidence against the null hypothesis that credit_score follows a normal distribution'"
      ],
      "text/plain": [
       "[1] \"The p-value of the shapiro test is 1.38354198985975e-13. This indicates strong evidence against the null hypothesis that credit_score follows a normal distribution\""
      ]
     },
     "metadata": {},
     "output_type": "display_data"
    }
   ],
   "source": [
    "# Define a function to perform the Shapiro-Wilk test five times on random subsets of the input dataframe\n",
    "shapiro_random <- function(df, n = 5000, reps = 5) {\n",
    "  set.seed(123) # for reproducibility\n",
    "  res <- numeric(reps) # to store test results\n",
    "  for (i in 1:reps) {\n",
    "    idx <- sample(nrow(df), n) # randomly select n rows\n",
    "    res[i] <- shapiro.test(df$credit_score[idx])$p.value # perform Shapiro-Wilk test on selected rows\n",
    "  }\n",
    "  res # return vector of p-values\n",
    "}\n",
    "\n",
    "# Call the function on the df dataframe\n",
    "p_vals <- shapiro_random(df)\n",
    "\n",
    "paste0(\"The p-value of the shapiro test is \",  mean(p_vals), \". This indicates strong evidence against the null hypothesis that credit_score follows a normal distribution\")"
   ]
  },
  {
   "cell_type": "code",
   "execution_count": 189,
   "id": "1cbdcc32",
   "metadata": {
    "scrolled": false
   },
   "outputs": [
    {
     "data": {
      "image/png": "[encoded data removed]",
      "text/plain": [
       "Plot with title \"Histogram of Z-Score\""
      ]
     },
     "metadata": {
      "image/png": {
       "height": 420,
       "width": 420
      }
     },
     "output_type": "display_data"
    }
   ],
   "source": [
    "#boxplot.stats(df$credit_score)$out\n",
    "df$z_creditscore <- scale(df$credit_score)\n",
    "hist(df$z_creditscore, main = \"Histogram of Z-Score\")\n"
   ]
  },
  {
   "cell_type": "code",
   "execution_count": 407,
   "id": "e6035d64",
   "metadata": {},
   "outputs": [
    {
     "data": {
      "text/plain": [
       "       V1         \n",
       " Min.   :-3.1103  \n",
       " 1st Qu.:-0.6874  \n",
       " Median : 0.0167  \n",
       " Mean   : 0.0000  \n",
       " 3rd Qu.: 0.6897  \n",
       " Max.   : 2.0669  "
      ]
     },
     "metadata": {},
     "output_type": "display_data"
    },
    {
     "data": {
      "text/html": [
       "'8 outliers using the z-score filter'"
      ],
      "text/latex": [
       "'8 outliers using the z-score filter'"
      ],
      "text/markdown": [
       "'8 outliers using the z-score filter'"
      ],
      "text/plain": [
       "[1] \"8 outliers using the z-score filter\""
      ]
     },
     "metadata": {},
     "output_type": "display_data"
    }
   ],
   "source": [
    "z_outlier <- which(df$z_creditscore < -3)\n",
    "summary(df$z_creditscore)\n",
    "paste0(length(z_outlier), \" outliers using the z-score filter\")"
   ]
  },
  {
   "cell_type": "markdown",
   "id": "640ab086",
   "metadata": {},
   "source": [
    "The z-score method identified 8 values as outliers, but both the Rosner test and the Grubbs test did not, it's possible that the z-score method was overly sensitive to the distribution of the data. The Shapiro test suggests that the credit_score variable is not normally distributed, which may make the z-score method less reliable."
   ]
  },
  {
   "cell_type": "code",
   "execution_count": 408,
   "id": "d6fcd590",
   "metadata": {},
   "outputs": [
    {
     "data": {
      "text/html": [
       "'183 outliers using the hample filter'"
      ],
      "text/latex": [
       "'183 outliers using the hample filter'"
      ],
      "text/markdown": [
       "'183 outliers using the hample filter'"
      ],
      "text/plain": [
       "[1] \"183 outliers using the hample filter\""
      ]
     },
     "metadata": {},
     "output_type": "display_data"
    }
   ],
   "source": [
    "# Hample filter: Consider as outliers the values outside the interval formed by the median, plus or minus 3 median absolute deviations\n",
    "lower_bound <- median(df$credit_score) - 3 * mad(df$credit_score, constant = 1)\n",
    "upper_bound <- median(df$credit_score) + 3 * mad(df$credit_score, constant = 1)\n",
    "hample_outlier <- which(df$credit_score < lower_bound | df$credit_score > upper_bound)\n",
    "paste0(length(hample_outlier), \" outliers using the hample filter\")"
   ]
  },
  {
   "cell_type": "code",
   "execution_count": 123,
   "id": "a7249a0d",
   "metadata": {},
   "outputs": [
    {
     "data": {
      "text/html": [
       "<style>\n",
       ".list-inline {list-style: none; margin:0; padding: 0}\n",
       ".list-inline>li {display: inline-block}\n",
       ".list-inline>li:not(:last-child)::after {content: \"\\00b7\"; padding: 0 .5ex}\n",
       "</style>\n",
       "<ol class=list-inline><li>'credit_score is a numeric variable.'</li><li>'age is a numeric variable.'</li><li>'balance is a numeric variable.'</li><li>'estimated_salary is a numeric variable.'</li></ol>\n"
      ],
      "text/latex": [
       "\\begin{enumerate*}\n",
       "\\item 'credit\\_score is a numeric variable.'\n",
       "\\item 'age is a numeric variable.'\n",
       "\\item 'balance is a numeric variable.'\n",
       "\\item 'estimated\\_salary is a numeric variable.'\n",
       "\\end{enumerate*}\n"
      ],
      "text/markdown": [
       "1. 'credit_score is a numeric variable.'\n",
       "2. 'age is a numeric variable.'\n",
       "3. 'balance is a numeric variable.'\n",
       "4. 'estimated_salary is a numeric variable.'\n",
       "\n",
       "\n"
      ],
      "text/plain": [
       "[1] \"credit_score is a numeric variable.\"    \n",
       "[2] \"age is a numeric variable.\"             \n",
       "[3] \"balance is a numeric variable.\"         \n",
       "[4] \"estimated_salary is a numeric variable.\""
      ]
     },
     "metadata": {},
     "output_type": "display_data"
    }
   ],
   "source": [
    "numeric_variables <- names(df)[sapply(df, function(col) {\n",
    "  is.numeric(col) && length(unique(col)) > 11 && !grepl(\"CustomerId\", col)\n",
    "})]\n",
    "paste0(numeric_variables, \" is a numeric variable.\")"
   ]
  },
  {
   "cell_type": "code",
   "execution_count": 427,
   "id": "5fd91196",
   "metadata": {},
   "outputs": [],
   "source": [
    "# Function to perform Grubbs test on highest value of each numeric column\n",
    "grubbs_test_highest <- function(df, numeric_cols) {\n",
    "  out_cols <- list() # Initialize an empty list to store results\n",
    "  \n",
    "  # Loop through each numeric column\n",
    "  for (col in numeric_cols) {\n",
    "    test_res <- grubbs.test(df[[col]]) # Perform Grubbs test on column\n",
    "    if (test_res$p.value < 0.05) { # Check if p-value is less than 0.05\n",
    "      out_cols[[col]] <- test_res # Add result to output list\n",
    "    }\n",
    "  }\n",
    "  \n",
    "  return(out_cols) # Return output list\n",
    "}\n",
    "\n",
    "# Function to perform Grubbs test on lowest value of each numeric column\n",
    "grubbs_test_lowest <- function(df, numeric_cols) {\n",
    "  out_cols <- list() # Initialize an empty list to store results\n",
    "  \n",
    "  # Loop through each numeric column\n",
    "  for (col in numeric_cols) {\n",
    "    test_res <- grubbs.test(df[[col]], opposite = TRUE) # Perform Grubbs test on column with opposite direction\n",
    "    if (test_res$p.value < 0.05) { # Check if p-value is less than 0.05\n",
    "      out_cols[[col]] <- test_res # Add result to output list\n",
    "    }\n",
    "  }\n",
    "  \n",
    "  return(out_cols) # Return output list\n",
    "}"
   ]
  },
  {
   "cell_type": "code",
   "execution_count": 425,
   "id": "91434576",
   "metadata": {},
   "outputs": [
    {
     "data": {
      "text/plain": [
       "$age\n",
       "\n",
       "\tGrubbs test for one outlier\n",
       "\n",
       "data:  df[[col]]\n",
       "G = 5.07579, U = 0.99714, p-value = 0.001705\n",
       "alternative hypothesis: highest value 92 is an outlier\n",
       "\n"
      ]
     },
     "metadata": {},
     "output_type": "display_data"
    }
   ],
   "source": [
    "grubbs_test_highest(df, numeric_variables)"
   ]
  },
  {
   "cell_type": "markdown",
   "id": "594c5d23",
   "metadata": {},
   "source": [
    "Since the p-value is less than the significance level of 0.05, we reject the null hypothesis and conclude that there is at least one outlier in the age variable. The test suggests that the highest age value 92 is an outlier."
   ]
  },
  {
   "cell_type": "code",
   "execution_count": 426,
   "id": "fe92ae79",
   "metadata": {},
   "outputs": [
    {
     "data": {
      "text/html": [
       "<ol>\n",
       "</ol>\n"
      ],
      "text/latex": [
       "\\begin{enumerate}\n",
       "\\end{enumerate}\n"
      ],
      "text/markdown": [
       "\n",
       "\n"
      ],
      "text/plain": [
       "list()"
      ]
     },
     "metadata": {},
     "output_type": "display_data"
    }
   ],
   "source": [
    "grubbs_test_lowest(df, numeric_variables)"
   ]
  },
  {
   "cell_type": "code",
   "execution_count": 411,
   "id": "e9442a65",
   "metadata": {},
   "outputs": [
    {
     "data": {
      "text/plain": [
       "\n",
       "\tGrubbs test for one outlier\n",
       "\n",
       "data:  df$credit_score\n",
       "G = 3.11029, U = 0.99892, p-value = 1\n",
       "alternative hypothesis: lowest value 350 is an outlier\n"
      ]
     },
     "metadata": {},
     "output_type": "display_data"
    }
   ],
   "source": [
    "test <- grubbs.test(df$credit_score)\n",
    "test"
   ]
  },
  {
   "cell_type": "markdown",
   "id": "32c4217c",
   "metadata": {},
   "source": [
    "The p-value is very high (1), indicating that there is no evidence of an outlier in the credit_score variable. Therefore, there is no reason to remove any credit_score data points based on the Grubbs test."
   ]
  },
  {
   "cell_type": "code",
   "execution_count": 436,
   "id": "d9816e2c",
   "metadata": {},
   "outputs": [
    {
     "data": {
      "text/html": [
       "<table class=\"dataframe\">\n",
       "<caption>A data.frame: 10 × 8</caption>\n",
       "<thead>\n",
       "\t<tr><th scope=col>i</th><th scope=col>Mean.i</th><th scope=col>SD.i</th><th scope=col>Value</th><th scope=col>Obs.Num</th><th scope=col>R.i+1</th><th scope=col>lambda.i+1</th><th scope=col>Outlier</th></tr>\n",
       "\t<tr><th scope=col>&lt;dbl&gt;</th><th scope=col>&lt;dbl&gt;</th><th scope=col>&lt;dbl&gt;</th><th scope=col>&lt;dbl&gt;</th><th scope=col>&lt;dbl&gt;</th><th scope=col>&lt;dbl&gt;</th><th scope=col>&lt;dbl&gt;</th><th scope=col>&lt;lgl&gt;</th></tr>\n",
       "</thead>\n",
       "<tbody>\n",
       "\t<tr><td>0</td><td>650.3868</td><td>96.57842</td><td>350</td><td>1456</td><td>3.110289</td><td>4.540157</td><td>FALSE</td></tr>\n",
       "\t<tr><td>1</td><td>650.4202</td><td>96.53186</td><td>350</td><td>1637</td><td>3.112135</td><td>4.540134</td><td>FALSE</td></tr>\n",
       "\t<tr><td>2</td><td>650.4535</td><td>96.48524</td><td>350</td><td>7828</td><td>3.113984</td><td>4.540110</td><td>FALSE</td></tr>\n",
       "\t<tr><td>3</td><td>650.4869</td><td>96.43859</td><td>350</td><td>7865</td><td>3.115837</td><td>4.540086</td><td>FALSE</td></tr>\n",
       "\t<tr><td>4</td><td>650.5203</td><td>96.39189</td><td>350</td><td>8661</td><td>3.117693</td><td>4.540063</td><td>FALSE</td></tr>\n",
       "\t<tr><td>5</td><td>650.5538</td><td>96.34514</td><td>351</td><td>2216</td><td>3.109173</td><td>4.540039</td><td>FALSE</td></tr>\n",
       "\t<tr><td>6</td><td>650.5871</td><td>96.29870</td><td>358</td><td>1744</td><td>3.038328</td><td>4.540015</td><td>FALSE</td></tr>\n",
       "\t<tr><td>7</td><td>650.6196</td><td>96.25461</td><td>359</td><td>1248</td><td>3.029669</td><td>4.539992</td><td>FALSE</td></tr>\n",
       "\t<tr><td>8</td><td>650.6520</td><td>96.21081</td><td>363</td><td>1067</td><td>2.989810</td><td>4.539968</td><td>FALSE</td></tr>\n",
       "\t<tr><td>9</td><td>650.6840</td><td>96.16832</td><td>365</td><td>2312</td><td>2.970667</td><td>4.539944</td><td>FALSE</td></tr>\n",
       "</tbody>\n",
       "</table>\n"
      ],
      "text/latex": [
       "A data.frame: 10 × 8\n",
       "\\begin{tabular}{llllllll}\n",
       " i & Mean.i & SD.i & Value & Obs.Num & R.i+1 & lambda.i+1 & Outlier\\\\\n",
       " <dbl> & <dbl> & <dbl> & <dbl> & <dbl> & <dbl> & <dbl> & <lgl>\\\\\n",
       "\\hline\n",
       "\t 0 & 650.3868 & 96.57842 & 350 & 1456 & 3.110289 & 4.540157 & FALSE\\\\\n",
       "\t 1 & 650.4202 & 96.53186 & 350 & 1637 & 3.112135 & 4.540134 & FALSE\\\\\n",
       "\t 2 & 650.4535 & 96.48524 & 350 & 7828 & 3.113984 & 4.540110 & FALSE\\\\\n",
       "\t 3 & 650.4869 & 96.43859 & 350 & 7865 & 3.115837 & 4.540086 & FALSE\\\\\n",
       "\t 4 & 650.5203 & 96.39189 & 350 & 8661 & 3.117693 & 4.540063 & FALSE\\\\\n",
       "\t 5 & 650.5538 & 96.34514 & 351 & 2216 & 3.109173 & 4.540039 & FALSE\\\\\n",
       "\t 6 & 650.5871 & 96.29870 & 358 & 1744 & 3.038328 & 4.540015 & FALSE\\\\\n",
       "\t 7 & 650.6196 & 96.25461 & 359 & 1248 & 3.029669 & 4.539992 & FALSE\\\\\n",
       "\t 8 & 650.6520 & 96.21081 & 363 & 1067 & 2.989810 & 4.539968 & FALSE\\\\\n",
       "\t 9 & 650.6840 & 96.16832 & 365 & 2312 & 2.970667 & 4.539944 & FALSE\\\\\n",
       "\\end{tabular}\n"
      ],
      "text/markdown": [
       "\n",
       "A data.frame: 10 × 8\n",
       "\n",
       "| i &lt;dbl&gt; | Mean.i &lt;dbl&gt; | SD.i &lt;dbl&gt; | Value &lt;dbl&gt; | Obs.Num &lt;dbl&gt; | R.i+1 &lt;dbl&gt; | lambda.i+1 &lt;dbl&gt; | Outlier &lt;lgl&gt; |\n",
       "|---|---|---|---|---|---|---|---|\n",
       "| 0 | 650.3868 | 96.57842 | 350 | 1456 | 3.110289 | 4.540157 | FALSE |\n",
       "| 1 | 650.4202 | 96.53186 | 350 | 1637 | 3.112135 | 4.540134 | FALSE |\n",
       "| 2 | 650.4535 | 96.48524 | 350 | 7828 | 3.113984 | 4.540110 | FALSE |\n",
       "| 3 | 650.4869 | 96.43859 | 350 | 7865 | 3.115837 | 4.540086 | FALSE |\n",
       "| 4 | 650.5203 | 96.39189 | 350 | 8661 | 3.117693 | 4.540063 | FALSE |\n",
       "| 5 | 650.5538 | 96.34514 | 351 | 2216 | 3.109173 | 4.540039 | FALSE |\n",
       "| 6 | 650.5871 | 96.29870 | 358 | 1744 | 3.038328 | 4.540015 | FALSE |\n",
       "| 7 | 650.6196 | 96.25461 | 359 | 1248 | 3.029669 | 4.539992 | FALSE |\n",
       "| 8 | 650.6520 | 96.21081 | 363 | 1067 | 2.989810 | 4.539968 | FALSE |\n",
       "| 9 | 650.6840 | 96.16832 | 365 | 2312 | 2.970667 | 4.539944 | FALSE |\n",
       "\n"
      ],
      "text/plain": [
       "   i Mean.i   SD.i     Value Obs.Num R.i+1    lambda.i+1 Outlier\n",
       "1  0 650.3868 96.57842 350   1456    3.110289 4.540157   FALSE  \n",
       "2  1 650.4202 96.53186 350   1637    3.112135 4.540134   FALSE  \n",
       "3  2 650.4535 96.48524 350   7828    3.113984 4.540110   FALSE  \n",
       "4  3 650.4869 96.43859 350   7865    3.115837 4.540086   FALSE  \n",
       "5  4 650.5203 96.39189 350   8661    3.117693 4.540063   FALSE  \n",
       "6  5 650.5538 96.34514 351   2216    3.109173 4.540039   FALSE  \n",
       "7  6 650.5871 96.29870 358   1744    3.038328 4.540015   FALSE  \n",
       "8  7 650.6196 96.25461 359   1248    3.029669 4.539992   FALSE  \n",
       "9  8 650.6520 96.21081 363   1067    2.989810 4.539968   FALSE  \n",
       "10 9 650.6840 96.16832 365   2312    2.970667 4.539944   FALSE  "
      ]
     },
     "metadata": {},
     "output_type": "display_data"
    }
   ],
   "source": [
    "test <- rosnerTest(df$credit_score,\n",
    "  k = 10\n",
    ")\n",
    "test$all.stats"
   ]
  },
  {
   "cell_type": "markdown",
   "id": "30b9c34b",
   "metadata": {},
   "source": [
    "None of the credit_score values were flagged as outliers by the Rosner test, as all the \"Outlier\" values are FALSE."
   ]
  },
  {
   "cell_type": "code",
   "execution_count": 194,
   "id": "1daf4a2e",
   "metadata": {},
   "outputs": [],
   "source": [
    "# Define a function to calculate outlier thresholds for a variable in a dataframe\n",
    "outlier_thresholds <- function(df, variable, low_quantile=0.025, up_quantile=0.975){\n",
    "  # Calculate the first quartile (lower quantile) of the variable\n",
    "  quantile_one <- quantile(df[[variable]], low_quantile)\n",
    "  # Calculate the third quartile (upper quantile) of the variable\n",
    "  quantile_three <- quantile(df[[variable]], up_quantile)\n",
    "  # Calculate the interquartile range of the variable\n",
    "  interquantile_range <- quantile_three - quantile_one\n",
    "  # Calculate the upper limit for outliers\n",
    "  up_limit <- quantile_three + 1.5 * interquantile_range\n",
    "  # Calculate the lower limit for outliers\n",
    "  low_limit <- quantile_one - 1.5 * interquantile_range\n",
    "  # Return the lower and upper limits as a vector\n",
    "  return(c(low_limit, up_limit))\n",
    "}"
   ]
  },
  {
   "cell_type": "code",
   "execution_count": 204,
   "id": "ddf77362",
   "metadata": {},
   "outputs": [],
   "source": [
    "# Define a function to check for outliers in numeric columns of a dataframe\n",
    "has_outliers <- function(dataframe, numeric_columns) {\n",
    "  \n",
    "  outlier_counts <- list() \n",
    "  # Loop through each numeric column in the dataframe\n",
    "  for (col in numeric_columns) {\n",
    "    # Calculate the outlier limits for the column using the outlier_thresholds function\n",
    "    limits <- outlier_thresholds(dataframe, col)\n",
    "    low_limit <- limits[1]\n",
    "    up_limit <- limits[2]\n",
    "    # Check if the column has any values outside the outlier limits\n",
    "    if (any(dataframe[[col]] < low_limit | dataframe[[col]] > up_limit)) {\n",
    "        # If there are outliers, count them and add outlier count to list\n",
    "        outlier_ind <- which(dataframe[[col]] < low_limit | dataframe[[col]] > up_limit)\n",
    "        outlier_counts[[col]] <- sum(outlier_ind) \n",
    "    }\n",
    "      \n",
    "    else {\n",
    "      outlier_counts[[col]] <- 0 \n",
    "    }\n",
    "  }\n",
    "  return(outlier_counts)\n",
    "}\n"
   ]
  },
  {
   "cell_type": "code",
   "execution_count": 205,
   "id": "27a8850e",
   "metadata": {},
   "outputs": [
    {
     "name": "stdout",
     "output_type": "stream",
     "text": [
      "[1] \"credit_score has 0 outliers\"\n",
      "[1] \"age has 0 outliers\"\n",
      "[1] \"balance has 0 outliers\"\n",
      "[1] \"estimated_salary has 0 outliers\"\n"
     ]
    }
   ],
   "source": [
    "for (var in numeric_variables) {\n",
    "  outliers <- has_outliers(df, var)\n",
    "  print(paste(var, \"has\", outliers, \"outliers\"))\n",
    "}"
   ]
  },
  {
   "cell_type": "markdown",
   "id": "2bed47d8",
   "metadata": {},
   "source": [
    "__1.2 Are there variables in the dataset that will not be used in the analysis? Remove them.__"
   ]
  },
  {
   "cell_type": "code",
   "execution_count": 160,
   "id": "900a22ba",
   "metadata": {},
   "outputs": [],
   "source": [
    "# Drop customer_id column\n",
    "df <- select(df, -customer_id)"
   ]
  },
  {
   "cell_type": "markdown",
   "id": "3a6e7470",
   "metadata": {},
   "source": [
    "__1.3 Are there categorical variables in the dataset? \n",
    "Should you convert those variables to numerical?__"
   ]
  },
  {
   "cell_type": "code",
   "execution_count": 163,
   "id": "f0ef43a5",
   "metadata": {},
   "outputs": [
    {
     "data": {
      "text/html": [
       "<table class=\"dataframe\">\n",
       "<caption>A data.frame: 6 × 12</caption>\n",
       "<thead>\n",
       "\t<tr><th></th><th scope=col>credit_score</th><th scope=col>age</th><th scope=col>tenure</th><th scope=col>balance</th><th scope=col>products_number</th><th scope=col>credit_card</th><th scope=col>active_member</th><th scope=col>estimated_salary</th><th scope=col>churn</th><th scope=col>genderFemale</th><th scope=col>countryFrance</th><th scope=col>countryGermany</th></tr>\n",
       "\t<tr><th></th><th scope=col>&lt;int&gt;</th><th scope=col>&lt;int&gt;</th><th scope=col>&lt;int&gt;</th><th scope=col>&lt;dbl&gt;</th><th scope=col>&lt;int&gt;</th><th scope=col>&lt;int&gt;</th><th scope=col>&lt;int&gt;</th><th scope=col>&lt;dbl&gt;</th><th scope=col>&lt;int&gt;</th><th scope=col>&lt;dbl&gt;</th><th scope=col>&lt;dbl&gt;</th><th scope=col>&lt;dbl&gt;</th></tr>\n",
       "</thead>\n",
       "<tbody>\n",
       "\t<tr><th scope=row>1</th><td>619</td><td>42</td><td>2</td><td>     0.00</td><td>1</td><td>1</td><td>1</td><td>101348.88</td><td>1</td><td>1</td><td>1</td><td>0</td></tr>\n",
       "\t<tr><th scope=row>2</th><td>608</td><td>41</td><td>1</td><td> 83807.86</td><td>1</td><td>0</td><td>1</td><td>112542.58</td><td>0</td><td>1</td><td>0</td><td>0</td></tr>\n",
       "\t<tr><th scope=row>3</th><td>699</td><td>39</td><td>1</td><td>     0.00</td><td>2</td><td>0</td><td>0</td><td> 93826.63</td><td>0</td><td>1</td><td>1</td><td>0</td></tr>\n",
       "\t<tr><th scope=row>4</th><td>850</td><td>43</td><td>2</td><td>125510.82</td><td>1</td><td>1</td><td>1</td><td> 79084.10</td><td>0</td><td>1</td><td>0</td><td>0</td></tr>\n",
       "\t<tr><th scope=row>5</th><td>645</td><td>44</td><td>8</td><td>113755.78</td><td>2</td><td>1</td><td>0</td><td>149756.71</td><td>1</td><td>0</td><td>0</td><td>0</td></tr>\n",
       "\t<tr><th scope=row>6</th><td>822</td><td>50</td><td>7</td><td>     0.00</td><td>2</td><td>1</td><td>1</td><td> 10062.80</td><td>0</td><td>0</td><td>1</td><td>0</td></tr>\n",
       "</tbody>\n",
       "</table>\n"
      ],
      "text/latex": [
       "A data.frame: 6 × 12\n",
       "\\begin{tabular}{r|llllllllllll}\n",
       "  & credit\\_score & age & tenure & balance & products\\_number & credit\\_card & active\\_member & estimated\\_salary & churn & genderFemale & countryFrance & countryGermany\\\\\n",
       "  & <int> & <int> & <int> & <dbl> & <int> & <int> & <int> & <dbl> & <int> & <dbl> & <dbl> & <dbl>\\\\\n",
       "\\hline\n",
       "\t1 & 619 & 42 & 2 &      0.00 & 1 & 1 & 1 & 101348.88 & 1 & 1 & 1 & 0\\\\\n",
       "\t2 & 608 & 41 & 1 &  83807.86 & 1 & 0 & 1 & 112542.58 & 0 & 1 & 0 & 0\\\\\n",
       "\t3 & 699 & 39 & 1 &      0.00 & 2 & 0 & 0 &  93826.63 & 0 & 1 & 1 & 0\\\\\n",
       "\t4 & 850 & 43 & 2 & 125510.82 & 1 & 1 & 1 &  79084.10 & 0 & 1 & 0 & 0\\\\\n",
       "\t5 & 645 & 44 & 8 & 113755.78 & 2 & 1 & 0 & 149756.71 & 1 & 0 & 0 & 0\\\\\n",
       "\t6 & 822 & 50 & 7 &      0.00 & 2 & 1 & 1 &  10062.80 & 0 & 0 & 1 & 0\\\\\n",
       "\\end{tabular}\n"
      ],
      "text/markdown": [
       "\n",
       "A data.frame: 6 × 12\n",
       "\n",
       "| <!--/--> | credit_score &lt;int&gt; | age &lt;int&gt; | tenure &lt;int&gt; | balance &lt;dbl&gt; | products_number &lt;int&gt; | credit_card &lt;int&gt; | active_member &lt;int&gt; | estimated_salary &lt;dbl&gt; | churn &lt;int&gt; | genderFemale &lt;dbl&gt; | countryFrance &lt;dbl&gt; | countryGermany &lt;dbl&gt; |\n",
       "|---|---|---|---|---|---|---|---|---|---|---|---|---|\n",
       "| 1 | 619 | 42 | 2 |      0.00 | 1 | 1 | 1 | 101348.88 | 1 | 1 | 1 | 0 |\n",
       "| 2 | 608 | 41 | 1 |  83807.86 | 1 | 0 | 1 | 112542.58 | 0 | 1 | 0 | 0 |\n",
       "| 3 | 699 | 39 | 1 |      0.00 | 2 | 0 | 0 |  93826.63 | 0 | 1 | 1 | 0 |\n",
       "| 4 | 850 | 43 | 2 | 125510.82 | 1 | 1 | 1 |  79084.10 | 0 | 1 | 0 | 0 |\n",
       "| 5 | 645 | 44 | 8 | 113755.78 | 2 | 1 | 0 | 149756.71 | 1 | 0 | 0 | 0 |\n",
       "| 6 | 822 | 50 | 7 |      0.00 | 2 | 1 | 1 |  10062.80 | 0 | 0 | 1 | 0 |\n",
       "\n"
      ],
      "text/plain": [
       "  credit_score age tenure balance   products_number credit_card active_member\n",
       "1 619          42  2           0.00 1               1           1            \n",
       "2 608          41  1       83807.86 1               0           1            \n",
       "3 699          39  1           0.00 2               0           0            \n",
       "4 850          43  2      125510.82 1               1           1            \n",
       "5 645          44  8      113755.78 2               1           0            \n",
       "6 822          50  7           0.00 2               1           1            \n",
       "  estimated_salary churn genderFemale countryFrance countryGermany\n",
       "1 101348.88        1     1            1             0             \n",
       "2 112542.58        0     1            0             0             \n",
       "3  93826.63        0     1            1             0             \n",
       "4  79084.10        0     1            0             0             \n",
       "5 149756.71        1     0            0             0             \n",
       "6  10062.80        0     0            1             0             "
      ]
     },
     "metadata": {},
     "output_type": "display_data"
    }
   ],
   "source": [
    "#One-hot encoding of gender variable\n",
    "gender_encoded <- model.matrix(~ gender - 1, data = df)\n",
    "new_df <- cbind(df, gender_encoded)\n",
    "\n",
    "#One-hot encoding of country variable\n",
    "country_encoded <- model.matrix(~ country - 1, data = df)\n",
    "new_df <- cbind(new_df, country_encoded)\n",
    "\n",
    "#Drop redundant columns (Verify if droping genderMale and countrySpain is right?)\n",
    "new_df <- select(new_df, -gender, -genderMale, -country, -countrySpain)\n",
    "head(new_df)"
   ]
  },
  {
   "cell_type": "markdown",
   "id": "efa922ad",
   "metadata": {},
   "source": [
    "# 2: Exploratory Data Analysis"
   ]
  },
  {
   "cell_type": "markdown",
   "id": "43653c6b",
   "metadata": {},
   "source": [
    "__2.1: What is the overall rate of customer churn in the dataset?__"
   ]
  },
  {
   "cell_type": "code",
   "execution_count": 164,
   "id": "2cd66b3c",
   "metadata": {},
   "outputs": [
    {
     "name": "stdout",
     "output_type": "stream",
     "text": [
      "The overall rate of customer churn is: 20.36%"
     ]
    }
   ],
   "source": [
    "churn_rate <- mean(df$churn)\n",
    "churn_rate_pct <-paste0(round(churn_rate*100,2),\"%\")\n",
    "cat(\"The overall rate of customer churn is:\",churn_rate_pct)"
   ]
  },
  {
   "cell_type": "markdown",
   "id": "cc1c8ba8",
   "metadata": {},
   "source": [
    "__2.2: How does the rate of customer churn vary by demographic variables such as age, gender, etc.? How does it vary across the countries?__"
   ]
  },
  {
   "cell_type": "code",
   "execution_count": 165,
   "id": "cef994c1",
   "metadata": {},
   "outputs": [
    {
     "name": "stdout",
     "output_type": "stream",
     "text": [
      "Churn rate by gender:\n",
      "  gender churn\n",
      "1 Female 24.98\n",
      "2   Male 16.49\n",
      "\n",
      "Churn rate by country:\n",
      "  country churn\n",
      "1  France 16.15\n",
      "2 Germany 32.33\n",
      "3   Spain 16.70\n"
     ]
    }
   ],
   "source": [
    "churn_rate_by_gender <- aggregate(churn ~ gender, df, function(x) round(100 * sum(x) / length(x), 2))\n",
    "                                  \n",
    "churn_rate_by_country <- aggregate(churn ~ country, df, function(x) round(100 * sum(x) / length(x), 2))\n",
    "                                  \n",
    "cat(\"Churn rate by gender:\\n\")\n",
    "print(churn_rate_by_gender)\n",
    "cat(\"\\n\")                         \n",
    "cat(\"Churn rate by country:\\n\")\n",
    "print(churn_rate_by_country)"
   ]
  },
  {
   "cell_type": "markdown",
   "id": "49aa8dee",
   "metadata": {},
   "source": [
    "Women have, on average, a higher churn rate then men. Germans have, on average, a higher churn rate than French and Spanish."
   ]
  },
  {
   "cell_type": "code",
   "execution_count": 376,
   "id": "74eed28a",
   "metadata": {},
   "outputs": [
    {
     "data": {
      "image/png": "[encoded data removed]",
      "text/plain": [
       "plot without title"
      ]
     },
     "metadata": {
      "image/png": {
       "height": 420,
       "width": 420
      }
     },
     "output_type": "display_data"
    }
   ],
   "source": [
    "ggplot(data = df, aes(x = churn, fill = gender)) +\n",
    "  geom_bar() +\n",
    "  labs(x = \"Churn Status\", y = \"Count\", fill = \"Gender\") +\n",
    "  ggtitle(\"Stacked Barplot of Gender by Churn Status\")"
   ]
  },
  {
   "cell_type": "code",
   "execution_count": 390,
   "id": "73250f2f",
   "metadata": {},
   "outputs": [
    {
     "data": {
      "image/png": "[encoded data removed]",
      "text/plain": [
       "plot without title"
      ]
     },
     "metadata": {
      "image/png": {
       "height": 420,
       "width": 420
      }
     },
     "output_type": "display_data"
    }
   ],
   "source": [
    "ggplot(data = df, aes(x = country, fill = churn)) +\n",
    "  geom_bar(position = \"fill\") +\n",
    "  labs(title = \"Churn rate by country\", x = \"Country\", y = \"Proportion\") +\n",
    "  scale_fill_manual(values = c(\"#00BFC4\", \"#F8766D\")) # optional: custom color palette"
   ]
  },
  {
   "cell_type": "code",
   "execution_count": 166,
   "id": "e7e5c685",
   "metadata": {},
   "outputs": [
    {
     "data": {
      "image/png": "[encoded data removed]",
      "text/plain": [
       "plot without title"
      ]
     },
     "metadata": {
      "image/png": {
       "height": 420,
       "width": 420
      }
     },
     "output_type": "display_data"
    }
   ],
   "source": [
    "# Plot age distribution by churn vs. no-churn\n",
    "ggplot(df, aes(x = age, fill = as.factor(churn))) +\n",
    "  geom_histogram(position = \"identity\", alpha = 0.5, bins = 25) +\n",
    "  scale_fill_manual(values = c(\"red\", \"blue\"), labels=c('No churn', 'Churn')) +\n",
    "  labs(title = \"Histogram of Age by Churn\", x = \"Age\", y = \"Frequency\", fill = \"Churn\") +\n",
    "  theme_classic()"
   ]
  },
  {
   "cell_type": "code",
   "execution_count": 381,
   "id": "a113ae03",
   "metadata": {},
   "outputs": [
    {
     "data": {
      "text/html": [
       "<table class=\"dataframe\">\n",
       "<caption>A data.frame: 6 × 12</caption>\n",
       "<thead>\n",
       "\t<tr><th></th><th scope=col>credit_score</th><th scope=col>country</th><th scope=col>gender</th><th scope=col>age</th><th scope=col>tenure</th><th scope=col>balance</th><th scope=col>products_number</th><th scope=col>credit_card</th><th scope=col>active_member</th><th scope=col>estimated_salary</th><th scope=col>churn</th><th scope=col>z_creditscore</th></tr>\n",
       "\t<tr><th></th><th scope=col>&lt;int&gt;</th><th scope=col>&lt;chr&gt;</th><th scope=col>&lt;chr&gt;</th><th scope=col>&lt;int&gt;</th><th scope=col>&lt;int&gt;</th><th scope=col>&lt;dbl&gt;</th><th scope=col>&lt;int&gt;</th><th scope=col>&lt;int&gt;</th><th scope=col>&lt;int&gt;</th><th scope=col>&lt;dbl&gt;</th><th scope=col>&lt;fct&gt;</th><th scope=col>&lt;dbl[,1]&gt;</th></tr>\n",
       "</thead>\n",
       "<tbody>\n",
       "\t<tr><th scope=row>1</th><td>619</td><td>France</td><td>Female</td><td>42</td><td>2</td><td>     0.00</td><td>1</td><td>1</td><td>1</td><td>101348.88</td><td>1</td><td>-0.3249875</td></tr>\n",
       "\t<tr><th scope=row>2</th><td>608</td><td>Spain </td><td>Female</td><td>41</td><td>1</td><td> 83807.86</td><td>1</td><td>0</td><td>1</td><td>112542.58</td><td>0</td><td>-0.4388846</td></tr>\n",
       "\t<tr><th scope=row>3</th><td>699</td><td>France</td><td>Female</td><td>39</td><td>1</td><td>     0.00</td><td>2</td><td>0</td><td>0</td><td> 93826.63</td><td>0</td><td> 0.5033549</td></tr>\n",
       "\t<tr><th scope=row>4</th><td>850</td><td>Spain </td><td>Female</td><td>43</td><td>2</td><td>125510.82</td><td>1</td><td>1</td><td>1</td><td> 79084.10</td><td>0</td><td> 2.0668511</td></tr>\n",
       "\t<tr><th scope=row>5</th><td>645</td><td>Spain </td><td>Male  </td><td>44</td><td>8</td><td>113755.78</td><td>2</td><td>1</td><td>0</td><td>149756.71</td><td>1</td><td>-0.0557762</td></tr>\n",
       "\t<tr><th scope=row>6</th><td>822</td><td>France</td><td>Male  </td><td>50</td><td>7</td><td>     0.00</td><td>2</td><td>1</td><td>1</td><td> 10062.80</td><td>0</td><td> 1.7769313</td></tr>\n",
       "</tbody>\n",
       "</table>\n"
      ],
      "text/latex": [
       "A data.frame: 6 × 12\n",
       "\\begin{tabular}{r|llllllllllll}\n",
       "  & credit\\_score & country & gender & age & tenure & balance & products\\_number & credit\\_card & active\\_member & estimated\\_salary & churn & z\\_creditscore\\\\\n",
       "  & <int> & <chr> & <chr> & <int> & <int> & <dbl> & <int> & <int> & <int> & <dbl> & <fct> & <dbl{[},1{]}>\\\\\n",
       "\\hline\n",
       "\t1 & 619 & France & Female & 42 & 2 &      0.00 & 1 & 1 & 1 & 101348.88 & 1 & -0.3249875\\\\\n",
       "\t2 & 608 & Spain  & Female & 41 & 1 &  83807.86 & 1 & 0 & 1 & 112542.58 & 0 & -0.4388846\\\\\n",
       "\t3 & 699 & France & Female & 39 & 1 &      0.00 & 2 & 0 & 0 &  93826.63 & 0 &  0.5033549\\\\\n",
       "\t4 & 850 & Spain  & Female & 43 & 2 & 125510.82 & 1 & 1 & 1 &  79084.10 & 0 &  2.0668511\\\\\n",
       "\t5 & 645 & Spain  & Male   & 44 & 8 & 113755.78 & 2 & 1 & 0 & 149756.71 & 1 & -0.0557762\\\\\n",
       "\t6 & 822 & France & Male   & 50 & 7 &      0.00 & 2 & 1 & 1 &  10062.80 & 0 &  1.7769313\\\\\n",
       "\\end{tabular}\n"
      ],
      "text/markdown": [
       "\n",
       "A data.frame: 6 × 12\n",
       "\n",
       "| <!--/--> | credit_score &lt;int&gt; | country &lt;chr&gt; | gender &lt;chr&gt; | age &lt;int&gt; | tenure &lt;int&gt; | balance &lt;dbl&gt; | products_number &lt;int&gt; | credit_card &lt;int&gt; | active_member &lt;int&gt; | estimated_salary &lt;dbl&gt; | churn &lt;fct&gt; | z_creditscore &lt;dbl[,1]&gt; |\n",
       "|---|---|---|---|---|---|---|---|---|---|---|---|---|\n",
       "| 1 | 619 | France | Female | 42 | 2 |      0.00 | 1 | 1 | 1 | 101348.88 | 1 | -0.3249875 |\n",
       "| 2 | 608 | Spain  | Female | 41 | 1 |  83807.86 | 1 | 0 | 1 | 112542.58 | 0 | -0.4388846 |\n",
       "| 3 | 699 | France | Female | 39 | 1 |      0.00 | 2 | 0 | 0 |  93826.63 | 0 |  0.5033549 |\n",
       "| 4 | 850 | Spain  | Female | 43 | 2 | 125510.82 | 1 | 1 | 1 |  79084.10 | 0 |  2.0668511 |\n",
       "| 5 | 645 | Spain  | Male   | 44 | 8 | 113755.78 | 2 | 1 | 0 | 149756.71 | 1 | -0.0557762 |\n",
       "| 6 | 822 | France | Male   | 50 | 7 |      0.00 | 2 | 1 | 1 |  10062.80 | 0 |  1.7769313 |\n",
       "\n"
      ],
      "text/plain": [
       "  credit_score country gender age tenure balance   products_number credit_card\n",
       "1 619          France  Female 42  2           0.00 1               1          \n",
       "2 608          Spain   Female 41  1       83807.86 1               0          \n",
       "3 699          France  Female 39  1           0.00 2               0          \n",
       "4 850          Spain   Female 43  2      125510.82 1               1          \n",
       "5 645          Spain   Male   44  8      113755.78 2               1          \n",
       "6 822          France  Male   50  7           0.00 2               1          \n",
       "  active_member estimated_salary churn z_creditscore\n",
       "1 1             101348.88        1     -0.3249875   \n",
       "2 1             112542.58        0     -0.4388846   \n",
       "3 0              93826.63        0      0.5033549   \n",
       "4 1              79084.10        0      2.0668511   \n",
       "5 0             149756.71        1     -0.0557762   \n",
       "6 1              10062.80        0      1.7769313   "
      ]
     },
     "metadata": {},
     "output_type": "display_data"
    }
   ],
   "source": [
    "head(df)"
   ]
  },
  {
   "cell_type": "code",
   "execution_count": 167,
   "id": "3cbd919e",
   "metadata": {},
   "outputs": [
    {
     "name": "stdout",
     "output_type": "stream",
     "text": [
      "Churn rate by country:\n",
      "   age_brackets churn\n",
      "1       [15,20)  6.52\n",
      "2       [20,25)  9.24\n",
      "3       [25,30)  6.89\n",
      "4       [30,35)  8.46\n",
      "5       [35,40) 12.97\n",
      "6       [40,45) 24.17\n",
      "7       [45,50) 42.84\n",
      "8       [50,55) 56.28\n",
      "9       [55,60) 54.55\n",
      "10      [60,65) 41.44\n",
      "11      [65,70) 21.37\n",
      "12      [70,75) 15.91\n",
      "13      [75,80)  0.00\n",
      "14      [80,85) 11.11\n",
      "15      [85,90)  0.00\n",
      "16      [90,95)  0.00\n"
     ]
    }
   ],
   "source": [
    "age_brackets <- cut(df$age, breaks = seq(15, 95, by = 5), right = FALSE)\n",
    "churn_rate_by_age_bracket <- aggregate(churn ~ age_brackets, df, function(x) round(100 * sum(x) / length(x), 2))\n",
    "cat(\"Churn rate by country:\\n\")\n",
    "print(churn_rate_by_age_bracket)"
   ]
  },
  {
   "cell_type": "markdown",
   "id": "672c3289",
   "metadata": {},
   "source": [
    "Customers in the age group between 45 and 65 have the highest churn rate. "
   ]
  },
  {
   "cell_type": "code",
   "execution_count": 373,
   "id": "f2cd411d",
   "metadata": {},
   "outputs": [
    {
     "data": {
      "text/html": [
       "<table class=\"dataframe\">\n",
       "<caption>A data.frame: 6 × 11</caption>\n",
       "<thead>\n",
       "\t<tr><th></th><th scope=col>credit_score</th><th scope=col>country</th><th scope=col>gender</th><th scope=col>age</th><th scope=col>tenure</th><th scope=col>balance</th><th scope=col>products_number</th><th scope=col>credit_card</th><th scope=col>active_member</th><th scope=col>estimated_salary</th><th scope=col>churn</th></tr>\n",
       "\t<tr><th></th><th scope=col>&lt;int&gt;</th><th scope=col>&lt;chr&gt;</th><th scope=col>&lt;chr&gt;</th><th scope=col>&lt;int&gt;</th><th scope=col>&lt;int&gt;</th><th scope=col>&lt;dbl&gt;</th><th scope=col>&lt;int&gt;</th><th scope=col>&lt;int&gt;</th><th scope=col>&lt;int&gt;</th><th scope=col>&lt;dbl&gt;</th><th scope=col>&lt;fct&gt;</th></tr>\n",
       "</thead>\n",
       "<tbody>\n",
       "\t<tr><th scope=row>1</th><td>619</td><td>France</td><td>Female</td><td>42</td><td>2</td><td>     0.00</td><td>1</td><td>1</td><td>1</td><td>101348.88</td><td>1</td></tr>\n",
       "\t<tr><th scope=row>2</th><td>608</td><td>Spain </td><td>Female</td><td>41</td><td>1</td><td> 83807.86</td><td>1</td><td>0</td><td>1</td><td>112542.58</td><td>0</td></tr>\n",
       "\t<tr><th scope=row>3</th><td>699</td><td>France</td><td>Female</td><td>39</td><td>1</td><td>     0.00</td><td>2</td><td>0</td><td>0</td><td> 93826.63</td><td>0</td></tr>\n",
       "\t<tr><th scope=row>4</th><td>850</td><td>Spain </td><td>Female</td><td>43</td><td>2</td><td>125510.82</td><td>1</td><td>1</td><td>1</td><td> 79084.10</td><td>0</td></tr>\n",
       "\t<tr><th scope=row>5</th><td>645</td><td>Spain </td><td>Male  </td><td>44</td><td>8</td><td>113755.78</td><td>2</td><td>1</td><td>0</td><td>149756.71</td><td>1</td></tr>\n",
       "\t<tr><th scope=row>6</th><td>822</td><td>France</td><td>Male  </td><td>50</td><td>7</td><td>     0.00</td><td>2</td><td>1</td><td>1</td><td> 10062.80</td><td>0</td></tr>\n",
       "</tbody>\n",
       "</table>\n"
      ],
      "text/latex": [
       "A data.frame: 6 × 11\n",
       "\\begin{tabular}{r|lllllllllll}\n",
       "  & credit\\_score & country & gender & age & tenure & balance & products\\_number & credit\\_card & active\\_member & estimated\\_salary & churn\\\\\n",
       "  & <int> & <chr> & <chr> & <int> & <int> & <dbl> & <int> & <int> & <int> & <dbl> & <fct>\\\\\n",
       "\\hline\n",
       "\t1 & 619 & France & Female & 42 & 2 &      0.00 & 1 & 1 & 1 & 101348.88 & 1\\\\\n",
       "\t2 & 608 & Spain  & Female & 41 & 1 &  83807.86 & 1 & 0 & 1 & 112542.58 & 0\\\\\n",
       "\t3 & 699 & France & Female & 39 & 1 &      0.00 & 2 & 0 & 0 &  93826.63 & 0\\\\\n",
       "\t4 & 850 & Spain  & Female & 43 & 2 & 125510.82 & 1 & 1 & 1 &  79084.10 & 0\\\\\n",
       "\t5 & 645 & Spain  & Male   & 44 & 8 & 113755.78 & 2 & 1 & 0 & 149756.71 & 1\\\\\n",
       "\t6 & 822 & France & Male   & 50 & 7 &      0.00 & 2 & 1 & 1 &  10062.80 & 0\\\\\n",
       "\\end{tabular}\n"
      ],
      "text/markdown": [
       "\n",
       "A data.frame: 6 × 11\n",
       "\n",
       "| <!--/--> | credit_score &lt;int&gt; | country &lt;chr&gt; | gender &lt;chr&gt; | age &lt;int&gt; | tenure &lt;int&gt; | balance &lt;dbl&gt; | products_number &lt;int&gt; | credit_card &lt;int&gt; | active_member &lt;int&gt; | estimated_salary &lt;dbl&gt; | churn &lt;fct&gt; |\n",
       "|---|---|---|---|---|---|---|---|---|---|---|---|\n",
       "| 1 | 619 | France | Female | 42 | 2 |      0.00 | 1 | 1 | 1 | 101348.88 | 1 |\n",
       "| 2 | 608 | Spain  | Female | 41 | 1 |  83807.86 | 1 | 0 | 1 | 112542.58 | 0 |\n",
       "| 3 | 699 | France | Female | 39 | 1 |      0.00 | 2 | 0 | 0 |  93826.63 | 0 |\n",
       "| 4 | 850 | Spain  | Female | 43 | 2 | 125510.82 | 1 | 1 | 1 |  79084.10 | 0 |\n",
       "| 5 | 645 | Spain  | Male   | 44 | 8 | 113755.78 | 2 | 1 | 0 | 149756.71 | 1 |\n",
       "| 6 | 822 | France | Male   | 50 | 7 |      0.00 | 2 | 1 | 1 |  10062.80 | 0 |\n",
       "\n"
      ],
      "text/plain": [
       "  credit_score country gender age tenure balance   products_number credit_card\n",
       "1 619          France  Female 42  2           0.00 1               1          \n",
       "2 608          Spain   Female 41  1       83807.86 1               0          \n",
       "3 699          France  Female 39  1           0.00 2               0          \n",
       "4 850          Spain   Female 43  2      125510.82 1               1          \n",
       "5 645          Spain   Male   44  8      113755.78 2               1          \n",
       "6 822          France  Male   50  7           0.00 2               1          \n",
       "  active_member estimated_salary churn\n",
       "1 1             101348.88        1    \n",
       "2 1             112542.58        0    \n",
       "3 0              93826.63        0    \n",
       "4 1              79084.10        0    \n",
       "5 0             149756.71        1    \n",
       "6 1              10062.80        0    "
      ]
     },
     "metadata": {},
     "output_type": "display_data"
    }
   ],
   "source": [
    "head(df[,-12])"
   ]
  },
  {
   "cell_type": "markdown",
   "id": "44bce97c",
   "metadata": {},
   "source": [
    "__2.3: Report interesting patterns that you find in the dataset.__"
   ]
  },
  {
   "cell_type": "code",
   "execution_count": 168,
   "id": "620b9275",
   "metadata": {},
   "outputs": [
    {
     "data": {
      "image/png": "[encoded data removed]",
      "text/plain": [
       "plot without title"
      ]
     },
     "metadata": {
      "image/png": {
       "height": 420,
       "width": 420
      }
     },
     "output_type": "display_data"
    }
   ],
   "source": [
    "# Plot product number distribution by churn vs. no-churn\n",
    "ggplot(df, aes(x = products_number, fill = as.factor(churn))) +\n",
    "  geom_histogram(position = \"identity\", alpha = 0.5, bins = 25) +\n",
    "  scale_fill_manual(values = c(\"red\", \"blue\"), labels=c('No churn', 'Churn')) +\n",
    "  labs(title = \"Histogram of Products Number by Churn\", x = \"Products Number\", y = \"Frequency\", fill = \"Churn\") +\n",
    "  theme_classic()"
   ]
  },
  {
   "cell_type": "code",
   "execution_count": 169,
   "id": "f6320a6b",
   "metadata": {},
   "outputs": [
    {
     "name": "stdout",
     "output_type": "stream",
     "text": [
      "Mean diff in number of products: 0.0712257 \n",
      "Median diff in number of products: 1 \n",
      "P-value for number of products vs churn: 0.0002905912 \n"
     ]
    }
   ],
   "source": [
    "# Separate out ages for two groups\n",
    "products_churn <- df$products_number[df$churn == 1]\n",
    "products_no_churn <- df$products_number[df$churn == 0]\n",
    "\n",
    "# Calculate difference in mean and median\n",
    "mean_diff_products <- mean(products_no_churn) - mean(products_churn)\n",
    "median_diff_products <- median(products_no_churn) - median(products_churn)\n",
    "cat(\"Mean diff in number of products:\", mean_diff_products, \"\\n\")\n",
    "cat(\"Median diff in number of products:\", median_diff_products, \"\\n\")\n",
    "\n",
    "# Run t-test\n",
    "ttest <- t.test(products_churn, products_no_churn)\n",
    "pval <- ttest$p.value\n",
    "cat(\"P-value for number of products vs churn:\", pval, \"\\n\")"
   ]
  },
  {
   "cell_type": "markdown",
   "id": "6b28804f",
   "metadata": {},
   "source": [
    "There seems to be a statistically significant relationship between the number of products and churn. Customers that have a higher number of products are less likely to churn. The fact, however, that customers with four products have all churned goes against this observation. "
   ]
  },
  {
   "cell_type": "code",
   "execution_count": 374,
   "id": "bb81c9b0",
   "metadata": {
    "scrolled": false
   },
   "outputs": [
    {
     "data": {
      "text/html": [
       "<table class=\"dataframe\">\n",
       "<caption>A data.frame: 6 × 12</caption>\n",
       "<thead>\n",
       "\t<tr><th></th><th scope=col>credit_score</th><th scope=col>country</th><th scope=col>gender</th><th scope=col>age</th><th scope=col>tenure</th><th scope=col>balance</th><th scope=col>products_number</th><th scope=col>credit_card</th><th scope=col>active_member</th><th scope=col>estimated_salary</th><th scope=col>churn</th><th scope=col>z_creditscore</th></tr>\n",
       "\t<tr><th></th><th scope=col>&lt;int&gt;</th><th scope=col>&lt;chr&gt;</th><th scope=col>&lt;chr&gt;</th><th scope=col>&lt;int&gt;</th><th scope=col>&lt;int&gt;</th><th scope=col>&lt;dbl&gt;</th><th scope=col>&lt;int&gt;</th><th scope=col>&lt;int&gt;</th><th scope=col>&lt;int&gt;</th><th scope=col>&lt;dbl&gt;</th><th scope=col>&lt;fct&gt;</th><th scope=col>&lt;dbl[,1]&gt;</th></tr>\n",
       "</thead>\n",
       "<tbody>\n",
       "\t<tr><th scope=row>7</th><td>376</td><td>Germany</td><td>Female</td><td>29</td><td>4</td><td>115046.74</td><td>4</td><td>1</td><td>0</td><td>119346.88</td><td>1</td><td>-2.8410774</td></tr>\n",
       "\t<tr><th scope=row>65</th><td>738</td><td>Germany</td><td>Male  </td><td>58</td><td>2</td><td>133745.44</td><td>4</td><td>1</td><td>0</td><td> 28373.86</td><td>1</td><td> 0.9071718</td></tr>\n",
       "\t<tr><th scope=row>1115</th><td>628</td><td>France </td><td>Female</td><td>46</td><td>1</td><td> 46870.43</td><td>4</td><td>1</td><td>0</td><td> 31272.14</td><td>1</td><td>-0.2317990</td></tr>\n",
       "\t<tr><th scope=row>1307</th><td>819</td><td>Germany</td><td>Female</td><td>49</td><td>1</td><td>120656.86</td><td>4</td><td>0</td><td>0</td><td>166164.30</td><td>1</td><td> 1.7458685</td></tr>\n",
       "\t<tr><th scope=row>1324</th><td>596</td><td>Spain  </td><td>Male  </td><td>30</td><td>6</td><td>121345.88</td><td>4</td><td>1</td><td>0</td><td> 41921.75</td><td>1</td><td>-0.5631359</td></tr>\n",
       "\t<tr><th scope=row>1519</th><td>792</td><td>France </td><td>Male  </td><td>50</td><td>9</td><td>     0.00</td><td>4</td><td>1</td><td>1</td><td>194700.81</td><td>1</td><td> 1.4663029</td></tr>\n",
       "</tbody>\n",
       "</table>\n"
      ],
      "text/latex": [
       "A data.frame: 6 × 12\n",
       "\\begin{tabular}{r|llllllllllll}\n",
       "  & credit\\_score & country & gender & age & tenure & balance & products\\_number & credit\\_card & active\\_member & estimated\\_salary & churn & z\\_creditscore\\\\\n",
       "  & <int> & <chr> & <chr> & <int> & <int> & <dbl> & <int> & <int> & <int> & <dbl> & <fct> & <dbl{[},1{]}>\\\\\n",
       "\\hline\n",
       "\t7 & 376 & Germany & Female & 29 & 4 & 115046.74 & 4 & 1 & 0 & 119346.88 & 1 & -2.8410774\\\\\n",
       "\t65 & 738 & Germany & Male   & 58 & 2 & 133745.44 & 4 & 1 & 0 &  28373.86 & 1 &  0.9071718\\\\\n",
       "\t1115 & 628 & France  & Female & 46 & 1 &  46870.43 & 4 & 1 & 0 &  31272.14 & 1 & -0.2317990\\\\\n",
       "\t1307 & 819 & Germany & Female & 49 & 1 & 120656.86 & 4 & 0 & 0 & 166164.30 & 1 &  1.7458685\\\\\n",
       "\t1324 & 596 & Spain   & Male   & 30 & 6 & 121345.88 & 4 & 1 & 0 &  41921.75 & 1 & -0.5631359\\\\\n",
       "\t1519 & 792 & France  & Male   & 50 & 9 &      0.00 & 4 & 1 & 1 & 194700.81 & 1 &  1.4663029\\\\\n",
       "\\end{tabular}\n"
      ],
      "text/markdown": [
       "\n",
       "A data.frame: 6 × 12\n",
       "\n",
       "| <!--/--> | credit_score &lt;int&gt; | country &lt;chr&gt; | gender &lt;chr&gt; | age &lt;int&gt; | tenure &lt;int&gt; | balance &lt;dbl&gt; | products_number &lt;int&gt; | credit_card &lt;int&gt; | active_member &lt;int&gt; | estimated_salary &lt;dbl&gt; | churn &lt;fct&gt; | z_creditscore &lt;dbl[,1]&gt; |\n",
       "|---|---|---|---|---|---|---|---|---|---|---|---|---|\n",
       "| 7 | 376 | Germany | Female | 29 | 4 | 115046.74 | 4 | 1 | 0 | 119346.88 | 1 | -2.8410774 |\n",
       "| 65 | 738 | Germany | Male   | 58 | 2 | 133745.44 | 4 | 1 | 0 |  28373.86 | 1 |  0.9071718 |\n",
       "| 1115 | 628 | France  | Female | 46 | 1 |  46870.43 | 4 | 1 | 0 |  31272.14 | 1 | -0.2317990 |\n",
       "| 1307 | 819 | Germany | Female | 49 | 1 | 120656.86 | 4 | 0 | 0 | 166164.30 | 1 |  1.7458685 |\n",
       "| 1324 | 596 | Spain   | Male   | 30 | 6 | 121345.88 | 4 | 1 | 0 |  41921.75 | 1 | -0.5631359 |\n",
       "| 1519 | 792 | France  | Male   | 50 | 9 |      0.00 | 4 | 1 | 1 | 194700.81 | 1 |  1.4663029 |\n",
       "\n"
      ],
      "text/plain": [
       "     credit_score country gender age tenure balance   products_number\n",
       "7    376          Germany Female 29  4      115046.74 4              \n",
       "65   738          Germany Male   58  2      133745.44 4              \n",
       "1115 628          France  Female 46  1       46870.43 4              \n",
       "1307 819          Germany Female 49  1      120656.86 4              \n",
       "1324 596          Spain   Male   30  6      121345.88 4              \n",
       "1519 792          France  Male   50  9           0.00 4              \n",
       "     credit_card active_member estimated_salary churn z_creditscore\n",
       "7    1           0             119346.88        1     -2.8410774   \n",
       "65   1           0              28373.86        1      0.9071718   \n",
       "1115 1           0              31272.14        1     -0.2317990   \n",
       "1307 0           0             166164.30        1      1.7458685   \n",
       "1324 1           0              41921.75        1     -0.5631359   \n",
       "1519 1           1             194700.81        1      1.4663029   "
      ]
     },
     "metadata": {},
     "output_type": "display_data"
    }
   ],
   "source": [
    "head(subset(df, products_number == 4))"
   ]
  },
  {
   "cell_type": "code",
   "execution_count": 171,
   "id": "3f5bbe05",
   "metadata": {},
   "outputs": [
    {
     "name": "stdout",
     "output_type": "stream",
     "text": [
      "[1] 1.654353e-46\n",
      "                   \n",
      "                    Not Churned  Churned\n",
      "  Non-Active Member    3478.869 889.1307\n",
      "  Active Member        3689.131 942.8693\n"
     ]
    }
   ],
   "source": [
    "# create contingency table to test relationship between churn and membership status\n",
    "table_active_member <- table(df$active_member, df$churn)\n",
    "rownames(table_active_member) <- c(\"Non-Active Member\", \"Active Member\")\n",
    "colnames(table_active_member) <- c(\"Not Churned\", \"Churned\")\n",
    "\n",
    "# run chi-squared test and print p-value\n",
    "test <- chisq.test(table_active_member)\n",
    "pval <- test$p.value\n",
    "print(pval)\n",
    "\n",
    "# print expected values\n",
    "expected <- test$expected\n",
    "rownames(expected) <- rownames(table_active_member)\n",
    "colnames(expected) <- colnames(table_active_member)\n",
    "print(expected)"
   ]
  },
  {
   "cell_type": "markdown",
   "id": "70eefaba",
   "metadata": {},
   "source": [
    "There is a statistically significant relationship between membership status and churn. Non-active members are more likely to churn than active members. "
   ]
  },
  {
   "cell_type": "markdown",
   "id": "90826443",
   "metadata": {},
   "source": [
    "__2.4: Further non-significant findings:__"
   ]
  },
  {
   "cell_type": "code",
   "execution_count": 392,
   "id": "31240e1e",
   "metadata": {},
   "outputs": [
    {
     "data": {
      "image/png": "[encoded data removed]",
      "text/plain": [
       "plot without title"
      ]
     },
     "metadata": {
      "image/png": {
       "height": 420,
       "width": 420
      }
     },
     "output_type": "display_data"
    }
   ],
   "source": [
    "ggplot(data = df, aes(x = gender, y = tenure, fill = churn)) +\n",
    "  geom_boxplot() +\n",
    "  labs(title = \"Tenure by gender and churn status\", x = \"Gender\", y = \"Tenure\") +\n",
    "  scale_fill_manual(values = c(\"#00BFC4\", \"#F8766D\")) # optional: custom color palette"
   ]
  },
  {
   "cell_type": "code",
   "execution_count": 391,
   "id": "410d4112",
   "metadata": {},
   "outputs": [
    {
     "data": {
      "image/png": "[encoded data removed]",
      "text/plain": [
       "plot without title"
      ]
     },
     "metadata": {
      "image/png": {
       "height": 420,
       "width": 420
      }
     },
     "output_type": "display_data"
    }
   ],
   "source": [
    "ggplot(data = df, aes(x = age, y = estimated_salary, color = churn)) +\n",
    "  geom_point() +\n",
    "  labs(title = \"Age vs. estimated salary by churn status\", x = \"Age\", y = \"Estimated salary\") +\n",
    "  scale_color_manual(values = c(\"#00BFC4\", \"#F8766D\")) # optional: custom color palette"
   ]
  },
  {
   "cell_type": "code",
   "execution_count": 172,
   "id": "135df8f4",
   "metadata": {},
   "outputs": [
    {
     "name": "stdout",
     "output_type": "stream",
     "text": [
      "[1] 0.5254901\n",
      "   \n",
      "          0       1\n",
      "  0 2114.56  540.44\n",
      "  1 5053.44 1291.56\n"
     ]
    }
   ],
   "source": [
    "# create contingency table to test relationship between churn and credit card ownership\n",
    "table_credit_card <- table(df$credit_card, df$churn)\n",
    "\n",
    "# run chi-squared test and print p-value\n",
    "test <- chisq.test(table_credit_card)\n",
    "pval <- test$p.value\n",
    "print(pval)\n",
    "\n",
    "# print expected values\n",
    "expected <- test$expected\n",
    "print(expected)"
   ]
  },
  {
   "cell_type": "markdown",
   "id": "040aafa6",
   "metadata": {},
   "source": [
    "No statistically significant relationship between churn rate and credit card ownership as p-value is not leas than the significance level of 5%"
   ]
  },
  {
   "cell_type": "code",
   "execution_count": 173,
   "id": "8eeddb06",
   "metadata": {},
   "outputs": [
    {
     "data": {
      "image/png": "[encoded data removed]",
      "text/plain": [
       "plot without title"
      ]
     },
     "metadata": {
      "image/png": {
       "height": 420,
       "width": 420
      }
     },
     "output_type": "display_data"
    }
   ],
   "source": [
    "# Plot estimated salary distribution by churn vs. no-churn\n",
    "ggplot(df, aes(x = estimated_salary, fill = as.factor(churn))) +\n",
    "  geom_histogram(position = \"identity\", alpha = 0.5, bins = 25) +\n",
    "  scale_fill_manual(values = c(\"red\", \"blue\"), labels=c('No churn', 'Churn')) +\n",
    "  labs(title = \"Histogram of Estimated Salary by Churn\", x = \"Estimated salary\", y = \"Frequency\", fill = \"Churn\") +\n",
    "  theme_classic()"
   ]
  },
  {
   "cell_type": "code",
   "execution_count": 174,
   "id": "af90481f",
   "metadata": {},
   "outputs": [
    {
     "data": {
      "image/png": "[encoded data removed]",
      "text/plain": [
       "plot without title"
      ]
     },
     "metadata": {
      "image/png": {
       "height": 420,
       "width": 420
      }
     },
     "output_type": "display_data"
    }
   ],
   "source": [
    "# Plot balance distribution by churn vs. no-churn\n",
    "ggplot(df, aes(x = balance, fill = as.factor(churn))) +\n",
    "  geom_histogram(position = \"identity\", alpha = 0.5, bins = 25) +\n",
    "  scale_fill_manual(values = c(\"red\", \"blue\"), labels=c('No churn', 'Churn')) +\n",
    "  labs(title = \"Histogram of Balance by Churn\", x = \"Balance\", y = \"Frequency\", fill = \"Churn\") +\n",
    "  theme_classic()"
   ]
  },
  {
   "cell_type": "code",
   "execution_count": 379,
   "id": "8990322a",
   "metadata": {},
   "outputs": [
    {
     "data": {
      "image/png": "[encoded data removed]",
      "text/plain": [
       "plot without title"
      ]
     },
     "metadata": {
      "image/png": {
       "height": 420,
       "width": 420
      }
     },
     "output_type": "display_data"
    }
   ],
   "source": [
    "ggplot(data = df, aes(x = churn, y = balance)) +\n",
    "  geom_boxplot(fill = \"lightblue\") +\n",
    "  labs(x = \"Churn Status\", y = \"Balance\") +\n",
    "  ggtitle(\"Boxplot of Balance by Churn Status\")"
   ]
  },
  {
   "cell_type": "code",
   "execution_count": 175,
   "id": "5f9efeaa",
   "metadata": {},
   "outputs": [
    {
     "data": {
      "image/png": "[encoded data removed]",
      "text/plain": [
       "plot without title"
      ]
     },
     "metadata": {
      "image/png": {
       "height": 420,
       "width": 420
      }
     },
     "output_type": "display_data"
    }
   ],
   "source": [
    "# Plot tenure distribution by churn vs. no-churn\n",
    "ggplot(df, aes(x = tenure, fill = as.factor(churn))) +\n",
    "  geom_histogram(position = \"identity\", alpha = 0.5, bins = 25) +\n",
    "  scale_fill_manual(values = c(\"red\", \"blue\"), labels=c('No churn', 'Churn')) +\n",
    "  labs(title = \"Histogram of Tenure by Churn\", x = \"Tenure\", y = \"Frequency\", fill = \"Churn\") +\n",
    "  theme_classic()"
   ]
  },
  {
   "cell_type": "code",
   "execution_count": 176,
   "id": "81b71796",
   "metadata": {},
   "outputs": [
    {
     "data": {
      "image/png": "[encoded data removed]",
      "text/plain": [
       "plot without title"
      ]
     },
     "metadata": {
      "image/png": {
       "height": 420,
       "width": 420
      }
     },
     "output_type": "display_data"
    }
   ],
   "source": [
    "# Plot credit score distribution by churn vs. no-churn\n",
    "ggplot(df, aes(x = credit_score, fill = as.factor(churn))) +\n",
    "  geom_histogram(position = \"identity\", alpha = 0.5, bins = 25) +\n",
    "  scale_fill_manual(values = c(\"red\", \"blue\"), labels=c('No churn', 'Churn')) +\n",
    "  labs(title = \"Histogram of Credit Score by Churn\", x = \"Credit Score\", y = \"Frequency\", fill = \"Churn\") +\n",
    "  theme_classic()"
   ]
  },
  {
   "cell_type": "markdown",
   "id": "668f7f3c",
   "metadata": {},
   "source": [
    "# 3: Model Building"
   ]
  },
  {
   "cell_type": "markdown",
   "id": "2c454735",
   "metadata": {},
   "source": [
    "Which variables are the strongest predictors of customer churn? \n",
    "How did you conclude that these are the strongest predictors? \n",
    "How do different model evaluation metrics (e.g., accuracy, precision, recall) vary for different models? \n",
    "Which model would you use for predicting customer churn?"
   ]
  },
  {
   "cell_type": "markdown",
   "id": "773e8943",
   "metadata": {},
   "source": [
    "#### 3.1 Logistic regression"
   ]
  },
  {
   "cell_type": "code",
   "execution_count": 295,
   "id": "6aac3221",
   "metadata": {},
   "outputs": [
    {
     "data": {
      "text/html": [
       "<table class=\"dataframe\">\n",
       "<caption>A data.frame: 6 × 12</caption>\n",
       "<thead>\n",
       "\t<tr><th></th><th scope=col>credit_score</th><th scope=col>age</th><th scope=col>tenure</th><th scope=col>balance</th><th scope=col>products_number</th><th scope=col>credit_card</th><th scope=col>active_member</th><th scope=col>estimated_salary</th><th scope=col>churn</th><th scope=col>genderFemale</th><th scope=col>countryFrance</th><th scope=col>countryGermany</th></tr>\n",
       "\t<tr><th></th><th scope=col>&lt;int&gt;</th><th scope=col>&lt;int&gt;</th><th scope=col>&lt;int&gt;</th><th scope=col>&lt;dbl&gt;</th><th scope=col>&lt;int&gt;</th><th scope=col>&lt;int&gt;</th><th scope=col>&lt;int&gt;</th><th scope=col>&lt;dbl&gt;</th><th scope=col>&lt;fct&gt;</th><th scope=col>&lt;dbl&gt;</th><th scope=col>&lt;dbl&gt;</th><th scope=col>&lt;dbl&gt;</th></tr>\n",
       "</thead>\n",
       "<tbody>\n",
       "\t<tr><th scope=row>1</th><td>619</td><td>42</td><td>2</td><td>     0.00</td><td>1</td><td>1</td><td>1</td><td>101348.88</td><td>1</td><td>1</td><td>1</td><td>0</td></tr>\n",
       "\t<tr><th scope=row>2</th><td>608</td><td>41</td><td>1</td><td> 83807.86</td><td>1</td><td>0</td><td>1</td><td>112542.58</td><td>0</td><td>1</td><td>0</td><td>0</td></tr>\n",
       "\t<tr><th scope=row>3</th><td>699</td><td>39</td><td>1</td><td>     0.00</td><td>2</td><td>0</td><td>0</td><td> 93826.63</td><td>0</td><td>1</td><td>1</td><td>0</td></tr>\n",
       "\t<tr><th scope=row>4</th><td>850</td><td>43</td><td>2</td><td>125510.82</td><td>1</td><td>1</td><td>1</td><td> 79084.10</td><td>0</td><td>1</td><td>0</td><td>0</td></tr>\n",
       "\t<tr><th scope=row>5</th><td>645</td><td>44</td><td>8</td><td>113755.78</td><td>2</td><td>1</td><td>0</td><td>149756.71</td><td>1</td><td>0</td><td>0</td><td>0</td></tr>\n",
       "\t<tr><th scope=row>6</th><td>822</td><td>50</td><td>7</td><td>     0.00</td><td>2</td><td>1</td><td>1</td><td> 10062.80</td><td>0</td><td>0</td><td>1</td><td>0</td></tr>\n",
       "</tbody>\n",
       "</table>\n"
      ],
      "text/latex": [
       "A data.frame: 6 × 12\n",
       "\\begin{tabular}{r|llllllllllll}\n",
       "  & credit\\_score & age & tenure & balance & products\\_number & credit\\_card & active\\_member & estimated\\_salary & churn & genderFemale & countryFrance & countryGermany\\\\\n",
       "  & <int> & <int> & <int> & <dbl> & <int> & <int> & <int> & <dbl> & <fct> & <dbl> & <dbl> & <dbl>\\\\\n",
       "\\hline\n",
       "\t1 & 619 & 42 & 2 &      0.00 & 1 & 1 & 1 & 101348.88 & 1 & 1 & 1 & 0\\\\\n",
       "\t2 & 608 & 41 & 1 &  83807.86 & 1 & 0 & 1 & 112542.58 & 0 & 1 & 0 & 0\\\\\n",
       "\t3 & 699 & 39 & 1 &      0.00 & 2 & 0 & 0 &  93826.63 & 0 & 1 & 1 & 0\\\\\n",
       "\t4 & 850 & 43 & 2 & 125510.82 & 1 & 1 & 1 &  79084.10 & 0 & 1 & 0 & 0\\\\\n",
       "\t5 & 645 & 44 & 8 & 113755.78 & 2 & 1 & 0 & 149756.71 & 1 & 0 & 0 & 0\\\\\n",
       "\t6 & 822 & 50 & 7 &      0.00 & 2 & 1 & 1 &  10062.80 & 0 & 0 & 1 & 0\\\\\n",
       "\\end{tabular}\n"
      ],
      "text/markdown": [
       "\n",
       "A data.frame: 6 × 12\n",
       "\n",
       "| <!--/--> | credit_score &lt;int&gt; | age &lt;int&gt; | tenure &lt;int&gt; | balance &lt;dbl&gt; | products_number &lt;int&gt; | credit_card &lt;int&gt; | active_member &lt;int&gt; | estimated_salary &lt;dbl&gt; | churn &lt;fct&gt; | genderFemale &lt;dbl&gt; | countryFrance &lt;dbl&gt; | countryGermany &lt;dbl&gt; |\n",
       "|---|---|---|---|---|---|---|---|---|---|---|---|---|\n",
       "| 1 | 619 | 42 | 2 |      0.00 | 1 | 1 | 1 | 101348.88 | 1 | 1 | 1 | 0 |\n",
       "| 2 | 608 | 41 | 1 |  83807.86 | 1 | 0 | 1 | 112542.58 | 0 | 1 | 0 | 0 |\n",
       "| 3 | 699 | 39 | 1 |      0.00 | 2 | 0 | 0 |  93826.63 | 0 | 1 | 1 | 0 |\n",
       "| 4 | 850 | 43 | 2 | 125510.82 | 1 | 1 | 1 |  79084.10 | 0 | 1 | 0 | 0 |\n",
       "| 5 | 645 | 44 | 8 | 113755.78 | 2 | 1 | 0 | 149756.71 | 1 | 0 | 0 | 0 |\n",
       "| 6 | 822 | 50 | 7 |      0.00 | 2 | 1 | 1 |  10062.80 | 0 | 0 | 1 | 0 |\n",
       "\n"
      ],
      "text/plain": [
       "  credit_score age tenure balance   products_number credit_card active_member\n",
       "1 619          42  2           0.00 1               1           1            \n",
       "2 608          41  1       83807.86 1               0           1            \n",
       "3 699          39  1           0.00 2               0           0            \n",
       "4 850          43  2      125510.82 1               1           1            \n",
       "5 645          44  8      113755.78 2               1           0            \n",
       "6 822          50  7           0.00 2               1           1            \n",
       "  estimated_salary churn genderFemale countryFrance countryGermany\n",
       "1 101348.88        1     1            1             0             \n",
       "2 112542.58        0     1            0             0             \n",
       "3  93826.63        0     1            1             0             \n",
       "4  79084.10        0     1            0             0             \n",
       "5 149756.71        1     0            0             0             \n",
       "6  10062.80        0     0            1             0             "
      ]
     },
     "metadata": {},
     "output_type": "display_data"
    }
   ],
   "source": [
    "# Load and preprocess data\n",
    "churn_data <- data.frame(new_df)\n",
    "churn_data$churn <- as.factor(churn_data$churn)\n",
    "head(churn_data)"
   ]
  },
  {
   "cell_type": "code",
   "execution_count": 296,
   "id": "2aefe77e",
   "metadata": {},
   "outputs": [
    {
     "data": {
      "text/plain": [
       "\n",
       "Call:\n",
       "glm(formula = churn ~ ., family = binomial(link = \"logit\"), data = train)\n",
       "\n",
       "Deviance Residuals: \n",
       "    Min       1Q   Median       3Q      Max  \n",
       "-2.2760  -0.6585  -0.4573  -0.2691   2.9955  \n",
       "\n",
       "Coefficients:\n",
       "                   Estimate Std. Error z value Pr(>|z|)    \n",
       "(Intercept)      -3.711e+00  3.107e-01 -11.945  < 2e-16 ***\n",
       "credit_score     -1.010e-03  3.521e-04  -2.869 0.004122 ** \n",
       "age               7.249e-02  3.246e-03  22.332  < 2e-16 ***\n",
       "tenure           -3.634e-03  1.171e-02  -0.310 0.756311    \n",
       "balance           2.474e-06  6.458e-07   3.831 0.000128 ***\n",
       "products_number  -9.627e-02  5.981e-02  -1.610 0.107494    \n",
       "credit_card      -7.741e-02  7.425e-02  -1.043 0.297111    \n",
       "active_member    -1.057e+00  7.250e-02 -14.576  < 2e-16 ***\n",
       "estimated_salary  7.672e-07  5.955e-07   1.288 0.197625    \n",
       "genderFemale      5.486e-01  6.863e-02   7.994 1.31e-15 ***\n",
       "countryFrance    -7.886e-02  8.812e-02  -0.895 0.370817    \n",
       "countryGermany    7.075e-01  9.855e-02   7.179 7.02e-13 ***\n",
       "---\n",
       "Signif. codes:  0 '***' 0.001 '**' 0.01 '*' 0.05 '.' 0.1 ' ' 1\n",
       "\n",
       "(Dispersion parameter for binomial family taken to be 1)\n",
       "\n",
       "    Null deviance: 6368.8  on 6300  degrees of freedom\n",
       "Residual deviance: 5418.0  on 6289  degrees of freedom\n",
       "AIC: 5442\n",
       "\n",
       "Number of Fisher Scoring iterations: 5\n"
      ]
     },
     "metadata": {},
     "output_type": "display_data"
    }
   ],
   "source": [
    "# Split data into training and testing sets\n",
    "set.seed(123)\n",
    "trainIndex <- createDataPartition(churn_data$churn, p = .7, list = FALSE)\n",
    "train <- churn_data[trainIndex,]\n",
    "test <- churn_data[-trainIndex,]\n",
    "\n",
    "# Fit logistic regression model\n",
    "logistic_model <- glm(churn ~ ., data = train, family = binomial(link = 'logit'))\n",
    "\n",
    "# Get summary of model coefficients\n",
    "summary(logistic_model)"
   ]
  },
  {
   "cell_type": "markdown",
   "id": "808c7cfa",
   "metadata": {},
   "source": [
    "The strongest predictors of churn are likely to be credit score, country (Germany), gender (male), age, balance, and active member status, as these have the largest absolute coefficient values and are statistically significant"
   ]
  },
  {
   "cell_type": "code",
   "execution_count": 297,
   "id": "631709b3",
   "metadata": {},
   "outputs": [
    {
     "data": {
      "text/html": [
       "<table class=\"dataframe\">\n",
       "<caption>A data.frame: 11 × 1</caption>\n",
       "<thead>\n",
       "\t<tr><th></th><th scope=col>Overall</th></tr>\n",
       "\t<tr><th></th><th scope=col>&lt;dbl&gt;</th></tr>\n",
       "</thead>\n",
       "<tbody>\n",
       "\t<tr><th scope=row>credit_score</th><td> 2.8686815</td></tr>\n",
       "\t<tr><th scope=row>age</th><td>22.3316424</td></tr>\n",
       "\t<tr><th scope=row>tenure</th><td> 0.3103293</td></tr>\n",
       "\t<tr><th scope=row>balance</th><td> 3.8305591</td></tr>\n",
       "\t<tr><th scope=row>products_number</th><td> 1.6095605</td></tr>\n",
       "\t<tr><th scope=row>credit_card</th><td> 1.0426488</td></tr>\n",
       "\t<tr><th scope=row>active_member</th><td>14.5760231</td></tr>\n",
       "\t<tr><th scope=row>estimated_salary</th><td> 1.2883486</td></tr>\n",
       "\t<tr><th scope=row>genderFemale</th><td> 7.9940950</td></tr>\n",
       "\t<tr><th scope=row>countryFrance</th><td> 0.8949449</td></tr>\n",
       "\t<tr><th scope=row>countryGermany</th><td> 7.1789666</td></tr>\n",
       "</tbody>\n",
       "</table>\n"
      ],
      "text/latex": [
       "A data.frame: 11 × 1\n",
       "\\begin{tabular}{r|l}\n",
       "  & Overall\\\\\n",
       "  & <dbl>\\\\\n",
       "\\hline\n",
       "\tcredit\\_score &  2.8686815\\\\\n",
       "\tage & 22.3316424\\\\\n",
       "\ttenure &  0.3103293\\\\\n",
       "\tbalance &  3.8305591\\\\\n",
       "\tproducts\\_number &  1.6095605\\\\\n",
       "\tcredit\\_card &  1.0426488\\\\\n",
       "\tactive\\_member & 14.5760231\\\\\n",
       "\testimated\\_salary &  1.2883486\\\\\n",
       "\tgenderFemale &  7.9940950\\\\\n",
       "\tcountryFrance &  0.8949449\\\\\n",
       "\tcountryGermany &  7.1789666\\\\\n",
       "\\end{tabular}\n"
      ],
      "text/markdown": [
       "\n",
       "A data.frame: 11 × 1\n",
       "\n",
       "| <!--/--> | Overall &lt;dbl&gt; |\n",
       "|---|---|\n",
       "| credit_score |  2.8686815 |\n",
       "| age | 22.3316424 |\n",
       "| tenure |  0.3103293 |\n",
       "| balance |  3.8305591 |\n",
       "| products_number |  1.6095605 |\n",
       "| credit_card |  1.0426488 |\n",
       "| active_member | 14.5760231 |\n",
       "| estimated_salary |  1.2883486 |\n",
       "| genderFemale |  7.9940950 |\n",
       "| countryFrance |  0.8949449 |\n",
       "| countryGermany |  7.1789666 |\n",
       "\n"
      ],
      "text/plain": [
       "                 Overall   \n",
       "credit_score      2.8686815\n",
       "age              22.3316424\n",
       "tenure            0.3103293\n",
       "balance           3.8305591\n",
       "products_number   1.6095605\n",
       "credit_card       1.0426488\n",
       "active_member    14.5760231\n",
       "estimated_salary  1.2883486\n",
       "genderFemale      7.9940950\n",
       "countryFrance     0.8949449\n",
       "countryGermany    7.1789666"
      ]
     },
     "metadata": {},
     "output_type": "display_data"
    }
   ],
   "source": [
    "# Calculate variable importance\n",
    "var_imp <- varImp(logistic_model)\n",
    "var_imp"
   ]
  },
  {
   "cell_type": "markdown",
   "id": "97673dbd",
   "metadata": {},
   "source": [
    "+ The most important predictor variable is 'age' with a score of 22.33, indicating that it has the largest impact on predicting the customer churn.\n",
    "+ The second most important predictor variable is 'active_member' with a score of 14.58, which suggests that the customers who are active members have a higher likelihood of not churning.\n",
    "+ 'countryGermany' and 'genderFemale' are also strong predictors. This means that customers from Germany are less likely to churn than customers from other countries, and male customers are more likely to churn compared to female customers.\n",
    "+ 'credit_score', 'balance', 'credit_card', 'products_number', and 'estimated_salary' have smaller importance scores, but they still contribute to the model's predictive power."
   ]
  },
  {
   "cell_type": "code",
   "execution_count": 299,
   "id": "63548cc2",
   "metadata": {},
   "outputs": [
    {
     "name": "stdout",
     "output_type": "stream",
     "text": [
      "Accuracy: 0.8140052 \n",
      "Precision: 0.6180905 \n",
      "Recall: 0.2240437 \n"
     ]
    }
   ],
   "source": [
    "# Evaluate model performance on test set\n",
    "predicted_values <- predict(logistic_model, newdata = test, type = \"response\")\n",
    "predicted_classes <- ifelse(predicted_values > 0.5, \"Yes\", \"No\")\n",
    "actual_classes <- test$churn\n",
    "\n",
    "# Calculate evaluation metrics\n",
    "confusion_matrix <- table(actual_classes, predicted_classes)\n",
    "accuracy <- sum(diag(confusion_matrix))/sum(confusion_matrix)\n",
    "precision <- confusion_matrix[2, 2]/sum(confusion_matrix[, 2])\n",
    "recall <- confusion_matrix[2, 2]/sum(confusion_matrix[2, ])\n",
    "\n",
    "# Print evaluation metrics\n",
    "cat(\"Accuracy:\", accuracy, \"\\n\")\n",
    "cat(\"Precision:\", precision, \"\\n\")\n",
    "cat(\"Recall:\", recall, \"\\n\")\n"
   ]
  },
  {
   "cell_type": "markdown",
   "id": "2cf42e81",
   "metadata": {},
   "source": [
    "+ The model correctly predicted the outcome for 81.4% of the observations in the test set.\n",
    "+ Out of all the predicted positive outcomes, only 61.8% of them were actually positive.\n",
    "+ Out of all the actual positive outcomes, only 22.4% of them were correctly predicted as positive by the model."
   ]
  },
  {
   "cell_type": "markdown",
   "id": "a7dd0159",
   "metadata": {},
   "source": [
    "#### 3.2 Random forest"
   ]
  },
  {
   "cell_type": "code",
   "execution_count": 369,
   "id": "29dc231f",
   "metadata": {},
   "outputs": [
    {
     "data": {
      "text/html": [
       "<table class=\"dataframe\">\n",
       "<caption>A matrix: 11 × 4 of type dbl</caption>\n",
       "<thead>\n",
       "\t<tr><th></th><th scope=col>0</th><th scope=col>1</th><th scope=col>MeanDecreaseAccuracy</th><th scope=col>MeanDecreaseGini</th></tr>\n",
       "</thead>\n",
       "<tbody>\n",
       "\t<tr><th scope=row>credit_score</th><td> 4.6145729</td><td> 0.1385973</td><td>  3.951190</td><td>291.71834</td></tr>\n",
       "\t<tr><th scope=row>age</th><td>74.7386965</td><td>95.5478358</td><td>106.724991</td><td>511.12464</td></tr>\n",
       "\t<tr><th scope=row>tenure</th><td> 0.3201416</td><td> 2.5541243</td><td>  1.686582</td><td>165.53389</td></tr>\n",
       "\t<tr><th scope=row>balance</th><td>32.8521688</td><td>30.6252831</td><td> 46.957724</td><td>295.65688</td></tr>\n",
       "\t<tr><th scope=row>products_number</th><td>84.9468510</td><td>83.7426864</td><td>102.268622</td><td>287.75135</td></tr>\n",
       "\t<tr><th scope=row>credit_card</th><td>-1.6068547</td><td>-2.4442869</td><td> -2.654354</td><td> 39.16407</td></tr>\n",
       "\t<tr><th scope=row>active_member</th><td>44.2494523</td><td>24.1946253</td><td> 48.408269</td><td> 81.72820</td></tr>\n",
       "\t<tr><th scope=row>estimated_salary</th><td> 4.1930489</td><td>-1.1563335</td><td>  2.783298</td><td>294.71238</td></tr>\n",
       "\t<tr><th scope=row>genderFemale</th><td> 7.4777825</td><td> 5.1518655</td><td>  8.849795</td><td> 42.36687</td></tr>\n",
       "\t<tr><th scope=row>countryFrance</th><td>-5.0931100</td><td>12.2211816</td><td>  4.353546</td><td> 30.88592</td></tr>\n",
       "\t<tr><th scope=row>countryGermany</th><td> 1.5856527</td><td>44.9677710</td><td> 29.499001</td><td> 57.38184</td></tr>\n",
       "</tbody>\n",
       "</table>\n"
      ],
      "text/latex": [
       "A matrix: 11 × 4 of type dbl\n",
       "\\begin{tabular}{r|llll}\n",
       "  & 0 & 1 & MeanDecreaseAccuracy & MeanDecreaseGini\\\\\n",
       "\\hline\n",
       "\tcredit\\_score &  4.6145729 &  0.1385973 &   3.951190 & 291.71834\\\\\n",
       "\tage & 74.7386965 & 95.5478358 & 106.724991 & 511.12464\\\\\n",
       "\ttenure &  0.3201416 &  2.5541243 &   1.686582 & 165.53389\\\\\n",
       "\tbalance & 32.8521688 & 30.6252831 &  46.957724 & 295.65688\\\\\n",
       "\tproducts\\_number & 84.9468510 & 83.7426864 & 102.268622 & 287.75135\\\\\n",
       "\tcredit\\_card & -1.6068547 & -2.4442869 &  -2.654354 &  39.16407\\\\\n",
       "\tactive\\_member & 44.2494523 & 24.1946253 &  48.408269 &  81.72820\\\\\n",
       "\testimated\\_salary &  4.1930489 & -1.1563335 &   2.783298 & 294.71238\\\\\n",
       "\tgenderFemale &  7.4777825 &  5.1518655 &   8.849795 &  42.36687\\\\\n",
       "\tcountryFrance & -5.0931100 & 12.2211816 &   4.353546 &  30.88592\\\\\n",
       "\tcountryGermany &  1.5856527 & 44.9677710 &  29.499001 &  57.38184\\\\\n",
       "\\end{tabular}\n"
      ],
      "text/markdown": [
       "\n",
       "A matrix: 11 × 4 of type dbl\n",
       "\n",
       "| <!--/--> | 0 | 1 | MeanDecreaseAccuracy | MeanDecreaseGini |\n",
       "|---|---|---|---|---|\n",
       "| credit_score |  4.6145729 |  0.1385973 |   3.951190 | 291.71834 |\n",
       "| age | 74.7386965 | 95.5478358 | 106.724991 | 511.12464 |\n",
       "| tenure |  0.3201416 |  2.5541243 |   1.686582 | 165.53389 |\n",
       "| balance | 32.8521688 | 30.6252831 |  46.957724 | 295.65688 |\n",
       "| products_number | 84.9468510 | 83.7426864 | 102.268622 | 287.75135 |\n",
       "| credit_card | -1.6068547 | -2.4442869 |  -2.654354 |  39.16407 |\n",
       "| active_member | 44.2494523 | 24.1946253 |  48.408269 |  81.72820 |\n",
       "| estimated_salary |  4.1930489 | -1.1563335 |   2.783298 | 294.71238 |\n",
       "| genderFemale |  7.4777825 |  5.1518655 |   8.849795 |  42.36687 |\n",
       "| countryFrance | -5.0931100 | 12.2211816 |   4.353546 |  30.88592 |\n",
       "| countryGermany |  1.5856527 | 44.9677710 |  29.499001 |  57.38184 |\n",
       "\n"
      ],
      "text/plain": [
       "                 0          1          MeanDecreaseAccuracy MeanDecreaseGini\n",
       "credit_score      4.6145729  0.1385973   3.951190           291.71834       \n",
       "age              74.7386965 95.5478358 106.724991           511.12464       \n",
       "tenure            0.3201416  2.5541243   1.686582           165.53389       \n",
       "balance          32.8521688 30.6252831  46.957724           295.65688       \n",
       "products_number  84.9468510 83.7426864 102.268622           287.75135       \n",
       "credit_card      -1.6068547 -2.4442869  -2.654354            39.16407       \n",
       "active_member    44.2494523 24.1946253  48.408269            81.72820       \n",
       "estimated_salary  4.1930489 -1.1563335   2.783298           294.71238       \n",
       "genderFemale      7.4777825  5.1518655   8.849795            42.36687       \n",
       "countryFrance    -5.0931100 12.2211816   4.353546            30.88592       \n",
       "countryGermany    1.5856527 44.9677710  29.499001            57.38184       "
      ]
     },
     "metadata": {},
     "output_type": "display_data"
    },
    {
     "data": {
      "image/png": "[encoded data removed]",
      "text/plain": [
       "plot without title"
      ]
     },
     "metadata": {
      "image/png": {
       "height": 420,
       "width": 420
      }
     },
     "output_type": "display_data"
    }
   ],
   "source": [
    "# Load data\n",
    "churn_data <- data.frame(new_df)\n",
    "churn_data$churn <- as.factor(churn_data$churn)\n",
    "\n",
    "# Split dataset\n",
    "set.seed(123)\n",
    "trainIndex <- createDataPartition(churn_data$churn, p = 0.8, list = FALSE)\n",
    "train <- churn_data[trainIndex, ]\n",
    "test <- churn_data[-trainIndex, ]\n",
    "\n",
    "# Fit the random forest model\n",
    "churn_rf <- randomForest(churn ~ ., data = train, importance = TRUE)\n",
    "\n",
    "# Identify the strongest predictors of churn\n",
    "varImpPlot(churn_rf)  # plot variable importance\n",
    "importance(churn_rf) # return variable importance"
   ]
  },
  {
   "cell_type": "code",
   "execution_count": 368,
   "id": "b6075826",
   "metadata": {},
   "outputs": [
    {
     "name": "stdout",
     "output_type": "stream",
     "text": [
      "Accuracy: 0.8760422 \n",
      "Precision: 0.8863346 \n",
      "Recall: 0.9685973 \n"
     ]
    }
   ],
   "source": [
    "# Evaluate the model performance\n",
    "predicted_churn <- predict(churn_rf, newdata = test)\n",
    "cm <- confusionMatrix(predicted_churn, test$churn)  # calculate confusion matrix\n",
    "# Print evaluation metrics\n",
    "cat(\"Accuracy:\", cm$overall['Accuracy'], \"\\n\")\n",
    "cat(\"Precision:\", cm$byClass['Precision'], \"\\n\")\n",
    "cat(\"Recall:\", cm$byClass['Recall'], \"\\n\")"
   ]
  },
  {
   "cell_type": "markdown",
   "id": "7e928fde",
   "metadata": {},
   "source": [
    "+ 88% of the predictions by the model are correct.\n",
    "+ 89% of the predicted positive cases are actually positive.\n",
    "+ 97% of the actual positive cases are correctly predicted as positive."
   ]
  },
  {
   "cell_type": "code",
   "execution_count": 370,
   "id": "d4ffb614",
   "metadata": {},
   "outputs": [
    {
     "ename": "ERROR",
     "evalue": "Error in prediction(pred1[, 2], churn_data$churn): Number of predictions in each run must be equal to the number of labels for each run.\n",
     "output_type": "error",
     "traceback": [
      "Error in prediction(pred1[, 2], churn_data$churn): Number of predictions in each run must be equal to the number of labels for each run.\nTraceback:\n",
      "1. prediction(pred1[, 2], churn_data$churn)",
      "2. stop(paste(\"Number of predictions in each run must be equal\", \n .     \"to the number of labels for each run.\"))"
     ]
    }
   ],
   "source": [
    "# Higher the value of mean decrease accuracy or mean decrease gini score , higher the importance of the variable in the model.\n",
    "# Prediction and calculating performance metrics\n",
    "pred1=predict(churn_rf, type=\"prob\")\n",
    "perf = prediction(pred1[,2], churn_data$churn)\n",
    "\n",
    "#area under curve\n",
    "auc = performance(perf,\"auc\")\n",
    "pred3 = performance(perf,\"tpr\",\"fpr\")\n",
    "plot(pred3, main=\"ROC Curve for Random Forest\",col=2,lwd=2)\n",
    "abline(a=0,b=1,lwd=2,lty=2,col=\"gray\")"
   ]
  },
  {
   "cell_type": "markdown",
   "id": "a37bb073",
   "metadata": {},
   "source": [
    "#### 3.3 Support vector machines"
   ]
  },
  {
   "cell_type": "code",
   "execution_count": 311,
   "id": "52c1f08a",
   "metadata": {},
   "outputs": [
    {
     "data": {
      "text/plain": [
       "\n",
       "Call:\n",
       "svm(formula = churn ~ ., data = train)\n",
       "\n",
       "\n",
       "Parameters:\n",
       "   SVM-Type:  C-classification \n",
       " SVM-Kernel:  radial \n",
       "       cost:  1 \n",
       "\n",
       "Number of Support Vectors:  2318\n",
       "\n",
       " ( 1072 1246 )\n",
       "\n",
       "\n",
       "Number of Classes:  2 \n",
       "\n",
       "Levels: \n",
       " 0 1\n",
       "\n",
       "\n"
      ]
     },
     "metadata": {},
     "output_type": "display_data"
    }
   ],
   "source": [
    "# Load the data\n",
    "churn_data <- data.frame(new_df)\n",
    "churn_data$churn <- as.factor(churn_data$churn)\n",
    "\n",
    "# Split the data into training and test sets\n",
    "set.seed(123)\n",
    "train_index <- sample(nrow(churn_data), floor(0.7 * nrow(churn_data)))\n",
    "train <- churn_data[train_index, ]\n",
    "test <- churn_data[-train_index, ]\n",
    "\n",
    "# Fit the SVM model\n",
    "svm_model <- svm(churn ~ ., data = train)\n",
    "\n",
    "# Print the model summary\n",
    "summary(svm_model)\n",
    "\n",
    "# Evaluate model performance on test set\n",
    "predicted_classes <- predict(svm_model, newdata = test)\n",
    "actual_classes <- test$churn\n",
    "\n",
    "# Calculate evaluation metrics\n",
    "confusion_matrix <- confusionMatrix(predicted_classes, actual_classes)\n",
    "accuracy <- confusion_matrix$overall['Accuracy']\n",
    "precision <- confusion_matrix$byClass['Pos Pred Value']\n",
    "recall <- confusion_matrix$byClass['Sensitivity']"
   ]
  },
  {
   "cell_type": "code",
   "execution_count": 306,
   "id": "33843bf6",
   "metadata": {},
   "outputs": [
    {
     "data": {
      "text/html": [
       "<table class=\"dataframe\">\n",
       "<caption>A matrix: 11 × 1 of type dbl</caption>\n",
       "<tbody>\n",
       "\t<tr><th scope=row>credit_score</th><td> -6.2697606</td></tr>\n",
       "\t<tr><th scope=row>age</th><td> 21.1873529</td></tr>\n",
       "\t<tr><th scope=row>tenure</th><td> -0.3803382</td></tr>\n",
       "\t<tr><th scope=row>balance</th><td>  7.4011570</td></tr>\n",
       "\t<tr><th scope=row>products_number</th><td>  5.9738582</td></tr>\n",
       "\t<tr><th scope=row>credit_card</th><td>  1.2755615</td></tr>\n",
       "\t<tr><th scope=row>active_member</th><td>-38.7083924</td></tr>\n",
       "\t<tr><th scope=row>estimated_salary</th><td>  2.0208430</td></tr>\n",
       "\t<tr><th scope=row>genderFemale</th><td>  2.7871720</td></tr>\n",
       "\t<tr><th scope=row>countryFrance</th><td> -1.0166098</td></tr>\n",
       "\t<tr><th scope=row>countryGermany</th><td>  4.6287953</td></tr>\n",
       "</tbody>\n",
       "</table>\n"
      ],
      "text/latex": [
       "A matrix: 11 × 1 of type dbl\n",
       "\\begin{tabular}{r|l}\n",
       "\tcredit\\_score &  -6.2697606\\\\\n",
       "\tage &  21.1873529\\\\\n",
       "\ttenure &  -0.3803382\\\\\n",
       "\tbalance &   7.4011570\\\\\n",
       "\tproducts\\_number &   5.9738582\\\\\n",
       "\tcredit\\_card &   1.2755615\\\\\n",
       "\tactive\\_member & -38.7083924\\\\\n",
       "\testimated\\_salary &   2.0208430\\\\\n",
       "\tgenderFemale &   2.7871720\\\\\n",
       "\tcountryFrance &  -1.0166098\\\\\n",
       "\tcountryGermany &   4.6287953\\\\\n",
       "\\end{tabular}\n"
      ],
      "text/markdown": [
       "\n",
       "A matrix: 11 × 1 of type dbl\n",
       "\n",
       "| credit_score |  -6.2697606 |\n",
       "| age |  21.1873529 |\n",
       "| tenure |  -0.3803382 |\n",
       "| balance |   7.4011570 |\n",
       "| products_number |   5.9738582 |\n",
       "| credit_card |   1.2755615 |\n",
       "| active_member | -38.7083924 |\n",
       "| estimated_salary |   2.0208430 |\n",
       "| genderFemale |   2.7871720 |\n",
       "| countryFrance |  -1.0166098 |\n",
       "| countryGermany |   4.6287953 |\n",
       "\n"
      ],
      "text/plain": [
       "                 [,1]       \n",
       "credit_score      -6.2697606\n",
       "age               21.1873529\n",
       "tenure            -0.3803382\n",
       "balance            7.4011570\n",
       "products_number    5.9738582\n",
       "credit_card        1.2755615\n",
       "active_member    -38.7083924\n",
       "estimated_salary   2.0208430\n",
       "genderFemale       2.7871720\n",
       "countryFrance     -1.0166098\n",
       "countryGermany     4.6287953"
      ]
     },
     "metadata": {},
     "output_type": "display_data"
    }
   ],
   "source": [
    "# Calculate variable importance\n",
    "var_imp <- t(svm_model$coefs) %*% svm_model$SV\n",
    "#var_imp <- data.frame(variable = colnames(train)[-ncol(train)], importance = var_imp)\n",
    "var <- data.frame(var_imp[1,])\n",
    "var_imp_t <- t(var_imp)\n",
    "var_imp_t"
   ]
  },
  {
   "cell_type": "markdown",
   "id": "688645ad",
   "metadata": {},
   "source": [
    "+ The most important predictors of customer churn are age, balance, and products_number.\n",
    "+ Active_member is the variable with the most negative impact on churn prediction, which means that active members are less likely to churn.\n",
    "+ Credit_score and tenure have a relatively low impact on churn prediction compared to other variables.\n",
    "+ Among the categorical variables, countryGermany has the highest positive impact on churn prediction, followed by genderFemale, and countryFrance has a negative impact on churn prediction."
   ]
  },
  {
   "cell_type": "code",
   "execution_count": 312,
   "id": "ece6e5c5",
   "metadata": {},
   "outputs": [
    {
     "name": "stdout",
     "output_type": "stream",
     "text": [
      "Accuracy: 0.85 \n",
      "Precision: 0.8587453 \n",
      "Recall: 0.9695122 \n"
     ]
    }
   ],
   "source": [
    "# Print evaluation metrics\n",
    "cat(\"Accuracy:\", accuracy, \"\\n\")\n",
    "cat(\"Precision:\", precision, \"\\n\")\n",
    "cat(\"Recall:\", recall, \"\\n\")"
   ]
  },
  {
   "cell_type": "markdown",
   "id": "6849452e",
   "metadata": {},
   "source": [
    "+ 85% of the predictions by the model are correct.\n",
    "+ 85.7% of the predicted positive cases are actually positive.\n",
    "+ 96.95% of the actual positive cases are correctly predicted as positive."
   ]
  },
  {
   "cell_type": "markdown",
   "id": "94b39768",
   "metadata": {},
   "source": [
    "#### 3.4 Gradient boosting"
   ]
  },
  {
   "cell_type": "code",
   "execution_count": 329,
   "id": "e9392535",
   "metadata": {},
   "outputs": [],
   "source": [
    "# Load and prepare the data\n",
    "churn_data <- data.frame(new_df)\n",
    "train$churn <- factor(train$churn, levels = c(\"0\", \"1\"))\n",
    "\n",
    "# Split data into training and testing sets\n",
    "set.seed(123)\n",
    "trainIndex <- createDataPartition(churn_data$churn, p = 0.8, list = FALSE)\n",
    "train <- churn_data[trainIndex, ]\n",
    "test <- churn_data[-trainIndex, ]\n",
    "\n",
    "# Train XGBoost model\n",
    "xgb_model <- xgboost(data = data.matrix(train[, -9]),\n",
    "                     label = train$churn,\n",
    "                     nrounds = 100,\n",
    "                     objective = \"binary:logistic\",\n",
    "                     verbose = 0)"
   ]
  },
  {
   "cell_type": "code",
   "execution_count": 331,
   "id": "535732ae",
   "metadata": {},
   "outputs": [
    {
     "data": {
      "image/png": "[encoded data removed]",
      "text/plain": [
       "plot without title"
      ]
     },
     "metadata": {
      "image/png": {
       "height": 420,
       "width": 420
      }
     },
     "output_type": "display_data"
    }
   ],
   "source": [
    "# Variable importance plot\n",
    "importance_matrix <- xgb.importance(colnames(train[, -9]), model = xgb_model)\n",
    "xgb.plot.importance(importance_matrix, xlab = \"Relative Importance\")"
   ]
  },
  {
   "cell_type": "markdown",
   "id": "2ae6e518",
   "metadata": {},
   "source": [
    "+ Age, balance and products_number are the three most important predictors"
   ]
  },
  {
   "cell_type": "code",
   "execution_count": 365,
   "id": "3b5f8f54",
   "metadata": {},
   "outputs": [
    {
     "name": "stdout",
     "output_type": "stream",
     "text": [
      "Accuracy: 0.84 \n",
      "Precision: 0.8692557 \n",
      "Recall: 0.9398181 \n"
     ]
    }
   ],
   "source": [
    "# you've to do your prediction here\n",
    "pred <- predict(xgb_model, as.matrix(test[,c(-9,-13)]))\n",
    "\n",
    "# and transform them in a 0 1 variable, you can choose the value to get 1\n",
    "pred <-  as.numeric(pred > 0.5)\n",
    "\n",
    "# Save confusion matrix\n",
    "cm <- confusionMatrix(factor(pred),factor(churn_data[-trainIndex, ]$churn))\n",
    "\n",
    "# Print evaluation metrics\n",
    "cat(\"Accuracy:\", cm$overall['Accuracy'], \"\\n\")\n",
    "cat(\"Precision:\", cm$byClass['Precision'], \"\\n\")\n",
    "cat(\"Recall:\", cm$byClass['Recall'], \"\\n\")"
   ]
  },
  {
   "cell_type": "markdown",
   "id": "daac9adc",
   "metadata": {},
   "source": [
    "+ The model has correctly predicted 84% of the outcomes.\n",
    "+ Out of all the positive predictions made by the model, around 87% of them were correct.\n",
    "+ Out of all the actual positive cases, the model was able to correctly identify around 94% of them."
   ]
  },
  {
   "cell_type": "code",
   "execution_count": null,
   "id": "c37a7fbd",
   "metadata": {},
   "outputs": [],
   "source": [
    "# Define the search grid\n",
    "grid <- expand.grid(nrounds = c(50, 100, 150),\n",
    "                    eta = c(0.01, 0.05, 0.1),\n",
    "                    max_depth = c(3, 6, 9))\n",
    "\n",
    "# Train and tune the XGBoost model\n",
    "set.seed(123)\n",
    "xgb_model <- train(churn ~ ., data = train, method = \"xgbTree\",\n",
    "                   trControl = trainControl(method = \"cv\", number = 5, verboseIter = TRUE),\n",
    "                   tuneGrid = grid)\n",
    "\n",
    "# Print the results\n",
    "print(xgb_model)\n",
    "\n",
    "# Make predictions on the testing set\n",
    "test$predicted_churn <- predict(xgb_model, newdata = test)\n",
    "\n",
    "# Evaluate the performance of the model\n",
    "confusionMatrix(table(test$predicted_churn > 0.5, test$churn))"
   ]
  },
  {
   "cell_type": "markdown",
   "id": "fbffcacb",
   "metadata": {},
   "source": [
    "# 4: Recommendations"
   ]
  },
  {
   "cell_type": "markdown",
   "id": "6bdb1983",
   "metadata": {},
   "source": [
    "Based on your analysis, develop 3 recommendations that will help EBI to better manage customer churn. Explain the rationale behind those 3 recommendations. "
   ]
  },
  {
   "cell_type": "markdown",
   "id": "37ce6d06",
   "metadata": {},
   "source": [
    "EBI has formulated a list of a subset of its current customers (see the dataset “ebi_exp_customers.csv” to answer this question) and would like to use your prediction model to take proactive measures to retain these customers. Specifically, the bank would target the customers (say, via telemarketing) who have high likelihood of churn."
   ]
  },
  {
   "cell_type": "markdown",
   "id": "ba9fe989",
   "metadata": {},
   "source": [
    "Use your prediction model to predict the likelihood of churn for each customer in the dataset."
   ]
  },
  {
   "cell_type": "markdown",
   "id": "bd0a287e",
   "metadata": {},
   "source": [
    "Suppose that the value of retaining a customer is €5 while the cost incurred by the bank to avoid a customer from churning is €1. How many and which customers from the dataset (“ebi_exp_customers.csv”) would you recommend the bank to target to maximize the total expected profit from this proactive targeting experiment? How would your answer change if the value of retaining a customer goes up to €10? Explain your computation"
   ]
  },
  {
   "cell_type": "code",
   "execution_count": 99,
   "id": "f00bdf5e",
   "metadata": {},
   "outputs": [
    {
     "data": {
      "text/html": [
       "<table class=\"dataframe\">\n",
       "<caption>A data.frame: 6 × 12</caption>\n",
       "<thead>\n",
       "\t<tr><th></th><th scope=col>customer_id</th><th scope=col>credit_score</th><th scope=col>country</th><th scope=col>gender</th><th scope=col>age</th><th scope=col>tenure</th><th scope=col>balance</th><th scope=col>products_number</th><th scope=col>credit_card</th><th scope=col>active_member</th><th scope=col>estimated_salary</th><th scope=col>churn</th></tr>\n",
       "\t<tr><th></th><th scope=col>&lt;int&gt;</th><th scope=col>&lt;int&gt;</th><th scope=col>&lt;chr&gt;</th><th scope=col>&lt;chr&gt;</th><th scope=col>&lt;int&gt;</th><th scope=col>&lt;int&gt;</th><th scope=col>&lt;dbl&gt;</th><th scope=col>&lt;int&gt;</th><th scope=col>&lt;int&gt;</th><th scope=col>&lt;int&gt;</th><th scope=col>&lt;dbl&gt;</th><th scope=col>&lt;int&gt;</th></tr>\n",
       "</thead>\n",
       "<tbody>\n",
       "\t<tr><th scope=row>1</th><td>15575430</td><td>579</td><td>France </td><td>Female</td><td>33</td><td>1</td><td>118392.8</td><td>1</td><td>1</td><td>1</td><td>157564.75</td><td>0</td></tr>\n",
       "\t<tr><th scope=row>2</th><td>15793890</td><td>728</td><td>France </td><td>Female</td><td>59</td><td>4</td><td>     0.0</td><td>1</td><td>1</td><td>1</td><td>163365.85</td><td>1</td></tr>\n",
       "\t<tr><th scope=row>3</th><td>15701166</td><td>660</td><td>France </td><td>Male  </td><td>40</td><td>5</td><td>131754.1</td><td>2</td><td>1</td><td>1</td><td> 38761.61</td><td>0</td></tr>\n",
       "\t<tr><th scope=row>4</th><td>15624677</td><td>543</td><td>Germany</td><td>Female</td><td>37</td><td>3</td><td>122304.6</td><td>2</td><td>0</td><td>0</td><td> 33998.70</td><td>0</td></tr>\n",
       "\t<tr><th scope=row>5</th><td>15586264</td><td>572</td><td>France </td><td>Male  </td><td>43</td><td>2</td><td>140432.0</td><td>1</td><td>1</td><td>0</td><td> 26450.57</td><td>1</td></tr>\n",
       "\t<tr><th scope=row>6</th><td>15600991</td><td>694</td><td>Germany</td><td>Male  </td><td>31</td><td>6</td><td>109052.6</td><td>2</td><td>1</td><td>1</td><td> 19448.93</td><td>1</td></tr>\n",
       "</tbody>\n",
       "</table>\n"
      ],
      "text/latex": [
       "A data.frame: 6 × 12\n",
       "\\begin{tabular}{r|llllllllllll}\n",
       "  & customer\\_id & credit\\_score & country & gender & age & tenure & balance & products\\_number & credit\\_card & active\\_member & estimated\\_salary & churn\\\\\n",
       "  & <int> & <int> & <chr> & <chr> & <int> & <int> & <dbl> & <int> & <int> & <int> & <dbl> & <int>\\\\\n",
       "\\hline\n",
       "\t1 & 15575430 & 579 & France  & Female & 33 & 1 & 118392.8 & 1 & 1 & 1 & 157564.75 & 0\\\\\n",
       "\t2 & 15793890 & 728 & France  & Female & 59 & 4 &      0.0 & 1 & 1 & 1 & 163365.85 & 1\\\\\n",
       "\t3 & 15701166 & 660 & France  & Male   & 40 & 5 & 131754.1 & 2 & 1 & 1 &  38761.61 & 0\\\\\n",
       "\t4 & 15624677 & 543 & Germany & Female & 37 & 3 & 122304.6 & 2 & 0 & 0 &  33998.70 & 0\\\\\n",
       "\t5 & 15586264 & 572 & France  & Male   & 43 & 2 & 140432.0 & 1 & 1 & 0 &  26450.57 & 1\\\\\n",
       "\t6 & 15600991 & 694 & Germany & Male   & 31 & 6 & 109052.6 & 2 & 1 & 1 &  19448.93 & 1\\\\\n",
       "\\end{tabular}\n"
      ],
      "text/markdown": [
       "\n",
       "A data.frame: 6 × 12\n",
       "\n",
       "| <!--/--> | customer_id &lt;int&gt; | credit_score &lt;int&gt; | country &lt;chr&gt; | gender &lt;chr&gt; | age &lt;int&gt; | tenure &lt;int&gt; | balance &lt;dbl&gt; | products_number &lt;int&gt; | credit_card &lt;int&gt; | active_member &lt;int&gt; | estimated_salary &lt;dbl&gt; | churn &lt;int&gt; |\n",
       "|---|---|---|---|---|---|---|---|---|---|---|---|---|\n",
       "| 1 | 15575430 | 579 | France  | Female | 33 | 1 | 118392.8 | 1 | 1 | 1 | 157564.75 | 0 |\n",
       "| 2 | 15793890 | 728 | France  | Female | 59 | 4 |      0.0 | 1 | 1 | 1 | 163365.85 | 1 |\n",
       "| 3 | 15701166 | 660 | France  | Male   | 40 | 5 | 131754.1 | 2 | 1 | 1 |  38761.61 | 0 |\n",
       "| 4 | 15624677 | 543 | Germany | Female | 37 | 3 | 122304.6 | 2 | 0 | 0 |  33998.70 | 0 |\n",
       "| 5 | 15586264 | 572 | France  | Male   | 43 | 2 | 140432.0 | 1 | 1 | 0 |  26450.57 | 1 |\n",
       "| 6 | 15600991 | 694 | Germany | Male   | 31 | 6 | 109052.6 | 2 | 1 | 1 |  19448.93 | 1 |\n",
       "\n"
      ],
      "text/plain": [
       "  customer_id credit_score country gender age tenure balance  products_number\n",
       "1 15575430    579          France  Female 33  1      118392.8 1              \n",
       "2 15793890    728          France  Female 59  4           0.0 1              \n",
       "3 15701166    660          France  Male   40  5      131754.1 2              \n",
       "4 15624677    543          Germany Female 37  3      122304.6 2              \n",
       "5 15586264    572          France  Male   43  2      140432.0 1              \n",
       "6 15600991    694          Germany Male   31  6      109052.6 2              \n",
       "  credit_card active_member estimated_salary churn\n",
       "1 1           1             157564.75        0    \n",
       "2 1           1             163365.85        1    \n",
       "3 1           1              38761.61        0    \n",
       "4 0           0              33998.70        0    \n",
       "5 1           0              26450.57        1    \n",
       "6 1           1              19448.93        1    "
      ]
     },
     "metadata": {},
     "output_type": "display_data"
    }
   ],
   "source": [
    "df_2 <- read.csv(\"ebi_exp_customers.csv\")\n",
    "head(df_2)"
   ]
  }
 ],
 "metadata": {
  "kernelspec": {
   "display_name": "R",
   "language": "R",
   "name": "ir"
  },
  "language_info": {
   "codemirror_mode": "r",
   "file_extension": ".r",
   "mimetype": "text/x-r-source",
   "name": "R",
   "pygments_lexer": "r",
   "version": "4.1.3"
  }
 },
 "nbformat": 4,
 "nbformat_minor": 5
}
