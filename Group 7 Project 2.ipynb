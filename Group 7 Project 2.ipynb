{
 "cells": [
  {
   "cell_type": "code",
   "execution_count": 74,
   "id": "75b1a8c6",
   "metadata": {},
   "outputs": [
    {
     "name": "stderr",
     "output_type": "stream",
     "text": [
      "\n",
      "Attaching package: 'psych'\n",
      "\n",
      "\n",
      "The following objects are masked from 'package:ggplot2':\n",
      "\n",
      "    %+%, alpha\n",
      "\n",
      "\n"
     ]
    }
   ],
   "source": [
    "# Import packages\n",
    "\n",
    "# Visualization packages:\n",
    "library(ggplot2)\n",
    "library(ggbeeswarm)\n",
    "library(psych)\n",
    "\n",
    "# Data manipulation: \n",
    "library(dplyr)\n",
    "library(reshape2)"
   ]
  },
  {
   "cell_type": "code",
   "execution_count": 1,
   "id": "ccf21f52",
   "metadata": {},
   "outputs": [],
   "source": [
    "# Set data path\n",
    "setwd(\"C:/Users/user/OneDrive - Erasmus University Rotterdam/Documents/01 Postgrad/02 Spring semester/06 Business Analytics for International Managers/rsm_data_analytics\")"
   ]
  },
  {
   "cell_type": "code",
   "execution_count": 158,
   "id": "0708eb84",
   "metadata": {},
   "outputs": [
    {
     "data": {
      "text/html": [
       "<table class=\"dataframe\">\n",
       "<caption>A data.frame: 6 × 12</caption>\n",
       "<thead>\n",
       "\t<tr><th></th><th scope=col>customer_id</th><th scope=col>credit_score</th><th scope=col>country</th><th scope=col>gender</th><th scope=col>age</th><th scope=col>tenure</th><th scope=col>balance</th><th scope=col>products_number</th><th scope=col>credit_card</th><th scope=col>active_member</th><th scope=col>estimated_salary</th><th scope=col>churn</th></tr>\n",
       "\t<tr><th></th><th scope=col>&lt;int&gt;</th><th scope=col>&lt;int&gt;</th><th scope=col>&lt;chr&gt;</th><th scope=col>&lt;chr&gt;</th><th scope=col>&lt;int&gt;</th><th scope=col>&lt;int&gt;</th><th scope=col>&lt;dbl&gt;</th><th scope=col>&lt;int&gt;</th><th scope=col>&lt;int&gt;</th><th scope=col>&lt;int&gt;</th><th scope=col>&lt;dbl&gt;</th><th scope=col>&lt;int&gt;</th></tr>\n",
       "</thead>\n",
       "<tbody>\n",
       "\t<tr><th scope=row>1</th><td>15634602</td><td>619</td><td>France</td><td>Female</td><td>42</td><td>2</td><td>     0.00</td><td>1</td><td>1</td><td>1</td><td>101348.88</td><td>1</td></tr>\n",
       "\t<tr><th scope=row>2</th><td>15647311</td><td>608</td><td>Spain </td><td>Female</td><td>41</td><td>1</td><td> 83807.86</td><td>1</td><td>0</td><td>1</td><td>112542.58</td><td>0</td></tr>\n",
       "\t<tr><th scope=row>3</th><td>15701354</td><td>699</td><td>France</td><td>Female</td><td>39</td><td>1</td><td>     0.00</td><td>2</td><td>0</td><td>0</td><td> 93826.63</td><td>0</td></tr>\n",
       "\t<tr><th scope=row>4</th><td>15737888</td><td>850</td><td>Spain </td><td>Female</td><td>43</td><td>2</td><td>125510.82</td><td>1</td><td>1</td><td>1</td><td> 79084.10</td><td>0</td></tr>\n",
       "\t<tr><th scope=row>5</th><td>15574012</td><td>645</td><td>Spain </td><td>Male  </td><td>44</td><td>8</td><td>113755.78</td><td>2</td><td>1</td><td>0</td><td>149756.71</td><td>1</td></tr>\n",
       "\t<tr><th scope=row>6</th><td>15592531</td><td>822</td><td>France</td><td>Male  </td><td>50</td><td>7</td><td>     0.00</td><td>2</td><td>1</td><td>1</td><td> 10062.80</td><td>0</td></tr>\n",
       "</tbody>\n",
       "</table>\n"
      ],
      "text/latex": [
       "A data.frame: 6 × 12\n",
       "\\begin{tabular}{r|llllllllllll}\n",
       "  & customer\\_id & credit\\_score & country & gender & age & tenure & balance & products\\_number & credit\\_card & active\\_member & estimated\\_salary & churn\\\\\n",
       "  & <int> & <int> & <chr> & <chr> & <int> & <int> & <dbl> & <int> & <int> & <int> & <dbl> & <int>\\\\\n",
       "\\hline\n",
       "\t1 & 15634602 & 619 & France & Female & 42 & 2 &      0.00 & 1 & 1 & 1 & 101348.88 & 1\\\\\n",
       "\t2 & 15647311 & 608 & Spain  & Female & 41 & 1 &  83807.86 & 1 & 0 & 1 & 112542.58 & 0\\\\\n",
       "\t3 & 15701354 & 699 & France & Female & 39 & 1 &      0.00 & 2 & 0 & 0 &  93826.63 & 0\\\\\n",
       "\t4 & 15737888 & 850 & Spain  & Female & 43 & 2 & 125510.82 & 1 & 1 & 1 &  79084.10 & 0\\\\\n",
       "\t5 & 15574012 & 645 & Spain  & Male   & 44 & 8 & 113755.78 & 2 & 1 & 0 & 149756.71 & 1\\\\\n",
       "\t6 & 15592531 & 822 & France & Male   & 50 & 7 &      0.00 & 2 & 1 & 1 &  10062.80 & 0\\\\\n",
       "\\end{tabular}\n"
      ],
      "text/markdown": [
       "\n",
       "A data.frame: 6 × 12\n",
       "\n",
       "| <!--/--> | customer_id &lt;int&gt; | credit_score &lt;int&gt; | country &lt;chr&gt; | gender &lt;chr&gt; | age &lt;int&gt; | tenure &lt;int&gt; | balance &lt;dbl&gt; | products_number &lt;int&gt; | credit_card &lt;int&gt; | active_member &lt;int&gt; | estimated_salary &lt;dbl&gt; | churn &lt;int&gt; |\n",
       "|---|---|---|---|---|---|---|---|---|---|---|---|---|\n",
       "| 1 | 15634602 | 619 | France | Female | 42 | 2 |      0.00 | 1 | 1 | 1 | 101348.88 | 1 |\n",
       "| 2 | 15647311 | 608 | Spain  | Female | 41 | 1 |  83807.86 | 1 | 0 | 1 | 112542.58 | 0 |\n",
       "| 3 | 15701354 | 699 | France | Female | 39 | 1 |      0.00 | 2 | 0 | 0 |  93826.63 | 0 |\n",
       "| 4 | 15737888 | 850 | Spain  | Female | 43 | 2 | 125510.82 | 1 | 1 | 1 |  79084.10 | 0 |\n",
       "| 5 | 15574012 | 645 | Spain  | Male   | 44 | 8 | 113755.78 | 2 | 1 | 0 | 149756.71 | 1 |\n",
       "| 6 | 15592531 | 822 | France | Male   | 50 | 7 |      0.00 | 2 | 1 | 1 |  10062.80 | 0 |\n",
       "\n"
      ],
      "text/plain": [
       "  customer_id credit_score country gender age tenure balance   products_number\n",
       "1 15634602    619          France  Female 42  2           0.00 1              \n",
       "2 15647311    608          Spain   Female 41  1       83807.86 1              \n",
       "3 15701354    699          France  Female 39  1           0.00 2              \n",
       "4 15737888    850          Spain   Female 43  2      125510.82 1              \n",
       "5 15574012    645          Spain   Male   44  8      113755.78 2              \n",
       "6 15592531    822          France  Male   50  7           0.00 2              \n",
       "  credit_card active_member estimated_salary churn\n",
       "1 1           1             101348.88        1    \n",
       "2 0           1             112542.58        0    \n",
       "3 0           0              93826.63        0    \n",
       "4 1           1              79084.10        0    \n",
       "5 1           0             149756.71        1    \n",
       "6 1           1              10062.80        0    "
      ]
     },
     "metadata": {},
     "output_type": "display_data"
    }
   ],
   "source": [
    "# Import the CSV file \n",
    "df <- read.csv(\"ebi_customers.csv\")\n",
    "head(df)"
   ]
  },
  {
   "cell_type": "markdown",
   "id": "0250e5e3",
   "metadata": {},
   "source": [
    "# 1: Data Pre-Processing"
   ]
  },
  {
   "cell_type": "markdown",
   "id": "525050d2",
   "metadata": {},
   "source": [
    "__1.1 Are there any outliers/anomaly in the data that need to be addressed?__"
   ]
  },
  {
   "cell_type": "code",
   "execution_count": 159,
   "id": "ca1f9265",
   "metadata": {},
   "outputs": [
    {
     "data": {
      "text/html": [
       "'There are 0 missing values in the dataframe.'"
      ],
      "text/latex": [
       "'There are 0 missing values in the dataframe.'"
      ],
      "text/markdown": [
       "'There are 0 missing values in the dataframe.'"
      ],
      "text/plain": [
       "[1] \"There are 0 missing values in the dataframe.\""
      ]
     },
     "metadata": {},
     "output_type": "display_data"
    }
   ],
   "source": [
    "missing_values <- sum(is.na(df))\n",
    "paste0(\"There are \",  missing_values, \" missing values in the dataframe.\")"
   ]
  },
  {
   "cell_type": "code",
   "execution_count": 123,
   "id": "2fa9c6a8",
   "metadata": {},
   "outputs": [
    {
     "data": {
      "text/html": [
       "<style>\n",
       ".list-inline {list-style: none; margin:0; padding: 0}\n",
       ".list-inline>li {display: inline-block}\n",
       ".list-inline>li:not(:last-child)::after {content: \"\\00b7\"; padding: 0 .5ex}\n",
       "</style>\n",
       "<ol class=list-inline><li>'credit_score is a numeric variable.'</li><li>'age is a numeric variable.'</li><li>'balance is a numeric variable.'</li><li>'estimated_salary is a numeric variable.'</li></ol>\n"
      ],
      "text/latex": [
       "\\begin{enumerate*}\n",
       "\\item 'credit\\_score is a numeric variable.'\n",
       "\\item 'age is a numeric variable.'\n",
       "\\item 'balance is a numeric variable.'\n",
       "\\item 'estimated\\_salary is a numeric variable.'\n",
       "\\end{enumerate*}\n"
      ],
      "text/markdown": [
       "1. 'credit_score is a numeric variable.'\n",
       "2. 'age is a numeric variable.'\n",
       "3. 'balance is a numeric variable.'\n",
       "4. 'estimated_salary is a numeric variable.'\n",
       "\n",
       "\n"
      ],
      "text/plain": [
       "[1] \"credit_score is a numeric variable.\"    \n",
       "[2] \"age is a numeric variable.\"             \n",
       "[3] \"balance is a numeric variable.\"         \n",
       "[4] \"estimated_salary is a numeric variable.\""
      ]
     },
     "metadata": {},
     "output_type": "display_data"
    }
   ],
   "source": [
    "numeric_variables <- names(df)[sapply(df, function(col) {\n",
    "  is.numeric(col) && length(unique(col)) > 11 && !grepl(\"CustomerId\", col)\n",
    "})]\n",
    "paste0(numeric_variables, \" is a numeric variable.\")"
   ]
  },
  {
   "cell_type": "code",
   "execution_count": 118,
   "id": "b8647c42",
   "metadata": {},
   "outputs": [],
   "source": [
    "# Define a function to calculate outlier thresholds for a variable in a dataframe\n",
    "outlier_thresholds <- function(df, variable, low_quantile=0.05, up_quantile=0.95){\n",
    "  # Calculate the first quartile (lower quantile) of the variable\n",
    "  quantile_one <- quantile(df[[variable]], low_quantile)\n",
    "  # Calculate the third quartile (upper quantile) of the variable\n",
    "  quantile_three <- quantile(df[[variable]], up_quantile)\n",
    "  # Calculate the interquartile range of the variable\n",
    "  interquantile_range <- quantile_three - quantile_one\n",
    "  # Calculate the upper limit for outliers\n",
    "  up_limit <- quantile_three + 1.5 * interquantile_range\n",
    "  # Calculate the lower limit for outliers\n",
    "  low_limit <- quantile_one - 1.5 * interquantile_range\n",
    "  # Return the lower and upper limits as a vector\n",
    "  return(c(low_limit, up_limit))\n",
    "}\n",
    "\n",
    "limits <- outlier_thresholds(df, age)\n",
    "limits"
   ]
  },
  {
   "cell_type": "code",
   "execution_count": null,
   "id": "d801c07d",
   "metadata": {},
   "outputs": [],
   "source": [
    "# Define a function to check for outliers in numeric columns of a dataframe\n",
    "has_outliers <- function(dataframe, numeric_columns, plot=FALSE) {\n",
    "  \n",
    "  # Loop through each numeric column in the dataframe\n",
    "  for (col in numeric_columns) {\n",
    "    \n",
    "    # Calculate the outlier limits for the column using the outlier_thresholds function\n",
    "    limits <- outlier_thresholds(dataframe, col)\n",
    "    low_limit <- limits[1]\n",
    "    up_limit <- limits[2]\n",
    "    \n",
    "    # Check if the column has any values outside the outlier limits\n",
    "    if (any(dataframe[[col]] > up_limit | dataframe[[col]] < low_limit)) {\n",
    "      \n",
    "      # If there are outliers, count them and print a message\n",
    "      number_of_outliers <- sum(dataframe[[col]] > up_limit | dataframe[[col]] < low_limit)\n",
    "      print(paste(col, \": \", number_of_outliers, \"outliers\"))\n",
    "      \n",
    "      # If the plot argument is true, create a boxplot of the column\n",
    "      if (plot) {\n",
    "        boxplot(dataframe[[col]], main = col)\n",
    "      }\n",
    "      \n",
    "    } else {\n",
    "      \n",
    "      # If there are no outliers, set number_of_outliers to zero\n",
    "      number_of_outliers <- 0\n",
    "      \n",
    "    }\n",
    "  }\n",
    "}"
   ]
  },
  {
   "cell_type": "code",
   "execution_count": 154,
   "id": "ba8cdac1",
   "metadata": {},
   "outputs": [],
   "source": [
    "# Define a function to check for outliers in numeric columns of a dataframe\n",
    "has_outliers <- function(dataframe, numeric_columns) {\n",
    "  \n",
    "  outlier_counts <- list() \n",
    "  # Loop through each numeric column in the dataframe\n",
    "  for (col in numeric_columns) {\n",
    "    # Calculate the outlier limits for the column using the outlier_thresholds function\n",
    "    limits <- outlier_thresholds(dataframe, col)\n",
    "    low_limit <- limits[1]\n",
    "    up_limit <- limits[2]\n",
    "    # Check if the column has any values outside the outlier limits\n",
    "    if (any(dataframe[[col]] > up_limit | dataframe[[col]] < low_limit)) {\n",
    "      # If there are outliers, count them and add outlier count to list\n",
    "      number_of_outliers <- sum(dataframe[[col]] > up_limit | dataframe[[col]] < low_limit)\n",
    "      outlier_counts[[col]] <- number_of_outliers \n",
    "      }\n",
    "      \n",
    "    else {\n",
    "      outlier_counts[[col]] <- 0 \n",
    "    }\n",
    "  }\n",
    "  return(outlier_counts)\n",
    "}\n"
   ]
  },
  {
   "cell_type": "code",
   "execution_count": 155,
   "id": "9065b07d",
   "metadata": {},
   "outputs": [
    {
     "name": "stdout",
     "output_type": "stream",
     "text": [
      "[1] \"credit_score has 0 outliers\"\n",
      "[1] \"age has 0 outliers\"\n",
      "[1] \"balance has 0 outliers\"\n",
      "[1] \"estimated_salary has 0 outliers\"\n"
     ]
    }
   ],
   "source": [
    "for (var in numeric_variables) {\n",
    "  outliers <- has_outliers(df, var)\n",
    "  print(paste(var, \"has\", outliers, \"outliers\"))\n",
    "}"
   ]
  },
  {
   "cell_type": "markdown",
   "id": "6113446e",
   "metadata": {},
   "source": [
    "__1.2 Are there variables in the dataset that will not be used in the analysis? Remove them.__"
   ]
  },
  {
   "cell_type": "code",
   "execution_count": 160,
   "id": "ff9ffa8d",
   "metadata": {},
   "outputs": [],
   "source": [
    "# Drop customer_id column\n",
    "df <- select(df, -customer_id)"
   ]
  },
  {
   "cell_type": "markdown",
   "id": "2a57009b",
   "metadata": {},
   "source": [
    "__1.3 Are there categorical variables in the dataset? \n",
    "Should you convert those variables to numerical?__"
   ]
  },
  {
   "cell_type": "code",
   "execution_count": 163,
   "id": "45d7ea63",
   "metadata": {},
   "outputs": [
    {
     "data": {
      "text/html": [
       "<table class=\"dataframe\">\n",
       "<caption>A data.frame: 6 × 12</caption>\n",
       "<thead>\n",
       "\t<tr><th></th><th scope=col>credit_score</th><th scope=col>age</th><th scope=col>tenure</th><th scope=col>balance</th><th scope=col>products_number</th><th scope=col>credit_card</th><th scope=col>active_member</th><th scope=col>estimated_salary</th><th scope=col>churn</th><th scope=col>genderFemale</th><th scope=col>countryFrance</th><th scope=col>countryGermany</th></tr>\n",
       "\t<tr><th></th><th scope=col>&lt;int&gt;</th><th scope=col>&lt;int&gt;</th><th scope=col>&lt;int&gt;</th><th scope=col>&lt;dbl&gt;</th><th scope=col>&lt;int&gt;</th><th scope=col>&lt;int&gt;</th><th scope=col>&lt;int&gt;</th><th scope=col>&lt;dbl&gt;</th><th scope=col>&lt;int&gt;</th><th scope=col>&lt;dbl&gt;</th><th scope=col>&lt;dbl&gt;</th><th scope=col>&lt;dbl&gt;</th></tr>\n",
       "</thead>\n",
       "<tbody>\n",
       "\t<tr><th scope=row>1</th><td>619</td><td>42</td><td>2</td><td>     0.00</td><td>1</td><td>1</td><td>1</td><td>101348.88</td><td>1</td><td>1</td><td>1</td><td>0</td></tr>\n",
       "\t<tr><th scope=row>2</th><td>608</td><td>41</td><td>1</td><td> 83807.86</td><td>1</td><td>0</td><td>1</td><td>112542.58</td><td>0</td><td>1</td><td>0</td><td>0</td></tr>\n",
       "\t<tr><th scope=row>3</th><td>699</td><td>39</td><td>1</td><td>     0.00</td><td>2</td><td>0</td><td>0</td><td> 93826.63</td><td>0</td><td>1</td><td>1</td><td>0</td></tr>\n",
       "\t<tr><th scope=row>4</th><td>850</td><td>43</td><td>2</td><td>125510.82</td><td>1</td><td>1</td><td>1</td><td> 79084.10</td><td>0</td><td>1</td><td>0</td><td>0</td></tr>\n",
       "\t<tr><th scope=row>5</th><td>645</td><td>44</td><td>8</td><td>113755.78</td><td>2</td><td>1</td><td>0</td><td>149756.71</td><td>1</td><td>0</td><td>0</td><td>0</td></tr>\n",
       "\t<tr><th scope=row>6</th><td>822</td><td>50</td><td>7</td><td>     0.00</td><td>2</td><td>1</td><td>1</td><td> 10062.80</td><td>0</td><td>0</td><td>1</td><td>0</td></tr>\n",
       "</tbody>\n",
       "</table>\n"
      ],
      "text/latex": [
       "A data.frame: 6 × 12\n",
       "\\begin{tabular}{r|llllllllllll}\n",
       "  & credit\\_score & age & tenure & balance & products\\_number & credit\\_card & active\\_member & estimated\\_salary & churn & genderFemale & countryFrance & countryGermany\\\\\n",
       "  & <int> & <int> & <int> & <dbl> & <int> & <int> & <int> & <dbl> & <int> & <dbl> & <dbl> & <dbl>\\\\\n",
       "\\hline\n",
       "\t1 & 619 & 42 & 2 &      0.00 & 1 & 1 & 1 & 101348.88 & 1 & 1 & 1 & 0\\\\\n",
       "\t2 & 608 & 41 & 1 &  83807.86 & 1 & 0 & 1 & 112542.58 & 0 & 1 & 0 & 0\\\\\n",
       "\t3 & 699 & 39 & 1 &      0.00 & 2 & 0 & 0 &  93826.63 & 0 & 1 & 1 & 0\\\\\n",
       "\t4 & 850 & 43 & 2 & 125510.82 & 1 & 1 & 1 &  79084.10 & 0 & 1 & 0 & 0\\\\\n",
       "\t5 & 645 & 44 & 8 & 113755.78 & 2 & 1 & 0 & 149756.71 & 1 & 0 & 0 & 0\\\\\n",
       "\t6 & 822 & 50 & 7 &      0.00 & 2 & 1 & 1 &  10062.80 & 0 & 0 & 1 & 0\\\\\n",
       "\\end{tabular}\n"
      ],
      "text/markdown": [
       "\n",
       "A data.frame: 6 × 12\n",
       "\n",
       "| <!--/--> | credit_score &lt;int&gt; | age &lt;int&gt; | tenure &lt;int&gt; | balance &lt;dbl&gt; | products_number &lt;int&gt; | credit_card &lt;int&gt; | active_member &lt;int&gt; | estimated_salary &lt;dbl&gt; | churn &lt;int&gt; | genderFemale &lt;dbl&gt; | countryFrance &lt;dbl&gt; | countryGermany &lt;dbl&gt; |\n",
       "|---|---|---|---|---|---|---|---|---|---|---|---|---|\n",
       "| 1 | 619 | 42 | 2 |      0.00 | 1 | 1 | 1 | 101348.88 | 1 | 1 | 1 | 0 |\n",
       "| 2 | 608 | 41 | 1 |  83807.86 | 1 | 0 | 1 | 112542.58 | 0 | 1 | 0 | 0 |\n",
       "| 3 | 699 | 39 | 1 |      0.00 | 2 | 0 | 0 |  93826.63 | 0 | 1 | 1 | 0 |\n",
       "| 4 | 850 | 43 | 2 | 125510.82 | 1 | 1 | 1 |  79084.10 | 0 | 1 | 0 | 0 |\n",
       "| 5 | 645 | 44 | 8 | 113755.78 | 2 | 1 | 0 | 149756.71 | 1 | 0 | 0 | 0 |\n",
       "| 6 | 822 | 50 | 7 |      0.00 | 2 | 1 | 1 |  10062.80 | 0 | 0 | 1 | 0 |\n",
       "\n"
      ],
      "text/plain": [
       "  credit_score age tenure balance   products_number credit_card active_member\n",
       "1 619          42  2           0.00 1               1           1            \n",
       "2 608          41  1       83807.86 1               0           1            \n",
       "3 699          39  1           0.00 2               0           0            \n",
       "4 850          43  2      125510.82 1               1           1            \n",
       "5 645          44  8      113755.78 2               1           0            \n",
       "6 822          50  7           0.00 2               1           1            \n",
       "  estimated_salary churn genderFemale countryFrance countryGermany\n",
       "1 101348.88        1     1            1             0             \n",
       "2 112542.58        0     1            0             0             \n",
       "3  93826.63        0     1            1             0             \n",
       "4  79084.10        0     1            0             0             \n",
       "5 149756.71        1     0            0             0             \n",
       "6  10062.80        0     0            1             0             "
      ]
     },
     "metadata": {},
     "output_type": "display_data"
    }
   ],
   "source": [
    "#One-hot encoding of gender variable\n",
    "gender_encoded <- model.matrix(~ gender - 1, data = df)\n",
    "new_df <- cbind(df, gender_encoded)\n",
    "\n",
    "#One-hot encoding of country variable\n",
    "country_encoded <- model.matrix(~ country - 1, data = df)\n",
    "new_df <- cbind(new_df, country_encoded)\n",
    "\n",
    "#Drop redundant columns (Verify if droping genderMale and countrySpain is right?)\n",
    "new_df <- select(new_df, -gender, -genderMale, -country, -countrySpain)\n",
    "head(new_df)"
   ]
  },
  {
   "cell_type": "markdown",
   "id": "efa922ad",
   "metadata": {},
   "source": [
    "# 2: Exploratory Data Analysis"
   ]
  },
  {
   "cell_type": "markdown",
   "id": "43653c6b",
   "metadata": {},
   "source": [
    "__2.1: What is the overall rate of customer churn in the dataset?__"
   ]
  },
  {
   "cell_type": "code",
   "execution_count": 164,
   "id": "2cd66b3c",
   "metadata": {},
   "outputs": [
    {
     "name": "stdout",
     "output_type": "stream",
     "text": [
      "The overall rate of customer churn is: 20.36%"
     ]
    }
   ],
   "source": [
    "churn_rate <- mean(df$churn)\n",
    "churn_rate_pct <-paste0(round(churn_rate*100,2),\"%\")\n",
    "cat(\"The overall rate of customer churn is:\",churn_rate_pct)"
   ]
  },
  {
   "cell_type": "markdown",
   "id": "cc1c8ba8",
   "metadata": {},
   "source": [
    "__2.2: How does the rate of customer churn vary by demographic variables such as age, gender, etc.? How does it vary across the countries?__"
   ]
  },
  {
   "cell_type": "code",
   "execution_count": 165,
   "id": "cef994c1",
   "metadata": {},
   "outputs": [
    {
     "name": "stdout",
     "output_type": "stream",
     "text": [
      "Churn rate by gender:\n",
      "  gender churn\n",
      "1 Female 24.98\n",
      "2   Male 16.49\n",
      "\n",
      "Churn rate by country:\n",
      "  country churn\n",
      "1  France 16.15\n",
      "2 Germany 32.33\n",
      "3   Spain 16.70\n"
     ]
    }
   ],
   "source": [
    "churn_rate_by_gender <- aggregate(churn ~ gender, df, function(x) round(100 * sum(x) / length(x), 2))\n",
    "                                  \n",
    "churn_rate_by_country <- aggregate(churn ~ country, df, function(x) round(100 * sum(x) / length(x), 2))\n",
    "                                  \n",
    "cat(\"Churn rate by gender:\\n\")\n",
    "print(churn_rate_by_gender)\n",
    "cat(\"\\n\")                         \n",
    "cat(\"Churn rate by country:\\n\")\n",
    "print(churn_rate_by_country)"
   ]
  },
  {
   "cell_type": "markdown",
   "id": "0935d0bf",
   "metadata": {},
   "source": [
    "Women have, on average, a higher churn rate then men. Germans have, on average, a higher churn rate than French and Spanish."
   ]
  },
  {
   "cell_type": "code",
   "execution_count": 166,
   "id": "576ee09f",
   "metadata": {},
   "outputs": [
    {
     "data": {
      "image/png": "[encoded data removed]",
      "text/plain": [
       "plot without title"
      ]
     },
     "metadata": {
      "image/png": {
       "height": 420,
       "width": 420
      }
     },
     "output_type": "display_data"
    }
   ],
   "source": [
    "# Plot age distribution by churn vs. no-churn\n",
    "ggplot(df, aes(x = age, fill = as.factor(churn))) +\n",
    "  geom_histogram(position = \"identity\", alpha = 0.5, bins = 25) +\n",
    "  scale_fill_manual(values = c(\"red\", \"blue\"), labels=c('No churn', 'Churn')) +\n",
    "  labs(title = \"Histogram of Age by Churn\", x = \"Age\", y = \"Frequency\", fill = \"Churn\") +\n",
    "  theme_classic()"
   ]
  },
  {
   "cell_type": "code",
   "execution_count": 167,
   "id": "ffaa9042",
   "metadata": {},
   "outputs": [
    {
     "name": "stdout",
     "output_type": "stream",
     "text": [
      "Churn rate by country:\n",
      "   age_brackets churn\n",
      "1       [15,20)  6.52\n",
      "2       [20,25)  9.24\n",
      "3       [25,30)  6.89\n",
      "4       [30,35)  8.46\n",
      "5       [35,40) 12.97\n",
      "6       [40,45) 24.17\n",
      "7       [45,50) 42.84\n",
      "8       [50,55) 56.28\n",
      "9       [55,60) 54.55\n",
      "10      [60,65) 41.44\n",
      "11      [65,70) 21.37\n",
      "12      [70,75) 15.91\n",
      "13      [75,80)  0.00\n",
      "14      [80,85) 11.11\n",
      "15      [85,90)  0.00\n",
      "16      [90,95)  0.00\n"
     ]
    }
   ],
   "source": [
    "age_brackets <- cut(df$age, breaks = seq(15, 95, by = 5), right = FALSE)\n",
    "churn_rate_by_age_bracket <- aggregate(churn ~ age_brackets, df, function(x) round(100 * sum(x) / length(x), 2))\n",
    "cat(\"Churn rate by country:\\n\")\n",
    "print(churn_rate_by_age_bracket)"
   ]
  },
  {
   "cell_type": "markdown",
   "id": "300f9537",
   "metadata": {},
   "source": [
    "Customers in the age group between 45 and 65 have the highest churn rate. "
   ]
  },
  {
   "cell_type": "markdown",
   "id": "44bce97c",
   "metadata": {},
   "source": [
    "__2.3: Report interesting patterns that you find in the dataset.__"
   ]
  },
  {
   "cell_type": "code",
   "execution_count": 168,
   "id": "34194b98",
   "metadata": {},
   "outputs": [
    {
     "data": {
      "image/png": "[encoded data removed]",
      "text/plain": [
       "plot without title"
      ]
     },
     "metadata": {
      "image/png": {
       "height": 420,
       "width": 420
      }
     },
     "output_type": "display_data"
    }
   ],
   "source": [
    "# Plot product number distribution by churn vs. no-churn\n",
    "ggplot(df, aes(x = products_number, fill = as.factor(churn))) +\n",
    "  geom_histogram(position = \"identity\", alpha = 0.5, bins = 25) +\n",
    "  scale_fill_manual(values = c(\"red\", \"blue\"), labels=c('No churn', 'Churn')) +\n",
    "  labs(title = \"Histogram of Products Number by Churn\", x = \"Products Number\", y = \"Frequency\", fill = \"Churn\") +\n",
    "  theme_classic()"
   ]
  },
  {
   "cell_type": "code",
   "execution_count": 169,
   "id": "70492340",
   "metadata": {},
   "outputs": [
    {
     "name": "stdout",
     "output_type": "stream",
     "text": [
      "Mean diff in number of products: 0.0712257 \n",
      "Median diff in number of products: 1 \n",
      "P-value for number of products vs churn: 0.0002905912 \n"
     ]
    }
   ],
   "source": [
    "# Separate out ages for two groups\n",
    "products_churn <- df$products_number[df$churn == 1]\n",
    "products_no_churn <- df$products_number[df$churn == 0]\n",
    "\n",
    "# Calculate difference in mean and median\n",
    "mean_diff_products <- mean(products_no_churn) - mean(products_churn)\n",
    "median_diff_products <- median(products_no_churn) - median(products_churn)\n",
    "cat(\"Mean diff in number of products:\", mean_diff_products, \"\\n\")\n",
    "cat(\"Median diff in number of products:\", median_diff_products, \"\\n\")\n",
    "\n",
    "# Run t-test\n",
    "ttest <- t.test(products_churn, products_no_churn)\n",
    "pval <- ttest$p.value\n",
    "cat(\"P-value for number of products vs churn:\", pval, \"\\n\")"
   ]
  },
  {
   "cell_type": "markdown",
   "id": "fd556be3",
   "metadata": {},
   "source": [
    "There seems to be a statistically significant relationship between the number of products and churn. Customers that have a higher number of products are less likely to churn. The fact, however, that customers with four products have all churned goes against this observation. "
   ]
  },
  {
   "cell_type": "code",
   "execution_count": 170,
   "id": "0f6cbb5d",
   "metadata": {},
   "outputs": [
    {
     "data": {
      "text/html": [
       "<table class=\"dataframe\">\n",
       "<caption>A data.frame: 54 × 11</caption>\n",
       "<thead>\n",
       "\t<tr><th></th><th scope=col>credit_score</th><th scope=col>country</th><th scope=col>gender</th><th scope=col>age</th><th scope=col>tenure</th><th scope=col>balance</th><th scope=col>products_number</th><th scope=col>credit_card</th><th scope=col>active_member</th><th scope=col>estimated_salary</th><th scope=col>churn</th></tr>\n",
       "\t<tr><th></th><th scope=col>&lt;int&gt;</th><th scope=col>&lt;chr&gt;</th><th scope=col>&lt;chr&gt;</th><th scope=col>&lt;int&gt;</th><th scope=col>&lt;int&gt;</th><th scope=col>&lt;dbl&gt;</th><th scope=col>&lt;int&gt;</th><th scope=col>&lt;int&gt;</th><th scope=col>&lt;int&gt;</th><th scope=col>&lt;dbl&gt;</th><th scope=col>&lt;int&gt;</th></tr>\n",
       "</thead>\n",
       "<tbody>\n",
       "\t<tr><th scope=row>7</th><td>376</td><td>Germany</td><td>Female</td><td>29</td><td> 4</td><td>115046.74</td><td>4</td><td>1</td><td>0</td><td>119346.88</td><td>1</td></tr>\n",
       "\t<tr><th scope=row>65</th><td>738</td><td>Germany</td><td>Male  </td><td>58</td><td> 2</td><td>133745.44</td><td>4</td><td>1</td><td>0</td><td> 28373.86</td><td>1</td></tr>\n",
       "\t<tr><th scope=row>1115</th><td>628</td><td>France </td><td>Female</td><td>46</td><td> 1</td><td> 46870.43</td><td>4</td><td>1</td><td>0</td><td> 31272.14</td><td>1</td></tr>\n",
       "\t<tr><th scope=row>1307</th><td>819</td><td>Germany</td><td>Female</td><td>49</td><td> 1</td><td>120656.86</td><td>4</td><td>0</td><td>0</td><td>166164.30</td><td>1</td></tr>\n",
       "\t<tr><th scope=row>1324</th><td>596</td><td>Spain  </td><td>Male  </td><td>30</td><td> 6</td><td>121345.88</td><td>4</td><td>1</td><td>0</td><td> 41921.75</td><td>1</td></tr>\n",
       "\t<tr><th scope=row>1519</th><td>792</td><td>France </td><td>Male  </td><td>50</td><td> 9</td><td>     0.00</td><td>4</td><td>1</td><td>1</td><td>194700.81</td><td>1</td></tr>\n",
       "\t<tr><th scope=row>1669</th><td>640</td><td>Germany</td><td>Male  </td><td>39</td><td> 9</td><td>131607.28</td><td>4</td><td>0</td><td>1</td><td>  6981.43</td><td>1</td></tr>\n",
       "\t<tr><th scope=row>1895</th><td>704</td><td>France </td><td>Male  </td><td>32</td><td> 7</td><td>127785.17</td><td>4</td><td>0</td><td>0</td><td>184464.70</td><td>1</td></tr>\n",
       "\t<tr><th scope=row>1962</th><td>773</td><td>Germany</td><td>Male  </td><td>47</td><td> 2</td><td>118079.47</td><td>4</td><td>1</td><td>1</td><td>143007.49</td><td>1</td></tr>\n",
       "\t<tr><th scope=row>2043</th><td>630</td><td>Germany</td><td>Male  </td><td>50</td><td> 3</td><td>129370.91</td><td>4</td><td>1</td><td>1</td><td> 47775.34</td><td>1</td></tr>\n",
       "\t<tr><th scope=row>2207</th><td>672</td><td>France </td><td>Female</td><td>53</td><td> 9</td><td>169406.33</td><td>4</td><td>1</td><td>1</td><td>147311.47</td><td>1</td></tr>\n",
       "\t<tr><th scope=row>2242</th><td>614</td><td>France </td><td>Female</td><td>37</td><td> 8</td><td> 75150.34</td><td>4</td><td>0</td><td>1</td><td>131766.67</td><td>1</td></tr>\n",
       "\t<tr><th scope=row>2252</th><td>655</td><td>France </td><td>Female</td><td>50</td><td>10</td><td>     0.00</td><td>4</td><td>1</td><td>0</td><td>179267.94</td><td>1</td></tr>\n",
       "\t<tr><th scope=row>2280</th><td>611</td><td>France </td><td>Female</td><td>61</td><td> 3</td><td>131583.59</td><td>4</td><td>0</td><td>1</td><td> 66238.23</td><td>1</td></tr>\n",
       "\t<tr><th scope=row>2345</th><td>546</td><td>Germany</td><td>Female</td><td>58</td><td> 3</td><td>106458.31</td><td>4</td><td>1</td><td>0</td><td>128881.87</td><td>1</td></tr>\n",
       "\t<tr><th scope=row>2575</th><td>439</td><td>Spain  </td><td>Male  </td><td>52</td><td> 3</td><td> 96196.24</td><td>4</td><td>1</td><td>0</td><td>198874.52</td><td>1</td></tr>\n",
       "\t<tr><th scope=row>2829</th><td>644</td><td>France </td><td>Female</td><td>40</td><td> 9</td><td>137285.26</td><td>4</td><td>1</td><td>0</td><td> 77063.63</td><td>1</td></tr>\n",
       "\t<tr><th scope=row>3014</th><td>671</td><td>Spain  </td><td>Female</td><td>34</td><td> 5</td><td>130929.02</td><td>4</td><td>1</td><td>1</td><td> 28238.25</td><td>1</td></tr>\n",
       "\t<tr><th scope=row>3596</th><td>720</td><td>Germany</td><td>Female</td><td>57</td><td> 1</td><td>162082.31</td><td>4</td><td>0</td><td>0</td><td> 27145.73</td><td>1</td></tr>\n",
       "\t<tr><th scope=row>3597</th><td>641</td><td>Germany</td><td>Female</td><td>51</td><td> 2</td><td>117306.69</td><td>4</td><td>1</td><td>1</td><td> 26912.72</td><td>1</td></tr>\n",
       "\t<tr><th scope=row>3732</th><td>850</td><td>Spain  </td><td>Female</td><td>45</td><td> 5</td><td>174088.30</td><td>4</td><td>1</td><td>0</td><td>  5669.31</td><td>1</td></tr>\n",
       "\t<tr><th scope=row>3813</th><td>587</td><td>France </td><td>Male  </td><td>40</td><td> 2</td><td>     0.00</td><td>4</td><td>0</td><td>1</td><td>106174.70</td><td>1</td></tr>\n",
       "\t<tr><th scope=row>3945</th><td>602</td><td>Germany</td><td>Female</td><td>43</td><td> 2</td><td>113641.49</td><td>4</td><td>1</td><td>0</td><td>115116.35</td><td>1</td></tr>\n",
       "\t<tr><th scope=row>4042</th><td>634</td><td>France </td><td>Female</td><td>45</td><td> 2</td><td>     0.00</td><td>4</td><td>1</td><td>0</td><td>101039.53</td><td>1</td></tr>\n",
       "\t<tr><th scope=row>4046</th><td>497</td><td>Germany</td><td>Female</td><td>32</td><td> 8</td><td>111537.23</td><td>4</td><td>1</td><td>1</td><td>  9497.99</td><td>1</td></tr>\n",
       "\t<tr><th scope=row>4128</th><td>797</td><td>France </td><td>Female</td><td>55</td><td>10</td><td>     0.00</td><td>4</td><td>1</td><td>1</td><td> 49418.87</td><td>1</td></tr>\n",
       "\t<tr><th scope=row>4261</th><td>537</td><td>Germany</td><td>Female</td><td>37</td><td> 7</td><td>158411.95</td><td>4</td><td>1</td><td>1</td><td>117690.58</td><td>1</td></tr>\n",
       "\t<tr><th scope=row>4332</th><td>745</td><td>France </td><td>Female</td><td>32</td><td> 2</td><td>     0.00</td><td>4</td><td>0</td><td>1</td><td>179705.13</td><td>1</td></tr>\n",
       "\t<tr><th scope=row>4501</th><td>575</td><td>Germany</td><td>Male  </td><td>49</td><td> 7</td><td>121205.15</td><td>4</td><td>1</td><td>1</td><td>168080.53</td><td>1</td></tr>\n",
       "\t<tr><th scope=row>4707</th><td>645</td><td>France </td><td>Female</td><td>68</td><td> 9</td><td>     0.00</td><td>4</td><td>1</td><td>1</td><td>176353.87</td><td>1</td></tr>\n",
       "\t<tr><th scope=row>4836</th><td>642</td><td>France </td><td>Male  </td><td>48</td><td> 9</td><td>118317.27</td><td>4</td><td>0</td><td>0</td><td> 78702.98</td><td>1</td></tr>\n",
       "\t<tr><th scope=row>5118</th><td>447</td><td>France </td><td>Male  </td><td>41</td><td> 3</td><td>     0.00</td><td>4</td><td>1</td><td>1</td><td>197490.39</td><td>1</td></tr>\n",
       "\t<tr><th scope=row>5302</th><td>692</td><td>Germany</td><td>Male  </td><td>45</td><td> 6</td><td>142084.04</td><td>4</td><td>1</td><td>0</td><td>188305.85</td><td>1</td></tr>\n",
       "\t<tr><th scope=row>5516</th><td>632</td><td>Germany</td><td>Male  </td><td>41</td><td> 8</td><td>127205.32</td><td>4</td><td>1</td><td>0</td><td> 93874.87</td><td>1</td></tr>\n",
       "\t<tr><th scope=row>5536</th><td>568</td><td>Germany</td><td>Male  </td><td>43</td><td> 5</td><td> 87612.64</td><td>4</td><td>1</td><td>1</td><td>107155.40</td><td>1</td></tr>\n",
       "\t<tr><th scope=row>6047</th><td>618</td><td>France </td><td>Female</td><td>42</td><td> 2</td><td>     0.00</td><td>4</td><td>0</td><td>0</td><td>111097.39</td><td>1</td></tr>\n",
       "\t<tr><th scope=row>6159</th><td>610</td><td>France </td><td>Female</td><td>57</td><td> 7</td><td> 72092.95</td><td>4</td><td>0</td><td>1</td><td>113228.82</td><td>1</td></tr>\n",
       "\t<tr><th scope=row>6684</th><td>665</td><td>Germany</td><td>Female</td><td>43</td><td> 2</td><td>116322.27</td><td>4</td><td>1</td><td>0</td><td> 35640.12</td><td>1</td></tr>\n",
       "\t<tr><th scope=row>6778</th><td>629</td><td>France </td><td>Male  </td><td>44</td><td> 5</td><td>     0.00</td><td>4</td><td>0</td><td>0</td><td>117572.59</td><td>1</td></tr>\n",
       "\t<tr><th scope=row>6896</th><td>592</td><td>France </td><td>Male  </td><td>60</td><td> 9</td><td>     0.00</td><td>4</td><td>1</td><td>1</td><td> 13614.01</td><td>1</td></tr>\n",
       "\t<tr><th scope=row>6920</th><td>842</td><td>France </td><td>Male  </td><td>44</td><td> 3</td><td>141252.18</td><td>4</td><td>0</td><td>1</td><td>128521.16</td><td>1</td></tr>\n",
       "\t<tr><th scope=row>6924</th><td>850</td><td>France </td><td>Female</td><td>35</td><td> 2</td><td>128548.49</td><td>4</td><td>1</td><td>0</td><td> 75478.95</td><td>1</td></tr>\n",
       "\t<tr><th scope=row>7210</th><td>698</td><td>Spain  </td><td>Female</td><td>50</td><td> 1</td><td>     0.00</td><td>4</td><td>1</td><td>0</td><td> 88566.90</td><td>1</td></tr>\n",
       "\t<tr><th scope=row>7707</th><td>771</td><td>France </td><td>Female</td><td>41</td><td>10</td><td>108309.00</td><td>4</td><td>1</td><td>1</td><td>137510.41</td><td>1</td></tr>\n",
       "\t<tr><th scope=row>7794</th><td>697</td><td>France </td><td>Female</td><td>49</td><td> 7</td><td>195238.29</td><td>4</td><td>0</td><td>1</td><td>131083.56</td><td>1</td></tr>\n",
       "\t<tr><th scope=row>7948</th><td>500</td><td>Spain  </td><td>Female</td><td>50</td><td> 5</td><td>     0.00</td><td>4</td><td>1</td><td>1</td><td> 83866.35</td><td>1</td></tr>\n",
       "\t<tr><th scope=row>8017</th><td>625</td><td>Germany</td><td>Female</td><td>55</td><td> 8</td><td>118772.71</td><td>4</td><td>0</td><td>0</td><td>135853.62</td><td>1</td></tr>\n",
       "\t<tr><th scope=row>8287</th><td>584</td><td>Germany</td><td>Female</td><td>37</td><td>10</td><td>134171.80</td><td>4</td><td>1</td><td>1</td><td> 70927.11</td><td>1</td></tr>\n",
       "\t<tr><th scope=row>8324</th><td>847</td><td>Germany</td><td>Female</td><td>41</td><td> 3</td><td>101543.51</td><td>4</td><td>1</td><td>0</td><td> 16025.17</td><td>1</td></tr>\n",
       "\t<tr><th scope=row>8385</th><td>644</td><td>France </td><td>Male  </td><td>50</td><td> 9</td><td> 76817.00</td><td>4</td><td>1</td><td>0</td><td>196371.13</td><td>1</td></tr>\n",
       "\t<tr><th scope=row>8427</th><td>561</td><td>France </td><td>Male  </td><td>43</td><td> 4</td><td>     0.00</td><td>4</td><td>0</td><td>0</td><td> 18522.91</td><td>1</td></tr>\n",
       "\t<tr><th scope=row>8466</th><td>689</td><td>Germany</td><td>Female</td><td>40</td><td> 4</td><td> 78119.59</td><td>4</td><td>1</td><td>0</td><td>119259.34</td><td>1</td></tr>\n",
       "\t<tr><th scope=row>8586</th><td>727</td><td>Germany</td><td>Male  </td><td>46</td><td> 3</td><td>115248.11</td><td>4</td><td>1</td><td>0</td><td>130752.01</td><td>1</td></tr>\n",
       "\t<tr><th scope=row>8607</th><td>582</td><td>France </td><td>Female</td><td>38</td><td> 9</td><td>135979.01</td><td>4</td><td>1</td><td>1</td><td> 76582.95</td><td>1</td></tr>\n",
       "</tbody>\n",
       "</table>\n"
      ],
      "text/latex": [
       "A data.frame: 54 × 11\n",
       "\\begin{tabular}{r|lllllllllll}\n",
       "  & credit\\_score & country & gender & age & tenure & balance & products\\_number & credit\\_card & active\\_member & estimated\\_salary & churn\\\\\n",
       "  & <int> & <chr> & <chr> & <int> & <int> & <dbl> & <int> & <int> & <int> & <dbl> & <int>\\\\\n",
       "\\hline\n",
       "\t7 & 376 & Germany & Female & 29 &  4 & 115046.74 & 4 & 1 & 0 & 119346.88 & 1\\\\\n",
       "\t65 & 738 & Germany & Male   & 58 &  2 & 133745.44 & 4 & 1 & 0 &  28373.86 & 1\\\\\n",
       "\t1115 & 628 & France  & Female & 46 &  1 &  46870.43 & 4 & 1 & 0 &  31272.14 & 1\\\\\n",
       "\t1307 & 819 & Germany & Female & 49 &  1 & 120656.86 & 4 & 0 & 0 & 166164.30 & 1\\\\\n",
       "\t1324 & 596 & Spain   & Male   & 30 &  6 & 121345.88 & 4 & 1 & 0 &  41921.75 & 1\\\\\n",
       "\t1519 & 792 & France  & Male   & 50 &  9 &      0.00 & 4 & 1 & 1 & 194700.81 & 1\\\\\n",
       "\t1669 & 640 & Germany & Male   & 39 &  9 & 131607.28 & 4 & 0 & 1 &   6981.43 & 1\\\\\n",
       "\t1895 & 704 & France  & Male   & 32 &  7 & 127785.17 & 4 & 0 & 0 & 184464.70 & 1\\\\\n",
       "\t1962 & 773 & Germany & Male   & 47 &  2 & 118079.47 & 4 & 1 & 1 & 143007.49 & 1\\\\\n",
       "\t2043 & 630 & Germany & Male   & 50 &  3 & 129370.91 & 4 & 1 & 1 &  47775.34 & 1\\\\\n",
       "\t2207 & 672 & France  & Female & 53 &  9 & 169406.33 & 4 & 1 & 1 & 147311.47 & 1\\\\\n",
       "\t2242 & 614 & France  & Female & 37 &  8 &  75150.34 & 4 & 0 & 1 & 131766.67 & 1\\\\\n",
       "\t2252 & 655 & France  & Female & 50 & 10 &      0.00 & 4 & 1 & 0 & 179267.94 & 1\\\\\n",
       "\t2280 & 611 & France  & Female & 61 &  3 & 131583.59 & 4 & 0 & 1 &  66238.23 & 1\\\\\n",
       "\t2345 & 546 & Germany & Female & 58 &  3 & 106458.31 & 4 & 1 & 0 & 128881.87 & 1\\\\\n",
       "\t2575 & 439 & Spain   & Male   & 52 &  3 &  96196.24 & 4 & 1 & 0 & 198874.52 & 1\\\\\n",
       "\t2829 & 644 & France  & Female & 40 &  9 & 137285.26 & 4 & 1 & 0 &  77063.63 & 1\\\\\n",
       "\t3014 & 671 & Spain   & Female & 34 &  5 & 130929.02 & 4 & 1 & 1 &  28238.25 & 1\\\\\n",
       "\t3596 & 720 & Germany & Female & 57 &  1 & 162082.31 & 4 & 0 & 0 &  27145.73 & 1\\\\\n",
       "\t3597 & 641 & Germany & Female & 51 &  2 & 117306.69 & 4 & 1 & 1 &  26912.72 & 1\\\\\n",
       "\t3732 & 850 & Spain   & Female & 45 &  5 & 174088.30 & 4 & 1 & 0 &   5669.31 & 1\\\\\n",
       "\t3813 & 587 & France  & Male   & 40 &  2 &      0.00 & 4 & 0 & 1 & 106174.70 & 1\\\\\n",
       "\t3945 & 602 & Germany & Female & 43 &  2 & 113641.49 & 4 & 1 & 0 & 115116.35 & 1\\\\\n",
       "\t4042 & 634 & France  & Female & 45 &  2 &      0.00 & 4 & 1 & 0 & 101039.53 & 1\\\\\n",
       "\t4046 & 497 & Germany & Female & 32 &  8 & 111537.23 & 4 & 1 & 1 &   9497.99 & 1\\\\\n",
       "\t4128 & 797 & France  & Female & 55 & 10 &      0.00 & 4 & 1 & 1 &  49418.87 & 1\\\\\n",
       "\t4261 & 537 & Germany & Female & 37 &  7 & 158411.95 & 4 & 1 & 1 & 117690.58 & 1\\\\\n",
       "\t4332 & 745 & France  & Female & 32 &  2 &      0.00 & 4 & 0 & 1 & 179705.13 & 1\\\\\n",
       "\t4501 & 575 & Germany & Male   & 49 &  7 & 121205.15 & 4 & 1 & 1 & 168080.53 & 1\\\\\n",
       "\t4707 & 645 & France  & Female & 68 &  9 &      0.00 & 4 & 1 & 1 & 176353.87 & 1\\\\\n",
       "\t4836 & 642 & France  & Male   & 48 &  9 & 118317.27 & 4 & 0 & 0 &  78702.98 & 1\\\\\n",
       "\t5118 & 447 & France  & Male   & 41 &  3 &      0.00 & 4 & 1 & 1 & 197490.39 & 1\\\\\n",
       "\t5302 & 692 & Germany & Male   & 45 &  6 & 142084.04 & 4 & 1 & 0 & 188305.85 & 1\\\\\n",
       "\t5516 & 632 & Germany & Male   & 41 &  8 & 127205.32 & 4 & 1 & 0 &  93874.87 & 1\\\\\n",
       "\t5536 & 568 & Germany & Male   & 43 &  5 &  87612.64 & 4 & 1 & 1 & 107155.40 & 1\\\\\n",
       "\t6047 & 618 & France  & Female & 42 &  2 &      0.00 & 4 & 0 & 0 & 111097.39 & 1\\\\\n",
       "\t6159 & 610 & France  & Female & 57 &  7 &  72092.95 & 4 & 0 & 1 & 113228.82 & 1\\\\\n",
       "\t6684 & 665 & Germany & Female & 43 &  2 & 116322.27 & 4 & 1 & 0 &  35640.12 & 1\\\\\n",
       "\t6778 & 629 & France  & Male   & 44 &  5 &      0.00 & 4 & 0 & 0 & 117572.59 & 1\\\\\n",
       "\t6896 & 592 & France  & Male   & 60 &  9 &      0.00 & 4 & 1 & 1 &  13614.01 & 1\\\\\n",
       "\t6920 & 842 & France  & Male   & 44 &  3 & 141252.18 & 4 & 0 & 1 & 128521.16 & 1\\\\\n",
       "\t6924 & 850 & France  & Female & 35 &  2 & 128548.49 & 4 & 1 & 0 &  75478.95 & 1\\\\\n",
       "\t7210 & 698 & Spain   & Female & 50 &  1 &      0.00 & 4 & 1 & 0 &  88566.90 & 1\\\\\n",
       "\t7707 & 771 & France  & Female & 41 & 10 & 108309.00 & 4 & 1 & 1 & 137510.41 & 1\\\\\n",
       "\t7794 & 697 & France  & Female & 49 &  7 & 195238.29 & 4 & 0 & 1 & 131083.56 & 1\\\\\n",
       "\t7948 & 500 & Spain   & Female & 50 &  5 &      0.00 & 4 & 1 & 1 &  83866.35 & 1\\\\\n",
       "\t8017 & 625 & Germany & Female & 55 &  8 & 118772.71 & 4 & 0 & 0 & 135853.62 & 1\\\\\n",
       "\t8287 & 584 & Germany & Female & 37 & 10 & 134171.80 & 4 & 1 & 1 &  70927.11 & 1\\\\\n",
       "\t8324 & 847 & Germany & Female & 41 &  3 & 101543.51 & 4 & 1 & 0 &  16025.17 & 1\\\\\n",
       "\t8385 & 644 & France  & Male   & 50 &  9 &  76817.00 & 4 & 1 & 0 & 196371.13 & 1\\\\\n",
       "\t8427 & 561 & France  & Male   & 43 &  4 &      0.00 & 4 & 0 & 0 &  18522.91 & 1\\\\\n",
       "\t8466 & 689 & Germany & Female & 40 &  4 &  78119.59 & 4 & 1 & 0 & 119259.34 & 1\\\\\n",
       "\t8586 & 727 & Germany & Male   & 46 &  3 & 115248.11 & 4 & 1 & 0 & 130752.01 & 1\\\\\n",
       "\t8607 & 582 & France  & Female & 38 &  9 & 135979.01 & 4 & 1 & 1 &  76582.95 & 1\\\\\n",
       "\\end{tabular}\n"
      ],
      "text/markdown": [
       "\n",
       "A data.frame: 54 × 11\n",
       "\n",
       "| <!--/--> | credit_score &lt;int&gt; | country &lt;chr&gt; | gender &lt;chr&gt; | age &lt;int&gt; | tenure &lt;int&gt; | balance &lt;dbl&gt; | products_number &lt;int&gt; | credit_card &lt;int&gt; | active_member &lt;int&gt; | estimated_salary &lt;dbl&gt; | churn &lt;int&gt; |\n",
       "|---|---|---|---|---|---|---|---|---|---|---|---|\n",
       "| 7 | 376 | Germany | Female | 29 |  4 | 115046.74 | 4 | 1 | 0 | 119346.88 | 1 |\n",
       "| 65 | 738 | Germany | Male   | 58 |  2 | 133745.44 | 4 | 1 | 0 |  28373.86 | 1 |\n",
       "| 1115 | 628 | France  | Female | 46 |  1 |  46870.43 | 4 | 1 | 0 |  31272.14 | 1 |\n",
       "| 1307 | 819 | Germany | Female | 49 |  1 | 120656.86 | 4 | 0 | 0 | 166164.30 | 1 |\n",
       "| 1324 | 596 | Spain   | Male   | 30 |  6 | 121345.88 | 4 | 1 | 0 |  41921.75 | 1 |\n",
       "| 1519 | 792 | France  | Male   | 50 |  9 |      0.00 | 4 | 1 | 1 | 194700.81 | 1 |\n",
       "| 1669 | 640 | Germany | Male   | 39 |  9 | 131607.28 | 4 | 0 | 1 |   6981.43 | 1 |\n",
       "| 1895 | 704 | France  | Male   | 32 |  7 | 127785.17 | 4 | 0 | 0 | 184464.70 | 1 |\n",
       "| 1962 | 773 | Germany | Male   | 47 |  2 | 118079.47 | 4 | 1 | 1 | 143007.49 | 1 |\n",
       "| 2043 | 630 | Germany | Male   | 50 |  3 | 129370.91 | 4 | 1 | 1 |  47775.34 | 1 |\n",
       "| 2207 | 672 | France  | Female | 53 |  9 | 169406.33 | 4 | 1 | 1 | 147311.47 | 1 |\n",
       "| 2242 | 614 | France  | Female | 37 |  8 |  75150.34 | 4 | 0 | 1 | 131766.67 | 1 |\n",
       "| 2252 | 655 | France  | Female | 50 | 10 |      0.00 | 4 | 1 | 0 | 179267.94 | 1 |\n",
       "| 2280 | 611 | France  | Female | 61 |  3 | 131583.59 | 4 | 0 | 1 |  66238.23 | 1 |\n",
       "| 2345 | 546 | Germany | Female | 58 |  3 | 106458.31 | 4 | 1 | 0 | 128881.87 | 1 |\n",
       "| 2575 | 439 | Spain   | Male   | 52 |  3 |  96196.24 | 4 | 1 | 0 | 198874.52 | 1 |\n",
       "| 2829 | 644 | France  | Female | 40 |  9 | 137285.26 | 4 | 1 | 0 |  77063.63 | 1 |\n",
       "| 3014 | 671 | Spain   | Female | 34 |  5 | 130929.02 | 4 | 1 | 1 |  28238.25 | 1 |\n",
       "| 3596 | 720 | Germany | Female | 57 |  1 | 162082.31 | 4 | 0 | 0 |  27145.73 | 1 |\n",
       "| 3597 | 641 | Germany | Female | 51 |  2 | 117306.69 | 4 | 1 | 1 |  26912.72 | 1 |\n",
       "| 3732 | 850 | Spain   | Female | 45 |  5 | 174088.30 | 4 | 1 | 0 |   5669.31 | 1 |\n",
       "| 3813 | 587 | France  | Male   | 40 |  2 |      0.00 | 4 | 0 | 1 | 106174.70 | 1 |\n",
       "| 3945 | 602 | Germany | Female | 43 |  2 | 113641.49 | 4 | 1 | 0 | 115116.35 | 1 |\n",
       "| 4042 | 634 | France  | Female | 45 |  2 |      0.00 | 4 | 1 | 0 | 101039.53 | 1 |\n",
       "| 4046 | 497 | Germany | Female | 32 |  8 | 111537.23 | 4 | 1 | 1 |   9497.99 | 1 |\n",
       "| 4128 | 797 | France  | Female | 55 | 10 |      0.00 | 4 | 1 | 1 |  49418.87 | 1 |\n",
       "| 4261 | 537 | Germany | Female | 37 |  7 | 158411.95 | 4 | 1 | 1 | 117690.58 | 1 |\n",
       "| 4332 | 745 | France  | Female | 32 |  2 |      0.00 | 4 | 0 | 1 | 179705.13 | 1 |\n",
       "| 4501 | 575 | Germany | Male   | 49 |  7 | 121205.15 | 4 | 1 | 1 | 168080.53 | 1 |\n",
       "| 4707 | 645 | France  | Female | 68 |  9 |      0.00 | 4 | 1 | 1 | 176353.87 | 1 |\n",
       "| 4836 | 642 | France  | Male   | 48 |  9 | 118317.27 | 4 | 0 | 0 |  78702.98 | 1 |\n",
       "| 5118 | 447 | France  | Male   | 41 |  3 |      0.00 | 4 | 1 | 1 | 197490.39 | 1 |\n",
       "| 5302 | 692 | Germany | Male   | 45 |  6 | 142084.04 | 4 | 1 | 0 | 188305.85 | 1 |\n",
       "| 5516 | 632 | Germany | Male   | 41 |  8 | 127205.32 | 4 | 1 | 0 |  93874.87 | 1 |\n",
       "| 5536 | 568 | Germany | Male   | 43 |  5 |  87612.64 | 4 | 1 | 1 | 107155.40 | 1 |\n",
       "| 6047 | 618 | France  | Female | 42 |  2 |      0.00 | 4 | 0 | 0 | 111097.39 | 1 |\n",
       "| 6159 | 610 | France  | Female | 57 |  7 |  72092.95 | 4 | 0 | 1 | 113228.82 | 1 |\n",
       "| 6684 | 665 | Germany | Female | 43 |  2 | 116322.27 | 4 | 1 | 0 |  35640.12 | 1 |\n",
       "| 6778 | 629 | France  | Male   | 44 |  5 |      0.00 | 4 | 0 | 0 | 117572.59 | 1 |\n",
       "| 6896 | 592 | France  | Male   | 60 |  9 |      0.00 | 4 | 1 | 1 |  13614.01 | 1 |\n",
       "| 6920 | 842 | France  | Male   | 44 |  3 | 141252.18 | 4 | 0 | 1 | 128521.16 | 1 |\n",
       "| 6924 | 850 | France  | Female | 35 |  2 | 128548.49 | 4 | 1 | 0 |  75478.95 | 1 |\n",
       "| 7210 | 698 | Spain   | Female | 50 |  1 |      0.00 | 4 | 1 | 0 |  88566.90 | 1 |\n",
       "| 7707 | 771 | France  | Female | 41 | 10 | 108309.00 | 4 | 1 | 1 | 137510.41 | 1 |\n",
       "| 7794 | 697 | France  | Female | 49 |  7 | 195238.29 | 4 | 0 | 1 | 131083.56 | 1 |\n",
       "| 7948 | 500 | Spain   | Female | 50 |  5 |      0.00 | 4 | 1 | 1 |  83866.35 | 1 |\n",
       "| 8017 | 625 | Germany | Female | 55 |  8 | 118772.71 | 4 | 0 | 0 | 135853.62 | 1 |\n",
       "| 8287 | 584 | Germany | Female | 37 | 10 | 134171.80 | 4 | 1 | 1 |  70927.11 | 1 |\n",
       "| 8324 | 847 | Germany | Female | 41 |  3 | 101543.51 | 4 | 1 | 0 |  16025.17 | 1 |\n",
       "| 8385 | 644 | France  | Male   | 50 |  9 |  76817.00 | 4 | 1 | 0 | 196371.13 | 1 |\n",
       "| 8427 | 561 | France  | Male   | 43 |  4 |      0.00 | 4 | 0 | 0 |  18522.91 | 1 |\n",
       "| 8466 | 689 | Germany | Female | 40 |  4 |  78119.59 | 4 | 1 | 0 | 119259.34 | 1 |\n",
       "| 8586 | 727 | Germany | Male   | 46 |  3 | 115248.11 | 4 | 1 | 0 | 130752.01 | 1 |\n",
       "| 8607 | 582 | France  | Female | 38 |  9 | 135979.01 | 4 | 1 | 1 |  76582.95 | 1 |\n",
       "\n"
      ],
      "text/plain": [
       "     credit_score country gender age tenure balance   products_number\n",
       "7    376          Germany Female 29   4     115046.74 4              \n",
       "65   738          Germany Male   58   2     133745.44 4              \n",
       "1115 628          France  Female 46   1      46870.43 4              \n",
       "1307 819          Germany Female 49   1     120656.86 4              \n",
       "1324 596          Spain   Male   30   6     121345.88 4              \n",
       "1519 792          France  Male   50   9          0.00 4              \n",
       "1669 640          Germany Male   39   9     131607.28 4              \n",
       "1895 704          France  Male   32   7     127785.17 4              \n",
       "1962 773          Germany Male   47   2     118079.47 4              \n",
       "2043 630          Germany Male   50   3     129370.91 4              \n",
       "2207 672          France  Female 53   9     169406.33 4              \n",
       "2242 614          France  Female 37   8      75150.34 4              \n",
       "2252 655          France  Female 50  10          0.00 4              \n",
       "2280 611          France  Female 61   3     131583.59 4              \n",
       "2345 546          Germany Female 58   3     106458.31 4              \n",
       "2575 439          Spain   Male   52   3      96196.24 4              \n",
       "2829 644          France  Female 40   9     137285.26 4              \n",
       "3014 671          Spain   Female 34   5     130929.02 4              \n",
       "3596 720          Germany Female 57   1     162082.31 4              \n",
       "3597 641          Germany Female 51   2     117306.69 4              \n",
       "3732 850          Spain   Female 45   5     174088.30 4              \n",
       "3813 587          France  Male   40   2          0.00 4              \n",
       "3945 602          Germany Female 43   2     113641.49 4              \n",
       "4042 634          France  Female 45   2          0.00 4              \n",
       "4046 497          Germany Female 32   8     111537.23 4              \n",
       "4128 797          France  Female 55  10          0.00 4              \n",
       "4261 537          Germany Female 37   7     158411.95 4              \n",
       "4332 745          France  Female 32   2          0.00 4              \n",
       "4501 575          Germany Male   49   7     121205.15 4              \n",
       "4707 645          France  Female 68   9          0.00 4              \n",
       "4836 642          France  Male   48   9     118317.27 4              \n",
       "5118 447          France  Male   41   3          0.00 4              \n",
       "5302 692          Germany Male   45   6     142084.04 4              \n",
       "5516 632          Germany Male   41   8     127205.32 4              \n",
       "5536 568          Germany Male   43   5      87612.64 4              \n",
       "6047 618          France  Female 42   2          0.00 4              \n",
       "6159 610          France  Female 57   7      72092.95 4              \n",
       "6684 665          Germany Female 43   2     116322.27 4              \n",
       "6778 629          France  Male   44   5          0.00 4              \n",
       "6896 592          France  Male   60   9          0.00 4              \n",
       "6920 842          France  Male   44   3     141252.18 4              \n",
       "6924 850          France  Female 35   2     128548.49 4              \n",
       "7210 698          Spain   Female 50   1          0.00 4              \n",
       "7707 771          France  Female 41  10     108309.00 4              \n",
       "7794 697          France  Female 49   7     195238.29 4              \n",
       "7948 500          Spain   Female 50   5          0.00 4              \n",
       "8017 625          Germany Female 55   8     118772.71 4              \n",
       "8287 584          Germany Female 37  10     134171.80 4              \n",
       "8324 847          Germany Female 41   3     101543.51 4              \n",
       "8385 644          France  Male   50   9      76817.00 4              \n",
       "8427 561          France  Male   43   4          0.00 4              \n",
       "8466 689          Germany Female 40   4      78119.59 4              \n",
       "8586 727          Germany Male   46   3     115248.11 4              \n",
       "8607 582          France  Female 38   9     135979.01 4              \n",
       "     credit_card active_member estimated_salary churn\n",
       "7    1           0             119346.88        1    \n",
       "65   1           0              28373.86        1    \n",
       "1115 1           0              31272.14        1    \n",
       "1307 0           0             166164.30        1    \n",
       "1324 1           0              41921.75        1    \n",
       "1519 1           1             194700.81        1    \n",
       "1669 0           1               6981.43        1    \n",
       "1895 0           0             184464.70        1    \n",
       "1962 1           1             143007.49        1    \n",
       "2043 1           1              47775.34        1    \n",
       "2207 1           1             147311.47        1    \n",
       "2242 0           1             131766.67        1    \n",
       "2252 1           0             179267.94        1    \n",
       "2280 0           1              66238.23        1    \n",
       "2345 1           0             128881.87        1    \n",
       "2575 1           0             198874.52        1    \n",
       "2829 1           0              77063.63        1    \n",
       "3014 1           1              28238.25        1    \n",
       "3596 0           0              27145.73        1    \n",
       "3597 1           1              26912.72        1    \n",
       "3732 1           0               5669.31        1    \n",
       "3813 0           1             106174.70        1    \n",
       "3945 1           0             115116.35        1    \n",
       "4042 1           0             101039.53        1    \n",
       "4046 1           1               9497.99        1    \n",
       "4128 1           1              49418.87        1    \n",
       "4261 1           1             117690.58        1    \n",
       "4332 0           1             179705.13        1    \n",
       "4501 1           1             168080.53        1    \n",
       "4707 1           1             176353.87        1    \n",
       "4836 0           0              78702.98        1    \n",
       "5118 1           1             197490.39        1    \n",
       "5302 1           0             188305.85        1    \n",
       "5516 1           0              93874.87        1    \n",
       "5536 1           1             107155.40        1    \n",
       "6047 0           0             111097.39        1    \n",
       "6159 0           1             113228.82        1    \n",
       "6684 1           0              35640.12        1    \n",
       "6778 0           0             117572.59        1    \n",
       "6896 1           1              13614.01        1    \n",
       "6920 0           1             128521.16        1    \n",
       "6924 1           0              75478.95        1    \n",
       "7210 1           0              88566.90        1    \n",
       "7707 1           1             137510.41        1    \n",
       "7794 0           1             131083.56        1    \n",
       "7948 1           1              83866.35        1    \n",
       "8017 0           0             135853.62        1    \n",
       "8287 1           1              70927.11        1    \n",
       "8324 1           0              16025.17        1    \n",
       "8385 1           0             196371.13        1    \n",
       "8427 0           0              18522.91        1    \n",
       "8466 1           0             119259.34        1    \n",
       "8586 1           0             130752.01        1    \n",
       "8607 1           1              76582.95        1    "
      ]
     },
     "metadata": {},
     "output_type": "display_data"
    }
   ],
   "source": [
    "subset(df, products_number == 4)"
   ]
  },
  {
   "cell_type": "code",
   "execution_count": 171,
   "id": "d8decfcc",
   "metadata": {},
   "outputs": [
    {
     "name": "stdout",
     "output_type": "stream",
     "text": [
      "[1] 1.654353e-46\n",
      "                   \n",
      "                    Not Churned  Churned\n",
      "  Non-Active Member    3478.869 889.1307\n",
      "  Active Member        3689.131 942.8693\n"
     ]
    }
   ],
   "source": [
    "# create contingency table to test relationship between churn and membership status\n",
    "table_active_member <- table(df$active_member, df$churn)\n",
    "rownames(table_active_member) <- c(\"Non-Active Member\", \"Active Member\")\n",
    "colnames(table_active_member) <- c(\"Not Churned\", \"Churned\")\n",
    "\n",
    "# run chi-squared test and print p-value\n",
    "test <- chisq.test(table_active_member)\n",
    "pval <- test$p.value\n",
    "print(pval)\n",
    "\n",
    "# print expected values\n",
    "expected <- test$expected\n",
    "rownames(expected) <- rownames(table_active_member)\n",
    "colnames(expected) <- colnames(table_active_member)\n",
    "print(expected)"
   ]
  },
  {
   "cell_type": "markdown",
   "id": "04535b2e",
   "metadata": {},
   "source": [
    "There is a statistically significant relationship between membership status and churn. Non-active members are more likely to churn than active members. "
   ]
  },
  {
   "cell_type": "markdown",
   "id": "de8ead88",
   "metadata": {},
   "source": [
    "__2.4: Further non-significant findings:__"
   ]
  },
  {
   "cell_type": "code",
   "execution_count": 172,
   "id": "617cd6e4",
   "metadata": {},
   "outputs": [
    {
     "name": "stdout",
     "output_type": "stream",
     "text": [
      "[1] 0.5254901\n",
      "   \n",
      "          0       1\n",
      "  0 2114.56  540.44\n",
      "  1 5053.44 1291.56\n"
     ]
    }
   ],
   "source": [
    "# create contingency table to test relationship between churn and credit card ownership\n",
    "table_credit_card <- table(df$credit_card, df$churn)\n",
    "\n",
    "# run chi-squared test and print p-value\n",
    "test <- chisq.test(table_credit_card)\n",
    "pval <- test$p.value\n",
    "print(pval)\n",
    "\n",
    "# print expected values\n",
    "expected <- test$expected\n",
    "print(expected)"
   ]
  },
  {
   "cell_type": "markdown",
   "id": "136bce7d",
   "metadata": {},
   "source": [
    "No statistically significant relationship between churn rate and credit card ownership as p-value is not leas than the significance level of 5%"
   ]
  },
  {
   "cell_type": "code",
   "execution_count": 173,
   "id": "70223be2",
   "metadata": {},
   "outputs": [
    {
     "data": {
      "image/png": "[encoded data removed]",
      "text/plain": [
       "plot without title"
      ]
     },
     "metadata": {
      "image/png": {
       "height": 420,
       "width": 420
      }
     },
     "output_type": "display_data"
    }
   ],
   "source": [
    "# Plot estimated salary distribution by churn vs. no-churn\n",
    "ggplot(df, aes(x = estimated_salary, fill = as.factor(churn))) +\n",
    "  geom_histogram(position = \"identity\", alpha = 0.5, bins = 25) +\n",
    "  scale_fill_manual(values = c(\"red\", \"blue\"), labels=c('No churn', 'Churn')) +\n",
    "  labs(title = \"Histogram of Estimated Salary by Churn\", x = \"Estimated salary\", y = \"Frequency\", fill = \"Churn\") +\n",
    "  theme_classic()"
   ]
  },
  {
   "cell_type": "code",
   "execution_count": 174,
   "id": "9fa9ff96",
   "metadata": {},
   "outputs": [
    {
     "data": {
      "image/png": "[encoded data removed]",
      "text/plain": [
       "plot without title"
      ]
     },
     "metadata": {
      "image/png": {
       "height": 420,
       "width": 420
      }
     },
     "output_type": "display_data"
    }
   ],
   "source": [
    "# Plot balance distribution by churn vs. no-churn\n",
    "ggplot(df, aes(x = balance, fill = as.factor(churn))) +\n",
    "  geom_histogram(position = \"identity\", alpha = 0.5, bins = 25) +\n",
    "  scale_fill_manual(values = c(\"red\", \"blue\"), labels=c('No churn', 'Churn')) +\n",
    "  labs(title = \"Histogram of Balance by Churn\", x = \"Balance\", y = \"Frequency\", fill = \"Churn\") +\n",
    "  theme_classic()"
   ]
  },
  {
   "cell_type": "code",
   "execution_count": 175,
   "id": "193880da",
   "metadata": {},
   "outputs": [
    {
     "data": {
      "image/png": "[encoded data removed]",
      "text/plain": [
       "plot without title"
      ]
     },
     "metadata": {
      "image/png": {
       "height": 420,
       "width": 420
      }
     },
     "output_type": "display_data"
    }
   ],
   "source": [
    "# Plot tenure distribution by churn vs. no-churn\n",
    "ggplot(df, aes(x = tenure, fill = as.factor(churn))) +\n",
    "  geom_histogram(position = \"identity\", alpha = 0.5, bins = 25) +\n",
    "  scale_fill_manual(values = c(\"red\", \"blue\"), labels=c('No churn', 'Churn')) +\n",
    "  labs(title = \"Histogram of Tenure by Churn\", x = \"Tenure\", y = \"Frequency\", fill = \"Churn\") +\n",
    "  theme_classic()"
   ]
  },
  {
   "cell_type": "code",
   "execution_count": 176,
   "id": "9102f004",
   "metadata": {},
   "outputs": [
    {
     "data": {
      "image/png": "[encoded data removed]",
      "text/plain": [
       "plot without title"
      ]
     },
     "metadata": {
      "image/png": {
       "height": 420,
       "width": 420
      }
     },
     "output_type": "display_data"
    }
   ],
   "source": [
    "# Plot credit score distribution by churn vs. no-churn\n",
    "ggplot(df, aes(x = credit_score, fill = as.factor(churn))) +\n",
    "  geom_histogram(position = \"identity\", alpha = 0.5, bins = 25) +\n",
    "  scale_fill_manual(values = c(\"red\", \"blue\"), labels=c('No churn', 'Churn')) +\n",
    "  labs(title = \"Histogram of Credit Score by Churn\", x = \"Credit Score\", y = \"Frequency\", fill = \"Churn\") +\n",
    "  theme_classic()"
   ]
  },
  {
   "cell_type": "markdown",
   "id": "668f7f3c",
   "metadata": {},
   "source": [
    "# 3: Model Building"
   ]
  },
  {
   "cell_type": "markdown",
   "id": "2c454735",
   "metadata": {},
   "source": [
    "Which variables are the strongest predictors of customer churn? \n",
    "How did you conclude that these are the strongest predictors? \n",
    "How do different model evaluation metrics (e.g., accuracy, precision, recall) vary for different models? \n",
    "Which model would you use for predicting customer churn?"
   ]
  },
  {
   "cell_type": "code",
   "execution_count": 98,
   "id": "5232ed02",
   "metadata": {},
   "outputs": [
    {
     "data": {
      "text/html": [
       "<table class=\"dataframe\">\n",
       "<caption>A data.frame: 14 × 14</caption>\n",
       "<thead>\n",
       "\t<tr><th></th><th scope=col>customer_id</th><th scope=col>credit_score</th><th scope=col>age</th><th scope=col>tenure</th><th scope=col>balance</th><th scope=col>products_number</th><th scope=col>credit_card</th><th scope=col>active_member</th><th scope=col>estimated_salary</th><th scope=col>churn</th><th scope=col>genderFemale</th><th scope=col>countryFrance</th><th scope=col>countryGermany</th><th scope=col>countrySpain</th></tr>\n",
       "\t<tr><th></th><th scope=col>&lt;dbl&gt;</th><th scope=col>&lt;dbl&gt;</th><th scope=col>&lt;dbl&gt;</th><th scope=col>&lt;dbl&gt;</th><th scope=col>&lt;dbl&gt;</th><th scope=col>&lt;dbl&gt;</th><th scope=col>&lt;dbl&gt;</th><th scope=col>&lt;dbl&gt;</th><th scope=col>&lt;dbl&gt;</th><th scope=col>&lt;dbl&gt;</th><th scope=col>&lt;dbl&gt;</th><th scope=col>&lt;dbl&gt;</th><th scope=col>&lt;dbl&gt;</th><th scope=col>&lt;dbl&gt;</th></tr>\n",
       "</thead>\n",
       "<tbody>\n",
       "\t<tr><th scope=row>customer_id</th><td> 1.000000000</td><td> 0.0053079006</td><td> 0.009496867</td><td>-0.0148825539</td><td>-0.012418700</td><td> 0.016971877</td><td>-0.014025130</td><td> 0.001664965</td><td> 0.015270681</td><td>-0.006247987</td><td> 0.002641163</td><td>-0.004049210</td><td>-0.0030968582</td><td> 0.007800240</td></tr>\n",
       "\t<tr><th scope=row>credit_score</th><td> 0.005307901</td><td> 1.0000000000</td><td>-0.003964906</td><td> 0.0008419418</td><td> 0.006268382</td><td> 0.012237879</td><td>-0.005458482</td><td> 0.025651323</td><td>-0.001384293</td><td>-0.027093540</td><td> 0.002856620</td><td>-0.008928067</td><td> 0.0055375526</td><td> 0.004779770</td></tr>\n",
       "\t<tr><th scope=row>age</th><td> 0.009496867</td><td>-0.0039649055</td><td> 1.000000000</td><td>-0.0099968256</td><td> 0.028308368</td><td>-0.030680088</td><td>-0.011721029</td><td> 0.085472145</td><td>-0.007201042</td><td> 0.285323038</td><td> 0.027543993</td><td>-0.039207742</td><td> 0.0468970512</td><td>-0.001685369</td></tr>\n",
       "\t<tr><th scope=row>tenure</th><td>-0.014882554</td><td> 0.0008419418</td><td>-0.009996826</td><td> 1.0000000000</td><td>-0.012253926</td><td> 0.013443755</td><td> 0.022582867</td><td>-0.028362078</td><td> 0.007783825</td><td>-0.014000612</td><td>-0.014733053</td><td>-0.002847783</td><td>-0.0005674977</td><td> 0.003868437</td></tr>\n",
       "\t<tr><th scope=row>balance</th><td>-0.012418700</td><td> 0.0062683816</td><td> 0.028308368</td><td>-0.0122539262</td><td> 1.000000000</td><td>-0.304179738</td><td>-0.014858345</td><td>-0.010084100</td><td> 0.012797496</td><td> 0.118532769</td><td>-0.012086569</td><td>-0.231329046</td><td> 0.4011102452</td><td>-0.134891911</td></tr>\n",
       "\t<tr><th scope=row>products_number</th><td> 0.016971877</td><td> 0.0122378793</td><td>-0.030680088</td><td> 0.0134437555</td><td>-0.304179738</td><td> 1.000000000</td><td> 0.003183146</td><td> 0.009611876</td><td> 0.014204195</td><td>-0.047819865</td><td> 0.021858568</td><td> 0.001230075</td><td>-0.0104190070</td><td> 0.009039007</td></tr>\n",
       "\t<tr><th scope=row>credit_card</th><td>-0.014025130</td><td>-0.0054584821</td><td>-0.011721029</td><td> 0.0225828673</td><td>-0.014858345</td><td> 0.003183146</td><td> 1.000000000</td><td>-0.011865637</td><td>-0.009933415</td><td>-0.007137766</td><td>-0.005766124</td><td> 0.002467224</td><td> 0.0105765807</td><td>-0.013479728</td></tr>\n",
       "\t<tr><th scope=row>active_member</th><td> 0.001664965</td><td> 0.0256513233</td><td> 0.085472145</td><td>-0.0283620778</td><td>-0.010084100</td><td> 0.009611876</td><td>-0.011865637</td><td> 1.000000000</td><td>-0.011421430</td><td>-0.156128278</td><td>-0.022544325</td><td> 0.003316966</td><td>-0.0204858003</td><td> 0.016731864</td></tr>\n",
       "\t<tr><th scope=row>estimated_salary</th><td> 0.015270681</td><td>-0.0013842929</td><td>-0.007201042</td><td> 0.0077838255</td><td> 0.012797496</td><td> 0.014204195</td><td>-0.009933415</td><td>-0.011421430</td><td> 1.000000000</td><td> 0.012096861</td><td> 0.008112339</td><td>-0.003331642</td><td> 0.0102970675</td><td>-0.006482362</td></tr>\n",
       "\t<tr><th scope=row>churn</th><td>-0.006247987</td><td>-0.0270935398</td><td> 0.285323038</td><td>-0.0140006123</td><td> 0.118532769</td><td>-0.047819865</td><td>-0.007137766</td><td>-0.156128278</td><td> 0.012096861</td><td> 1.000000000</td><td> 0.106512488</td><td>-0.104955156</td><td> 0.1734878702</td><td>-0.052666762</td></tr>\n",
       "\t<tr><th scope=row>genderFemale</th><td> 0.002641163</td><td> 0.0028566201</td><td> 0.027543993</td><td>-0.0147330530</td><td>-0.012086569</td><td> 0.021858568</td><td>-0.005766124</td><td>-0.022544325</td><td> 0.008112339</td><td> 0.106512488</td><td> 1.000000000</td><td>-0.006772454</td><td> 0.0246278794</td><td>-0.016889349</td></tr>\n",
       "\t<tr><th scope=row>countryFrance</th><td>-0.004049210</td><td>-0.0089280674</td><td>-0.039207742</td><td>-0.0028477827</td><td>-0.231329046</td><td> 0.001230075</td><td> 0.002467224</td><td> 0.003316966</td><td>-0.003331642</td><td>-0.104955156</td><td>-0.006772454</td><td> 1.000000000</td><td>-0.5803586474</td><td>-0.575418075</td></tr>\n",
       "\t<tr><th scope=row>countryGermany</th><td>-0.003096858</td><td> 0.0055375526</td><td> 0.046897051</td><td>-0.0005674977</td><td> 0.401110245</td><td>-0.010419007</td><td> 0.010576581</td><td>-0.020485800</td><td> 0.010297068</td><td> 0.173487870</td><td> 0.024627879</td><td>-0.580358647</td><td> 1.0000000000</td><td>-0.332083964</td></tr>\n",
       "\t<tr><th scope=row>countrySpain</th><td> 0.007800240</td><td> 0.0047797703</td><td>-0.001685369</td><td> 0.0038684366</td><td>-0.134891911</td><td> 0.009039007</td><td>-0.013479728</td><td> 0.016731864</td><td>-0.006482362</td><td>-0.052666762</td><td>-0.016889349</td><td>-0.575418075</td><td>-0.3320839640</td><td> 1.000000000</td></tr>\n",
       "</tbody>\n",
       "</table>\n"
      ],
      "text/latex": [
       "A data.frame: 14 × 14\n",
       "\\begin{tabular}{r|llllllllllllll}\n",
       "  & customer\\_id & credit\\_score & age & tenure & balance & products\\_number & credit\\_card & active\\_member & estimated\\_salary & churn & genderFemale & countryFrance & countryGermany & countrySpain\\\\\n",
       "  & <dbl> & <dbl> & <dbl> & <dbl> & <dbl> & <dbl> & <dbl> & <dbl> & <dbl> & <dbl> & <dbl> & <dbl> & <dbl> & <dbl>\\\\\n",
       "\\hline\n",
       "\tcustomer\\_id &  1.000000000 &  0.0053079006 &  0.009496867 & -0.0148825539 & -0.012418700 &  0.016971877 & -0.014025130 &  0.001664965 &  0.015270681 & -0.006247987 &  0.002641163 & -0.004049210 & -0.0030968582 &  0.007800240\\\\\n",
       "\tcredit\\_score &  0.005307901 &  1.0000000000 & -0.003964906 &  0.0008419418 &  0.006268382 &  0.012237879 & -0.005458482 &  0.025651323 & -0.001384293 & -0.027093540 &  0.002856620 & -0.008928067 &  0.0055375526 &  0.004779770\\\\\n",
       "\tage &  0.009496867 & -0.0039649055 &  1.000000000 & -0.0099968256 &  0.028308368 & -0.030680088 & -0.011721029 &  0.085472145 & -0.007201042 &  0.285323038 &  0.027543993 & -0.039207742 &  0.0468970512 & -0.001685369\\\\\n",
       "\ttenure & -0.014882554 &  0.0008419418 & -0.009996826 &  1.0000000000 & -0.012253926 &  0.013443755 &  0.022582867 & -0.028362078 &  0.007783825 & -0.014000612 & -0.014733053 & -0.002847783 & -0.0005674977 &  0.003868437\\\\\n",
       "\tbalance & -0.012418700 &  0.0062683816 &  0.028308368 & -0.0122539262 &  1.000000000 & -0.304179738 & -0.014858345 & -0.010084100 &  0.012797496 &  0.118532769 & -0.012086569 & -0.231329046 &  0.4011102452 & -0.134891911\\\\\n",
       "\tproducts\\_number &  0.016971877 &  0.0122378793 & -0.030680088 &  0.0134437555 & -0.304179738 &  1.000000000 &  0.003183146 &  0.009611876 &  0.014204195 & -0.047819865 &  0.021858568 &  0.001230075 & -0.0104190070 &  0.009039007\\\\\n",
       "\tcredit\\_card & -0.014025130 & -0.0054584821 & -0.011721029 &  0.0225828673 & -0.014858345 &  0.003183146 &  1.000000000 & -0.011865637 & -0.009933415 & -0.007137766 & -0.005766124 &  0.002467224 &  0.0105765807 & -0.013479728\\\\\n",
       "\tactive\\_member &  0.001664965 &  0.0256513233 &  0.085472145 & -0.0283620778 & -0.010084100 &  0.009611876 & -0.011865637 &  1.000000000 & -0.011421430 & -0.156128278 & -0.022544325 &  0.003316966 & -0.0204858003 &  0.016731864\\\\\n",
       "\testimated\\_salary &  0.015270681 & -0.0013842929 & -0.007201042 &  0.0077838255 &  0.012797496 &  0.014204195 & -0.009933415 & -0.011421430 &  1.000000000 &  0.012096861 &  0.008112339 & -0.003331642 &  0.0102970675 & -0.006482362\\\\\n",
       "\tchurn & -0.006247987 & -0.0270935398 &  0.285323038 & -0.0140006123 &  0.118532769 & -0.047819865 & -0.007137766 & -0.156128278 &  0.012096861 &  1.000000000 &  0.106512488 & -0.104955156 &  0.1734878702 & -0.052666762\\\\\n",
       "\tgenderFemale &  0.002641163 &  0.0028566201 &  0.027543993 & -0.0147330530 & -0.012086569 &  0.021858568 & -0.005766124 & -0.022544325 &  0.008112339 &  0.106512488 &  1.000000000 & -0.006772454 &  0.0246278794 & -0.016889349\\\\\n",
       "\tcountryFrance & -0.004049210 & -0.0089280674 & -0.039207742 & -0.0028477827 & -0.231329046 &  0.001230075 &  0.002467224 &  0.003316966 & -0.003331642 & -0.104955156 & -0.006772454 &  1.000000000 & -0.5803586474 & -0.575418075\\\\\n",
       "\tcountryGermany & -0.003096858 &  0.0055375526 &  0.046897051 & -0.0005674977 &  0.401110245 & -0.010419007 &  0.010576581 & -0.020485800 &  0.010297068 &  0.173487870 &  0.024627879 & -0.580358647 &  1.0000000000 & -0.332083964\\\\\n",
       "\tcountrySpain &  0.007800240 &  0.0047797703 & -0.001685369 &  0.0038684366 & -0.134891911 &  0.009039007 & -0.013479728 &  0.016731864 & -0.006482362 & -0.052666762 & -0.016889349 & -0.575418075 & -0.3320839640 &  1.000000000\\\\\n",
       "\\end{tabular}\n"
      ],
      "text/markdown": [
       "\n",
       "A data.frame: 14 × 14\n",
       "\n",
       "| <!--/--> | customer_id &lt;dbl&gt; | credit_score &lt;dbl&gt; | age &lt;dbl&gt; | tenure &lt;dbl&gt; | balance &lt;dbl&gt; | products_number &lt;dbl&gt; | credit_card &lt;dbl&gt; | active_member &lt;dbl&gt; | estimated_salary &lt;dbl&gt; | churn &lt;dbl&gt; | genderFemale &lt;dbl&gt; | countryFrance &lt;dbl&gt; | countryGermany &lt;dbl&gt; | countrySpain &lt;dbl&gt; |\n",
       "|---|---|---|---|---|---|---|---|---|---|---|---|---|---|---|\n",
       "| customer_id |  1.000000000 |  0.0053079006 |  0.009496867 | -0.0148825539 | -0.012418700 |  0.016971877 | -0.014025130 |  0.001664965 |  0.015270681 | -0.006247987 |  0.002641163 | -0.004049210 | -0.0030968582 |  0.007800240 |\n",
       "| credit_score |  0.005307901 |  1.0000000000 | -0.003964906 |  0.0008419418 |  0.006268382 |  0.012237879 | -0.005458482 |  0.025651323 | -0.001384293 | -0.027093540 |  0.002856620 | -0.008928067 |  0.0055375526 |  0.004779770 |\n",
       "| age |  0.009496867 | -0.0039649055 |  1.000000000 | -0.0099968256 |  0.028308368 | -0.030680088 | -0.011721029 |  0.085472145 | -0.007201042 |  0.285323038 |  0.027543993 | -0.039207742 |  0.0468970512 | -0.001685369 |\n",
       "| tenure | -0.014882554 |  0.0008419418 | -0.009996826 |  1.0000000000 | -0.012253926 |  0.013443755 |  0.022582867 | -0.028362078 |  0.007783825 | -0.014000612 | -0.014733053 | -0.002847783 | -0.0005674977 |  0.003868437 |\n",
       "| balance | -0.012418700 |  0.0062683816 |  0.028308368 | -0.0122539262 |  1.000000000 | -0.304179738 | -0.014858345 | -0.010084100 |  0.012797496 |  0.118532769 | -0.012086569 | -0.231329046 |  0.4011102452 | -0.134891911 |\n",
       "| products_number |  0.016971877 |  0.0122378793 | -0.030680088 |  0.0134437555 | -0.304179738 |  1.000000000 |  0.003183146 |  0.009611876 |  0.014204195 | -0.047819865 |  0.021858568 |  0.001230075 | -0.0104190070 |  0.009039007 |\n",
       "| credit_card | -0.014025130 | -0.0054584821 | -0.011721029 |  0.0225828673 | -0.014858345 |  0.003183146 |  1.000000000 | -0.011865637 | -0.009933415 | -0.007137766 | -0.005766124 |  0.002467224 |  0.0105765807 | -0.013479728 |\n",
       "| active_member |  0.001664965 |  0.0256513233 |  0.085472145 | -0.0283620778 | -0.010084100 |  0.009611876 | -0.011865637 |  1.000000000 | -0.011421430 | -0.156128278 | -0.022544325 |  0.003316966 | -0.0204858003 |  0.016731864 |\n",
       "| estimated_salary |  0.015270681 | -0.0013842929 | -0.007201042 |  0.0077838255 |  0.012797496 |  0.014204195 | -0.009933415 | -0.011421430 |  1.000000000 |  0.012096861 |  0.008112339 | -0.003331642 |  0.0102970675 | -0.006482362 |\n",
       "| churn | -0.006247987 | -0.0270935398 |  0.285323038 | -0.0140006123 |  0.118532769 | -0.047819865 | -0.007137766 | -0.156128278 |  0.012096861 |  1.000000000 |  0.106512488 | -0.104955156 |  0.1734878702 | -0.052666762 |\n",
       "| genderFemale |  0.002641163 |  0.0028566201 |  0.027543993 | -0.0147330530 | -0.012086569 |  0.021858568 | -0.005766124 | -0.022544325 |  0.008112339 |  0.106512488 |  1.000000000 | -0.006772454 |  0.0246278794 | -0.016889349 |\n",
       "| countryFrance | -0.004049210 | -0.0089280674 | -0.039207742 | -0.0028477827 | -0.231329046 |  0.001230075 |  0.002467224 |  0.003316966 | -0.003331642 | -0.104955156 | -0.006772454 |  1.000000000 | -0.5803586474 | -0.575418075 |\n",
       "| countryGermany | -0.003096858 |  0.0055375526 |  0.046897051 | -0.0005674977 |  0.401110245 | -0.010419007 |  0.010576581 | -0.020485800 |  0.010297068 |  0.173487870 |  0.024627879 | -0.580358647 |  1.0000000000 | -0.332083964 |\n",
       "| countrySpain |  0.007800240 |  0.0047797703 | -0.001685369 |  0.0038684366 | -0.134891911 |  0.009039007 | -0.013479728 |  0.016731864 | -0.006482362 | -0.052666762 | -0.016889349 | -0.575418075 | -0.3320839640 |  1.000000000 |\n",
       "\n"
      ],
      "text/plain": [
       "                 customer_id  credit_score  age          tenure       \n",
       "customer_id       1.000000000  0.0053079006  0.009496867 -0.0148825539\n",
       "credit_score      0.005307901  1.0000000000 -0.003964906  0.0008419418\n",
       "age               0.009496867 -0.0039649055  1.000000000 -0.0099968256\n",
       "tenure           -0.014882554  0.0008419418 -0.009996826  1.0000000000\n",
       "balance          -0.012418700  0.0062683816  0.028308368 -0.0122539262\n",
       "products_number   0.016971877  0.0122378793 -0.030680088  0.0134437555\n",
       "credit_card      -0.014025130 -0.0054584821 -0.011721029  0.0225828673\n",
       "active_member     0.001664965  0.0256513233  0.085472145 -0.0283620778\n",
       "estimated_salary  0.015270681 -0.0013842929 -0.007201042  0.0077838255\n",
       "churn            -0.006247987 -0.0270935398  0.285323038 -0.0140006123\n",
       "genderFemale      0.002641163  0.0028566201  0.027543993 -0.0147330530\n",
       "countryFrance    -0.004049210 -0.0089280674 -0.039207742 -0.0028477827\n",
       "countryGermany   -0.003096858  0.0055375526  0.046897051 -0.0005674977\n",
       "countrySpain      0.007800240  0.0047797703 -0.001685369  0.0038684366\n",
       "                 balance      products_number credit_card  active_member\n",
       "customer_id      -0.012418700  0.016971877    -0.014025130  0.001664965 \n",
       "credit_score      0.006268382  0.012237879    -0.005458482  0.025651323 \n",
       "age               0.028308368 -0.030680088    -0.011721029  0.085472145 \n",
       "tenure           -0.012253926  0.013443755     0.022582867 -0.028362078 \n",
       "balance           1.000000000 -0.304179738    -0.014858345 -0.010084100 \n",
       "products_number  -0.304179738  1.000000000     0.003183146  0.009611876 \n",
       "credit_card      -0.014858345  0.003183146     1.000000000 -0.011865637 \n",
       "active_member    -0.010084100  0.009611876    -0.011865637  1.000000000 \n",
       "estimated_salary  0.012797496  0.014204195    -0.009933415 -0.011421430 \n",
       "churn             0.118532769 -0.047819865    -0.007137766 -0.156128278 \n",
       "genderFemale     -0.012086569  0.021858568    -0.005766124 -0.022544325 \n",
       "countryFrance    -0.231329046  0.001230075     0.002467224  0.003316966 \n",
       "countryGermany    0.401110245 -0.010419007     0.010576581 -0.020485800 \n",
       "countrySpain     -0.134891911  0.009039007    -0.013479728  0.016731864 \n",
       "                 estimated_salary churn        genderFemale countryFrance\n",
       "customer_id       0.015270681     -0.006247987  0.002641163 -0.004049210 \n",
       "credit_score     -0.001384293     -0.027093540  0.002856620 -0.008928067 \n",
       "age              -0.007201042      0.285323038  0.027543993 -0.039207742 \n",
       "tenure            0.007783825     -0.014000612 -0.014733053 -0.002847783 \n",
       "balance           0.012797496      0.118532769 -0.012086569 -0.231329046 \n",
       "products_number   0.014204195     -0.047819865  0.021858568  0.001230075 \n",
       "credit_card      -0.009933415     -0.007137766 -0.005766124  0.002467224 \n",
       "active_member    -0.011421430     -0.156128278 -0.022544325  0.003316966 \n",
       "estimated_salary  1.000000000      0.012096861  0.008112339 -0.003331642 \n",
       "churn             0.012096861      1.000000000  0.106512488 -0.104955156 \n",
       "genderFemale      0.008112339      0.106512488  1.000000000 -0.006772454 \n",
       "countryFrance    -0.003331642     -0.104955156 -0.006772454  1.000000000 \n",
       "countryGermany    0.010297068      0.173487870  0.024627879 -0.580358647 \n",
       "countrySpain     -0.006482362     -0.052666762 -0.016889349 -0.575418075 \n",
       "                 countryGermany countrySpain\n",
       "customer_id      -0.0030968582   0.007800240\n",
       "credit_score      0.0055375526   0.004779770\n",
       "age               0.0468970512  -0.001685369\n",
       "tenure           -0.0005674977   0.003868437\n",
       "balance           0.4011102452  -0.134891911\n",
       "products_number  -0.0104190070   0.009039007\n",
       "credit_card       0.0105765807  -0.013479728\n",
       "active_member    -0.0204858003   0.016731864\n",
       "estimated_salary  0.0102970675  -0.006482362\n",
       "churn             0.1734878702  -0.052666762\n",
       "genderFemale      0.0246278794  -0.016889349\n",
       "countryFrance    -0.5803586474  -0.575418075\n",
       "countryGermany    1.0000000000  -0.332083964\n",
       "countrySpain     -0.3320839640   1.000000000"
      ]
     },
     "metadata": {},
     "output_type": "display_data"
    }
   ],
   "source": [
    "r <- cor(df_new)\n",
    "corr <- as.data.frame(r)\n",
    "corr"
   ]
  },
  {
   "cell_type": "code",
   "execution_count": 87,
   "id": "9b23a49d",
   "metadata": {},
   "outputs": [
    {
     "data": {
      "image/png": "[encoded data removed]",
      "text/plain": [
       "Plot with title \"Correlation plot from data\""
      ]
     },
     "metadata": {
      "image/png": {
       "height": 420,
       "width": 420
      }
     },
     "output_type": "display_data"
    }
   ],
   "source": [
    "corPlot(df_new)"
   ]
  },
  {
   "cell_type": "markdown",
   "id": "fbffcacb",
   "metadata": {},
   "source": [
    "# 4: Recommendations"
   ]
  },
  {
   "cell_type": "markdown",
   "id": "6bdb1983",
   "metadata": {},
   "source": [
    "Based on your analysis, develop 3 recommendations that will help EBI to better manage customer churn. Explain the rationale behind those 3 recommendations. • EBI has formulated a list of a subset of its current customers (see the dataset “ebi_exp_customers.csv” to answer this question) and would like to use your prediction model to take proactive measures to retain these customers. Specifically, the bank would target the customers (say, via telemarketing) who have high likelihood of churn. • Use your prediction model to predict the likelihood of churn for each customer in the dataset. • Suppose that the value of retaining a customer is €5 while the cost incurred by the bank to avoid a customer from churning is €1. How many and which customers from the dataset (“ebi_exp_customers.csv”) would you recommend the bank to target to maximize the total expected profit from this proactive targeting experiment? How would your answer change if the value of retaining a customer goes up to €10? Explain your computation"
   ]
  },
  {
   "cell_type": "code",
   "execution_count": 99,
   "id": "fc555ca6",
   "metadata": {},
   "outputs": [
    {
     "data": {
      "text/html": [
       "<table class=\"dataframe\">\n",
       "<caption>A data.frame: 6 × 12</caption>\n",
       "<thead>\n",
       "\t<tr><th></th><th scope=col>customer_id</th><th scope=col>credit_score</th><th scope=col>country</th><th scope=col>gender</th><th scope=col>age</th><th scope=col>tenure</th><th scope=col>balance</th><th scope=col>products_number</th><th scope=col>credit_card</th><th scope=col>active_member</th><th scope=col>estimated_salary</th><th scope=col>churn</th></tr>\n",
       "\t<tr><th></th><th scope=col>&lt;int&gt;</th><th scope=col>&lt;int&gt;</th><th scope=col>&lt;chr&gt;</th><th scope=col>&lt;chr&gt;</th><th scope=col>&lt;int&gt;</th><th scope=col>&lt;int&gt;</th><th scope=col>&lt;dbl&gt;</th><th scope=col>&lt;int&gt;</th><th scope=col>&lt;int&gt;</th><th scope=col>&lt;int&gt;</th><th scope=col>&lt;dbl&gt;</th><th scope=col>&lt;int&gt;</th></tr>\n",
       "</thead>\n",
       "<tbody>\n",
       "\t<tr><th scope=row>1</th><td>15575430</td><td>579</td><td>France </td><td>Female</td><td>33</td><td>1</td><td>118392.8</td><td>1</td><td>1</td><td>1</td><td>157564.75</td><td>0</td></tr>\n",
       "\t<tr><th scope=row>2</th><td>15793890</td><td>728</td><td>France </td><td>Female</td><td>59</td><td>4</td><td>     0.0</td><td>1</td><td>1</td><td>1</td><td>163365.85</td><td>1</td></tr>\n",
       "\t<tr><th scope=row>3</th><td>15701166</td><td>660</td><td>France </td><td>Male  </td><td>40</td><td>5</td><td>131754.1</td><td>2</td><td>1</td><td>1</td><td> 38761.61</td><td>0</td></tr>\n",
       "\t<tr><th scope=row>4</th><td>15624677</td><td>543</td><td>Germany</td><td>Female</td><td>37</td><td>3</td><td>122304.6</td><td>2</td><td>0</td><td>0</td><td> 33998.70</td><td>0</td></tr>\n",
       "\t<tr><th scope=row>5</th><td>15586264</td><td>572</td><td>France </td><td>Male  </td><td>43</td><td>2</td><td>140432.0</td><td>1</td><td>1</td><td>0</td><td> 26450.57</td><td>1</td></tr>\n",
       "\t<tr><th scope=row>6</th><td>15600991</td><td>694</td><td>Germany</td><td>Male  </td><td>31</td><td>6</td><td>109052.6</td><td>2</td><td>1</td><td>1</td><td> 19448.93</td><td>1</td></tr>\n",
       "</tbody>\n",
       "</table>\n"
      ],
      "text/latex": [
       "A data.frame: 6 × 12\n",
       "\\begin{tabular}{r|llllllllllll}\n",
       "  & customer\\_id & credit\\_score & country & gender & age & tenure & balance & products\\_number & credit\\_card & active\\_member & estimated\\_salary & churn\\\\\n",
       "  & <int> & <int> & <chr> & <chr> & <int> & <int> & <dbl> & <int> & <int> & <int> & <dbl> & <int>\\\\\n",
       "\\hline\n",
       "\t1 & 15575430 & 579 & France  & Female & 33 & 1 & 118392.8 & 1 & 1 & 1 & 157564.75 & 0\\\\\n",
       "\t2 & 15793890 & 728 & France  & Female & 59 & 4 &      0.0 & 1 & 1 & 1 & 163365.85 & 1\\\\\n",
       "\t3 & 15701166 & 660 & France  & Male   & 40 & 5 & 131754.1 & 2 & 1 & 1 &  38761.61 & 0\\\\\n",
       "\t4 & 15624677 & 543 & Germany & Female & 37 & 3 & 122304.6 & 2 & 0 & 0 &  33998.70 & 0\\\\\n",
       "\t5 & 15586264 & 572 & France  & Male   & 43 & 2 & 140432.0 & 1 & 1 & 0 &  26450.57 & 1\\\\\n",
       "\t6 & 15600991 & 694 & Germany & Male   & 31 & 6 & 109052.6 & 2 & 1 & 1 &  19448.93 & 1\\\\\n",
       "\\end{tabular}\n"
      ],
      "text/markdown": [
       "\n",
       "A data.frame: 6 × 12\n",
       "\n",
       "| <!--/--> | customer_id &lt;int&gt; | credit_score &lt;int&gt; | country &lt;chr&gt; | gender &lt;chr&gt; | age &lt;int&gt; | tenure &lt;int&gt; | balance &lt;dbl&gt; | products_number &lt;int&gt; | credit_card &lt;int&gt; | active_member &lt;int&gt; | estimated_salary &lt;dbl&gt; | churn &lt;int&gt; |\n",
       "|---|---|---|---|---|---|---|---|---|---|---|---|---|\n",
       "| 1 | 15575430 | 579 | France  | Female | 33 | 1 | 118392.8 | 1 | 1 | 1 | 157564.75 | 0 |\n",
       "| 2 | 15793890 | 728 | France  | Female | 59 | 4 |      0.0 | 1 | 1 | 1 | 163365.85 | 1 |\n",
       "| 3 | 15701166 | 660 | France  | Male   | 40 | 5 | 131754.1 | 2 | 1 | 1 |  38761.61 | 0 |\n",
       "| 4 | 15624677 | 543 | Germany | Female | 37 | 3 | 122304.6 | 2 | 0 | 0 |  33998.70 | 0 |\n",
       "| 5 | 15586264 | 572 | France  | Male   | 43 | 2 | 140432.0 | 1 | 1 | 0 |  26450.57 | 1 |\n",
       "| 6 | 15600991 | 694 | Germany | Male   | 31 | 6 | 109052.6 | 2 | 1 | 1 |  19448.93 | 1 |\n",
       "\n"
      ],
      "text/plain": [
       "  customer_id credit_score country gender age tenure balance  products_number\n",
       "1 15575430    579          France  Female 33  1      118392.8 1              \n",
       "2 15793890    728          France  Female 59  4           0.0 1              \n",
       "3 15701166    660          France  Male   40  5      131754.1 2              \n",
       "4 15624677    543          Germany Female 37  3      122304.6 2              \n",
       "5 15586264    572          France  Male   43  2      140432.0 1              \n",
       "6 15600991    694          Germany Male   31  6      109052.6 2              \n",
       "  credit_card active_member estimated_salary churn\n",
       "1 1           1             157564.75        0    \n",
       "2 1           1             163365.85        1    \n",
       "3 1           1              38761.61        0    \n",
       "4 0           0              33998.70        0    \n",
       "5 1           0              26450.57        1    \n",
       "6 1           1              19448.93        1    "
      ]
     },
     "metadata": {},
     "output_type": "display_data"
    }
   ],
   "source": [
    "df_2 <- read.csv(\"ebi_exp_customers.csv\")\n",
    "head(df_2)"
   ]
  }
 ],
 "metadata": {
  "kernelspec": {
   "display_name": "R",
   "language": "R",
   "name": "ir"
  },
  "language_info": {
   "codemirror_mode": "r",
   "file_extension": ".r",
   "mimetype": "text/x-r-source",
   "name": "R",
   "pygments_lexer": "r",
   "version": "4.1.3"
  }
 },
 "nbformat": 4,
 "nbformat_minor": 5
}
