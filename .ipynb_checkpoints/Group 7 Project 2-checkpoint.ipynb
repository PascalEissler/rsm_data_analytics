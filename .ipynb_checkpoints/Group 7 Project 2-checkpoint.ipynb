{
 "cells": [
  {
   "cell_type": "code",
   "execution_count": 210,
   "id": "75b1a8c6",
   "metadata": {},
   "outputs": [
    {
     "name": "stderr",
     "output_type": "stream",
     "text": [
      "\n",
      "Attaching package: 'boot'\n",
      "\n",
      "\n",
      "The following object is masked from 'package:psych':\n",
      "\n",
      "    logit\n",
      "\n",
      "\n"
     ]
    }
   ],
   "source": [
    "# Import packages\n",
    "\n",
    "# Visualization packages:\n",
    "library(tidyverse)\n",
    "library(ggbeeswarm)\n",
    "library(psych)\n",
    "\n",
    "# Data manipulation: \n",
    "library(dplyr)\n",
    "library(reshape2)\n",
    "\n",
    "# Tests\n",
    "library(boot)"
   ]
  },
  {
   "cell_type": "code",
   "execution_count": 1,
   "id": "ccf21f52",
   "metadata": {},
   "outputs": [],
   "source": [
    "# Set data path\n",
    "setwd(\"C:/Users/user/OneDrive - Erasmus University Rotterdam/Documents/01 Postgrad/02 Spring semester/06 Business Analytics for International Managers/rsm_data_analytics\")"
   ]
  },
  {
   "cell_type": "code",
   "execution_count": 158,
   "id": "0708eb84",
   "metadata": {},
   "outputs": [
    {
     "data": {
      "text/html": [
       "<table class=\"dataframe\">\n",
       "<caption>A data.frame: 6 × 12</caption>\n",
       "<thead>\n",
       "\t<tr><th></th><th scope=col>customer_id</th><th scope=col>credit_score</th><th scope=col>country</th><th scope=col>gender</th><th scope=col>age</th><th scope=col>tenure</th><th scope=col>balance</th><th scope=col>products_number</th><th scope=col>credit_card</th><th scope=col>active_member</th><th scope=col>estimated_salary</th><th scope=col>churn</th></tr>\n",
       "\t<tr><th></th><th scope=col>&lt;int&gt;</th><th scope=col>&lt;int&gt;</th><th scope=col>&lt;chr&gt;</th><th scope=col>&lt;chr&gt;</th><th scope=col>&lt;int&gt;</th><th scope=col>&lt;int&gt;</th><th scope=col>&lt;dbl&gt;</th><th scope=col>&lt;int&gt;</th><th scope=col>&lt;int&gt;</th><th scope=col>&lt;int&gt;</th><th scope=col>&lt;dbl&gt;</th><th scope=col>&lt;int&gt;</th></tr>\n",
       "</thead>\n",
       "<tbody>\n",
       "\t<tr><th scope=row>1</th><td>15634602</td><td>619</td><td>France</td><td>Female</td><td>42</td><td>2</td><td>     0.00</td><td>1</td><td>1</td><td>1</td><td>101348.88</td><td>1</td></tr>\n",
       "\t<tr><th scope=row>2</th><td>15647311</td><td>608</td><td>Spain </td><td>Female</td><td>41</td><td>1</td><td> 83807.86</td><td>1</td><td>0</td><td>1</td><td>112542.58</td><td>0</td></tr>\n",
       "\t<tr><th scope=row>3</th><td>15701354</td><td>699</td><td>France</td><td>Female</td><td>39</td><td>1</td><td>     0.00</td><td>2</td><td>0</td><td>0</td><td> 93826.63</td><td>0</td></tr>\n",
       "\t<tr><th scope=row>4</th><td>15737888</td><td>850</td><td>Spain </td><td>Female</td><td>43</td><td>2</td><td>125510.82</td><td>1</td><td>1</td><td>1</td><td> 79084.10</td><td>0</td></tr>\n",
       "\t<tr><th scope=row>5</th><td>15574012</td><td>645</td><td>Spain </td><td>Male  </td><td>44</td><td>8</td><td>113755.78</td><td>2</td><td>1</td><td>0</td><td>149756.71</td><td>1</td></tr>\n",
       "\t<tr><th scope=row>6</th><td>15592531</td><td>822</td><td>France</td><td>Male  </td><td>50</td><td>7</td><td>     0.00</td><td>2</td><td>1</td><td>1</td><td> 10062.80</td><td>0</td></tr>\n",
       "</tbody>\n",
       "</table>\n"
      ],
      "text/latex": [
       "A data.frame: 6 × 12\n",
       "\\begin{tabular}{r|llllllllllll}\n",
       "  & customer\\_id & credit\\_score & country & gender & age & tenure & balance & products\\_number & credit\\_card & active\\_member & estimated\\_salary & churn\\\\\n",
       "  & <int> & <int> & <chr> & <chr> & <int> & <int> & <dbl> & <int> & <int> & <int> & <dbl> & <int>\\\\\n",
       "\\hline\n",
       "\t1 & 15634602 & 619 & France & Female & 42 & 2 &      0.00 & 1 & 1 & 1 & 101348.88 & 1\\\\\n",
       "\t2 & 15647311 & 608 & Spain  & Female & 41 & 1 &  83807.86 & 1 & 0 & 1 & 112542.58 & 0\\\\\n",
       "\t3 & 15701354 & 699 & France & Female & 39 & 1 &      0.00 & 2 & 0 & 0 &  93826.63 & 0\\\\\n",
       "\t4 & 15737888 & 850 & Spain  & Female & 43 & 2 & 125510.82 & 1 & 1 & 1 &  79084.10 & 0\\\\\n",
       "\t5 & 15574012 & 645 & Spain  & Male   & 44 & 8 & 113755.78 & 2 & 1 & 0 & 149756.71 & 1\\\\\n",
       "\t6 & 15592531 & 822 & France & Male   & 50 & 7 &      0.00 & 2 & 1 & 1 &  10062.80 & 0\\\\\n",
       "\\end{tabular}\n"
      ],
      "text/markdown": [
       "\n",
       "A data.frame: 6 × 12\n",
       "\n",
       "| <!--/--> | customer_id &lt;int&gt; | credit_score &lt;int&gt; | country &lt;chr&gt; | gender &lt;chr&gt; | age &lt;int&gt; | tenure &lt;int&gt; | balance &lt;dbl&gt; | products_number &lt;int&gt; | credit_card &lt;int&gt; | active_member &lt;int&gt; | estimated_salary &lt;dbl&gt; | churn &lt;int&gt; |\n",
       "|---|---|---|---|---|---|---|---|---|---|---|---|---|\n",
       "| 1 | 15634602 | 619 | France | Female | 42 | 2 |      0.00 | 1 | 1 | 1 | 101348.88 | 1 |\n",
       "| 2 | 15647311 | 608 | Spain  | Female | 41 | 1 |  83807.86 | 1 | 0 | 1 | 112542.58 | 0 |\n",
       "| 3 | 15701354 | 699 | France | Female | 39 | 1 |      0.00 | 2 | 0 | 0 |  93826.63 | 0 |\n",
       "| 4 | 15737888 | 850 | Spain  | Female | 43 | 2 | 125510.82 | 1 | 1 | 1 |  79084.10 | 0 |\n",
       "| 5 | 15574012 | 645 | Spain  | Male   | 44 | 8 | 113755.78 | 2 | 1 | 0 | 149756.71 | 1 |\n",
       "| 6 | 15592531 | 822 | France | Male   | 50 | 7 |      0.00 | 2 | 1 | 1 |  10062.80 | 0 |\n",
       "\n"
      ],
      "text/plain": [
       "  customer_id credit_score country gender age tenure balance   products_number\n",
       "1 15634602    619          France  Female 42  2           0.00 1              \n",
       "2 15647311    608          Spain   Female 41  1       83807.86 1              \n",
       "3 15701354    699          France  Female 39  1           0.00 2              \n",
       "4 15737888    850          Spain   Female 43  2      125510.82 1              \n",
       "5 15574012    645          Spain   Male   44  8      113755.78 2              \n",
       "6 15592531    822          France  Male   50  7           0.00 2              \n",
       "  credit_card active_member estimated_salary churn\n",
       "1 1           1             101348.88        1    \n",
       "2 0           1             112542.58        0    \n",
       "3 0           0              93826.63        0    \n",
       "4 1           1              79084.10        0    \n",
       "5 1           0             149756.71        1    \n",
       "6 1           1              10062.80        0    "
      ]
     },
     "metadata": {},
     "output_type": "display_data"
    }
   ],
   "source": [
    "# Import the CSV file \n",
    "df <- read.csv(\"ebi_customers.csv\")\n",
    "head(df)"
   ]
  },
  {
   "cell_type": "markdown",
   "id": "0250e5e3",
   "metadata": {},
   "source": [
    "# 1: Data Pre-Processing"
   ]
  },
  {
   "cell_type": "markdown",
   "id": "525050d2",
   "metadata": {},
   "source": [
    "__1.1 Are there any outliers/anomaly in the data that need to be addressed?__"
   ]
  },
  {
   "cell_type": "markdown",
   "id": "2703e548",
   "metadata": {},
   "source": [
    "##### 1.1.1 Missing values"
   ]
  },
  {
   "cell_type": "code",
   "execution_count": 159,
   "id": "ca1f9265",
   "metadata": {},
   "outputs": [
    {
     "data": {
      "text/html": [
       "'There are 0 missing values in the dataframe.'"
      ],
      "text/latex": [
       "'There are 0 missing values in the dataframe.'"
      ],
      "text/markdown": [
       "'There are 0 missing values in the dataframe.'"
      ],
      "text/plain": [
       "[1] \"There are 0 missing values in the dataframe.\""
      ]
     },
     "metadata": {},
     "output_type": "display_data"
    }
   ],
   "source": [
    "missing_values <- sum(is.na(df))\n",
    "paste0(\"There are \",  missing_values, \" missing values in the dataframe.\")"
   ]
  },
  {
   "cell_type": "markdown",
   "id": "f372cf2f",
   "metadata": {},
   "source": [
    "##### 1.1.2 Descriptive statistics"
   ]
  },
  {
   "cell_type": "code",
   "execution_count": 182,
   "id": "e6af65e4",
   "metadata": {
    "scrolled": false
   },
   "outputs": [
    {
     "data": {
      "text/plain": [
       "  credit_score     country             gender               age       \n",
       " Min.   :350.0   Length:9000        Length:9000        Min.   :18.00  \n",
       " 1st Qu.:584.0   Class :character   Class :character   1st Qu.:32.00  \n",
       " Median :652.0   Mode  :character   Mode  :character   Median :37.00  \n",
       " Mean   :650.4                                         Mean   :38.94  \n",
       " 3rd Qu.:717.0                                         3rd Qu.:44.00  \n",
       " Max.   :850.0                                         Max.   :92.00  \n",
       "     tenure          balance       products_number  credit_card   \n",
       " Min.   : 0.000   Min.   :     0   Min.   :1.000   Min.   :0.000  \n",
       " 1st Qu.: 3.000   1st Qu.:     0   1st Qu.:1.000   1st Qu.:0.000  \n",
       " Median : 5.000   Median : 97263   Median :1.000   Median :1.000  \n",
       " Mean   : 5.011   Mean   : 76650   Mean   :1.529   Mean   :0.705  \n",
       " 3rd Qu.: 7.000   3rd Qu.:127575   3rd Qu.:2.000   3rd Qu.:1.000  \n",
       " Max.   :10.000   Max.   :250898   Max.   :4.000   Max.   :1.000  \n",
       " active_member    estimated_salary        churn       \n",
       " Min.   :0.0000   Min.   :    11.58   Min.   :0.0000  \n",
       " 1st Qu.:0.0000   1st Qu.: 51446.62   1st Qu.:0.0000  \n",
       " Median :1.0000   Median :100444.88   Median :0.0000  \n",
       " Mean   :0.5147   Mean   :100507.32   Mean   :0.2036  \n",
       " 3rd Qu.:1.0000   3rd Qu.:149669.93   3rd Qu.:0.0000  \n",
       " Max.   :1.0000   Max.   :199992.48   Max.   :1.0000  "
      ]
     },
     "metadata": {},
     "output_type": "display_data"
    }
   ],
   "source": [
    "# to first check if we have any obvious outliers, we request standard summaries\n",
    "summary(df)"
   ]
  },
  {
   "cell_type": "code",
   "execution_count": 192,
   "id": "af2f6506",
   "metadata": {},
   "outputs": [
    {
     "data": {
      "image/png": "[encoded data removed]",
      "text/plain": [
       "Plot with title \"Histogram of credit score\""
      ]
     },
     "metadata": {
      "image/png": {
       "height": 420,
       "width": 420
      }
     },
     "output_type": "display_data"
    },
    {
     "data": {
      "image/png": "[encoded data removed]",
      "text/plain": [
       "plot without title"
      ]
     },
     "metadata": {
      "image/png": {
       "height": 420,
       "width": 420
      }
     },
     "output_type": "display_data"
    }
   ],
   "source": [
    "# we then plot histograms and boxplots on the basis of data for more easy visual access\n",
    "hist(df$credit_score,\n",
    "     xlab = \"creditscore\",\n",
    "     main = \"Histogram of credit score\",\n",
    "     breaks = \"FD\")\n",
    "\n",
    "boxplot(df$credit_score,\n",
    "  ylab = \"credit_score\")"
   ]
  },
  {
   "cell_type": "code",
   "execution_count": 221,
   "id": "13e4f910",
   "metadata": {},
   "outputs": [
    {
     "data": {
      "text/html": [
       "'There p-value of the shapiro test is 1.38354198985975e-13. This indicates strong evidence against the null hypothesis that credit_score follows a normal distribution'"
      ],
      "text/latex": [
       "'There p-value of the shapiro test is 1.38354198985975e-13. This indicates strong evidence against the null hypothesis that credit\\_score follows a normal distribution'"
      ],
      "text/markdown": [
       "'There p-value of the shapiro test is 1.38354198985975e-13. This indicates strong evidence against the null hypothesis that credit_score follows a normal distribution'"
      ],
      "text/plain": [
       "[1] \"There p-value of the shapiro test is 1.38354198985975e-13. This indicates strong evidence against the null hypothesis that credit_score follows a normal distribution\""
      ]
     },
     "metadata": {},
     "output_type": "display_data"
    }
   ],
   "source": [
    "# Define a function to perform the Shapiro-Wilk test five times on random subsets of the input dataframe\n",
    "shapiro_random <- function(df, n = 5000, reps = 5) {\n",
    "  set.seed(123) # for reproducibility\n",
    "  res <- numeric(reps) # to store test results\n",
    "  for (i in 1:reps) {\n",
    "    idx <- sample(nrow(df), n) # randomly select n rows\n",
    "    res[i] <- shapiro.test(df$credit_score[idx])$p.value # perform Shapiro-Wilk test on selected rows\n",
    "  }\n",
    "  res # return vector of p-values\n",
    "}\n",
    "\n",
    "# Call the function on the df dataframe\n",
    "p_vals <- shapiro_random(df)\n",
    "\n",
    "paste0(\"There p-value of the shapiro test is \",  mean(p_vals), \". This indicates strong evidence against the null hypothesis that credit_score follows a normal distribution\")"
   ]
  },
  {
   "cell_type": "code",
   "execution_count": 189,
   "id": "b7ba02e1",
   "metadata": {
    "scrolled": false
   },
   "outputs": [
    {
     "data": {
      "image/png": "[encoded data removed]",
      "text/plain": [
       "Plot with title \"Histogram of Z-Score\""
      ]
     },
     "metadata": {
      "image/png": {
       "height": 420,
       "width": 420
      }
     },
     "output_type": "display_data"
    }
   ],
   "source": [
    "#boxplot.stats(df$credit_score)$out\n",
    "df$z_creditscore <- scale(df$credit_score)\n",
    "hist(df$z_creditscore, main = \"Histogram of Z-Score\")\n"
   ]
  },
  {
   "cell_type": "code",
   "execution_count": 222,
   "id": "3ade8137",
   "metadata": {},
   "outputs": [
    {
     "data": {
      "text/html": [
       "<style>\n",
       ".list-inline {list-style: none; margin:0; padding: 0}\n",
       ".list-inline>li {display: inline-block}\n",
       ".list-inline>li:not(:last-child)::after {content: \"\\00b7\"; padding: 0 .5ex}\n",
       "</style>\n",
       "<ol class=list-inline><li>1248</li><li>1456</li><li>1637</li><li>1744</li><li>2216</li><li>7828</li><li>7865</li><li>8661</li></ol>\n"
      ],
      "text/latex": [
       "\\begin{enumerate*}\n",
       "\\item 1248\n",
       "\\item 1456\n",
       "\\item 1637\n",
       "\\item 1744\n",
       "\\item 2216\n",
       "\\item 7828\n",
       "\\item 7865\n",
       "\\item 8661\n",
       "\\end{enumerate*}\n"
      ],
      "text/markdown": [
       "1. 1248\n",
       "2. 1456\n",
       "3. 1637\n",
       "4. 1744\n",
       "5. 2216\n",
       "6. 7828\n",
       "7. 7865\n",
       "8. 8661\n",
       "\n",
       "\n"
      ],
      "text/plain": [
       "[1] 1248 1456 1637 1744 2216 7828 7865 8661"
      ]
     },
     "metadata": {},
     "output_type": "display_data"
    }
   ],
   "source": [
    "which(df$z_creditscore < -3)"
   ]
  },
  {
   "cell_type": "code",
   "execution_count": 202,
   "id": "36252128",
   "metadata": {},
   "outputs": [
    {
     "data": {
      "text/html": [
       "9000"
      ],
      "text/latex": [
       "9000"
      ],
      "text/markdown": [
       "9000"
      ],
      "text/plain": [
       "[1] 9000"
      ]
     },
     "metadata": {},
     "output_type": "display_data"
    }
   ],
   "source": [
    "nrow(df)"
   ]
  },
  {
   "cell_type": "code",
   "execution_count": 199,
   "id": "28c58d42",
   "metadata": {},
   "outputs": [
    {
     "data": {
      "text/html": [
       "443"
      ],
      "text/latex": [
       "443"
      ],
      "text/markdown": [
       "443"
      ],
      "text/plain": [
       "[1] 443"
      ]
     },
     "metadata": {},
     "output_type": "display_data"
    }
   ],
   "source": [
    "length(outlier_ind)"
   ]
  },
  {
   "cell_type": "code",
   "execution_count": 198,
   "id": "0aa6c886",
   "metadata": {},
   "outputs": [
    {
     "data": {
      "text/html": [
       "<style>\n",
       ".list-inline {list-style: none; margin:0; padding: 0}\n",
       ".list-inline>li {display: inline-block}\n",
       ".list-inline>li:not(:last-child)::after {content: \"\\00b7\"; padding: 0 .5ex}\n",
       "</style>\n",
       "<ol class=list-inline><li>4</li><li>7</li><li>26</li><li>35</li><li>74</li><li>90</li><li>114</li><li>162</li><li>182</li><li>204</li><li>234</li><li>287</li><li>324</li><li>330</li><li>334</li><li>366</li><li>373</li><li>421</li><li>468</li><li>469</li><li>498</li><li>503</li><li>510</li><li>518</li><li>520</li><li>564</li><li>572</li><li>586</li><li>591</li><li>627</li><li>648</li><li>672</li><li>711</li><li>721</li><li>729</li><li>773</li><li>783</li><li>804</li><li>848</li><li>853</li><li>869</li><li>910</li><li>919</li><li>952</li><li>978</li><li>988</li><li>991</li><li>1004</li><li>1039</li><li>1044</li><li>1067</li><li>1075</li><li>1081</li><li>1083</li><li>1167</li><li>1184</li><li>1195</li><li>1209</li><li>1222</li><li>1223</li><li>1248</li><li>1252</li><li>1296</li><li>1319</li><li>1320</li><li>1330</li><li>1348</li><li>1350</li><li>1360</li><li>1365</li><li>1386</li><li>1456</li><li>1476</li><li>1506</li><li>1522</li><li>1527</li><li>1545</li><li>1554</li><li>1594</li><li>1603</li><li>1605</li><li>1612</li><li>1621</li><li>1626</li><li>1637</li><li>1678</li><li>1686</li><li>1688</li><li>1705</li><li>1724</li><li>1744</li><li>1807</li><li>1829</li><li>1836</li><li>1854</li><li>1857</li><li>1887</li><li>1890</li><li>1908</li><li>1917</li><li>1966</li><li>1971</li><li>1978</li><li>2026</li><li>2039</li><li>2083</li><li>2086</li><li>2140</li><li>2164</li><li>2216</li><li>2219</li><li>2227</li><li>2281</li><li>2287</li><li>2312</li><li>2321</li><li>2348</li><li>2373</li><li>2378</li><li>2405</li><li>2423</li><li>2441</li><li>2463</li><li>2472</li><li>2489</li><li>2541</li><li>2545</li><li>2560</li><li>2575</li><li>2588</li><li>2637</li><li>2674</li><li>2701</li><li>2789</li><li>2798</li><li>2845</li><li>2874</li><li>2893</li><li>2908</li><li>2917</li><li>2927</li><li>2929</li><li>2932</li><li>2972</li><li>2981</li><li>3036</li><li>3055</li><li>3083</li><li>3085</li><li>3101</li><li>3125</li><li>3134</li><li>3140</li><li>3156</li><li>3159</li><li>3160</li><li>3213</li><li>3233</li><li>3239</li><li>3291</li><li>3301</li><li>3336</li><li>3351</li><li>3365</li><li>3393</li><li>3403</li><li>3409</li><li>3410</li><li>3413</li><li>3430</li><li>3436</li><li>3484</li><li>3503</li><li>3511</li><li>3592</li><li>3614</li><li>3632</li><li>3645</li><li>3657</li><li>3675</li><li>3709</li><li>3724</li><li>3732</li><li>3733</li><li>3770</li><li>3772</li><li>3781</li><li>3807</li><li>3865</li><li>3885</li><li>3919</li><li>3922</li><li>4002</li><li>4005</li><li>4024</li><li>4027</li><li>4048</li><li>4059</li><li>4073</li><li>4110</li><li>...</li><li>4917</li><li>4932</li><li>4937</li><li>4940</li><li>4994</li><li>5016</li><li>5083</li><li>5118</li><li>5214</li><li>5241</li><li>5262</li><li>5288</li><li>5333</li><li>5346</li><li>5354</li><li>5377</li><li>5400</li><li>5409</li><li>5429</li><li>5465</li><li>5488</li><li>5542</li><li>5559</li><li>5560</li><li>5590</li><li>5606</li><li>5615</li><li>5617</li><li>5631</li><li>5635</li><li>5665</li><li>5688</li><li>5703</li><li>5743</li><li>5771</li><li>5810</li><li>5814</li><li>5832</li><li>5836</li><li>5868</li><li>5883</li><li>5899</li><li>5925</li><li>5950</li><li>5958</li><li>5970</li><li>5988</li><li>6010</li><li>6019</li><li>6076</li><li>6106</li><li>6154</li><li>6156</li><li>6181</li><li>6218</li><li>6220</li><li>6222</li><li>6281</li><li>6309</li><li>6313</li><li>6374</li><li>6390</li><li>6399</li><li>6415</li><li>6419</li><li>6495</li><li>6511</li><li>6550</li><li>6562</li><li>6570</li><li>6572</li><li>6582</li><li>6588</li><li>6606</li><li>6609</li><li>6628</li><li>6635</li><li>6649</li><li>6669</li><li>6696</li><li>6698</li><li>6745</li><li>6769</li><li>6779</li><li>6801</li><li>6806</li><li>6831</li><li>6853</li><li>6861</li><li>6871</li><li>6876</li><li>6899</li><li>6904</li><li>6924</li><li>6934</li><li>6939</li><li>6949</li><li>6954</li><li>6962</li><li>6965</li><li>6972</li><li>7029</li><li>7038</li><li>7062</li><li>7080</li><li>7106</li><li>7124</li><li>7129</li><li>7141</li><li>7147</li><li>7160</li><li>7186</li><li>7189</li><li>7202</li><li>7231</li><li>7241</li><li>7260</li><li>7272</li><li>7277</li><li>7299</li><li>7307</li><li>7316</li><li>7318</li><li>7376</li><li>7382</li><li>7400</li><li>7431</li><li>7442</li><li>7477</li><li>7498</li><li>7499</li><li>7505</li><li>7511</li><li>7553</li><li>7580</li><li>7586</li><li>7602</li><li>7605</li><li>7738</li><li>7759</li><li>7761</li><li>7801</li><li>7813</li><li>7814</li><li>7823</li><li>7828</li><li>7833</li><li>7846</li><li>7865</li><li>7875</li><li>7882</li><li>7886</li><li>7891</li><li>7900</li><li>7906</li><li>7914</li><li>7926</li><li>7946</li><li>7964</li><li>7984</li><li>7994</li><li>8009</li><li>8063</li><li>8108</li><li>8172</li><li>8179</li><li>8214</li><li>8215</li><li>8245</li><li>8251</li><li>8274</li><li>8283</li><li>8284</li><li>8321</li><li>8332</li><li>8342</li><li>8343</li><li>8354</li><li>8414</li><li>8415</li><li>8461</li><li>8462</li><li>8484</li><li>8533</li><li>8535</li><li>8569</li><li>8571</li><li>8574</li><li>8581</li><li>8622</li><li>8648</li><li>8661</li><li>8679</li><li>8681</li><li>8719</li><li>8791</li><li>8806</li><li>8935</li><li>8936</li><li>8954</li></ol>\n"
      ],
      "text/latex": [
       "\\begin{enumerate*}\n",
       "\\item 4\n",
       "\\item 7\n",
       "\\item 26\n",
       "\\item 35\n",
       "\\item 74\n",
       "\\item 90\n",
       "\\item 114\n",
       "\\item 162\n",
       "\\item 182\n",
       "\\item 204\n",
       "\\item 234\n",
       "\\item 287\n",
       "\\item 324\n",
       "\\item 330\n",
       "\\item 334\n",
       "\\item 366\n",
       "\\item 373\n",
       "\\item 421\n",
       "\\item 468\n",
       "\\item 469\n",
       "\\item 498\n",
       "\\item 503\n",
       "\\item 510\n",
       "\\item 518\n",
       "\\item 520\n",
       "\\item 564\n",
       "\\item 572\n",
       "\\item 586\n",
       "\\item 591\n",
       "\\item 627\n",
       "\\item 648\n",
       "\\item 672\n",
       "\\item 711\n",
       "\\item 721\n",
       "\\item 729\n",
       "\\item 773\n",
       "\\item 783\n",
       "\\item 804\n",
       "\\item 848\n",
       "\\item 853\n",
       "\\item 869\n",
       "\\item 910\n",
       "\\item 919\n",
       "\\item 952\n",
       "\\item 978\n",
       "\\item 988\n",
       "\\item 991\n",
       "\\item 1004\n",
       "\\item 1039\n",
       "\\item 1044\n",
       "\\item 1067\n",
       "\\item 1075\n",
       "\\item 1081\n",
       "\\item 1083\n",
       "\\item 1167\n",
       "\\item 1184\n",
       "\\item 1195\n",
       "\\item 1209\n",
       "\\item 1222\n",
       "\\item 1223\n",
       "\\item 1248\n",
       "\\item 1252\n",
       "\\item 1296\n",
       "\\item 1319\n",
       "\\item 1320\n",
       "\\item 1330\n",
       "\\item 1348\n",
       "\\item 1350\n",
       "\\item 1360\n",
       "\\item 1365\n",
       "\\item 1386\n",
       "\\item 1456\n",
       "\\item 1476\n",
       "\\item 1506\n",
       "\\item 1522\n",
       "\\item 1527\n",
       "\\item 1545\n",
       "\\item 1554\n",
       "\\item 1594\n",
       "\\item 1603\n",
       "\\item 1605\n",
       "\\item 1612\n",
       "\\item 1621\n",
       "\\item 1626\n",
       "\\item 1637\n",
       "\\item 1678\n",
       "\\item 1686\n",
       "\\item 1688\n",
       "\\item 1705\n",
       "\\item 1724\n",
       "\\item 1744\n",
       "\\item 1807\n",
       "\\item 1829\n",
       "\\item 1836\n",
       "\\item 1854\n",
       "\\item 1857\n",
       "\\item 1887\n",
       "\\item 1890\n",
       "\\item 1908\n",
       "\\item 1917\n",
       "\\item 1966\n",
       "\\item 1971\n",
       "\\item 1978\n",
       "\\item 2026\n",
       "\\item 2039\n",
       "\\item 2083\n",
       "\\item 2086\n",
       "\\item 2140\n",
       "\\item 2164\n",
       "\\item 2216\n",
       "\\item 2219\n",
       "\\item 2227\n",
       "\\item 2281\n",
       "\\item 2287\n",
       "\\item 2312\n",
       "\\item 2321\n",
       "\\item 2348\n",
       "\\item 2373\n",
       "\\item 2378\n",
       "\\item 2405\n",
       "\\item 2423\n",
       "\\item 2441\n",
       "\\item 2463\n",
       "\\item 2472\n",
       "\\item 2489\n",
       "\\item 2541\n",
       "\\item 2545\n",
       "\\item 2560\n",
       "\\item 2575\n",
       "\\item 2588\n",
       "\\item 2637\n",
       "\\item 2674\n",
       "\\item 2701\n",
       "\\item 2789\n",
       "\\item 2798\n",
       "\\item 2845\n",
       "\\item 2874\n",
       "\\item 2893\n",
       "\\item 2908\n",
       "\\item 2917\n",
       "\\item 2927\n",
       "\\item 2929\n",
       "\\item 2932\n",
       "\\item 2972\n",
       "\\item 2981\n",
       "\\item 3036\n",
       "\\item 3055\n",
       "\\item 3083\n",
       "\\item 3085\n",
       "\\item 3101\n",
       "\\item 3125\n",
       "\\item 3134\n",
       "\\item 3140\n",
       "\\item 3156\n",
       "\\item 3159\n",
       "\\item 3160\n",
       "\\item 3213\n",
       "\\item 3233\n",
       "\\item 3239\n",
       "\\item 3291\n",
       "\\item 3301\n",
       "\\item 3336\n",
       "\\item 3351\n",
       "\\item 3365\n",
       "\\item 3393\n",
       "\\item 3403\n",
       "\\item 3409\n",
       "\\item 3410\n",
       "\\item 3413\n",
       "\\item 3430\n",
       "\\item 3436\n",
       "\\item 3484\n",
       "\\item 3503\n",
       "\\item 3511\n",
       "\\item 3592\n",
       "\\item 3614\n",
       "\\item 3632\n",
       "\\item 3645\n",
       "\\item 3657\n",
       "\\item 3675\n",
       "\\item 3709\n",
       "\\item 3724\n",
       "\\item 3732\n",
       "\\item 3733\n",
       "\\item 3770\n",
       "\\item 3772\n",
       "\\item 3781\n",
       "\\item 3807\n",
       "\\item 3865\n",
       "\\item 3885\n",
       "\\item 3919\n",
       "\\item 3922\n",
       "\\item 4002\n",
       "\\item 4005\n",
       "\\item 4024\n",
       "\\item 4027\n",
       "\\item 4048\n",
       "\\item 4059\n",
       "\\item 4073\n",
       "\\item 4110\n",
       "\\item ...\n",
       "\\item 4917\n",
       "\\item 4932\n",
       "\\item 4937\n",
       "\\item 4940\n",
       "\\item 4994\n",
       "\\item 5016\n",
       "\\item 5083\n",
       "\\item 5118\n",
       "\\item 5214\n",
       "\\item 5241\n",
       "\\item 5262\n",
       "\\item 5288\n",
       "\\item 5333\n",
       "\\item 5346\n",
       "\\item 5354\n",
       "\\item 5377\n",
       "\\item 5400\n",
       "\\item 5409\n",
       "\\item 5429\n",
       "\\item 5465\n",
       "\\item 5488\n",
       "\\item 5542\n",
       "\\item 5559\n",
       "\\item 5560\n",
       "\\item 5590\n",
       "\\item 5606\n",
       "\\item 5615\n",
       "\\item 5617\n",
       "\\item 5631\n",
       "\\item 5635\n",
       "\\item 5665\n",
       "\\item 5688\n",
       "\\item 5703\n",
       "\\item 5743\n",
       "\\item 5771\n",
       "\\item 5810\n",
       "\\item 5814\n",
       "\\item 5832\n",
       "\\item 5836\n",
       "\\item 5868\n",
       "\\item 5883\n",
       "\\item 5899\n",
       "\\item 5925\n",
       "\\item 5950\n",
       "\\item 5958\n",
       "\\item 5970\n",
       "\\item 5988\n",
       "\\item 6010\n",
       "\\item 6019\n",
       "\\item 6076\n",
       "\\item 6106\n",
       "\\item 6154\n",
       "\\item 6156\n",
       "\\item 6181\n",
       "\\item 6218\n",
       "\\item 6220\n",
       "\\item 6222\n",
       "\\item 6281\n",
       "\\item 6309\n",
       "\\item 6313\n",
       "\\item 6374\n",
       "\\item 6390\n",
       "\\item 6399\n",
       "\\item 6415\n",
       "\\item 6419\n",
       "\\item 6495\n",
       "\\item 6511\n",
       "\\item 6550\n",
       "\\item 6562\n",
       "\\item 6570\n",
       "\\item 6572\n",
       "\\item 6582\n",
       "\\item 6588\n",
       "\\item 6606\n",
       "\\item 6609\n",
       "\\item 6628\n",
       "\\item 6635\n",
       "\\item 6649\n",
       "\\item 6669\n",
       "\\item 6696\n",
       "\\item 6698\n",
       "\\item 6745\n",
       "\\item 6769\n",
       "\\item 6779\n",
       "\\item 6801\n",
       "\\item 6806\n",
       "\\item 6831\n",
       "\\item 6853\n",
       "\\item 6861\n",
       "\\item 6871\n",
       "\\item 6876\n",
       "\\item 6899\n",
       "\\item 6904\n",
       "\\item 6924\n",
       "\\item 6934\n",
       "\\item 6939\n",
       "\\item 6949\n",
       "\\item 6954\n",
       "\\item 6962\n",
       "\\item 6965\n",
       "\\item 6972\n",
       "\\item 7029\n",
       "\\item 7038\n",
       "\\item 7062\n",
       "\\item 7080\n",
       "\\item 7106\n",
       "\\item 7124\n",
       "\\item 7129\n",
       "\\item 7141\n",
       "\\item 7147\n",
       "\\item 7160\n",
       "\\item 7186\n",
       "\\item 7189\n",
       "\\item 7202\n",
       "\\item 7231\n",
       "\\item 7241\n",
       "\\item 7260\n",
       "\\item 7272\n",
       "\\item 7277\n",
       "\\item 7299\n",
       "\\item 7307\n",
       "\\item 7316\n",
       "\\item 7318\n",
       "\\item 7376\n",
       "\\item 7382\n",
       "\\item 7400\n",
       "\\item 7431\n",
       "\\item 7442\n",
       "\\item 7477\n",
       "\\item 7498\n",
       "\\item 7499\n",
       "\\item 7505\n",
       "\\item 7511\n",
       "\\item 7553\n",
       "\\item 7580\n",
       "\\item 7586\n",
       "\\item 7602\n",
       "\\item 7605\n",
       "\\item 7738\n",
       "\\item 7759\n",
       "\\item 7761\n",
       "\\item 7801\n",
       "\\item 7813\n",
       "\\item 7814\n",
       "\\item 7823\n",
       "\\item 7828\n",
       "\\item 7833\n",
       "\\item 7846\n",
       "\\item 7865\n",
       "\\item 7875\n",
       "\\item 7882\n",
       "\\item 7886\n",
       "\\item 7891\n",
       "\\item 7900\n",
       "\\item 7906\n",
       "\\item 7914\n",
       "\\item 7926\n",
       "\\item 7946\n",
       "\\item 7964\n",
       "\\item 7984\n",
       "\\item 7994\n",
       "\\item 8009\n",
       "\\item 8063\n",
       "\\item 8108\n",
       "\\item 8172\n",
       "\\item 8179\n",
       "\\item 8214\n",
       "\\item 8215\n",
       "\\item 8245\n",
       "\\item 8251\n",
       "\\item 8274\n",
       "\\item 8283\n",
       "\\item 8284\n",
       "\\item 8321\n",
       "\\item 8332\n",
       "\\item 8342\n",
       "\\item 8343\n",
       "\\item 8354\n",
       "\\item 8414\n",
       "\\item 8415\n",
       "\\item 8461\n",
       "\\item 8462\n",
       "\\item 8484\n",
       "\\item 8533\n",
       "\\item 8535\n",
       "\\item 8569\n",
       "\\item 8571\n",
       "\\item 8574\n",
       "\\item 8581\n",
       "\\item 8622\n",
       "\\item 8648\n",
       "\\item 8661\n",
       "\\item 8679\n",
       "\\item 8681\n",
       "\\item 8719\n",
       "\\item 8791\n",
       "\\item 8806\n",
       "\\item 8935\n",
       "\\item 8936\n",
       "\\item 8954\n",
       "\\end{enumerate*}\n"
      ],
      "text/markdown": [
       "1. 4\n",
       "2. 7\n",
       "3. 26\n",
       "4. 35\n",
       "5. 74\n",
       "6. 90\n",
       "7. 114\n",
       "8. 162\n",
       "9. 182\n",
       "10. 204\n",
       "11. 234\n",
       "12. 287\n",
       "13. 324\n",
       "14. 330\n",
       "15. 334\n",
       "16. 366\n",
       "17. 373\n",
       "18. 421\n",
       "19. 468\n",
       "20. 469\n",
       "21. 498\n",
       "22. 503\n",
       "23. 510\n",
       "24. 518\n",
       "25. 520\n",
       "26. 564\n",
       "27. 572\n",
       "28. 586\n",
       "29. 591\n",
       "30. 627\n",
       "31. 648\n",
       "32. 672\n",
       "33. 711\n",
       "34. 721\n",
       "35. 729\n",
       "36. 773\n",
       "37. 783\n",
       "38. 804\n",
       "39. 848\n",
       "40. 853\n",
       "41. 869\n",
       "42. 910\n",
       "43. 919\n",
       "44. 952\n",
       "45. 978\n",
       "46. 988\n",
       "47. 991\n",
       "48. 1004\n",
       "49. 1039\n",
       "50. 1044\n",
       "51. 1067\n",
       "52. 1075\n",
       "53. 1081\n",
       "54. 1083\n",
       "55. 1167\n",
       "56. 1184\n",
       "57. 1195\n",
       "58. 1209\n",
       "59. 1222\n",
       "60. 1223\n",
       "61. 1248\n",
       "62. 1252\n",
       "63. 1296\n",
       "64. 1319\n",
       "65. 1320\n",
       "66. 1330\n",
       "67. 1348\n",
       "68. 1350\n",
       "69. 1360\n",
       "70. 1365\n",
       "71. 1386\n",
       "72. 1456\n",
       "73. 1476\n",
       "74. 1506\n",
       "75. 1522\n",
       "76. 1527\n",
       "77. 1545\n",
       "78. 1554\n",
       "79. 1594\n",
       "80. 1603\n",
       "81. 1605\n",
       "82. 1612\n",
       "83. 1621\n",
       "84. 1626\n",
       "85. 1637\n",
       "86. 1678\n",
       "87. 1686\n",
       "88. 1688\n",
       "89. 1705\n",
       "90. 1724\n",
       "91. 1744\n",
       "92. 1807\n",
       "93. 1829\n",
       "94. 1836\n",
       "95. 1854\n",
       "96. 1857\n",
       "97. 1887\n",
       "98. 1890\n",
       "99. 1908\n",
       "100. 1917\n",
       "101. 1966\n",
       "102. 1971\n",
       "103. 1978\n",
       "104. 2026\n",
       "105. 2039\n",
       "106. 2083\n",
       "107. 2086\n",
       "108. 2140\n",
       "109. 2164\n",
       "110. 2216\n",
       "111. 2219\n",
       "112. 2227\n",
       "113. 2281\n",
       "114. 2287\n",
       "115. 2312\n",
       "116. 2321\n",
       "117. 2348\n",
       "118. 2373\n",
       "119. 2378\n",
       "120. 2405\n",
       "121. 2423\n",
       "122. 2441\n",
       "123. 2463\n",
       "124. 2472\n",
       "125. 2489\n",
       "126. 2541\n",
       "127. 2545\n",
       "128. 2560\n",
       "129. 2575\n",
       "130. 2588\n",
       "131. 2637\n",
       "132. 2674\n",
       "133. 2701\n",
       "134. 2789\n",
       "135. 2798\n",
       "136. 2845\n",
       "137. 2874\n",
       "138. 2893\n",
       "139. 2908\n",
       "140. 2917\n",
       "141. 2927\n",
       "142. 2929\n",
       "143. 2932\n",
       "144. 2972\n",
       "145. 2981\n",
       "146. 3036\n",
       "147. 3055\n",
       "148. 3083\n",
       "149. 3085\n",
       "150. 3101\n",
       "151. 3125\n",
       "152. 3134\n",
       "153. 3140\n",
       "154. 3156\n",
       "155. 3159\n",
       "156. 3160\n",
       "157. 3213\n",
       "158. 3233\n",
       "159. 3239\n",
       "160. 3291\n",
       "161. 3301\n",
       "162. 3336\n",
       "163. 3351\n",
       "164. 3365\n",
       "165. 3393\n",
       "166. 3403\n",
       "167. 3409\n",
       "168. 3410\n",
       "169. 3413\n",
       "170. 3430\n",
       "171. 3436\n",
       "172. 3484\n",
       "173. 3503\n",
       "174. 3511\n",
       "175. 3592\n",
       "176. 3614\n",
       "177. 3632\n",
       "178. 3645\n",
       "179. 3657\n",
       "180. 3675\n",
       "181. 3709\n",
       "182. 3724\n",
       "183. 3732\n",
       "184. 3733\n",
       "185. 3770\n",
       "186. 3772\n",
       "187. 3781\n",
       "188. 3807\n",
       "189. 3865\n",
       "190. 3885\n",
       "191. 3919\n",
       "192. 3922\n",
       "193. 4002\n",
       "194. 4005\n",
       "195. 4024\n",
       "196. 4027\n",
       "197. 4048\n",
       "198. 4059\n",
       "199. 4073\n",
       "200. 4110\n",
       "201. ...\n",
       "202. 4917\n",
       "203. 4932\n",
       "204. 4937\n",
       "205. 4940\n",
       "206. 4994\n",
       "207. 5016\n",
       "208. 5083\n",
       "209. 5118\n",
       "210. 5214\n",
       "211. 5241\n",
       "212. 5262\n",
       "213. 5288\n",
       "214. 5333\n",
       "215. 5346\n",
       "216. 5354\n",
       "217. 5377\n",
       "218. 5400\n",
       "219. 5409\n",
       "220. 5429\n",
       "221. 5465\n",
       "222. 5488\n",
       "223. 5542\n",
       "224. 5559\n",
       "225. 5560\n",
       "226. 5590\n",
       "227. 5606\n",
       "228. 5615\n",
       "229. 5617\n",
       "230. 5631\n",
       "231. 5635\n",
       "232. 5665\n",
       "233. 5688\n",
       "234. 5703\n",
       "235. 5743\n",
       "236. 5771\n",
       "237. 5810\n",
       "238. 5814\n",
       "239. 5832\n",
       "240. 5836\n",
       "241. 5868\n",
       "242. 5883\n",
       "243. 5899\n",
       "244. 5925\n",
       "245. 5950\n",
       "246. 5958\n",
       "247. 5970\n",
       "248. 5988\n",
       "249. 6010\n",
       "250. 6019\n",
       "251. 6076\n",
       "252. 6106\n",
       "253. 6154\n",
       "254. 6156\n",
       "255. 6181\n",
       "256. 6218\n",
       "257. 6220\n",
       "258. 6222\n",
       "259. 6281\n",
       "260. 6309\n",
       "261. 6313\n",
       "262. 6374\n",
       "263. 6390\n",
       "264. 6399\n",
       "265. 6415\n",
       "266. 6419\n",
       "267. 6495\n",
       "268. 6511\n",
       "269. 6550\n",
       "270. 6562\n",
       "271. 6570\n",
       "272. 6572\n",
       "273. 6582\n",
       "274. 6588\n",
       "275. 6606\n",
       "276. 6609\n",
       "277. 6628\n",
       "278. 6635\n",
       "279. 6649\n",
       "280. 6669\n",
       "281. 6696\n",
       "282. 6698\n",
       "283. 6745\n",
       "284. 6769\n",
       "285. 6779\n",
       "286. 6801\n",
       "287. 6806\n",
       "288. 6831\n",
       "289. 6853\n",
       "290. 6861\n",
       "291. 6871\n",
       "292. 6876\n",
       "293. 6899\n",
       "294. 6904\n",
       "295. 6924\n",
       "296. 6934\n",
       "297. 6939\n",
       "298. 6949\n",
       "299. 6954\n",
       "300. 6962\n",
       "301. 6965\n",
       "302. 6972\n",
       "303. 7029\n",
       "304. 7038\n",
       "305. 7062\n",
       "306. 7080\n",
       "307. 7106\n",
       "308. 7124\n",
       "309. 7129\n",
       "310. 7141\n",
       "311. 7147\n",
       "312. 7160\n",
       "313. 7186\n",
       "314. 7189\n",
       "315. 7202\n",
       "316. 7231\n",
       "317. 7241\n",
       "318. 7260\n",
       "319. 7272\n",
       "320. 7277\n",
       "321. 7299\n",
       "322. 7307\n",
       "323. 7316\n",
       "324. 7318\n",
       "325. 7376\n",
       "326. 7382\n",
       "327. 7400\n",
       "328. 7431\n",
       "329. 7442\n",
       "330. 7477\n",
       "331. 7498\n",
       "332. 7499\n",
       "333. 7505\n",
       "334. 7511\n",
       "335. 7553\n",
       "336. 7580\n",
       "337. 7586\n",
       "338. 7602\n",
       "339. 7605\n",
       "340. 7738\n",
       "341. 7759\n",
       "342. 7761\n",
       "343. 7801\n",
       "344. 7813\n",
       "345. 7814\n",
       "346. 7823\n",
       "347. 7828\n",
       "348. 7833\n",
       "349. 7846\n",
       "350. 7865\n",
       "351. 7875\n",
       "352. 7882\n",
       "353. 7886\n",
       "354. 7891\n",
       "355. 7900\n",
       "356. 7906\n",
       "357. 7914\n",
       "358. 7926\n",
       "359. 7946\n",
       "360. 7964\n",
       "361. 7984\n",
       "362. 7994\n",
       "363. 8009\n",
       "364. 8063\n",
       "365. 8108\n",
       "366. 8172\n",
       "367. 8179\n",
       "368. 8214\n",
       "369. 8215\n",
       "370. 8245\n",
       "371. 8251\n",
       "372. 8274\n",
       "373. 8283\n",
       "374. 8284\n",
       "375. 8321\n",
       "376. 8332\n",
       "377. 8342\n",
       "378. 8343\n",
       "379. 8354\n",
       "380. 8414\n",
       "381. 8415\n",
       "382. 8461\n",
       "383. 8462\n",
       "384. 8484\n",
       "385. 8533\n",
       "386. 8535\n",
       "387. 8569\n",
       "388. 8571\n",
       "389. 8574\n",
       "390. 8581\n",
       "391. 8622\n",
       "392. 8648\n",
       "393. 8661\n",
       "394. 8679\n",
       "395. 8681\n",
       "396. 8719\n",
       "397. 8791\n",
       "398. 8806\n",
       "399. 8935\n",
       "400. 8936\n",
       "401. 8954\n",
       "\n",
       "\n"
      ],
      "text/plain": [
       "  [1]    4    7   26   35   74   90  114  162  182  204  234  287  324  330  334\n",
       " [16]  366  373  421  468  469  498  503  510  518  520  564  572  586  591  627\n",
       " [31]  648  672  711  721  729  773  783  804  848  853  869  910  919  952  978\n",
       " [46]  988  991 1004 1039 1044 1067 1075 1081 1083 1167 1184 1195 1209 1222 1223\n",
       " [61] 1248 1252 1296 1319 1320 1330 1348 1350 1360 1365 1386 1456 1476 1506 1522\n",
       " [76] 1527 1545 1554 1594 1603 1605 1612 1621 1626 1637 1678 1686 1688 1705 1724\n",
       " [91] 1744 1807 1829 1836 1854 1857 1887 1890 1908 1917 1966 1971 1978 2026 2039\n",
       "[106] 2083 2086 2140 2164 2216 2219 2227 2281 2287 2312 2321 2348 2373 2378 2405\n",
       "[121] 2423 2441 2463 2472 2489 2541 2545 2560 2575 2588 2637 2674 2701 2789 2798\n",
       "[136] 2845 2874 2893 2908 2917 2927 2929 2932 2972 2981 3036 3055 3083 3085 3101\n",
       "[151] 3125 3134 3140 3156 3159 3160 3213 3233 3239 3291 3301 3336 3351 3365 3393\n",
       "[166] 3403 3409 3410 3413 3430 3436 3484 3503 3511 3592 3614 3632 3645 3657 3675\n",
       "[181] 3709 3724 3732 3733 3770 3772 3781 3807 3865 3885 3919 3922 4002 4005 4024\n",
       "[196] 4027 4048 4059 4073 4110 4130 4150 4162 4177 4184 4186 4187 4192 4221 4263\n",
       "[211] 4266 4272 4292 4315 4350 4362 4390 4410 4432 4481 4532 4551 4565 4616 4619\n",
       "[226] 4625 4642 4644 4645 4657 4674 4681 4739 4750 4770 4787 4813 4828 4831 4832\n",
       "[241] 4863 4891 4911 4917 4932 4937 4940 4994 5016 5083 5118 5214 5241 5262 5288\n",
       "[256] 5333 5346 5354 5377 5400 5409 5429 5465 5488 5542 5559 5560 5590 5606 5615\n",
       "[271] 5617 5631 5635 5665 5688 5703 5743 5771 5810 5814 5832 5836 5868 5883 5899\n",
       "[286] 5925 5950 5958 5970 5988 6010 6019 6076 6106 6154 6156 6181 6218 6220 6222\n",
       "[301] 6281 6309 6313 6374 6390 6399 6415 6419 6495 6511 6550 6562 6570 6572 6582\n",
       "[316] 6588 6606 6609 6628 6635 6649 6669 6696 6698 6745 6769 6779 6801 6806 6831\n",
       "[331] 6853 6861 6871 6876 6899 6904 6924 6934 6939 6949 6954 6962 6965 6972 7029\n",
       "[346] 7038 7062 7080 7106 7124 7129 7141 7147 7160 7186 7189 7202 7231 7241 7260\n",
       "[361] 7272 7277 7299 7307 7316 7318 7376 7382 7400 7431 7442 7477 7498 7499 7505\n",
       "[376] 7511 7553 7580 7586 7602 7605 7738 7759 7761 7801 7813 7814 7823 7828 7833\n",
       "[391] 7846 7865 7875 7882 7886 7891 7900 7906 7914 7926 7946 7964 7984 7994 8009\n",
       "[406] 8063 8108 8172 8179 8214 8215 8245 8251 8274 8283 8284 8321 8332 8342 8343\n",
       "[421] 8354 8414 8415 8461 8462 8484 8533 8535 8569 8571 8574 8581 8622 8648 8661\n",
       "[436] 8679 8681 8719 8791 8806 8935 8936 8954"
      ]
     },
     "metadata": {},
     "output_type": "display_data"
    }
   ],
   "source": [
    "lower_bound <- quantile(df$credit_score , 0.025)\n",
    "upper_bound <- quantile(df$credit_score , 0.975)\n",
    "outlier_ind <- which(df$credit_score < lower_bound | df$credit_score > upper_bound)\n",
    "outlier_ind"
   ]
  },
  {
   "cell_type": "code",
   "execution_count": 123,
   "id": "8207fd9b",
   "metadata": {},
   "outputs": [
    {
     "data": {
      "text/html": [
       "<style>\n",
       ".list-inline {list-style: none; margin:0; padding: 0}\n",
       ".list-inline>li {display: inline-block}\n",
       ".list-inline>li:not(:last-child)::after {content: \"\\00b7\"; padding: 0 .5ex}\n",
       "</style>\n",
       "<ol class=list-inline><li>'credit_score is a numeric variable.'</li><li>'age is a numeric variable.'</li><li>'balance is a numeric variable.'</li><li>'estimated_salary is a numeric variable.'</li></ol>\n"
      ],
      "text/latex": [
       "\\begin{enumerate*}\n",
       "\\item 'credit\\_score is a numeric variable.'\n",
       "\\item 'age is a numeric variable.'\n",
       "\\item 'balance is a numeric variable.'\n",
       "\\item 'estimated\\_salary is a numeric variable.'\n",
       "\\end{enumerate*}\n"
      ],
      "text/markdown": [
       "1. 'credit_score is a numeric variable.'\n",
       "2. 'age is a numeric variable.'\n",
       "3. 'balance is a numeric variable.'\n",
       "4. 'estimated_salary is a numeric variable.'\n",
       "\n",
       "\n"
      ],
      "text/plain": [
       "[1] \"credit_score is a numeric variable.\"    \n",
       "[2] \"age is a numeric variable.\"             \n",
       "[3] \"balance is a numeric variable.\"         \n",
       "[4] \"estimated_salary is a numeric variable.\""
      ]
     },
     "metadata": {},
     "output_type": "display_data"
    }
   ],
   "source": [
    "numeric_variables <- names(df)[sapply(df, function(col) {\n",
    "  is.numeric(col) && length(unique(col)) > 11 && !grepl(\"CustomerId\", col)\n",
    "})]\n",
    "paste0(numeric_variables, \" is a numeric variable.\")"
   ]
  },
  {
   "cell_type": "code",
   "execution_count": 194,
   "id": "9bff97f1",
   "metadata": {},
   "outputs": [],
   "source": [
    "# Define a function to calculate outlier thresholds for a variable in a dataframe\n",
    "outlier_thresholds <- function(df, variable, low_quantile=0.025, up_quantile=0.975){\n",
    "  # Calculate the first quartile (lower quantile) of the variable\n",
    "  quantile_one <- quantile(df[[variable]], low_quantile)\n",
    "  # Calculate the third quartile (upper quantile) of the variable\n",
    "  quantile_three <- quantile(df[[variable]], up_quantile)\n",
    "  # Calculate the interquartile range of the variable\n",
    "  interquantile_range <- quantile_three - quantile_one\n",
    "  # Calculate the upper limit for outliers\n",
    "  up_limit <- quantile_three + 1.5 * interquantile_range\n",
    "  # Calculate the lower limit for outliers\n",
    "  low_limit <- quantile_one - 1.5 * interquantile_range\n",
    "  # Return the lower and upper limits as a vector\n",
    "  return(c(low_limit, up_limit))\n",
    "}"
   ]
  },
  {
   "cell_type": "code",
   "execution_count": 204,
   "id": "fb135b82",
   "metadata": {},
   "outputs": [],
   "source": [
    "# Define a function to check for outliers in numeric columns of a dataframe\n",
    "has_outliers <- function(dataframe, numeric_columns) {\n",
    "  \n",
    "  outlier_counts <- list() \n",
    "  # Loop through each numeric column in the dataframe\n",
    "  for (col in numeric_columns) {\n",
    "    # Calculate the outlier limits for the column using the outlier_thresholds function\n",
    "    limits <- outlier_thresholds(dataframe, col)\n",
    "    low_limit <- limits[1]\n",
    "    up_limit <- limits[2]\n",
    "    # Check if the column has any values outside the outlier limits\n",
    "    if (any(dataframe[[col]] < low_limit | dataframe[[col]] > up_limit)) {\n",
    "        # If there are outliers, count them and add outlier count to list\n",
    "        outlier_ind <- which(dataframe[[col]] < low_limit | dataframe[[col]] > up_limit)\n",
    "        outlier_counts[[col]] <- sum(outlier_ind) \n",
    "    }\n",
    "      \n",
    "    else {\n",
    "      outlier_counts[[col]] <- 0 \n",
    "    }\n",
    "  }\n",
    "  return(outlier_counts)\n",
    "}\n"
   ]
  },
  {
   "cell_type": "code",
   "execution_count": 205,
   "id": "0f96f552",
   "metadata": {},
   "outputs": [
    {
     "name": "stdout",
     "output_type": "stream",
     "text": [
      "[1] \"credit_score has 0 outliers\"\n",
      "[1] \"age has 0 outliers\"\n",
      "[1] \"balance has 0 outliers\"\n",
      "[1] \"estimated_salary has 0 outliers\"\n"
     ]
    }
   ],
   "source": [
    "for (var in numeric_variables) {\n",
    "  outliers <- has_outliers(df, var)\n",
    "  print(paste(var, \"has\", outliers, \"outliers\"))\n",
    "}"
   ]
  },
  {
   "cell_type": "markdown",
   "id": "7f14c461",
   "metadata": {},
   "source": [
    "__1.2 Are there variables in the dataset that will not be used in the analysis? Remove them.__"
   ]
  },
  {
   "cell_type": "code",
   "execution_count": 160,
   "id": "0b90c56f",
   "metadata": {},
   "outputs": [],
   "source": [
    "# Drop customer_id column\n",
    "df <- select(df, -customer_id)"
   ]
  },
  {
   "cell_type": "markdown",
   "id": "4f1f1f30",
   "metadata": {},
   "source": [
    "__1.3 Are there categorical variables in the dataset? \n",
    "Should you convert those variables to numerical?__"
   ]
  },
  {
   "cell_type": "code",
   "execution_count": 163,
   "id": "ebd460a5",
   "metadata": {},
   "outputs": [
    {
     "data": {
      "text/html": [
       "<table class=\"dataframe\">\n",
       "<caption>A data.frame: 6 × 12</caption>\n",
       "<thead>\n",
       "\t<tr><th></th><th scope=col>credit_score</th><th scope=col>age</th><th scope=col>tenure</th><th scope=col>balance</th><th scope=col>products_number</th><th scope=col>credit_card</th><th scope=col>active_member</th><th scope=col>estimated_salary</th><th scope=col>churn</th><th scope=col>genderFemale</th><th scope=col>countryFrance</th><th scope=col>countryGermany</th></tr>\n",
       "\t<tr><th></th><th scope=col>&lt;int&gt;</th><th scope=col>&lt;int&gt;</th><th scope=col>&lt;int&gt;</th><th scope=col>&lt;dbl&gt;</th><th scope=col>&lt;int&gt;</th><th scope=col>&lt;int&gt;</th><th scope=col>&lt;int&gt;</th><th scope=col>&lt;dbl&gt;</th><th scope=col>&lt;int&gt;</th><th scope=col>&lt;dbl&gt;</th><th scope=col>&lt;dbl&gt;</th><th scope=col>&lt;dbl&gt;</th></tr>\n",
       "</thead>\n",
       "<tbody>\n",
       "\t<tr><th scope=row>1</th><td>619</td><td>42</td><td>2</td><td>     0.00</td><td>1</td><td>1</td><td>1</td><td>101348.88</td><td>1</td><td>1</td><td>1</td><td>0</td></tr>\n",
       "\t<tr><th scope=row>2</th><td>608</td><td>41</td><td>1</td><td> 83807.86</td><td>1</td><td>0</td><td>1</td><td>112542.58</td><td>0</td><td>1</td><td>0</td><td>0</td></tr>\n",
       "\t<tr><th scope=row>3</th><td>699</td><td>39</td><td>1</td><td>     0.00</td><td>2</td><td>0</td><td>0</td><td> 93826.63</td><td>0</td><td>1</td><td>1</td><td>0</td></tr>\n",
       "\t<tr><th scope=row>4</th><td>850</td><td>43</td><td>2</td><td>125510.82</td><td>1</td><td>1</td><td>1</td><td> 79084.10</td><td>0</td><td>1</td><td>0</td><td>0</td></tr>\n",
       "\t<tr><th scope=row>5</th><td>645</td><td>44</td><td>8</td><td>113755.78</td><td>2</td><td>1</td><td>0</td><td>149756.71</td><td>1</td><td>0</td><td>0</td><td>0</td></tr>\n",
       "\t<tr><th scope=row>6</th><td>822</td><td>50</td><td>7</td><td>     0.00</td><td>2</td><td>1</td><td>1</td><td> 10062.80</td><td>0</td><td>0</td><td>1</td><td>0</td></tr>\n",
       "</tbody>\n",
       "</table>\n"
      ],
      "text/latex": [
       "A data.frame: 6 × 12\n",
       "\\begin{tabular}{r|llllllllllll}\n",
       "  & credit\\_score & age & tenure & balance & products\\_number & credit\\_card & active\\_member & estimated\\_salary & churn & genderFemale & countryFrance & countryGermany\\\\\n",
       "  & <int> & <int> & <int> & <dbl> & <int> & <int> & <int> & <dbl> & <int> & <dbl> & <dbl> & <dbl>\\\\\n",
       "\\hline\n",
       "\t1 & 619 & 42 & 2 &      0.00 & 1 & 1 & 1 & 101348.88 & 1 & 1 & 1 & 0\\\\\n",
       "\t2 & 608 & 41 & 1 &  83807.86 & 1 & 0 & 1 & 112542.58 & 0 & 1 & 0 & 0\\\\\n",
       "\t3 & 699 & 39 & 1 &      0.00 & 2 & 0 & 0 &  93826.63 & 0 & 1 & 1 & 0\\\\\n",
       "\t4 & 850 & 43 & 2 & 125510.82 & 1 & 1 & 1 &  79084.10 & 0 & 1 & 0 & 0\\\\\n",
       "\t5 & 645 & 44 & 8 & 113755.78 & 2 & 1 & 0 & 149756.71 & 1 & 0 & 0 & 0\\\\\n",
       "\t6 & 822 & 50 & 7 &      0.00 & 2 & 1 & 1 &  10062.80 & 0 & 0 & 1 & 0\\\\\n",
       "\\end{tabular}\n"
      ],
      "text/markdown": [
       "\n",
       "A data.frame: 6 × 12\n",
       "\n",
       "| <!--/--> | credit_score &lt;int&gt; | age &lt;int&gt; | tenure &lt;int&gt; | balance &lt;dbl&gt; | products_number &lt;int&gt; | credit_card &lt;int&gt; | active_member &lt;int&gt; | estimated_salary &lt;dbl&gt; | churn &lt;int&gt; | genderFemale &lt;dbl&gt; | countryFrance &lt;dbl&gt; | countryGermany &lt;dbl&gt; |\n",
       "|---|---|---|---|---|---|---|---|---|---|---|---|---|\n",
       "| 1 | 619 | 42 | 2 |      0.00 | 1 | 1 | 1 | 101348.88 | 1 | 1 | 1 | 0 |\n",
       "| 2 | 608 | 41 | 1 |  83807.86 | 1 | 0 | 1 | 112542.58 | 0 | 1 | 0 | 0 |\n",
       "| 3 | 699 | 39 | 1 |      0.00 | 2 | 0 | 0 |  93826.63 | 0 | 1 | 1 | 0 |\n",
       "| 4 | 850 | 43 | 2 | 125510.82 | 1 | 1 | 1 |  79084.10 | 0 | 1 | 0 | 0 |\n",
       "| 5 | 645 | 44 | 8 | 113755.78 | 2 | 1 | 0 | 149756.71 | 1 | 0 | 0 | 0 |\n",
       "| 6 | 822 | 50 | 7 |      0.00 | 2 | 1 | 1 |  10062.80 | 0 | 0 | 1 | 0 |\n",
       "\n"
      ],
      "text/plain": [
       "  credit_score age tenure balance   products_number credit_card active_member\n",
       "1 619          42  2           0.00 1               1           1            \n",
       "2 608          41  1       83807.86 1               0           1            \n",
       "3 699          39  1           0.00 2               0           0            \n",
       "4 850          43  2      125510.82 1               1           1            \n",
       "5 645          44  8      113755.78 2               1           0            \n",
       "6 822          50  7           0.00 2               1           1            \n",
       "  estimated_salary churn genderFemale countryFrance countryGermany\n",
       "1 101348.88        1     1            1             0             \n",
       "2 112542.58        0     1            0             0             \n",
       "3  93826.63        0     1            1             0             \n",
       "4  79084.10        0     1            0             0             \n",
       "5 149756.71        1     0            0             0             \n",
       "6  10062.80        0     0            1             0             "
      ]
     },
     "metadata": {},
     "output_type": "display_data"
    }
   ],
   "source": [
    "#One-hot encoding of gender variable\n",
    "gender_encoded <- model.matrix(~ gender - 1, data = df)\n",
    "new_df <- cbind(df, gender_encoded)\n",
    "\n",
    "#One-hot encoding of country variable\n",
    "country_encoded <- model.matrix(~ country - 1, data = df)\n",
    "new_df <- cbind(new_df, country_encoded)\n",
    "\n",
    "#Drop redundant columns (Verify if droping genderMale and countrySpain is right?)\n",
    "new_df <- select(new_df, -gender, -genderMale, -country, -countrySpain)\n",
    "head(new_df)"
   ]
  },
  {
   "cell_type": "markdown",
   "id": "efa922ad",
   "metadata": {},
   "source": [
    "# 2: Exploratory Data Analysis"
   ]
  },
  {
   "cell_type": "markdown",
   "id": "43653c6b",
   "metadata": {},
   "source": [
    "__2.1: What is the overall rate of customer churn in the dataset?__"
   ]
  },
  {
   "cell_type": "code",
   "execution_count": 164,
   "id": "2cd66b3c",
   "metadata": {},
   "outputs": [
    {
     "name": "stdout",
     "output_type": "stream",
     "text": [
      "The overall rate of customer churn is: 20.36%"
     ]
    }
   ],
   "source": [
    "churn_rate <- mean(df$churn)\n",
    "churn_rate_pct <-paste0(round(churn_rate*100,2),\"%\")\n",
    "cat(\"The overall rate of customer churn is:\",churn_rate_pct)"
   ]
  },
  {
   "cell_type": "markdown",
   "id": "cc1c8ba8",
   "metadata": {},
   "source": [
    "__2.2: How does the rate of customer churn vary by demographic variables such as age, gender, etc.? How does it vary across the countries?__"
   ]
  },
  {
   "cell_type": "code",
   "execution_count": 165,
   "id": "cef994c1",
   "metadata": {},
   "outputs": [
    {
     "name": "stdout",
     "output_type": "stream",
     "text": [
      "Churn rate by gender:\n",
      "  gender churn\n",
      "1 Female 24.98\n",
      "2   Male 16.49\n",
      "\n",
      "Churn rate by country:\n",
      "  country churn\n",
      "1  France 16.15\n",
      "2 Germany 32.33\n",
      "3   Spain 16.70\n"
     ]
    }
   ],
   "source": [
    "churn_rate_by_gender <- aggregate(churn ~ gender, df, function(x) round(100 * sum(x) / length(x), 2))\n",
    "                                  \n",
    "churn_rate_by_country <- aggregate(churn ~ country, df, function(x) round(100 * sum(x) / length(x), 2))\n",
    "                                  \n",
    "cat(\"Churn rate by gender:\\n\")\n",
    "print(churn_rate_by_gender)\n",
    "cat(\"\\n\")                         \n",
    "cat(\"Churn rate by country:\\n\")\n",
    "print(churn_rate_by_country)"
   ]
  },
  {
   "cell_type": "markdown",
   "id": "a1e1c8d1",
   "metadata": {},
   "source": [
    "Women have, on average, a higher churn rate then men. Germans have, on average, a higher churn rate than French and Spanish."
   ]
  },
  {
   "cell_type": "code",
   "execution_count": 166,
   "id": "30e7950b",
   "metadata": {},
   "outputs": [
    {
     "data": {
      "image/png": "[encoded data removed]",
      "text/plain": [
       "plot without title"
      ]
     },
     "metadata": {
      "image/png": {
       "height": 420,
       "width": 420
      }
     },
     "output_type": "display_data"
    }
   ],
   "source": [
    "# Plot age distribution by churn vs. no-churn\n",
    "ggplot(df, aes(x = age, fill = as.factor(churn))) +\n",
    "  geom_histogram(position = \"identity\", alpha = 0.5, bins = 25) +\n",
    "  scale_fill_manual(values = c(\"red\", \"blue\"), labels=c('No churn', 'Churn')) +\n",
    "  labs(title = \"Histogram of Age by Churn\", x = \"Age\", y = \"Frequency\", fill = \"Churn\") +\n",
    "  theme_classic()"
   ]
  },
  {
   "cell_type": "code",
   "execution_count": 167,
   "id": "f9c55b4b",
   "metadata": {},
   "outputs": [
    {
     "name": "stdout",
     "output_type": "stream",
     "text": [
      "Churn rate by country:\n",
      "   age_brackets churn\n",
      "1       [15,20)  6.52\n",
      "2       [20,25)  9.24\n",
      "3       [25,30)  6.89\n",
      "4       [30,35)  8.46\n",
      "5       [35,40) 12.97\n",
      "6       [40,45) 24.17\n",
      "7       [45,50) 42.84\n",
      "8       [50,55) 56.28\n",
      "9       [55,60) 54.55\n",
      "10      [60,65) 41.44\n",
      "11      [65,70) 21.37\n",
      "12      [70,75) 15.91\n",
      "13      [75,80)  0.00\n",
      "14      [80,85) 11.11\n",
      "15      [85,90)  0.00\n",
      "16      [90,95)  0.00\n"
     ]
    }
   ],
   "source": [
    "age_brackets <- cut(df$age, breaks = seq(15, 95, by = 5), right = FALSE)\n",
    "churn_rate_by_age_bracket <- aggregate(churn ~ age_brackets, df, function(x) round(100 * sum(x) / length(x), 2))\n",
    "cat(\"Churn rate by country:\\n\")\n",
    "print(churn_rate_by_age_bracket)"
   ]
  },
  {
   "cell_type": "markdown",
   "id": "1ae92080",
   "metadata": {},
   "source": [
    "Customers in the age group between 45 and 65 have the highest churn rate. "
   ]
  },
  {
   "cell_type": "markdown",
   "id": "44bce97c",
   "metadata": {},
   "source": [
    "__2.3: Report interesting patterns that you find in the dataset.__"
   ]
  },
  {
   "cell_type": "code",
   "execution_count": 168,
   "id": "4232c0e0",
   "metadata": {},
   "outputs": [
    {
     "data": {
      "image/png": "[encoded data removed]",
      "text/plain": [
       "plot without title"
      ]
     },
     "metadata": {
      "image/png": {
       "height": 420,
       "width": 420
      }
     },
     "output_type": "display_data"
    }
   ],
   "source": [
    "# Plot product number distribution by churn vs. no-churn\n",
    "ggplot(df, aes(x = products_number, fill = as.factor(churn))) +\n",
    "  geom_histogram(position = \"identity\", alpha = 0.5, bins = 25) +\n",
    "  scale_fill_manual(values = c(\"red\", \"blue\"), labels=c('No churn', 'Churn')) +\n",
    "  labs(title = \"Histogram of Products Number by Churn\", x = \"Products Number\", y = \"Frequency\", fill = \"Churn\") +\n",
    "  theme_classic()"
   ]
  },
  {
   "cell_type": "code",
   "execution_count": 169,
   "id": "91d7fa9e",
   "metadata": {},
   "outputs": [
    {
     "name": "stdout",
     "output_type": "stream",
     "text": [
      "Mean diff in number of products: 0.0712257 \n",
      "Median diff in number of products: 1 \n",
      "P-value for number of products vs churn: 0.0002905912 \n"
     ]
    }
   ],
   "source": [
    "# Separate out ages for two groups\n",
    "products_churn <- df$products_number[df$churn == 1]\n",
    "products_no_churn <- df$products_number[df$churn == 0]\n",
    "\n",
    "# Calculate difference in mean and median\n",
    "mean_diff_products <- mean(products_no_churn) - mean(products_churn)\n",
    "median_diff_products <- median(products_no_churn) - median(products_churn)\n",
    "cat(\"Mean diff in number of products:\", mean_diff_products, \"\\n\")\n",
    "cat(\"Median diff in number of products:\", median_diff_products, \"\\n\")\n",
    "\n",
    "# Run t-test\n",
    "ttest <- t.test(products_churn, products_no_churn)\n",
    "pval <- ttest$p.value\n",
    "cat(\"P-value for number of products vs churn:\", pval, \"\\n\")"
   ]
  },
  {
   "cell_type": "markdown",
   "id": "b471d4b5",
   "metadata": {},
   "source": [
    "There seems to be a statistically significant relationship between the number of products and churn. Customers that have a higher number of products are less likely to churn. The fact, however, that customers with four products have all churned goes against this observation. "
   ]
  },
  {
   "cell_type": "code",
   "execution_count": 170,
   "id": "3481d5f4",
   "metadata": {
    "scrolled": false
   },
   "outputs": [
    {
     "data": {
      "text/html": [
       "<table class=\"dataframe\">\n",
       "<caption>A data.frame: 54 × 11</caption>\n",
       "<thead>\n",
       "\t<tr><th></th><th scope=col>credit_score</th><th scope=col>country</th><th scope=col>gender</th><th scope=col>age</th><th scope=col>tenure</th><th scope=col>balance</th><th scope=col>products_number</th><th scope=col>credit_card</th><th scope=col>active_member</th><th scope=col>estimated_salary</th><th scope=col>churn</th></tr>\n",
       "\t<tr><th></th><th scope=col>&lt;int&gt;</th><th scope=col>&lt;chr&gt;</th><th scope=col>&lt;chr&gt;</th><th scope=col>&lt;int&gt;</th><th scope=col>&lt;int&gt;</th><th scope=col>&lt;dbl&gt;</th><th scope=col>&lt;int&gt;</th><th scope=col>&lt;int&gt;</th><th scope=col>&lt;int&gt;</th><th scope=col>&lt;dbl&gt;</th><th scope=col>&lt;int&gt;</th></tr>\n",
       "</thead>\n",
       "<tbody>\n",
       "\t<tr><th scope=row>7</th><td>376</td><td>Germany</td><td>Female</td><td>29</td><td> 4</td><td>115046.74</td><td>4</td><td>1</td><td>0</td><td>119346.88</td><td>1</td></tr>\n",
       "\t<tr><th scope=row>65</th><td>738</td><td>Germany</td><td>Male  </td><td>58</td><td> 2</td><td>133745.44</td><td>4</td><td>1</td><td>0</td><td> 28373.86</td><td>1</td></tr>\n",
       "\t<tr><th scope=row>1115</th><td>628</td><td>France </td><td>Female</td><td>46</td><td> 1</td><td> 46870.43</td><td>4</td><td>1</td><td>0</td><td> 31272.14</td><td>1</td></tr>\n",
       "\t<tr><th scope=row>1307</th><td>819</td><td>Germany</td><td>Female</td><td>49</td><td> 1</td><td>120656.86</td><td>4</td><td>0</td><td>0</td><td>166164.30</td><td>1</td></tr>\n",
       "\t<tr><th scope=row>1324</th><td>596</td><td>Spain  </td><td>Male  </td><td>30</td><td> 6</td><td>121345.88</td><td>4</td><td>1</td><td>0</td><td> 41921.75</td><td>1</td></tr>\n",
       "\t<tr><th scope=row>1519</th><td>792</td><td>France </td><td>Male  </td><td>50</td><td> 9</td><td>     0.00</td><td>4</td><td>1</td><td>1</td><td>194700.81</td><td>1</td></tr>\n",
       "\t<tr><th scope=row>1669</th><td>640</td><td>Germany</td><td>Male  </td><td>39</td><td> 9</td><td>131607.28</td><td>4</td><td>0</td><td>1</td><td>  6981.43</td><td>1</td></tr>\n",
       "\t<tr><th scope=row>1895</th><td>704</td><td>France </td><td>Male  </td><td>32</td><td> 7</td><td>127785.17</td><td>4</td><td>0</td><td>0</td><td>184464.70</td><td>1</td></tr>\n",
       "\t<tr><th scope=row>1962</th><td>773</td><td>Germany</td><td>Male  </td><td>47</td><td> 2</td><td>118079.47</td><td>4</td><td>1</td><td>1</td><td>143007.49</td><td>1</td></tr>\n",
       "\t<tr><th scope=row>2043</th><td>630</td><td>Germany</td><td>Male  </td><td>50</td><td> 3</td><td>129370.91</td><td>4</td><td>1</td><td>1</td><td> 47775.34</td><td>1</td></tr>\n",
       "\t<tr><th scope=row>2207</th><td>672</td><td>France </td><td>Female</td><td>53</td><td> 9</td><td>169406.33</td><td>4</td><td>1</td><td>1</td><td>147311.47</td><td>1</td></tr>\n",
       "\t<tr><th scope=row>2242</th><td>614</td><td>France </td><td>Female</td><td>37</td><td> 8</td><td> 75150.34</td><td>4</td><td>0</td><td>1</td><td>131766.67</td><td>1</td></tr>\n",
       "\t<tr><th scope=row>2252</th><td>655</td><td>France </td><td>Female</td><td>50</td><td>10</td><td>     0.00</td><td>4</td><td>1</td><td>0</td><td>179267.94</td><td>1</td></tr>\n",
       "\t<tr><th scope=row>2280</th><td>611</td><td>France </td><td>Female</td><td>61</td><td> 3</td><td>131583.59</td><td>4</td><td>0</td><td>1</td><td> 66238.23</td><td>1</td></tr>\n",
       "\t<tr><th scope=row>2345</th><td>546</td><td>Germany</td><td>Female</td><td>58</td><td> 3</td><td>106458.31</td><td>4</td><td>1</td><td>0</td><td>128881.87</td><td>1</td></tr>\n",
       "\t<tr><th scope=row>2575</th><td>439</td><td>Spain  </td><td>Male  </td><td>52</td><td> 3</td><td> 96196.24</td><td>4</td><td>1</td><td>0</td><td>198874.52</td><td>1</td></tr>\n",
       "\t<tr><th scope=row>2829</th><td>644</td><td>France </td><td>Female</td><td>40</td><td> 9</td><td>137285.26</td><td>4</td><td>1</td><td>0</td><td> 77063.63</td><td>1</td></tr>\n",
       "\t<tr><th scope=row>3014</th><td>671</td><td>Spain  </td><td>Female</td><td>34</td><td> 5</td><td>130929.02</td><td>4</td><td>1</td><td>1</td><td> 28238.25</td><td>1</td></tr>\n",
       "\t<tr><th scope=row>3596</th><td>720</td><td>Germany</td><td>Female</td><td>57</td><td> 1</td><td>162082.31</td><td>4</td><td>0</td><td>0</td><td> 27145.73</td><td>1</td></tr>\n",
       "\t<tr><th scope=row>3597</th><td>641</td><td>Germany</td><td>Female</td><td>51</td><td> 2</td><td>117306.69</td><td>4</td><td>1</td><td>1</td><td> 26912.72</td><td>1</td></tr>\n",
       "\t<tr><th scope=row>3732</th><td>850</td><td>Spain  </td><td>Female</td><td>45</td><td> 5</td><td>174088.30</td><td>4</td><td>1</td><td>0</td><td>  5669.31</td><td>1</td></tr>\n",
       "\t<tr><th scope=row>3813</th><td>587</td><td>France </td><td>Male  </td><td>40</td><td> 2</td><td>     0.00</td><td>4</td><td>0</td><td>1</td><td>106174.70</td><td>1</td></tr>\n",
       "\t<tr><th scope=row>3945</th><td>602</td><td>Germany</td><td>Female</td><td>43</td><td> 2</td><td>113641.49</td><td>4</td><td>1</td><td>0</td><td>115116.35</td><td>1</td></tr>\n",
       "\t<tr><th scope=row>4042</th><td>634</td><td>France </td><td>Female</td><td>45</td><td> 2</td><td>     0.00</td><td>4</td><td>1</td><td>0</td><td>101039.53</td><td>1</td></tr>\n",
       "\t<tr><th scope=row>4046</th><td>497</td><td>Germany</td><td>Female</td><td>32</td><td> 8</td><td>111537.23</td><td>4</td><td>1</td><td>1</td><td>  9497.99</td><td>1</td></tr>\n",
       "\t<tr><th scope=row>4128</th><td>797</td><td>France </td><td>Female</td><td>55</td><td>10</td><td>     0.00</td><td>4</td><td>1</td><td>1</td><td> 49418.87</td><td>1</td></tr>\n",
       "\t<tr><th scope=row>4261</th><td>537</td><td>Germany</td><td>Female</td><td>37</td><td> 7</td><td>158411.95</td><td>4</td><td>1</td><td>1</td><td>117690.58</td><td>1</td></tr>\n",
       "\t<tr><th scope=row>4332</th><td>745</td><td>France </td><td>Female</td><td>32</td><td> 2</td><td>     0.00</td><td>4</td><td>0</td><td>1</td><td>179705.13</td><td>1</td></tr>\n",
       "\t<tr><th scope=row>4501</th><td>575</td><td>Germany</td><td>Male  </td><td>49</td><td> 7</td><td>121205.15</td><td>4</td><td>1</td><td>1</td><td>168080.53</td><td>1</td></tr>\n",
       "\t<tr><th scope=row>4707</th><td>645</td><td>France </td><td>Female</td><td>68</td><td> 9</td><td>     0.00</td><td>4</td><td>1</td><td>1</td><td>176353.87</td><td>1</td></tr>\n",
       "\t<tr><th scope=row>4836</th><td>642</td><td>France </td><td>Male  </td><td>48</td><td> 9</td><td>118317.27</td><td>4</td><td>0</td><td>0</td><td> 78702.98</td><td>1</td></tr>\n",
       "\t<tr><th scope=row>5118</th><td>447</td><td>France </td><td>Male  </td><td>41</td><td> 3</td><td>     0.00</td><td>4</td><td>1</td><td>1</td><td>197490.39</td><td>1</td></tr>\n",
       "\t<tr><th scope=row>5302</th><td>692</td><td>Germany</td><td>Male  </td><td>45</td><td> 6</td><td>142084.04</td><td>4</td><td>1</td><td>0</td><td>188305.85</td><td>1</td></tr>\n",
       "\t<tr><th scope=row>5516</th><td>632</td><td>Germany</td><td>Male  </td><td>41</td><td> 8</td><td>127205.32</td><td>4</td><td>1</td><td>0</td><td> 93874.87</td><td>1</td></tr>\n",
       "\t<tr><th scope=row>5536</th><td>568</td><td>Germany</td><td>Male  </td><td>43</td><td> 5</td><td> 87612.64</td><td>4</td><td>1</td><td>1</td><td>107155.40</td><td>1</td></tr>\n",
       "\t<tr><th scope=row>6047</th><td>618</td><td>France </td><td>Female</td><td>42</td><td> 2</td><td>     0.00</td><td>4</td><td>0</td><td>0</td><td>111097.39</td><td>1</td></tr>\n",
       "\t<tr><th scope=row>6159</th><td>610</td><td>France </td><td>Female</td><td>57</td><td> 7</td><td> 72092.95</td><td>4</td><td>0</td><td>1</td><td>113228.82</td><td>1</td></tr>\n",
       "\t<tr><th scope=row>6684</th><td>665</td><td>Germany</td><td>Female</td><td>43</td><td> 2</td><td>116322.27</td><td>4</td><td>1</td><td>0</td><td> 35640.12</td><td>1</td></tr>\n",
       "\t<tr><th scope=row>6778</th><td>629</td><td>France </td><td>Male  </td><td>44</td><td> 5</td><td>     0.00</td><td>4</td><td>0</td><td>0</td><td>117572.59</td><td>1</td></tr>\n",
       "\t<tr><th scope=row>6896</th><td>592</td><td>France </td><td>Male  </td><td>60</td><td> 9</td><td>     0.00</td><td>4</td><td>1</td><td>1</td><td> 13614.01</td><td>1</td></tr>\n",
       "\t<tr><th scope=row>6920</th><td>842</td><td>France </td><td>Male  </td><td>44</td><td> 3</td><td>141252.18</td><td>4</td><td>0</td><td>1</td><td>128521.16</td><td>1</td></tr>\n",
       "\t<tr><th scope=row>6924</th><td>850</td><td>France </td><td>Female</td><td>35</td><td> 2</td><td>128548.49</td><td>4</td><td>1</td><td>0</td><td> 75478.95</td><td>1</td></tr>\n",
       "\t<tr><th scope=row>7210</th><td>698</td><td>Spain  </td><td>Female</td><td>50</td><td> 1</td><td>     0.00</td><td>4</td><td>1</td><td>0</td><td> 88566.90</td><td>1</td></tr>\n",
       "\t<tr><th scope=row>7707</th><td>771</td><td>France </td><td>Female</td><td>41</td><td>10</td><td>108309.00</td><td>4</td><td>1</td><td>1</td><td>137510.41</td><td>1</td></tr>\n",
       "\t<tr><th scope=row>7794</th><td>697</td><td>France </td><td>Female</td><td>49</td><td> 7</td><td>195238.29</td><td>4</td><td>0</td><td>1</td><td>131083.56</td><td>1</td></tr>\n",
       "\t<tr><th scope=row>7948</th><td>500</td><td>Spain  </td><td>Female</td><td>50</td><td> 5</td><td>     0.00</td><td>4</td><td>1</td><td>1</td><td> 83866.35</td><td>1</td></tr>\n",
       "\t<tr><th scope=row>8017</th><td>625</td><td>Germany</td><td>Female</td><td>55</td><td> 8</td><td>118772.71</td><td>4</td><td>0</td><td>0</td><td>135853.62</td><td>1</td></tr>\n",
       "\t<tr><th scope=row>8287</th><td>584</td><td>Germany</td><td>Female</td><td>37</td><td>10</td><td>134171.80</td><td>4</td><td>1</td><td>1</td><td> 70927.11</td><td>1</td></tr>\n",
       "\t<tr><th scope=row>8324</th><td>847</td><td>Germany</td><td>Female</td><td>41</td><td> 3</td><td>101543.51</td><td>4</td><td>1</td><td>0</td><td> 16025.17</td><td>1</td></tr>\n",
       "\t<tr><th scope=row>8385</th><td>644</td><td>France </td><td>Male  </td><td>50</td><td> 9</td><td> 76817.00</td><td>4</td><td>1</td><td>0</td><td>196371.13</td><td>1</td></tr>\n",
       "\t<tr><th scope=row>8427</th><td>561</td><td>France </td><td>Male  </td><td>43</td><td> 4</td><td>     0.00</td><td>4</td><td>0</td><td>0</td><td> 18522.91</td><td>1</td></tr>\n",
       "\t<tr><th scope=row>8466</th><td>689</td><td>Germany</td><td>Female</td><td>40</td><td> 4</td><td> 78119.59</td><td>4</td><td>1</td><td>0</td><td>119259.34</td><td>1</td></tr>\n",
       "\t<tr><th scope=row>8586</th><td>727</td><td>Germany</td><td>Male  </td><td>46</td><td> 3</td><td>115248.11</td><td>4</td><td>1</td><td>0</td><td>130752.01</td><td>1</td></tr>\n",
       "\t<tr><th scope=row>8607</th><td>582</td><td>France </td><td>Female</td><td>38</td><td> 9</td><td>135979.01</td><td>4</td><td>1</td><td>1</td><td> 76582.95</td><td>1</td></tr>\n",
       "</tbody>\n",
       "</table>\n"
      ],
      "text/latex": [
       "A data.frame: 54 × 11\n",
       "\\begin{tabular}{r|lllllllllll}\n",
       "  & credit\\_score & country & gender & age & tenure & balance & products\\_number & credit\\_card & active\\_member & estimated\\_salary & churn\\\\\n",
       "  & <int> & <chr> & <chr> & <int> & <int> & <dbl> & <int> & <int> & <int> & <dbl> & <int>\\\\\n",
       "\\hline\n",
       "\t7 & 376 & Germany & Female & 29 &  4 & 115046.74 & 4 & 1 & 0 & 119346.88 & 1\\\\\n",
       "\t65 & 738 & Germany & Male   & 58 &  2 & 133745.44 & 4 & 1 & 0 &  28373.86 & 1\\\\\n",
       "\t1115 & 628 & France  & Female & 46 &  1 &  46870.43 & 4 & 1 & 0 &  31272.14 & 1\\\\\n",
       "\t1307 & 819 & Germany & Female & 49 &  1 & 120656.86 & 4 & 0 & 0 & 166164.30 & 1\\\\\n",
       "\t1324 & 596 & Spain   & Male   & 30 &  6 & 121345.88 & 4 & 1 & 0 &  41921.75 & 1\\\\\n",
       "\t1519 & 792 & France  & Male   & 50 &  9 &      0.00 & 4 & 1 & 1 & 194700.81 & 1\\\\\n",
       "\t1669 & 640 & Germany & Male   & 39 &  9 & 131607.28 & 4 & 0 & 1 &   6981.43 & 1\\\\\n",
       "\t1895 & 704 & France  & Male   & 32 &  7 & 127785.17 & 4 & 0 & 0 & 184464.70 & 1\\\\\n",
       "\t1962 & 773 & Germany & Male   & 47 &  2 & 118079.47 & 4 & 1 & 1 & 143007.49 & 1\\\\\n",
       "\t2043 & 630 & Germany & Male   & 50 &  3 & 129370.91 & 4 & 1 & 1 &  47775.34 & 1\\\\\n",
       "\t2207 & 672 & France  & Female & 53 &  9 & 169406.33 & 4 & 1 & 1 & 147311.47 & 1\\\\\n",
       "\t2242 & 614 & France  & Female & 37 &  8 &  75150.34 & 4 & 0 & 1 & 131766.67 & 1\\\\\n",
       "\t2252 & 655 & France  & Female & 50 & 10 &      0.00 & 4 & 1 & 0 & 179267.94 & 1\\\\\n",
       "\t2280 & 611 & France  & Female & 61 &  3 & 131583.59 & 4 & 0 & 1 &  66238.23 & 1\\\\\n",
       "\t2345 & 546 & Germany & Female & 58 &  3 & 106458.31 & 4 & 1 & 0 & 128881.87 & 1\\\\\n",
       "\t2575 & 439 & Spain   & Male   & 52 &  3 &  96196.24 & 4 & 1 & 0 & 198874.52 & 1\\\\\n",
       "\t2829 & 644 & France  & Female & 40 &  9 & 137285.26 & 4 & 1 & 0 &  77063.63 & 1\\\\\n",
       "\t3014 & 671 & Spain   & Female & 34 &  5 & 130929.02 & 4 & 1 & 1 &  28238.25 & 1\\\\\n",
       "\t3596 & 720 & Germany & Female & 57 &  1 & 162082.31 & 4 & 0 & 0 &  27145.73 & 1\\\\\n",
       "\t3597 & 641 & Germany & Female & 51 &  2 & 117306.69 & 4 & 1 & 1 &  26912.72 & 1\\\\\n",
       "\t3732 & 850 & Spain   & Female & 45 &  5 & 174088.30 & 4 & 1 & 0 &   5669.31 & 1\\\\\n",
       "\t3813 & 587 & France  & Male   & 40 &  2 &      0.00 & 4 & 0 & 1 & 106174.70 & 1\\\\\n",
       "\t3945 & 602 & Germany & Female & 43 &  2 & 113641.49 & 4 & 1 & 0 & 115116.35 & 1\\\\\n",
       "\t4042 & 634 & France  & Female & 45 &  2 &      0.00 & 4 & 1 & 0 & 101039.53 & 1\\\\\n",
       "\t4046 & 497 & Germany & Female & 32 &  8 & 111537.23 & 4 & 1 & 1 &   9497.99 & 1\\\\\n",
       "\t4128 & 797 & France  & Female & 55 & 10 &      0.00 & 4 & 1 & 1 &  49418.87 & 1\\\\\n",
       "\t4261 & 537 & Germany & Female & 37 &  7 & 158411.95 & 4 & 1 & 1 & 117690.58 & 1\\\\\n",
       "\t4332 & 745 & France  & Female & 32 &  2 &      0.00 & 4 & 0 & 1 & 179705.13 & 1\\\\\n",
       "\t4501 & 575 & Germany & Male   & 49 &  7 & 121205.15 & 4 & 1 & 1 & 168080.53 & 1\\\\\n",
       "\t4707 & 645 & France  & Female & 68 &  9 &      0.00 & 4 & 1 & 1 & 176353.87 & 1\\\\\n",
       "\t4836 & 642 & France  & Male   & 48 &  9 & 118317.27 & 4 & 0 & 0 &  78702.98 & 1\\\\\n",
       "\t5118 & 447 & France  & Male   & 41 &  3 &      0.00 & 4 & 1 & 1 & 197490.39 & 1\\\\\n",
       "\t5302 & 692 & Germany & Male   & 45 &  6 & 142084.04 & 4 & 1 & 0 & 188305.85 & 1\\\\\n",
       "\t5516 & 632 & Germany & Male   & 41 &  8 & 127205.32 & 4 & 1 & 0 &  93874.87 & 1\\\\\n",
       "\t5536 & 568 & Germany & Male   & 43 &  5 &  87612.64 & 4 & 1 & 1 & 107155.40 & 1\\\\\n",
       "\t6047 & 618 & France  & Female & 42 &  2 &      0.00 & 4 & 0 & 0 & 111097.39 & 1\\\\\n",
       "\t6159 & 610 & France  & Female & 57 &  7 &  72092.95 & 4 & 0 & 1 & 113228.82 & 1\\\\\n",
       "\t6684 & 665 & Germany & Female & 43 &  2 & 116322.27 & 4 & 1 & 0 &  35640.12 & 1\\\\\n",
       "\t6778 & 629 & France  & Male   & 44 &  5 &      0.00 & 4 & 0 & 0 & 117572.59 & 1\\\\\n",
       "\t6896 & 592 & France  & Male   & 60 &  9 &      0.00 & 4 & 1 & 1 &  13614.01 & 1\\\\\n",
       "\t6920 & 842 & France  & Male   & 44 &  3 & 141252.18 & 4 & 0 & 1 & 128521.16 & 1\\\\\n",
       "\t6924 & 850 & France  & Female & 35 &  2 & 128548.49 & 4 & 1 & 0 &  75478.95 & 1\\\\\n",
       "\t7210 & 698 & Spain   & Female & 50 &  1 &      0.00 & 4 & 1 & 0 &  88566.90 & 1\\\\\n",
       "\t7707 & 771 & France  & Female & 41 & 10 & 108309.00 & 4 & 1 & 1 & 137510.41 & 1\\\\\n",
       "\t7794 & 697 & France  & Female & 49 &  7 & 195238.29 & 4 & 0 & 1 & 131083.56 & 1\\\\\n",
       "\t7948 & 500 & Spain   & Female & 50 &  5 &      0.00 & 4 & 1 & 1 &  83866.35 & 1\\\\\n",
       "\t8017 & 625 & Germany & Female & 55 &  8 & 118772.71 & 4 & 0 & 0 & 135853.62 & 1\\\\\n",
       "\t8287 & 584 & Germany & Female & 37 & 10 & 134171.80 & 4 & 1 & 1 &  70927.11 & 1\\\\\n",
       "\t8324 & 847 & Germany & Female & 41 &  3 & 101543.51 & 4 & 1 & 0 &  16025.17 & 1\\\\\n",
       "\t8385 & 644 & France  & Male   & 50 &  9 &  76817.00 & 4 & 1 & 0 & 196371.13 & 1\\\\\n",
       "\t8427 & 561 & France  & Male   & 43 &  4 &      0.00 & 4 & 0 & 0 &  18522.91 & 1\\\\\n",
       "\t8466 & 689 & Germany & Female & 40 &  4 &  78119.59 & 4 & 1 & 0 & 119259.34 & 1\\\\\n",
       "\t8586 & 727 & Germany & Male   & 46 &  3 & 115248.11 & 4 & 1 & 0 & 130752.01 & 1\\\\\n",
       "\t8607 & 582 & France  & Female & 38 &  9 & 135979.01 & 4 & 1 & 1 &  76582.95 & 1\\\\\n",
       "\\end{tabular}\n"
      ],
      "text/markdown": [
       "\n",
       "A data.frame: 54 × 11\n",
       "\n",
       "| <!--/--> | credit_score &lt;int&gt; | country &lt;chr&gt; | gender &lt;chr&gt; | age &lt;int&gt; | tenure &lt;int&gt; | balance &lt;dbl&gt; | products_number &lt;int&gt; | credit_card &lt;int&gt; | active_member &lt;int&gt; | estimated_salary &lt;dbl&gt; | churn &lt;int&gt; |\n",
       "|---|---|---|---|---|---|---|---|---|---|---|---|\n",
       "| 7 | 376 | Germany | Female | 29 |  4 | 115046.74 | 4 | 1 | 0 | 119346.88 | 1 |\n",
       "| 65 | 738 | Germany | Male   | 58 |  2 | 133745.44 | 4 | 1 | 0 |  28373.86 | 1 |\n",
       "| 1115 | 628 | France  | Female | 46 |  1 |  46870.43 | 4 | 1 | 0 |  31272.14 | 1 |\n",
       "| 1307 | 819 | Germany | Female | 49 |  1 | 120656.86 | 4 | 0 | 0 | 166164.30 | 1 |\n",
       "| 1324 | 596 | Spain   | Male   | 30 |  6 | 121345.88 | 4 | 1 | 0 |  41921.75 | 1 |\n",
       "| 1519 | 792 | France  | Male   | 50 |  9 |      0.00 | 4 | 1 | 1 | 194700.81 | 1 |\n",
       "| 1669 | 640 | Germany | Male   | 39 |  9 | 131607.28 | 4 | 0 | 1 |   6981.43 | 1 |\n",
       "| 1895 | 704 | France  | Male   | 32 |  7 | 127785.17 | 4 | 0 | 0 | 184464.70 | 1 |\n",
       "| 1962 | 773 | Germany | Male   | 47 |  2 | 118079.47 | 4 | 1 | 1 | 143007.49 | 1 |\n",
       "| 2043 | 630 | Germany | Male   | 50 |  3 | 129370.91 | 4 | 1 | 1 |  47775.34 | 1 |\n",
       "| 2207 | 672 | France  | Female | 53 |  9 | 169406.33 | 4 | 1 | 1 | 147311.47 | 1 |\n",
       "| 2242 | 614 | France  | Female | 37 |  8 |  75150.34 | 4 | 0 | 1 | 131766.67 | 1 |\n",
       "| 2252 | 655 | France  | Female | 50 | 10 |      0.00 | 4 | 1 | 0 | 179267.94 | 1 |\n",
       "| 2280 | 611 | France  | Female | 61 |  3 | 131583.59 | 4 | 0 | 1 |  66238.23 | 1 |\n",
       "| 2345 | 546 | Germany | Female | 58 |  3 | 106458.31 | 4 | 1 | 0 | 128881.87 | 1 |\n",
       "| 2575 | 439 | Spain   | Male   | 52 |  3 |  96196.24 | 4 | 1 | 0 | 198874.52 | 1 |\n",
       "| 2829 | 644 | France  | Female | 40 |  9 | 137285.26 | 4 | 1 | 0 |  77063.63 | 1 |\n",
       "| 3014 | 671 | Spain   | Female | 34 |  5 | 130929.02 | 4 | 1 | 1 |  28238.25 | 1 |\n",
       "| 3596 | 720 | Germany | Female | 57 |  1 | 162082.31 | 4 | 0 | 0 |  27145.73 | 1 |\n",
       "| 3597 | 641 | Germany | Female | 51 |  2 | 117306.69 | 4 | 1 | 1 |  26912.72 | 1 |\n",
       "| 3732 | 850 | Spain   | Female | 45 |  5 | 174088.30 | 4 | 1 | 0 |   5669.31 | 1 |\n",
       "| 3813 | 587 | France  | Male   | 40 |  2 |      0.00 | 4 | 0 | 1 | 106174.70 | 1 |\n",
       "| 3945 | 602 | Germany | Female | 43 |  2 | 113641.49 | 4 | 1 | 0 | 115116.35 | 1 |\n",
       "| 4042 | 634 | France  | Female | 45 |  2 |      0.00 | 4 | 1 | 0 | 101039.53 | 1 |\n",
       "| 4046 | 497 | Germany | Female | 32 |  8 | 111537.23 | 4 | 1 | 1 |   9497.99 | 1 |\n",
       "| 4128 | 797 | France  | Female | 55 | 10 |      0.00 | 4 | 1 | 1 |  49418.87 | 1 |\n",
       "| 4261 | 537 | Germany | Female | 37 |  7 | 158411.95 | 4 | 1 | 1 | 117690.58 | 1 |\n",
       "| 4332 | 745 | France  | Female | 32 |  2 |      0.00 | 4 | 0 | 1 | 179705.13 | 1 |\n",
       "| 4501 | 575 | Germany | Male   | 49 |  7 | 121205.15 | 4 | 1 | 1 | 168080.53 | 1 |\n",
       "| 4707 | 645 | France  | Female | 68 |  9 |      0.00 | 4 | 1 | 1 | 176353.87 | 1 |\n",
       "| 4836 | 642 | France  | Male   | 48 |  9 | 118317.27 | 4 | 0 | 0 |  78702.98 | 1 |\n",
       "| 5118 | 447 | France  | Male   | 41 |  3 |      0.00 | 4 | 1 | 1 | 197490.39 | 1 |\n",
       "| 5302 | 692 | Germany | Male   | 45 |  6 | 142084.04 | 4 | 1 | 0 | 188305.85 | 1 |\n",
       "| 5516 | 632 | Germany | Male   | 41 |  8 | 127205.32 | 4 | 1 | 0 |  93874.87 | 1 |\n",
       "| 5536 | 568 | Germany | Male   | 43 |  5 |  87612.64 | 4 | 1 | 1 | 107155.40 | 1 |\n",
       "| 6047 | 618 | France  | Female | 42 |  2 |      0.00 | 4 | 0 | 0 | 111097.39 | 1 |\n",
       "| 6159 | 610 | France  | Female | 57 |  7 |  72092.95 | 4 | 0 | 1 | 113228.82 | 1 |\n",
       "| 6684 | 665 | Germany | Female | 43 |  2 | 116322.27 | 4 | 1 | 0 |  35640.12 | 1 |\n",
       "| 6778 | 629 | France  | Male   | 44 |  5 |      0.00 | 4 | 0 | 0 | 117572.59 | 1 |\n",
       "| 6896 | 592 | France  | Male   | 60 |  9 |      0.00 | 4 | 1 | 1 |  13614.01 | 1 |\n",
       "| 6920 | 842 | France  | Male   | 44 |  3 | 141252.18 | 4 | 0 | 1 | 128521.16 | 1 |\n",
       "| 6924 | 850 | France  | Female | 35 |  2 | 128548.49 | 4 | 1 | 0 |  75478.95 | 1 |\n",
       "| 7210 | 698 | Spain   | Female | 50 |  1 |      0.00 | 4 | 1 | 0 |  88566.90 | 1 |\n",
       "| 7707 | 771 | France  | Female | 41 | 10 | 108309.00 | 4 | 1 | 1 | 137510.41 | 1 |\n",
       "| 7794 | 697 | France  | Female | 49 |  7 | 195238.29 | 4 | 0 | 1 | 131083.56 | 1 |\n",
       "| 7948 | 500 | Spain   | Female | 50 |  5 |      0.00 | 4 | 1 | 1 |  83866.35 | 1 |\n",
       "| 8017 | 625 | Germany | Female | 55 |  8 | 118772.71 | 4 | 0 | 0 | 135853.62 | 1 |\n",
       "| 8287 | 584 | Germany | Female | 37 | 10 | 134171.80 | 4 | 1 | 1 |  70927.11 | 1 |\n",
       "| 8324 | 847 | Germany | Female | 41 |  3 | 101543.51 | 4 | 1 | 0 |  16025.17 | 1 |\n",
       "| 8385 | 644 | France  | Male   | 50 |  9 |  76817.00 | 4 | 1 | 0 | 196371.13 | 1 |\n",
       "| 8427 | 561 | France  | Male   | 43 |  4 |      0.00 | 4 | 0 | 0 |  18522.91 | 1 |\n",
       "| 8466 | 689 | Germany | Female | 40 |  4 |  78119.59 | 4 | 1 | 0 | 119259.34 | 1 |\n",
       "| 8586 | 727 | Germany | Male   | 46 |  3 | 115248.11 | 4 | 1 | 0 | 130752.01 | 1 |\n",
       "| 8607 | 582 | France  | Female | 38 |  9 | 135979.01 | 4 | 1 | 1 |  76582.95 | 1 |\n",
       "\n"
      ],
      "text/plain": [
       "     credit_score country gender age tenure balance   products_number\n",
       "7    376          Germany Female 29   4     115046.74 4              \n",
       "65   738          Germany Male   58   2     133745.44 4              \n",
       "1115 628          France  Female 46   1      46870.43 4              \n",
       "1307 819          Germany Female 49   1     120656.86 4              \n",
       "1324 596          Spain   Male   30   6     121345.88 4              \n",
       "1519 792          France  Male   50   9          0.00 4              \n",
       "1669 640          Germany Male   39   9     131607.28 4              \n",
       "1895 704          France  Male   32   7     127785.17 4              \n",
       "1962 773          Germany Male   47   2     118079.47 4              \n",
       "2043 630          Germany Male   50   3     129370.91 4              \n",
       "2207 672          France  Female 53   9     169406.33 4              \n",
       "2242 614          France  Female 37   8      75150.34 4              \n",
       "2252 655          France  Female 50  10          0.00 4              \n",
       "2280 611          France  Female 61   3     131583.59 4              \n",
       "2345 546          Germany Female 58   3     106458.31 4              \n",
       "2575 439          Spain   Male   52   3      96196.24 4              \n",
       "2829 644          France  Female 40   9     137285.26 4              \n",
       "3014 671          Spain   Female 34   5     130929.02 4              \n",
       "3596 720          Germany Female 57   1     162082.31 4              \n",
       "3597 641          Germany Female 51   2     117306.69 4              \n",
       "3732 850          Spain   Female 45   5     174088.30 4              \n",
       "3813 587          France  Male   40   2          0.00 4              \n",
       "3945 602          Germany Female 43   2     113641.49 4              \n",
       "4042 634          France  Female 45   2          0.00 4              \n",
       "4046 497          Germany Female 32   8     111537.23 4              \n",
       "4128 797          France  Female 55  10          0.00 4              \n",
       "4261 537          Germany Female 37   7     158411.95 4              \n",
       "4332 745          France  Female 32   2          0.00 4              \n",
       "4501 575          Germany Male   49   7     121205.15 4              \n",
       "4707 645          France  Female 68   9          0.00 4              \n",
       "4836 642          France  Male   48   9     118317.27 4              \n",
       "5118 447          France  Male   41   3          0.00 4              \n",
       "5302 692          Germany Male   45   6     142084.04 4              \n",
       "5516 632          Germany Male   41   8     127205.32 4              \n",
       "5536 568          Germany Male   43   5      87612.64 4              \n",
       "6047 618          France  Female 42   2          0.00 4              \n",
       "6159 610          France  Female 57   7      72092.95 4              \n",
       "6684 665          Germany Female 43   2     116322.27 4              \n",
       "6778 629          France  Male   44   5          0.00 4              \n",
       "6896 592          France  Male   60   9          0.00 4              \n",
       "6920 842          France  Male   44   3     141252.18 4              \n",
       "6924 850          France  Female 35   2     128548.49 4              \n",
       "7210 698          Spain   Female 50   1          0.00 4              \n",
       "7707 771          France  Female 41  10     108309.00 4              \n",
       "7794 697          France  Female 49   7     195238.29 4              \n",
       "7948 500          Spain   Female 50   5          0.00 4              \n",
       "8017 625          Germany Female 55   8     118772.71 4              \n",
       "8287 584          Germany Female 37  10     134171.80 4              \n",
       "8324 847          Germany Female 41   3     101543.51 4              \n",
       "8385 644          France  Male   50   9      76817.00 4              \n",
       "8427 561          France  Male   43   4          0.00 4              \n",
       "8466 689          Germany Female 40   4      78119.59 4              \n",
       "8586 727          Germany Male   46   3     115248.11 4              \n",
       "8607 582          France  Female 38   9     135979.01 4              \n",
       "     credit_card active_member estimated_salary churn\n",
       "7    1           0             119346.88        1    \n",
       "65   1           0              28373.86        1    \n",
       "1115 1           0              31272.14        1    \n",
       "1307 0           0             166164.30        1    \n",
       "1324 1           0              41921.75        1    \n",
       "1519 1           1             194700.81        1    \n",
       "1669 0           1               6981.43        1    \n",
       "1895 0           0             184464.70        1    \n",
       "1962 1           1             143007.49        1    \n",
       "2043 1           1              47775.34        1    \n",
       "2207 1           1             147311.47        1    \n",
       "2242 0           1             131766.67        1    \n",
       "2252 1           0             179267.94        1    \n",
       "2280 0           1              66238.23        1    \n",
       "2345 1           0             128881.87        1    \n",
       "2575 1           0             198874.52        1    \n",
       "2829 1           0              77063.63        1    \n",
       "3014 1           1              28238.25        1    \n",
       "3596 0           0              27145.73        1    \n",
       "3597 1           1              26912.72        1    \n",
       "3732 1           0               5669.31        1    \n",
       "3813 0           1             106174.70        1    \n",
       "3945 1           0             115116.35        1    \n",
       "4042 1           0             101039.53        1    \n",
       "4046 1           1               9497.99        1    \n",
       "4128 1           1              49418.87        1    \n",
       "4261 1           1             117690.58        1    \n",
       "4332 0           1             179705.13        1    \n",
       "4501 1           1             168080.53        1    \n",
       "4707 1           1             176353.87        1    \n",
       "4836 0           0              78702.98        1    \n",
       "5118 1           1             197490.39        1    \n",
       "5302 1           0             188305.85        1    \n",
       "5516 1           0              93874.87        1    \n",
       "5536 1           1             107155.40        1    \n",
       "6047 0           0             111097.39        1    \n",
       "6159 0           1             113228.82        1    \n",
       "6684 1           0              35640.12        1    \n",
       "6778 0           0             117572.59        1    \n",
       "6896 1           1              13614.01        1    \n",
       "6920 0           1             128521.16        1    \n",
       "6924 1           0              75478.95        1    \n",
       "7210 1           0              88566.90        1    \n",
       "7707 1           1             137510.41        1    \n",
       "7794 0           1             131083.56        1    \n",
       "7948 1           1              83866.35        1    \n",
       "8017 0           0             135853.62        1    \n",
       "8287 1           1              70927.11        1    \n",
       "8324 1           0              16025.17        1    \n",
       "8385 1           0             196371.13        1    \n",
       "8427 0           0              18522.91        1    \n",
       "8466 1           0             119259.34        1    \n",
       "8586 1           0             130752.01        1    \n",
       "8607 1           1              76582.95        1    "
      ]
     },
     "metadata": {},
     "output_type": "display_data"
    }
   ],
   "source": [
    "subset(df, products_number == 4)"
   ]
  },
  {
   "cell_type": "code",
   "execution_count": 171,
   "id": "e3f5eabe",
   "metadata": {},
   "outputs": [
    {
     "name": "stdout",
     "output_type": "stream",
     "text": [
      "[1] 1.654353e-46\n",
      "                   \n",
      "                    Not Churned  Churned\n",
      "  Non-Active Member    3478.869 889.1307\n",
      "  Active Member        3689.131 942.8693\n"
     ]
    }
   ],
   "source": [
    "# create contingency table to test relationship between churn and membership status\n",
    "table_active_member <- table(df$active_member, df$churn)\n",
    "rownames(table_active_member) <- c(\"Non-Active Member\", \"Active Member\")\n",
    "colnames(table_active_member) <- c(\"Not Churned\", \"Churned\")\n",
    "\n",
    "# run chi-squared test and print p-value\n",
    "test <- chisq.test(table_active_member)\n",
    "pval <- test$p.value\n",
    "print(pval)\n",
    "\n",
    "# print expected values\n",
    "expected <- test$expected\n",
    "rownames(expected) <- rownames(table_active_member)\n",
    "colnames(expected) <- colnames(table_active_member)\n",
    "print(expected)"
   ]
  },
  {
   "cell_type": "markdown",
   "id": "afbb06ca",
   "metadata": {},
   "source": [
    "There is a statistically significant relationship between membership status and churn. Non-active members are more likely to churn than active members. "
   ]
  },
  {
   "cell_type": "markdown",
   "id": "7785ea34",
   "metadata": {},
   "source": [
    "__2.4: Further non-significant findings:__"
   ]
  },
  {
   "cell_type": "code",
   "execution_count": 172,
   "id": "843178fb",
   "metadata": {},
   "outputs": [
    {
     "name": "stdout",
     "output_type": "stream",
     "text": [
      "[1] 0.5254901\n",
      "   \n",
      "          0       1\n",
      "  0 2114.56  540.44\n",
      "  1 5053.44 1291.56\n"
     ]
    }
   ],
   "source": [
    "# create contingency table to test relationship between churn and credit card ownership\n",
    "table_credit_card <- table(df$credit_card, df$churn)\n",
    "\n",
    "# run chi-squared test and print p-value\n",
    "test <- chisq.test(table_credit_card)\n",
    "pval <- test$p.value\n",
    "print(pval)\n",
    "\n",
    "# print expected values\n",
    "expected <- test$expected\n",
    "print(expected)"
   ]
  },
  {
   "cell_type": "markdown",
   "id": "c4bd6db0",
   "metadata": {},
   "source": [
    "No statistically significant relationship between churn rate and credit card ownership as p-value is not leas than the significance level of 5%"
   ]
  },
  {
   "cell_type": "code",
   "execution_count": 173,
   "id": "8f2e94ce",
   "metadata": {},
   "outputs": [
    {
     "data": {
      "image/png": "[encoded data removed]",
      "text/plain": [
       "plot without title"
      ]
     },
     "metadata": {
      "image/png": {
       "height": 420,
       "width": 420
      }
     },
     "output_type": "display_data"
    }
   ],
   "source": [
    "# Plot estimated salary distribution by churn vs. no-churn\n",
    "ggplot(df, aes(x = estimated_salary, fill = as.factor(churn))) +\n",
    "  geom_histogram(position = \"identity\", alpha = 0.5, bins = 25) +\n",
    "  scale_fill_manual(values = c(\"red\", \"blue\"), labels=c('No churn', 'Churn')) +\n",
    "  labs(title = \"Histogram of Estimated Salary by Churn\", x = \"Estimated salary\", y = \"Frequency\", fill = \"Churn\") +\n",
    "  theme_classic()"
   ]
  },
  {
   "cell_type": "code",
   "execution_count": 174,
   "id": "182e787a",
   "metadata": {},
   "outputs": [
    {
     "data": {
      "image/png": "[encoded data removed]",
      "text/plain": [
       "plot without title"
      ]
     },
     "metadata": {
      "image/png": {
       "height": 420,
       "width": 420
      }
     },
     "output_type": "display_data"
    }
   ],
   "source": [
    "# Plot balance distribution by churn vs. no-churn\n",
    "ggplot(df, aes(x = balance, fill = as.factor(churn))) +\n",
    "  geom_histogram(position = \"identity\", alpha = 0.5, bins = 25) +\n",
    "  scale_fill_manual(values = c(\"red\", \"blue\"), labels=c('No churn', 'Churn')) +\n",
    "  labs(title = \"Histogram of Balance by Churn\", x = \"Balance\", y = \"Frequency\", fill = \"Churn\") +\n",
    "  theme_classic()"
   ]
  },
  {
   "cell_type": "code",
   "execution_count": 175,
   "id": "bf88da1d",
   "metadata": {},
   "outputs": [
    {
     "data": {
      "image/png": "[encoded data removed]",
      "text/plain": [
       "plot without title"
      ]
     },
     "metadata": {
      "image/png": {
       "height": 420,
       "width": 420
      }
     },
     "output_type": "display_data"
    }
   ],
   "source": [
    "# Plot tenure distribution by churn vs. no-churn\n",
    "ggplot(df, aes(x = tenure, fill = as.factor(churn))) +\n",
    "  geom_histogram(position = \"identity\", alpha = 0.5, bins = 25) +\n",
    "  scale_fill_manual(values = c(\"red\", \"blue\"), labels=c('No churn', 'Churn')) +\n",
    "  labs(title = \"Histogram of Tenure by Churn\", x = \"Tenure\", y = \"Frequency\", fill = \"Churn\") +\n",
    "  theme_classic()"
   ]
  },
  {
   "cell_type": "code",
   "execution_count": 176,
   "id": "2d63e725",
   "metadata": {},
   "outputs": [
    {
     "data": {
      "image/png": "[encoded data removed]",
      "text/plain": [
       "plot without title"
      ]
     },
     "metadata": {
      "image/png": {
       "height": 420,
       "width": 420
      }
     },
     "output_type": "display_data"
    }
   ],
   "source": [
    "# Plot credit score distribution by churn vs. no-churn\n",
    "ggplot(df, aes(x = credit_score, fill = as.factor(churn))) +\n",
    "  geom_histogram(position = \"identity\", alpha = 0.5, bins = 25) +\n",
    "  scale_fill_manual(values = c(\"red\", \"blue\"), labels=c('No churn', 'Churn')) +\n",
    "  labs(title = \"Histogram of Credit Score by Churn\", x = \"Credit Score\", y = \"Frequency\", fill = \"Churn\") +\n",
    "  theme_classic()"
   ]
  },
  {
   "cell_type": "markdown",
   "id": "668f7f3c",
   "metadata": {},
   "source": [
    "# 3: Model Building"
   ]
  },
  {
   "cell_type": "markdown",
   "id": "2c454735",
   "metadata": {},
   "source": [
    "Which variables are the strongest predictors of customer churn? \n",
    "How did you conclude that these are the strongest predictors? \n",
    "How do different model evaluation metrics (e.g., accuracy, precision, recall) vary for different models? \n",
    "Which model would you use for predicting customer churn?"
   ]
  },
  {
   "cell_type": "code",
   "execution_count": 98,
   "id": "779b32d5",
   "metadata": {},
   "outputs": [
    {
     "data": {
      "text/html": [
       "<table class=\"dataframe\">\n",
       "<caption>A data.frame: 14 × 14</caption>\n",
       "<thead>\n",
       "\t<tr><th></th><th scope=col>customer_id</th><th scope=col>credit_score</th><th scope=col>age</th><th scope=col>tenure</th><th scope=col>balance</th><th scope=col>products_number</th><th scope=col>credit_card</th><th scope=col>active_member</th><th scope=col>estimated_salary</th><th scope=col>churn</th><th scope=col>genderFemale</th><th scope=col>countryFrance</th><th scope=col>countryGermany</th><th scope=col>countrySpain</th></tr>\n",
       "\t<tr><th></th><th scope=col>&lt;dbl&gt;</th><th scope=col>&lt;dbl&gt;</th><th scope=col>&lt;dbl&gt;</th><th scope=col>&lt;dbl&gt;</th><th scope=col>&lt;dbl&gt;</th><th scope=col>&lt;dbl&gt;</th><th scope=col>&lt;dbl&gt;</th><th scope=col>&lt;dbl&gt;</th><th scope=col>&lt;dbl&gt;</th><th scope=col>&lt;dbl&gt;</th><th scope=col>&lt;dbl&gt;</th><th scope=col>&lt;dbl&gt;</th><th scope=col>&lt;dbl&gt;</th><th scope=col>&lt;dbl&gt;</th></tr>\n",
       "</thead>\n",
       "<tbody>\n",
       "\t<tr><th scope=row>customer_id</th><td> 1.000000000</td><td> 0.0053079006</td><td> 0.009496867</td><td>-0.0148825539</td><td>-0.012418700</td><td> 0.016971877</td><td>-0.014025130</td><td> 0.001664965</td><td> 0.015270681</td><td>-0.006247987</td><td> 0.002641163</td><td>-0.004049210</td><td>-0.0030968582</td><td> 0.007800240</td></tr>\n",
       "\t<tr><th scope=row>credit_score</th><td> 0.005307901</td><td> 1.0000000000</td><td>-0.003964906</td><td> 0.0008419418</td><td> 0.006268382</td><td> 0.012237879</td><td>-0.005458482</td><td> 0.025651323</td><td>-0.001384293</td><td>-0.027093540</td><td> 0.002856620</td><td>-0.008928067</td><td> 0.0055375526</td><td> 0.004779770</td></tr>\n",
       "\t<tr><th scope=row>age</th><td> 0.009496867</td><td>-0.0039649055</td><td> 1.000000000</td><td>-0.0099968256</td><td> 0.028308368</td><td>-0.030680088</td><td>-0.011721029</td><td> 0.085472145</td><td>-0.007201042</td><td> 0.285323038</td><td> 0.027543993</td><td>-0.039207742</td><td> 0.0468970512</td><td>-0.001685369</td></tr>\n",
       "\t<tr><th scope=row>tenure</th><td>-0.014882554</td><td> 0.0008419418</td><td>-0.009996826</td><td> 1.0000000000</td><td>-0.012253926</td><td> 0.013443755</td><td> 0.022582867</td><td>-0.028362078</td><td> 0.007783825</td><td>-0.014000612</td><td>-0.014733053</td><td>-0.002847783</td><td>-0.0005674977</td><td> 0.003868437</td></tr>\n",
       "\t<tr><th scope=row>balance</th><td>-0.012418700</td><td> 0.0062683816</td><td> 0.028308368</td><td>-0.0122539262</td><td> 1.000000000</td><td>-0.304179738</td><td>-0.014858345</td><td>-0.010084100</td><td> 0.012797496</td><td> 0.118532769</td><td>-0.012086569</td><td>-0.231329046</td><td> 0.4011102452</td><td>-0.134891911</td></tr>\n",
       "\t<tr><th scope=row>products_number</th><td> 0.016971877</td><td> 0.0122378793</td><td>-0.030680088</td><td> 0.0134437555</td><td>-0.304179738</td><td> 1.000000000</td><td> 0.003183146</td><td> 0.009611876</td><td> 0.014204195</td><td>-0.047819865</td><td> 0.021858568</td><td> 0.001230075</td><td>-0.0104190070</td><td> 0.009039007</td></tr>\n",
       "\t<tr><th scope=row>credit_card</th><td>-0.014025130</td><td>-0.0054584821</td><td>-0.011721029</td><td> 0.0225828673</td><td>-0.014858345</td><td> 0.003183146</td><td> 1.000000000</td><td>-0.011865637</td><td>-0.009933415</td><td>-0.007137766</td><td>-0.005766124</td><td> 0.002467224</td><td> 0.0105765807</td><td>-0.013479728</td></tr>\n",
       "\t<tr><th scope=row>active_member</th><td> 0.001664965</td><td> 0.0256513233</td><td> 0.085472145</td><td>-0.0283620778</td><td>-0.010084100</td><td> 0.009611876</td><td>-0.011865637</td><td> 1.000000000</td><td>-0.011421430</td><td>-0.156128278</td><td>-0.022544325</td><td> 0.003316966</td><td>-0.0204858003</td><td> 0.016731864</td></tr>\n",
       "\t<tr><th scope=row>estimated_salary</th><td> 0.015270681</td><td>-0.0013842929</td><td>-0.007201042</td><td> 0.0077838255</td><td> 0.012797496</td><td> 0.014204195</td><td>-0.009933415</td><td>-0.011421430</td><td> 1.000000000</td><td> 0.012096861</td><td> 0.008112339</td><td>-0.003331642</td><td> 0.0102970675</td><td>-0.006482362</td></tr>\n",
       "\t<tr><th scope=row>churn</th><td>-0.006247987</td><td>-0.0270935398</td><td> 0.285323038</td><td>-0.0140006123</td><td> 0.118532769</td><td>-0.047819865</td><td>-0.007137766</td><td>-0.156128278</td><td> 0.012096861</td><td> 1.000000000</td><td> 0.106512488</td><td>-0.104955156</td><td> 0.1734878702</td><td>-0.052666762</td></tr>\n",
       "\t<tr><th scope=row>genderFemale</th><td> 0.002641163</td><td> 0.0028566201</td><td> 0.027543993</td><td>-0.0147330530</td><td>-0.012086569</td><td> 0.021858568</td><td>-0.005766124</td><td>-0.022544325</td><td> 0.008112339</td><td> 0.106512488</td><td> 1.000000000</td><td>-0.006772454</td><td> 0.0246278794</td><td>-0.016889349</td></tr>\n",
       "\t<tr><th scope=row>countryFrance</th><td>-0.004049210</td><td>-0.0089280674</td><td>-0.039207742</td><td>-0.0028477827</td><td>-0.231329046</td><td> 0.001230075</td><td> 0.002467224</td><td> 0.003316966</td><td>-0.003331642</td><td>-0.104955156</td><td>-0.006772454</td><td> 1.000000000</td><td>-0.5803586474</td><td>-0.575418075</td></tr>\n",
       "\t<tr><th scope=row>countryGermany</th><td>-0.003096858</td><td> 0.0055375526</td><td> 0.046897051</td><td>-0.0005674977</td><td> 0.401110245</td><td>-0.010419007</td><td> 0.010576581</td><td>-0.020485800</td><td> 0.010297068</td><td> 0.173487870</td><td> 0.024627879</td><td>-0.580358647</td><td> 1.0000000000</td><td>-0.332083964</td></tr>\n",
       "\t<tr><th scope=row>countrySpain</th><td> 0.007800240</td><td> 0.0047797703</td><td>-0.001685369</td><td> 0.0038684366</td><td>-0.134891911</td><td> 0.009039007</td><td>-0.013479728</td><td> 0.016731864</td><td>-0.006482362</td><td>-0.052666762</td><td>-0.016889349</td><td>-0.575418075</td><td>-0.3320839640</td><td> 1.000000000</td></tr>\n",
       "</tbody>\n",
       "</table>\n"
      ],
      "text/latex": [
       "A data.frame: 14 × 14\n",
       "\\begin{tabular}{r|llllllllllllll}\n",
       "  & customer\\_id & credit\\_score & age & tenure & balance & products\\_number & credit\\_card & active\\_member & estimated\\_salary & churn & genderFemale & countryFrance & countryGermany & countrySpain\\\\\n",
       "  & <dbl> & <dbl> & <dbl> & <dbl> & <dbl> & <dbl> & <dbl> & <dbl> & <dbl> & <dbl> & <dbl> & <dbl> & <dbl> & <dbl>\\\\\n",
       "\\hline\n",
       "\tcustomer\\_id &  1.000000000 &  0.0053079006 &  0.009496867 & -0.0148825539 & -0.012418700 &  0.016971877 & -0.014025130 &  0.001664965 &  0.015270681 & -0.006247987 &  0.002641163 & -0.004049210 & -0.0030968582 &  0.007800240\\\\\n",
       "\tcredit\\_score &  0.005307901 &  1.0000000000 & -0.003964906 &  0.0008419418 &  0.006268382 &  0.012237879 & -0.005458482 &  0.025651323 & -0.001384293 & -0.027093540 &  0.002856620 & -0.008928067 &  0.0055375526 &  0.004779770\\\\\n",
       "\tage &  0.009496867 & -0.0039649055 &  1.000000000 & -0.0099968256 &  0.028308368 & -0.030680088 & -0.011721029 &  0.085472145 & -0.007201042 &  0.285323038 &  0.027543993 & -0.039207742 &  0.0468970512 & -0.001685369\\\\\n",
       "\ttenure & -0.014882554 &  0.0008419418 & -0.009996826 &  1.0000000000 & -0.012253926 &  0.013443755 &  0.022582867 & -0.028362078 &  0.007783825 & -0.014000612 & -0.014733053 & -0.002847783 & -0.0005674977 &  0.003868437\\\\\n",
       "\tbalance & -0.012418700 &  0.0062683816 &  0.028308368 & -0.0122539262 &  1.000000000 & -0.304179738 & -0.014858345 & -0.010084100 &  0.012797496 &  0.118532769 & -0.012086569 & -0.231329046 &  0.4011102452 & -0.134891911\\\\\n",
       "\tproducts\\_number &  0.016971877 &  0.0122378793 & -0.030680088 &  0.0134437555 & -0.304179738 &  1.000000000 &  0.003183146 &  0.009611876 &  0.014204195 & -0.047819865 &  0.021858568 &  0.001230075 & -0.0104190070 &  0.009039007\\\\\n",
       "\tcredit\\_card & -0.014025130 & -0.0054584821 & -0.011721029 &  0.0225828673 & -0.014858345 &  0.003183146 &  1.000000000 & -0.011865637 & -0.009933415 & -0.007137766 & -0.005766124 &  0.002467224 &  0.0105765807 & -0.013479728\\\\\n",
       "\tactive\\_member &  0.001664965 &  0.0256513233 &  0.085472145 & -0.0283620778 & -0.010084100 &  0.009611876 & -0.011865637 &  1.000000000 & -0.011421430 & -0.156128278 & -0.022544325 &  0.003316966 & -0.0204858003 &  0.016731864\\\\\n",
       "\testimated\\_salary &  0.015270681 & -0.0013842929 & -0.007201042 &  0.0077838255 &  0.012797496 &  0.014204195 & -0.009933415 & -0.011421430 &  1.000000000 &  0.012096861 &  0.008112339 & -0.003331642 &  0.0102970675 & -0.006482362\\\\\n",
       "\tchurn & -0.006247987 & -0.0270935398 &  0.285323038 & -0.0140006123 &  0.118532769 & -0.047819865 & -0.007137766 & -0.156128278 &  0.012096861 &  1.000000000 &  0.106512488 & -0.104955156 &  0.1734878702 & -0.052666762\\\\\n",
       "\tgenderFemale &  0.002641163 &  0.0028566201 &  0.027543993 & -0.0147330530 & -0.012086569 &  0.021858568 & -0.005766124 & -0.022544325 &  0.008112339 &  0.106512488 &  1.000000000 & -0.006772454 &  0.0246278794 & -0.016889349\\\\\n",
       "\tcountryFrance & -0.004049210 & -0.0089280674 & -0.039207742 & -0.0028477827 & -0.231329046 &  0.001230075 &  0.002467224 &  0.003316966 & -0.003331642 & -0.104955156 & -0.006772454 &  1.000000000 & -0.5803586474 & -0.575418075\\\\\n",
       "\tcountryGermany & -0.003096858 &  0.0055375526 &  0.046897051 & -0.0005674977 &  0.401110245 & -0.010419007 &  0.010576581 & -0.020485800 &  0.010297068 &  0.173487870 &  0.024627879 & -0.580358647 &  1.0000000000 & -0.332083964\\\\\n",
       "\tcountrySpain &  0.007800240 &  0.0047797703 & -0.001685369 &  0.0038684366 & -0.134891911 &  0.009039007 & -0.013479728 &  0.016731864 & -0.006482362 & -0.052666762 & -0.016889349 & -0.575418075 & -0.3320839640 &  1.000000000\\\\\n",
       "\\end{tabular}\n"
      ],
      "text/markdown": [
       "\n",
       "A data.frame: 14 × 14\n",
       "\n",
       "| <!--/--> | customer_id &lt;dbl&gt; | credit_score &lt;dbl&gt; | age &lt;dbl&gt; | tenure &lt;dbl&gt; | balance &lt;dbl&gt; | products_number &lt;dbl&gt; | credit_card &lt;dbl&gt; | active_member &lt;dbl&gt; | estimated_salary &lt;dbl&gt; | churn &lt;dbl&gt; | genderFemale &lt;dbl&gt; | countryFrance &lt;dbl&gt; | countryGermany &lt;dbl&gt; | countrySpain &lt;dbl&gt; |\n",
       "|---|---|---|---|---|---|---|---|---|---|---|---|---|---|---|\n",
       "| customer_id |  1.000000000 |  0.0053079006 |  0.009496867 | -0.0148825539 | -0.012418700 |  0.016971877 | -0.014025130 |  0.001664965 |  0.015270681 | -0.006247987 |  0.002641163 | -0.004049210 | -0.0030968582 |  0.007800240 |\n",
       "| credit_score |  0.005307901 |  1.0000000000 | -0.003964906 |  0.0008419418 |  0.006268382 |  0.012237879 | -0.005458482 |  0.025651323 | -0.001384293 | -0.027093540 |  0.002856620 | -0.008928067 |  0.0055375526 |  0.004779770 |\n",
       "| age |  0.009496867 | -0.0039649055 |  1.000000000 | -0.0099968256 |  0.028308368 | -0.030680088 | -0.011721029 |  0.085472145 | -0.007201042 |  0.285323038 |  0.027543993 | -0.039207742 |  0.0468970512 | -0.001685369 |\n",
       "| tenure | -0.014882554 |  0.0008419418 | -0.009996826 |  1.0000000000 | -0.012253926 |  0.013443755 |  0.022582867 | -0.028362078 |  0.007783825 | -0.014000612 | -0.014733053 | -0.002847783 | -0.0005674977 |  0.003868437 |\n",
       "| balance | -0.012418700 |  0.0062683816 |  0.028308368 | -0.0122539262 |  1.000000000 | -0.304179738 | -0.014858345 | -0.010084100 |  0.012797496 |  0.118532769 | -0.012086569 | -0.231329046 |  0.4011102452 | -0.134891911 |\n",
       "| products_number |  0.016971877 |  0.0122378793 | -0.030680088 |  0.0134437555 | -0.304179738 |  1.000000000 |  0.003183146 |  0.009611876 |  0.014204195 | -0.047819865 |  0.021858568 |  0.001230075 | -0.0104190070 |  0.009039007 |\n",
       "| credit_card | -0.014025130 | -0.0054584821 | -0.011721029 |  0.0225828673 | -0.014858345 |  0.003183146 |  1.000000000 | -0.011865637 | -0.009933415 | -0.007137766 | -0.005766124 |  0.002467224 |  0.0105765807 | -0.013479728 |\n",
       "| active_member |  0.001664965 |  0.0256513233 |  0.085472145 | -0.0283620778 | -0.010084100 |  0.009611876 | -0.011865637 |  1.000000000 | -0.011421430 | -0.156128278 | -0.022544325 |  0.003316966 | -0.0204858003 |  0.016731864 |\n",
       "| estimated_salary |  0.015270681 | -0.0013842929 | -0.007201042 |  0.0077838255 |  0.012797496 |  0.014204195 | -0.009933415 | -0.011421430 |  1.000000000 |  0.012096861 |  0.008112339 | -0.003331642 |  0.0102970675 | -0.006482362 |\n",
       "| churn | -0.006247987 | -0.0270935398 |  0.285323038 | -0.0140006123 |  0.118532769 | -0.047819865 | -0.007137766 | -0.156128278 |  0.012096861 |  1.000000000 |  0.106512488 | -0.104955156 |  0.1734878702 | -0.052666762 |\n",
       "| genderFemale |  0.002641163 |  0.0028566201 |  0.027543993 | -0.0147330530 | -0.012086569 |  0.021858568 | -0.005766124 | -0.022544325 |  0.008112339 |  0.106512488 |  1.000000000 | -0.006772454 |  0.0246278794 | -0.016889349 |\n",
       "| countryFrance | -0.004049210 | -0.0089280674 | -0.039207742 | -0.0028477827 | -0.231329046 |  0.001230075 |  0.002467224 |  0.003316966 | -0.003331642 | -0.104955156 | -0.006772454 |  1.000000000 | -0.5803586474 | -0.575418075 |\n",
       "| countryGermany | -0.003096858 |  0.0055375526 |  0.046897051 | -0.0005674977 |  0.401110245 | -0.010419007 |  0.010576581 | -0.020485800 |  0.010297068 |  0.173487870 |  0.024627879 | -0.580358647 |  1.0000000000 | -0.332083964 |\n",
       "| countrySpain |  0.007800240 |  0.0047797703 | -0.001685369 |  0.0038684366 | -0.134891911 |  0.009039007 | -0.013479728 |  0.016731864 | -0.006482362 | -0.052666762 | -0.016889349 | -0.575418075 | -0.3320839640 |  1.000000000 |\n",
       "\n"
      ],
      "text/plain": [
       "                 customer_id  credit_score  age          tenure       \n",
       "customer_id       1.000000000  0.0053079006  0.009496867 -0.0148825539\n",
       "credit_score      0.005307901  1.0000000000 -0.003964906  0.0008419418\n",
       "age               0.009496867 -0.0039649055  1.000000000 -0.0099968256\n",
       "tenure           -0.014882554  0.0008419418 -0.009996826  1.0000000000\n",
       "balance          -0.012418700  0.0062683816  0.028308368 -0.0122539262\n",
       "products_number   0.016971877  0.0122378793 -0.030680088  0.0134437555\n",
       "credit_card      -0.014025130 -0.0054584821 -0.011721029  0.0225828673\n",
       "active_member     0.001664965  0.0256513233  0.085472145 -0.0283620778\n",
       "estimated_salary  0.015270681 -0.0013842929 -0.007201042  0.0077838255\n",
       "churn            -0.006247987 -0.0270935398  0.285323038 -0.0140006123\n",
       "genderFemale      0.002641163  0.0028566201  0.027543993 -0.0147330530\n",
       "countryFrance    -0.004049210 -0.0089280674 -0.039207742 -0.0028477827\n",
       "countryGermany   -0.003096858  0.0055375526  0.046897051 -0.0005674977\n",
       "countrySpain      0.007800240  0.0047797703 -0.001685369  0.0038684366\n",
       "                 balance      products_number credit_card  active_member\n",
       "customer_id      -0.012418700  0.016971877    -0.014025130  0.001664965 \n",
       "credit_score      0.006268382  0.012237879    -0.005458482  0.025651323 \n",
       "age               0.028308368 -0.030680088    -0.011721029  0.085472145 \n",
       "tenure           -0.012253926  0.013443755     0.022582867 -0.028362078 \n",
       "balance           1.000000000 -0.304179738    -0.014858345 -0.010084100 \n",
       "products_number  -0.304179738  1.000000000     0.003183146  0.009611876 \n",
       "credit_card      -0.014858345  0.003183146     1.000000000 -0.011865637 \n",
       "active_member    -0.010084100  0.009611876    -0.011865637  1.000000000 \n",
       "estimated_salary  0.012797496  0.014204195    -0.009933415 -0.011421430 \n",
       "churn             0.118532769 -0.047819865    -0.007137766 -0.156128278 \n",
       "genderFemale     -0.012086569  0.021858568    -0.005766124 -0.022544325 \n",
       "countryFrance    -0.231329046  0.001230075     0.002467224  0.003316966 \n",
       "countryGermany    0.401110245 -0.010419007     0.010576581 -0.020485800 \n",
       "countrySpain     -0.134891911  0.009039007    -0.013479728  0.016731864 \n",
       "                 estimated_salary churn        genderFemale countryFrance\n",
       "customer_id       0.015270681     -0.006247987  0.002641163 -0.004049210 \n",
       "credit_score     -0.001384293     -0.027093540  0.002856620 -0.008928067 \n",
       "age              -0.007201042      0.285323038  0.027543993 -0.039207742 \n",
       "tenure            0.007783825     -0.014000612 -0.014733053 -0.002847783 \n",
       "balance           0.012797496      0.118532769 -0.012086569 -0.231329046 \n",
       "products_number   0.014204195     -0.047819865  0.021858568  0.001230075 \n",
       "credit_card      -0.009933415     -0.007137766 -0.005766124  0.002467224 \n",
       "active_member    -0.011421430     -0.156128278 -0.022544325  0.003316966 \n",
       "estimated_salary  1.000000000      0.012096861  0.008112339 -0.003331642 \n",
       "churn             0.012096861      1.000000000  0.106512488 -0.104955156 \n",
       "genderFemale      0.008112339      0.106512488  1.000000000 -0.006772454 \n",
       "countryFrance    -0.003331642     -0.104955156 -0.006772454  1.000000000 \n",
       "countryGermany    0.010297068      0.173487870  0.024627879 -0.580358647 \n",
       "countrySpain     -0.006482362     -0.052666762 -0.016889349 -0.575418075 \n",
       "                 countryGermany countrySpain\n",
       "customer_id      -0.0030968582   0.007800240\n",
       "credit_score      0.0055375526   0.004779770\n",
       "age               0.0468970512  -0.001685369\n",
       "tenure           -0.0005674977   0.003868437\n",
       "balance           0.4011102452  -0.134891911\n",
       "products_number  -0.0104190070   0.009039007\n",
       "credit_card       0.0105765807  -0.013479728\n",
       "active_member    -0.0204858003   0.016731864\n",
       "estimated_salary  0.0102970675  -0.006482362\n",
       "churn             0.1734878702  -0.052666762\n",
       "genderFemale      0.0246278794  -0.016889349\n",
       "countryFrance    -0.5803586474  -0.575418075\n",
       "countryGermany    1.0000000000  -0.332083964\n",
       "countrySpain     -0.3320839640   1.000000000"
      ]
     },
     "metadata": {},
     "output_type": "display_data"
    }
   ],
   "source": [
    "r <- cor(df_new)\n",
    "corr <- as.data.frame(r)\n",
    "corr"
   ]
  },
  {
   "cell_type": "code",
   "execution_count": 87,
   "id": "c5733a2c",
   "metadata": {},
   "outputs": [
    {
     "data": {
      "image/png": "[encoded data removed]",
      "text/plain": [
       "Plot with title \"Correlation plot from data\""
      ]
     },
     "metadata": {
      "image/png": {
       "height": 420,
       "width": 420
      }
     },
     "output_type": "display_data"
    }
   ],
   "source": [
    "corPlot(df_new)"
   ]
  },
  {
   "cell_type": "markdown",
   "id": "fbffcacb",
   "metadata": {},
   "source": [
    "# 4: Recommendations"
   ]
  },
  {
   "cell_type": "markdown",
   "id": "6bdb1983",
   "metadata": {},
   "source": [
    "Based on your analysis, develop 3 recommendations that will help EBI to better manage customer churn. Explain the rationale behind those 3 recommendations. • EBI has formulated a list of a subset of its current customers (see the dataset “ebi_exp_customers.csv” to answer this question) and would like to use your prediction model to take proactive measures to retain these customers. Specifically, the bank would target the customers (say, via telemarketing) who have high likelihood of churn. • Use your prediction model to predict the likelihood of churn for each customer in the dataset. • Suppose that the value of retaining a customer is €5 while the cost incurred by the bank to avoid a customer from churning is €1. How many and which customers from the dataset (“ebi_exp_customers.csv”) would you recommend the bank to target to maximize the total expected profit from this proactive targeting experiment? How would your answer change if the value of retaining a customer goes up to €10? Explain your computation"
   ]
  },
  {
   "cell_type": "code",
   "execution_count": 99,
   "id": "96046102",
   "metadata": {},
   "outputs": [
    {
     "data": {
      "text/html": [
       "<table class=\"dataframe\">\n",
       "<caption>A data.frame: 6 × 12</caption>\n",
       "<thead>\n",
       "\t<tr><th></th><th scope=col>customer_id</th><th scope=col>credit_score</th><th scope=col>country</th><th scope=col>gender</th><th scope=col>age</th><th scope=col>tenure</th><th scope=col>balance</th><th scope=col>products_number</th><th scope=col>credit_card</th><th scope=col>active_member</th><th scope=col>estimated_salary</th><th scope=col>churn</th></tr>\n",
       "\t<tr><th></th><th scope=col>&lt;int&gt;</th><th scope=col>&lt;int&gt;</th><th scope=col>&lt;chr&gt;</th><th scope=col>&lt;chr&gt;</th><th scope=col>&lt;int&gt;</th><th scope=col>&lt;int&gt;</th><th scope=col>&lt;dbl&gt;</th><th scope=col>&lt;int&gt;</th><th scope=col>&lt;int&gt;</th><th scope=col>&lt;int&gt;</th><th scope=col>&lt;dbl&gt;</th><th scope=col>&lt;int&gt;</th></tr>\n",
       "</thead>\n",
       "<tbody>\n",
       "\t<tr><th scope=row>1</th><td>15575430</td><td>579</td><td>France </td><td>Female</td><td>33</td><td>1</td><td>118392.8</td><td>1</td><td>1</td><td>1</td><td>157564.75</td><td>0</td></tr>\n",
       "\t<tr><th scope=row>2</th><td>15793890</td><td>728</td><td>France </td><td>Female</td><td>59</td><td>4</td><td>     0.0</td><td>1</td><td>1</td><td>1</td><td>163365.85</td><td>1</td></tr>\n",
       "\t<tr><th scope=row>3</th><td>15701166</td><td>660</td><td>France </td><td>Male  </td><td>40</td><td>5</td><td>131754.1</td><td>2</td><td>1</td><td>1</td><td> 38761.61</td><td>0</td></tr>\n",
       "\t<tr><th scope=row>4</th><td>15624677</td><td>543</td><td>Germany</td><td>Female</td><td>37</td><td>3</td><td>122304.6</td><td>2</td><td>0</td><td>0</td><td> 33998.70</td><td>0</td></tr>\n",
       "\t<tr><th scope=row>5</th><td>15586264</td><td>572</td><td>France </td><td>Male  </td><td>43</td><td>2</td><td>140432.0</td><td>1</td><td>1</td><td>0</td><td> 26450.57</td><td>1</td></tr>\n",
       "\t<tr><th scope=row>6</th><td>15600991</td><td>694</td><td>Germany</td><td>Male  </td><td>31</td><td>6</td><td>109052.6</td><td>2</td><td>1</td><td>1</td><td> 19448.93</td><td>1</td></tr>\n",
       "</tbody>\n",
       "</table>\n"
      ],
      "text/latex": [
       "A data.frame: 6 × 12\n",
       "\\begin{tabular}{r|llllllllllll}\n",
       "  & customer\\_id & credit\\_score & country & gender & age & tenure & balance & products\\_number & credit\\_card & active\\_member & estimated\\_salary & churn\\\\\n",
       "  & <int> & <int> & <chr> & <chr> & <int> & <int> & <dbl> & <int> & <int> & <int> & <dbl> & <int>\\\\\n",
       "\\hline\n",
       "\t1 & 15575430 & 579 & France  & Female & 33 & 1 & 118392.8 & 1 & 1 & 1 & 157564.75 & 0\\\\\n",
       "\t2 & 15793890 & 728 & France  & Female & 59 & 4 &      0.0 & 1 & 1 & 1 & 163365.85 & 1\\\\\n",
       "\t3 & 15701166 & 660 & France  & Male   & 40 & 5 & 131754.1 & 2 & 1 & 1 &  38761.61 & 0\\\\\n",
       "\t4 & 15624677 & 543 & Germany & Female & 37 & 3 & 122304.6 & 2 & 0 & 0 &  33998.70 & 0\\\\\n",
       "\t5 & 15586264 & 572 & France  & Male   & 43 & 2 & 140432.0 & 1 & 1 & 0 &  26450.57 & 1\\\\\n",
       "\t6 & 15600991 & 694 & Germany & Male   & 31 & 6 & 109052.6 & 2 & 1 & 1 &  19448.93 & 1\\\\\n",
       "\\end{tabular}\n"
      ],
      "text/markdown": [
       "\n",
       "A data.frame: 6 × 12\n",
       "\n",
       "| <!--/--> | customer_id &lt;int&gt; | credit_score &lt;int&gt; | country &lt;chr&gt; | gender &lt;chr&gt; | age &lt;int&gt; | tenure &lt;int&gt; | balance &lt;dbl&gt; | products_number &lt;int&gt; | credit_card &lt;int&gt; | active_member &lt;int&gt; | estimated_salary &lt;dbl&gt; | churn &lt;int&gt; |\n",
       "|---|---|---|---|---|---|---|---|---|---|---|---|---|\n",
       "| 1 | 15575430 | 579 | France  | Female | 33 | 1 | 118392.8 | 1 | 1 | 1 | 157564.75 | 0 |\n",
       "| 2 | 15793890 | 728 | France  | Female | 59 | 4 |      0.0 | 1 | 1 | 1 | 163365.85 | 1 |\n",
       "| 3 | 15701166 | 660 | France  | Male   | 40 | 5 | 131754.1 | 2 | 1 | 1 |  38761.61 | 0 |\n",
       "| 4 | 15624677 | 543 | Germany | Female | 37 | 3 | 122304.6 | 2 | 0 | 0 |  33998.70 | 0 |\n",
       "| 5 | 15586264 | 572 | France  | Male   | 43 | 2 | 140432.0 | 1 | 1 | 0 |  26450.57 | 1 |\n",
       "| 6 | 15600991 | 694 | Germany | Male   | 31 | 6 | 109052.6 | 2 | 1 | 1 |  19448.93 | 1 |\n",
       "\n"
      ],
      "text/plain": [
       "  customer_id credit_score country gender age tenure balance  products_number\n",
       "1 15575430    579          France  Female 33  1      118392.8 1              \n",
       "2 15793890    728          France  Female 59  4           0.0 1              \n",
       "3 15701166    660          France  Male   40  5      131754.1 2              \n",
       "4 15624677    543          Germany Female 37  3      122304.6 2              \n",
       "5 15586264    572          France  Male   43  2      140432.0 1              \n",
       "6 15600991    694          Germany Male   31  6      109052.6 2              \n",
       "  credit_card active_member estimated_salary churn\n",
       "1 1           1             157564.75        0    \n",
       "2 1           1             163365.85        1    \n",
       "3 1           1              38761.61        0    \n",
       "4 0           0              33998.70        0    \n",
       "5 1           0              26450.57        1    \n",
       "6 1           1              19448.93        1    "
      ]
     },
     "metadata": {},
     "output_type": "display_data"
    }
   ],
   "source": [
    "df_2 <- read.csv(\"ebi_exp_customers.csv\")\n",
    "head(df_2)"
   ]
  }
 ],
 "metadata": {
  "kernelspec": {
   "display_name": "R",
   "language": "R",
   "name": "ir"
  },
  "language_info": {
   "codemirror_mode": "r",
   "file_extension": ".r",
   "mimetype": "text/x-r-source",
   "name": "R",
   "pygments_lexer": "r",
   "version": "4.1.3"
  }
 },
 "nbformat": 4,
 "nbformat_minor": 5
}
